{
 "cells": [
  {
   "cell_type": "markdown",
   "metadata": {
    "id": "PpLtrdpxdYcT"
   },
   "source": [
    "# 3DP Dissertation Experiments\n",
    "\n",
    "## Fractional Factorial Experiments\n",
    "\n",
    "**Process Parameters:**\n",
    "\n",
    "- Layer Thickness (LH)\n",
    "- Print Speed (PS)\n",
    "- Infill Density (ID)\n",
    "- Raster Width (RW) - Infill Line Width in Cura\n",
    "- Wall Thickness (WT)\n",
    "\n",
    "\n"
   ]
  },
  {
   "cell_type": "code",
   "execution_count": 4,
   "metadata": {
    "executionInfo": {
     "elapsed": 12,
     "status": "ok",
     "timestamp": 1621699410751,
     "user": {
      "displayName": "Michael Wilson",
      "photoUrl": "https://lh3.googleusercontent.com/a-/AOh14GiyGQ6b2q5m2DVS6kkf52d6XmGgKklNyi2wVjNC9GU=s64",
      "userId": "02796257572720600286"
     },
     "user_tz": 300
    },
    "id": "p00nfTQ_cl2X"
   },
   "outputs": [],
   "source": [
    "import random\n",
    "import numpy as np\n",
    "import pandas as pd\n",
    "import matplotlib.pyplot as plt\n",
    "import seaborn as sns\n",
    "import statsmodels.api as sm\n",
    "import scipy.stats as stats\n",
    "\n",
    "\n",
    "from statsmodels.formula.api import ols\n",
    "from statsmodels.stats.anova import anova_lm\n",
    "from scipy import stats\n",
    "\n",
    "%matplotlib inline\n",
    "PlotWidth = 6\n",
    "\n",
    "import warnings\n",
    "warnings.filterwarnings('ignore')"
   ]
  },
  {
   "cell_type": "markdown",
   "metadata": {
    "id": "BwdD6YAllDiN"
   },
   "source": [
    "## Print Parameter Variables:\n",
    "\n",
    "- **lh_low** = Layer Thickness Lower Limit (mm)\n",
    "- **lh_hi** = Layer Thickness Upper Limit (mm)\n",
    "- **ps_low** = Print Speed Lower Limit (mm/s)\n",
    "- **ps_hi** = Print Speed Upper Limit (mm/s)\n",
    "- **id_low** = Infill Density Lower Limit (%)\n",
    "- **id_hi** = Infill Density Upper Limit (%)\n",
    "- **rw_low** = Raster Width Lower Limit (mm)\n",
    "- **rw_hi** = Raster Width Upper Limit (mm)\n",
    "- **wt_low** = Wall Thickness Lower Limit (mm)\n",
    "- **wt_hi** = Wall Thickness Upper Limit (mm)"
   ]
  },
  {
   "cell_type": "code",
   "execution_count": 5,
   "metadata": {
    "executionInfo": {
     "elapsed": 12,
     "status": "ok",
     "timestamp": 1621699410752,
     "user": {
      "displayName": "Michael Wilson",
      "photoUrl": "https://lh3.googleusercontent.com/a-/AOh14GiyGQ6b2q5m2DVS6kkf52d6XmGgKklNyi2wVjNC9GU=s64",
      "userId": "02796257572720600286"
     },
     "user_tz": 300
    },
    "id": "JD0KeXiHeEiS"
   },
   "outputs": [],
   "source": [
    "#@title Default title text\n",
    "lh_low = .16 #@param {type:\"number\"}\n",
    "lh_hi = .24 #@param {type:\"number\"}\n",
    "ps_low = 50 #@param {type:\"number\"}\n",
    "ps_hi = 60 #@param {type:\"number\"}\n",
    "id_low = .25 #@param {type:\"number\"}\n",
    "id_hi = .15 #@param {type:\"number\"}\n",
    "rw_low = .4 #@param {type:\"number\"}\n",
    "rw_hi = .8 #@param {type:\"number\"}\n",
    "wt_low = 1.2 #@param {type:\"number\"}\n",
    "wt_hi = .8 #@param {type:\"number\"}"
   ]
  },
  {
   "cell_type": "code",
   "execution_count": 6,
   "metadata": {
    "executionInfo": {
     "elapsed": 11,
     "status": "ok",
     "timestamp": 1621699410752,
     "user": {
      "displayName": "Michael Wilson",
      "photoUrl": "https://lh3.googleusercontent.com/a-/AOh14GiyGQ6b2q5m2DVS6kkf52d6XmGgKklNyi2wVjNC9GU=s64",
      "userId": "02796257572720600286"
     },
     "user_tz": 300
    },
    "id": "hrNOki2eb2-A"
   },
   "outputs": [],
   "source": [
    "# set some variables related to the coffee data set\n",
    "actual_lows = { 'layer_thickness' : lh_low, 'print_speed' : ps_low, 'infill_density': id_low, 'raster_width': rw_low, 'wall_thickness': wt_low }\n",
    "actual_highs = { 'layer_thickness' : lh_hi, 'print_speed' : ps_hi, 'infill_density': id_hi, 'raster_width': rw_hi, 'wall_thickness': wt_hi }\n",
    "units = { 'layer_thickness' : 'mm', 'print_speed' : 'mm/s', 'infill_density': '%', 'raster_width': 'mm', 'wall_thickness': 'mm' }"
   ]
  },
  {
   "cell_type": "code",
   "execution_count": 7,
   "metadata": {
    "colab": {
     "base_uri": "https://localhost:8080/",
     "height": 607
    },
    "executionInfo": {
     "elapsed": 12,
     "status": "ok",
     "timestamp": 1621699410753,
     "user": {
      "displayName": "Michael Wilson",
      "photoUrl": "https://lh3.googleusercontent.com/a-/AOh14GiyGQ6b2q5m2DVS6kkf52d6XmGgKklNyi2wVjNC9GU=s64",
      "userId": "02796257572720600286"
     },
     "user_tz": 300
    },
    "id": "0hf2yzKYy2j_",
    "outputId": "ddad11b2-d4ec-4621-ed0e-18ffc4432f46"
   },
   "outputs": [
    {
     "ename": "FileNotFoundError",
     "evalue": "[Errno 2] No such file or directory: 'doe-schedule.csv'",
     "output_type": "error",
     "traceback": [
      "\u001b[0;31m---------------------------------------------------------------------------\u001b[0m",
      "\u001b[0;31mFileNotFoundError\u001b[0m                         Traceback (most recent call last)",
      "\u001b[0;32m<ipython-input-7-37153ab30df4>\u001b[0m in \u001b[0;36m<module>\u001b[0;34m\u001b[0m\n\u001b[1;32m      1\u001b[0m \u001b[0mcolumns\u001b[0m \u001b[0;34m=\u001b[0m \u001b[0;34m[\u001b[0m\u001b[0;34m'Trial Number'\u001b[0m\u001b[0;34m,\u001b[0m \u001b[0;34m'Layer Thickness'\u001b[0m\u001b[0;34m,\u001b[0m \u001b[0;34m'Print Speed'\u001b[0m\u001b[0;34m,\u001b[0m \u001b[0;34m'Infill Density'\u001b[0m\u001b[0;34m,\u001b[0m \u001b[0;34m'Raster Width'\u001b[0m\u001b[0;34m,\u001b[0m \u001b[0;34m'Wall Thickness'\u001b[0m\u001b[0;34m,\u001b[0m\u001b[0;34m'Cost'\u001b[0m\u001b[0;34m,\u001b[0m\u001b[0;34m'Time'\u001b[0m\u001b[0;34m,\u001b[0m \u001b[0;34m'Quality'\u001b[0m\u001b[0;34m]\u001b[0m\u001b[0;34m\u001b[0m\u001b[0;34m\u001b[0m\u001b[0m\n\u001b[0;32m----> 2\u001b[0;31m \u001b[0mmyDoE\u001b[0m \u001b[0;34m=\u001b[0m \u001b[0mpd\u001b[0m\u001b[0;34m.\u001b[0m\u001b[0mread_csv\u001b[0m\u001b[0;34m(\u001b[0m\u001b[0;34m'doe-schedule.csv'\u001b[0m\u001b[0;34m,\u001b[0m \u001b[0mskiprows\u001b[0m\u001b[0;34m=\u001b[0m\u001b[0;36m1\u001b[0m\u001b[0;34m,\u001b[0m \u001b[0mnames\u001b[0m\u001b[0;34m=\u001b[0m\u001b[0mcolumns\u001b[0m\u001b[0;34m)\u001b[0m\u001b[0;34m\u001b[0m\u001b[0;34m\u001b[0m\u001b[0m\n\u001b[0m\u001b[1;32m      3\u001b[0m \u001b[0;34m\u001b[0m\u001b[0m\n\u001b[1;32m      4\u001b[0m \u001b[0mdisplay\u001b[0m\u001b[0;34m(\u001b[0m\u001b[0mmyDoE\u001b[0m\u001b[0;34m)\u001b[0m\u001b[0;34m\u001b[0m\u001b[0;34m\u001b[0m\u001b[0m\n",
      "\u001b[0;32m/usr/local/anaconda3/envs/Dissertation/lib/python3.8/site-packages/pandas/io/parsers.py\u001b[0m in \u001b[0;36mread_csv\u001b[0;34m(filepath_or_buffer, sep, delimiter, header, names, index_col, usecols, squeeze, prefix, mangle_dupe_cols, dtype, engine, converters, true_values, false_values, skipinitialspace, skiprows, skipfooter, nrows, na_values, keep_default_na, na_filter, verbose, skip_blank_lines, parse_dates, infer_datetime_format, keep_date_col, date_parser, dayfirst, cache_dates, iterator, chunksize, compression, thousands, decimal, lineterminator, quotechar, quoting, doublequote, escapechar, comment, encoding, dialect, error_bad_lines, warn_bad_lines, delim_whitespace, low_memory, memory_map, float_precision, storage_options)\u001b[0m\n\u001b[1;32m    608\u001b[0m     \u001b[0mkwds\u001b[0m\u001b[0;34m.\u001b[0m\u001b[0mupdate\u001b[0m\u001b[0;34m(\u001b[0m\u001b[0mkwds_defaults\u001b[0m\u001b[0;34m)\u001b[0m\u001b[0;34m\u001b[0m\u001b[0;34m\u001b[0m\u001b[0m\n\u001b[1;32m    609\u001b[0m \u001b[0;34m\u001b[0m\u001b[0m\n\u001b[0;32m--> 610\u001b[0;31m     \u001b[0;32mreturn\u001b[0m \u001b[0m_read\u001b[0m\u001b[0;34m(\u001b[0m\u001b[0mfilepath_or_buffer\u001b[0m\u001b[0;34m,\u001b[0m \u001b[0mkwds\u001b[0m\u001b[0;34m)\u001b[0m\u001b[0;34m\u001b[0m\u001b[0;34m\u001b[0m\u001b[0m\n\u001b[0m\u001b[1;32m    611\u001b[0m \u001b[0;34m\u001b[0m\u001b[0m\n\u001b[1;32m    612\u001b[0m \u001b[0;34m\u001b[0m\u001b[0m\n",
      "\u001b[0;32m/usr/local/anaconda3/envs/Dissertation/lib/python3.8/site-packages/pandas/io/parsers.py\u001b[0m in \u001b[0;36m_read\u001b[0;34m(filepath_or_buffer, kwds)\u001b[0m\n\u001b[1;32m    460\u001b[0m \u001b[0;34m\u001b[0m\u001b[0m\n\u001b[1;32m    461\u001b[0m     \u001b[0;31m# Create the parser.\u001b[0m\u001b[0;34m\u001b[0m\u001b[0;34m\u001b[0m\u001b[0;34m\u001b[0m\u001b[0m\n\u001b[0;32m--> 462\u001b[0;31m     \u001b[0mparser\u001b[0m \u001b[0;34m=\u001b[0m \u001b[0mTextFileReader\u001b[0m\u001b[0;34m(\u001b[0m\u001b[0mfilepath_or_buffer\u001b[0m\u001b[0;34m,\u001b[0m \u001b[0;34m**\u001b[0m\u001b[0mkwds\u001b[0m\u001b[0;34m)\u001b[0m\u001b[0;34m\u001b[0m\u001b[0;34m\u001b[0m\u001b[0m\n\u001b[0m\u001b[1;32m    463\u001b[0m \u001b[0;34m\u001b[0m\u001b[0m\n\u001b[1;32m    464\u001b[0m     \u001b[0;32mif\u001b[0m \u001b[0mchunksize\u001b[0m \u001b[0;32mor\u001b[0m \u001b[0miterator\u001b[0m\u001b[0;34m:\u001b[0m\u001b[0;34m\u001b[0m\u001b[0;34m\u001b[0m\u001b[0m\n",
      "\u001b[0;32m/usr/local/anaconda3/envs/Dissertation/lib/python3.8/site-packages/pandas/io/parsers.py\u001b[0m in \u001b[0;36m__init__\u001b[0;34m(self, f, engine, **kwds)\u001b[0m\n\u001b[1;32m    817\u001b[0m             \u001b[0mself\u001b[0m\u001b[0;34m.\u001b[0m\u001b[0moptions\u001b[0m\u001b[0;34m[\u001b[0m\u001b[0;34m\"has_index_names\"\u001b[0m\u001b[0;34m]\u001b[0m \u001b[0;34m=\u001b[0m \u001b[0mkwds\u001b[0m\u001b[0;34m[\u001b[0m\u001b[0;34m\"has_index_names\"\u001b[0m\u001b[0;34m]\u001b[0m\u001b[0;34m\u001b[0m\u001b[0;34m\u001b[0m\u001b[0m\n\u001b[1;32m    818\u001b[0m \u001b[0;34m\u001b[0m\u001b[0m\n\u001b[0;32m--> 819\u001b[0;31m         \u001b[0mself\u001b[0m\u001b[0;34m.\u001b[0m\u001b[0m_engine\u001b[0m \u001b[0;34m=\u001b[0m \u001b[0mself\u001b[0m\u001b[0;34m.\u001b[0m\u001b[0m_make_engine\u001b[0m\u001b[0;34m(\u001b[0m\u001b[0mself\u001b[0m\u001b[0;34m.\u001b[0m\u001b[0mengine\u001b[0m\u001b[0;34m)\u001b[0m\u001b[0;34m\u001b[0m\u001b[0;34m\u001b[0m\u001b[0m\n\u001b[0m\u001b[1;32m    820\u001b[0m \u001b[0;34m\u001b[0m\u001b[0m\n\u001b[1;32m    821\u001b[0m     \u001b[0;32mdef\u001b[0m \u001b[0mclose\u001b[0m\u001b[0;34m(\u001b[0m\u001b[0mself\u001b[0m\u001b[0;34m)\u001b[0m\u001b[0;34m:\u001b[0m\u001b[0;34m\u001b[0m\u001b[0;34m\u001b[0m\u001b[0m\n",
      "\u001b[0;32m/usr/local/anaconda3/envs/Dissertation/lib/python3.8/site-packages/pandas/io/parsers.py\u001b[0m in \u001b[0;36m_make_engine\u001b[0;34m(self, engine)\u001b[0m\n\u001b[1;32m   1048\u001b[0m             )\n\u001b[1;32m   1049\u001b[0m         \u001b[0;31m# error: Too many arguments for \"ParserBase\"\u001b[0m\u001b[0;34m\u001b[0m\u001b[0;34m\u001b[0m\u001b[0;34m\u001b[0m\u001b[0m\n\u001b[0;32m-> 1050\u001b[0;31m         \u001b[0;32mreturn\u001b[0m \u001b[0mmapping\u001b[0m\u001b[0;34m[\u001b[0m\u001b[0mengine\u001b[0m\u001b[0;34m]\u001b[0m\u001b[0;34m(\u001b[0m\u001b[0mself\u001b[0m\u001b[0;34m.\u001b[0m\u001b[0mf\u001b[0m\u001b[0;34m,\u001b[0m \u001b[0;34m**\u001b[0m\u001b[0mself\u001b[0m\u001b[0;34m.\u001b[0m\u001b[0moptions\u001b[0m\u001b[0;34m)\u001b[0m  \u001b[0;31m# type: ignore[call-arg]\u001b[0m\u001b[0;34m\u001b[0m\u001b[0;34m\u001b[0m\u001b[0m\n\u001b[0m\u001b[1;32m   1051\u001b[0m \u001b[0;34m\u001b[0m\u001b[0m\n\u001b[1;32m   1052\u001b[0m     \u001b[0;32mdef\u001b[0m \u001b[0m_failover_to_python\u001b[0m\u001b[0;34m(\u001b[0m\u001b[0mself\u001b[0m\u001b[0;34m)\u001b[0m\u001b[0;34m:\u001b[0m\u001b[0;34m\u001b[0m\u001b[0;34m\u001b[0m\u001b[0m\n",
      "\u001b[0;32m/usr/local/anaconda3/envs/Dissertation/lib/python3.8/site-packages/pandas/io/parsers.py\u001b[0m in \u001b[0;36m__init__\u001b[0;34m(self, src, **kwds)\u001b[0m\n\u001b[1;32m   1865\u001b[0m \u001b[0;34m\u001b[0m\u001b[0m\n\u001b[1;32m   1866\u001b[0m         \u001b[0;31m# open handles\u001b[0m\u001b[0;34m\u001b[0m\u001b[0;34m\u001b[0m\u001b[0;34m\u001b[0m\u001b[0m\n\u001b[0;32m-> 1867\u001b[0;31m         \u001b[0mself\u001b[0m\u001b[0;34m.\u001b[0m\u001b[0m_open_handles\u001b[0m\u001b[0;34m(\u001b[0m\u001b[0msrc\u001b[0m\u001b[0;34m,\u001b[0m \u001b[0mkwds\u001b[0m\u001b[0;34m)\u001b[0m\u001b[0;34m\u001b[0m\u001b[0;34m\u001b[0m\u001b[0m\n\u001b[0m\u001b[1;32m   1868\u001b[0m         \u001b[0;32massert\u001b[0m \u001b[0mself\u001b[0m\u001b[0;34m.\u001b[0m\u001b[0mhandles\u001b[0m \u001b[0;32mis\u001b[0m \u001b[0;32mnot\u001b[0m \u001b[0;32mNone\u001b[0m\u001b[0;34m\u001b[0m\u001b[0;34m\u001b[0m\u001b[0m\n\u001b[1;32m   1869\u001b[0m         \u001b[0;32mfor\u001b[0m \u001b[0mkey\u001b[0m \u001b[0;32min\u001b[0m \u001b[0;34m(\u001b[0m\u001b[0;34m\"storage_options\"\u001b[0m\u001b[0;34m,\u001b[0m \u001b[0;34m\"encoding\"\u001b[0m\u001b[0;34m,\u001b[0m \u001b[0;34m\"memory_map\"\u001b[0m\u001b[0;34m,\u001b[0m \u001b[0;34m\"compression\"\u001b[0m\u001b[0;34m)\u001b[0m\u001b[0;34m:\u001b[0m\u001b[0;34m\u001b[0m\u001b[0;34m\u001b[0m\u001b[0m\n",
      "\u001b[0;32m/usr/local/anaconda3/envs/Dissertation/lib/python3.8/site-packages/pandas/io/parsers.py\u001b[0m in \u001b[0;36m_open_handles\u001b[0;34m(self, src, kwds)\u001b[0m\n\u001b[1;32m   1360\u001b[0m         \u001b[0mLet\u001b[0m \u001b[0mthe\u001b[0m \u001b[0mreaders\u001b[0m \u001b[0mopen\u001b[0m \u001b[0mIOHanldes\u001b[0m \u001b[0mafter\u001b[0m \u001b[0mthey\u001b[0m \u001b[0mare\u001b[0m \u001b[0mdone\u001b[0m \u001b[0;32mwith\u001b[0m \u001b[0mtheir\u001b[0m \u001b[0mpotential\u001b[0m \u001b[0mraises\u001b[0m\u001b[0;34m.\u001b[0m\u001b[0;34m\u001b[0m\u001b[0;34m\u001b[0m\u001b[0m\n\u001b[1;32m   1361\u001b[0m         \"\"\"\n\u001b[0;32m-> 1362\u001b[0;31m         self.handles = get_handle(\n\u001b[0m\u001b[1;32m   1363\u001b[0m             \u001b[0msrc\u001b[0m\u001b[0;34m,\u001b[0m\u001b[0;34m\u001b[0m\u001b[0;34m\u001b[0m\u001b[0m\n\u001b[1;32m   1364\u001b[0m             \u001b[0;34m\"r\"\u001b[0m\u001b[0;34m,\u001b[0m\u001b[0;34m\u001b[0m\u001b[0;34m\u001b[0m\u001b[0m\n",
      "\u001b[0;32m/usr/local/anaconda3/envs/Dissertation/lib/python3.8/site-packages/pandas/io/common.py\u001b[0m in \u001b[0;36mget_handle\u001b[0;34m(path_or_buf, mode, encoding, compression, memory_map, is_text, errors, storage_options)\u001b[0m\n\u001b[1;32m    640\u001b[0m                 \u001b[0merrors\u001b[0m \u001b[0;34m=\u001b[0m \u001b[0;34m\"replace\"\u001b[0m\u001b[0;34m\u001b[0m\u001b[0;34m\u001b[0m\u001b[0m\n\u001b[1;32m    641\u001b[0m             \u001b[0;31m# Encoding\u001b[0m\u001b[0;34m\u001b[0m\u001b[0;34m\u001b[0m\u001b[0;34m\u001b[0m\u001b[0m\n\u001b[0;32m--> 642\u001b[0;31m             handle = open(\n\u001b[0m\u001b[1;32m    643\u001b[0m                 \u001b[0mhandle\u001b[0m\u001b[0;34m,\u001b[0m\u001b[0;34m\u001b[0m\u001b[0;34m\u001b[0m\u001b[0m\n\u001b[1;32m    644\u001b[0m                 \u001b[0mioargs\u001b[0m\u001b[0;34m.\u001b[0m\u001b[0mmode\u001b[0m\u001b[0;34m,\u001b[0m\u001b[0;34m\u001b[0m\u001b[0;34m\u001b[0m\u001b[0m\n",
      "\u001b[0;31mFileNotFoundError\u001b[0m: [Errno 2] No such file or directory: 'doe-schedule.csv'"
     ]
    }
   ],
   "source": [
    "columns = ['Trial Number', 'Layer Thickness', 'Print Speed', 'Infill Density', 'Raster Width', 'Wall Thickness','Cost','Time', 'Quality']\n",
    "myDoE = pd.read_csv('doe-schedule.csv', skiprows=1, names=columns)\n",
    "\n",
    "display(myDoE)"
   ]
  },
  {
   "cell_type": "code",
   "execution_count": null,
   "metadata": {
    "colab": {
     "base_uri": "https://localhost:8080/",
     "height": 607
    },
    "executionInfo": {
     "elapsed": 11,
     "status": "ok",
     "timestamp": 1621699410754,
     "user": {
      "displayName": "Michael Wilson",
      "photoUrl": "https://lh3.googleusercontent.com/a-/AOh14GiyGQ6b2q5m2DVS6kkf52d6XmGgKklNyi2wVjNC9GU=s64",
      "userId": "02796257572720600286"
     },
     "user_tz": 300
    },
    "id": "VEgMKWwZ0ypQ",
    "outputId": "13f8db57-7748-40d4-eef9-2374ab320099"
   },
   "outputs": [],
   "source": [
    "myDoE['Layer Thickness'] = myDoE['Layer Thickness'].replace([-1,1], [lh_low,lh_hi])\n",
    "myDoE['Print Speed'] = myDoE['Print Speed'].replace([-1,1], [ps_low,ps_hi])\n",
    "myDoE['Infill Density'] = myDoE['Infill Density'].replace([-1,1], [id_low,id_hi])\n",
    "myDoE['Raster Width'] = myDoE['Raster Width'].replace([-1,1], [rw_low,rw_hi])\n",
    "myDoE['Wall Thickness'] = myDoE['Wall Thickness'].replace([-1,1], [wt_low,wt_hi])\n",
    "display(myDoE)"
   ]
  },
  {
   "cell_type": "markdown",
   "metadata": {
    "id": "_vZOMb4-xZDi"
   },
   "source": [
    "# CR6 SE Results"
   ]
  },
  {
   "cell_type": "code",
   "execution_count": null,
   "metadata": {
    "colab": {
     "base_uri": "https://localhost:8080/",
     "height": 221
    },
    "executionInfo": {
     "elapsed": 149,
     "status": "ok",
     "timestamp": 1621699410893,
     "user": {
      "displayName": "Michael Wilson",
      "photoUrl": "https://lh3.googleusercontent.com/a-/AOh14GiyGQ6b2q5m2DVS6kkf52d6XmGgKklNyi2wVjNC9GU=s64",
      "userId": "02796257572720600286"
     },
     "user_tz": 300
    },
    "id": "xIVHVtG7w3H3",
    "outputId": "ccaf6ce3-8d9d-4c94-886c-150455b54eb5"
   },
   "outputs": [],
   "source": [
    "cr6_results_pd = pd.read_csv('cr6_results.csv')\n",
    "cr6_results_pd.head()"
   ]
  },
  {
   "cell_type": "code",
   "execution_count": null,
   "metadata": {
    "colab": {
     "base_uri": "https://localhost:8080/",
     "height": 80
    },
    "executionInfo": {
     "elapsed": 140,
     "status": "ok",
     "timestamp": 1621700991751,
     "user": {
      "displayName": "Michael Wilson",
      "photoUrl": "https://lh3.googleusercontent.com/a-/AOh14GiyGQ6b2q5m2DVS6kkf52d6XmGgKklNyi2wVjNC9GU=s64",
      "userId": "02796257572720600286"
     },
     "user_tz": 300
    },
    "id": "8ltXL8_SzE_n",
    "outputId": "c4221310-5d34-4da7-b1d0-0f315e872a88"
   },
   "outputs": [],
   "source": [
    "np.random.seed(1234)\n",
    "dataNew=pd.DataFrame({'CCR6SE-Default.gcode':random.sample(list(cr6_results_pd['Used Filament Cost'][cr6_results_pd['File Name']=='CCR6SE-Default.gcode']), 1),\n",
    "                      'CCR6SE_Run2.gcode':random.sample(list(cr6_results_pd['Used Filament Cost'][cr6_results_pd['File Name']=='CCR6SE_Run2.gcode']), 1),\n",
    "                      'CCR6SE_Run3.gcode':random.sample(list(cr6_results_pd['Used Filament Cost'][cr6_results_pd['File Name']=='CCR6SE_Run3.gcode']), 1),\n",
    "                      'CCR6SE_Run4.gcode':random.sample(list(cr6_results_pd['Used Filament Cost'][cr6_results_pd['File Name']=='CCR6SE_Run4.gcode']), 1)})\n",
    "display(dataNew)"
   ]
  },
  {
   "cell_type": "markdown",
   "metadata": {
    "id": "qujWLt8xnEvn"
   },
   "source": [
    "# Cost Analysis"
   ]
  },
  {
   "cell_type": "code",
   "execution_count": null,
   "metadata": {
    "executionInfo": {
     "elapsed": 8,
     "status": "aborted",
     "timestamp": 1621699410894,
     "user": {
      "displayName": "Michael Wilson",
      "photoUrl": "https://lh3.googleusercontent.com/a-/AOh14GiyGQ6b2q5m2DVS6kkf52d6XmGgKklNyi2wVjNC9GU=s64",
      "userId": "02796257572720600286"
     },
     "user_tz": 300
    },
    "id": "1iR068Fg2KhR"
   },
   "outputs": [],
   "source": [
    "y_cost = myDoE['Cost']\n",
    "X = myDoE[['Layer Thickness', 'Print Speed', 'Infill Density', 'Raster Width', 'Wall Thickness']]\n",
    "\n",
    "## An intercept is not added by default, so we need to add that here\n",
    "X = sm.add_constant(X)\n",
    "cost_results = sm.OLS(y_cost, X).fit()\n",
    "cost_results.summary()\n",
    "\n",
    "print(cost_results.summary())"
   ]
  },
  {
   "cell_type": "markdown",
   "metadata": {
    "id": "anUL6Uewm1Ni"
   },
   "source": [
    ":\n",
    "## p-value is more than 0.05 , So we can say that variances among groups are equal."
   ]
  },
  {
   "cell_type": "code",
   "execution_count": null,
   "metadata": {
    "executionInfo": {
     "elapsed": 8,
     "status": "aborted",
     "timestamp": 1621699410894,
     "user": {
      "displayName": "Michael Wilson",
      "photoUrl": "https://lh3.googleusercontent.com/a-/AOh14GiyGQ6b2q5m2DVS6kkf52d6XmGgKklNyi2wVjNC9GU=s64",
      "userId": "02796257572720600286"
     },
     "user_tz": 300
    },
    "id": "aDNNo7eFjhmx"
   },
   "outputs": [],
   "source": [
    "\n",
    "F, p = stats.f_oneway(myDoE['Layer Thickness'],myDoE['Print Speed'],myDoE['Infill Density'],myDoE['Raster Width'],myDoE['Wall Thickness'])\n",
    "print('F statistic =', F, 'p value :',p)"
   ]
  },
  {
   "cell_type": "markdown",
   "metadata": {
    "id": "soQ3Bs-XnJq3"
   },
   "source": [
    "# Seeing if the overall model is significant"
   ]
  },
  {
   "cell_type": "code",
   "execution_count": null,
   "metadata": {
    "executionInfo": {
     "elapsed": 9,
     "status": "aborted",
     "timestamp": 1621699410895,
     "user": {
      "displayName": "Michael Wilson",
      "photoUrl": "https://lh3.googleusercontent.com/a-/AOh14GiyGQ6b2q5m2DVS6kkf52d6XmGgKklNyi2wVjNC9GU=s64",
      "userId": "02796257572720600286"
     },
     "user_tz": 300
    },
    "id": "opuu2trEm6oH"
   },
   "outputs": [],
   "source": [
    "F, p = stats.f_oneway(myDoE['Layer Thickness'],myDoE['Print Speed'],myDoE['Infill Density'],myDoE['Raster Width'],myDoE['Wall Thickness'])\n",
    "# Seeing if the overall model is significant\n",
    "print('F-Statistic=%.3f, p=%.3f' % (F, p))"
   ]
  },
  {
   "cell_type": "code",
   "execution_count": null,
   "metadata": {
    "executionInfo": {
     "elapsed": 10,
     "status": "aborted",
     "timestamp": 1621699410896,
     "user": {
      "displayName": "Michael Wilson",
      "photoUrl": "https://lh3.googleusercontent.com/a-/AOh14GiyGQ6b2q5m2DVS6kkf52d6XmGgKklNyi2wVjNC9GU=s64",
      "userId": "02796257572720600286"
     },
     "user_tz": 300
    },
    "id": "9xRajSyqnat9"
   },
   "outputs": [],
   "source": [
    "df_melt = pd.melt(myDoE.reset_index(), id_vars=['index'], value_vars=['Layer Thickness', 'Print Speed', 'Infill Density', 'Raster Width', 'Wall Thickness'])\n",
    "display(df_melt)"
   ]
  },
  {
   "cell_type": "markdown",
   "metadata": {
    "id": "QUSZRKuVne8r"
   },
   "source": [
    "# Time Analysis"
   ]
  },
  {
   "cell_type": "code",
   "execution_count": null,
   "metadata": {
    "executionInfo": {
     "elapsed": 10,
     "status": "aborted",
     "timestamp": 1621699410896,
     "user": {
      "displayName": "Michael Wilson",
      "photoUrl": "https://lh3.googleusercontent.com/a-/AOh14GiyGQ6b2q5m2DVS6kkf52d6XmGgKklNyi2wVjNC9GU=s64",
      "userId": "02796257572720600286"
     },
     "user_tz": 300
    },
    "id": "YaSJ-49xnlRG"
   },
   "outputs": [],
   "source": [
    "y_time = myDoE['Time']\n",
    "time_results = sm.OLS(y_time, X).fit()\n",
    "time_results.summary()\n",
    "\n",
    "print(time_results.summary())"
   ]
  },
  {
   "cell_type": "markdown",
   "metadata": {
    "id": "RrDBPs46oOYu"
   },
   "source": [
    "# Quality Analysis"
   ]
  },
  {
   "cell_type": "code",
   "execution_count": null,
   "metadata": {
    "executionInfo": {
     "elapsed": 10,
     "status": "aborted",
     "timestamp": 1621699410897,
     "user": {
      "displayName": "Michael Wilson",
      "photoUrl": "https://lh3.googleusercontent.com/a-/AOh14GiyGQ6b2q5m2DVS6kkf52d6XmGgKklNyi2wVjNC9GU=s64",
      "userId": "02796257572720600286"
     },
     "user_tz": 300
    },
    "id": "Xk6ZnvK2oW4f"
   },
   "outputs": [],
   "source": [
    "y_qual = myDoE['Quality']\n",
    "qual_results = sm.OLS(y_qual, X).fit()\n",
    "qual_results.summary()\n",
    "\n",
    "print(qual_results.summary())"
   ]
  }
 ],
 "metadata": {
  "colab": {
   "authorship_tag": "ABX9TyNMMrZ5/eJcJ3nS7opeU0JG",
   "collapsed_sections": [],
   "name": "3DP Dissertation.ipynb",
   "provenance": []
  },
  "kernelspec": {
   "display_name": "Python 3",
   "language": "python",
   "name": "python3"
  },
  "language_info": {
   "codemirror_mode": {
    "name": "ipython",
    "version": 3
   },
   "file_extension": ".py",
   "mimetype": "text/x-python",
   "name": "python",
   "nbconvert_exporter": "python",
   "pygments_lexer": "ipython3",
   "version": "3.8.10"
  }
 },
 "nbformat": 4,
 "nbformat_minor": 4
}
