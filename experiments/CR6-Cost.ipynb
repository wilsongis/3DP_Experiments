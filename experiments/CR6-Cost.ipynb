{
 "cells": [
  {
   "cell_type": "code",
   "execution_count": null,
   "metadata": {
    "colab": {
     "base_uri": "https://localhost:8080/"
    },
    "id": "bj2o-tkyb294",
    "outputId": "8c2a65aa-3bd2-41a1-bc74-8366fcb5cabc"
   },
   "outputs": [],
   "source": [
    "# import packages here to reduce the size of code cells later\n",
    "\n",
    "import pandas as pd\n",
    "from prettypandas import PrettyPandas\n",
    "import patsy\n",
    "\n",
    "import numpy as np\n",
    "import scipy.stats\n",
    "import statsmodels.formula.api\n",
    "import statsmodels.api as sm\n",
    "\n",
    "from graphviz import Digraph\n",
    "import seaborn as sns\n",
    "\n",
    "import dexpy.factorial\n",
    "import dexpy.alias\n",
    "import dexpy.power\n",
    "\n",
    "from mpl_toolkits.mplot3d import Axes3D\n",
    "import matplotlib.pyplot as plt\n",
    "from matplotlib import patches\n",
    "\n",
    "from IPython.display import display, Markdown, HTML\n",
    "\n",
    "import warnings\n",
    "#warnings.filterwarnings('ignore')"
   ]
  },
  {
   "cell_type": "code",
   "execution_count": null,
   "metadata": {},
   "outputs": [],
   "source": [
    "# CSV Results Layout and File\n",
    "\n",
    "columns = ['trial', 'lh', 'ps', 'id', 'rw', 'wt', 'cost', 'time', 'quality', 'comment']\n",
    "\n",
    "cr6_print_history = pd.read_csv('https://raw.githubusercontent.com/wilsongis/3DP_Experiments/main/Data/cr6-doe-schedule.csv', skiprows=1, names=columns)"
   ]
  },
  {
   "cell_type": "code",
   "execution_count": null,
   "metadata": {
    "id": "Hx0PNT1xb297"
   },
   "outputs": [],
   "source": [
    "# helper functions for this notebook\n",
    "\n",
    "# use SVG for matplotlib-based figures\n",
    "%matplotlib inline\n",
    "%config InlineBackend.figure_format = 'svg'\n",
    "\n",
    "def coded_to_actual(coded_data, actual_lows, actual_highs):\n",
    "    \"\"\"Converts a pandas DataFrame from coded units to actuals.\"\"\"\n",
    "    actual_data = coded_data.copy()\n",
    "    for col in actual_data.columns:\n",
    "        if not (col in actual_highs and col in actual_lows):\n",
    "            continue\n",
    "        try:\n",
    "            # convert continuous variables to their actual value\n",
    "            actual_data[col] *= 0.5 * (float(actual_highs[col]) - float(actual_lows[col]))\n",
    "            # don't need to cast to float here, if either are not a float exception will have been thrown\n",
    "            actual_data[col] += 0.5 * (actual_highs[col] + actual_lows[col])\n",
    "        except ValueError:\n",
    "            # assume 2 level categorical\n",
    "            actual_data[col] = actual_data[col].map({-1: actual_lows[col], 1: actual_highs[col]})\n",
    "    return actual_data\n",
    "        \n",
    "def get_tick_labels(key, lows, highs, units):\n",
    "    \"\"\"Returns a list of low/high labels with units (e.g. [8mm, 10mm])\"\"\"\n",
    "    return [str(lows[key]) + units[key], str(highs[key]) + units[key]]"
   ]
  },
  {
   "cell_type": "markdown",
   "metadata": {
    "id": "ikR61J3ob29_"
   },
   "source": [
    "# Motivating Example: Better Office Coffee\n",
    "\n",
    " * 5 input factors\n",
    "  * lh of Coffee (2.5 to 4.0 oz.)\n",
    "  * Grind size (8-10mm)\n",
    "  * Brew time (3.5 to 4.5 minutes)\n",
    "  * Grind Type (burr vs blade)\n",
    "  * Coffee wt (light vs dark)\n",
    " * 1 response: Average overall liking by a panel of 5 office coffee addicts\n",
    "  * Each taster rates the coffee from 1-9\n",
    " * Maximum of 3 taste tests a day, for liability reasons\n",
    " "
   ]
  },
  {
   "cell_type": "code",
   "execution_count": null,
   "metadata": {},
   "outputs": [],
   "source": [
    "# Layer Thickness = lh\n",
    "lh_low = .16 \n",
    "lh_hi = .24 \n",
    "\n",
    "# Print Speed = ps\n",
    "ps_low = 50 \n",
    "ps_hi = 60 \n",
    "\n",
    "# Infill Density = id\n",
    "id_low = .25 \n",
    "id_hi = .15 \n",
    "\n",
    "# Raster Width = rw\n",
    "rw_low = .4 \n",
    "rw_hi = .8 \n",
    "\n",
    "# Wall Thicknessv = wt\n",
    "wt_low = 1.2 \n",
    "wt_hi = .8"
   ]
  },
  {
   "cell_type": "code",
   "execution_count": null,
   "metadata": {
    "id": "hrNOki2eb2-A"
   },
   "outputs": [],
   "source": [
    "# set some variables related to the coffee data set\n",
    "actual_lows = { 'lh' : lh_low, 'ps' : ps_low, 'id': id_low, 'rw': rw_low, 'wt': wt_low }\n",
    "actual_highs = { 'lh' : lh_hi, 'ps' : ps_hi, 'id': id_hi, 'rw': rw_hi, 'wt': wt_hi }\n",
    "units = { 'lh' : 'mm', 'ps' : 'mm/s', 'id': '%', 'rw': 'mm', 'wt': 'mm' }"
   ]
  },
  {
   "cell_type": "markdown",
   "metadata": {
    "id": "vDlL6bLWb2-H"
   },
   "source": [
    "# Fractional Factorials\n",
    "\n",
    "* Coffee experiment is 2<sup>5</sup> runs (32)\n",
    "* We want to add 4 center point runs to check for curvature\n",
    "* Total runs = 36, 3 per day if all testers are in the office\n",
    "* Estimate experiment will take a month"
   ]
  },
  {
   "cell_type": "markdown",
   "metadata": {
    "id": "v0HLrrvyb2-I"
   },
   "source": [
    "# Fractional Factorials\n",
    "* Power for the experiment is > 99%\n",
    "* Full factorial is overkill\n",
    "* Instead run 2<sup>5-1</sup> experiments, a \"half fraction\"\n"
   ]
  },
  {
   "cell_type": "markdown",
   "metadata": {
    "id": "mcbf6qp3b2-I"
   },
   "source": [
    "# Fractional Factorials in dexpy\n",
    "\n",
    "https://statease.github.io/dexpy/design-build.html#module-dexpy.factorial"
   ]
  },
  {
   "cell_type": "code",
   "execution_count": null,
   "metadata": {
    "colab": {
     "base_uri": "https://localhost:8080/"
    },
    "id": "c-PISX1Fb2-I",
    "outputId": "c4f45af1-f8e2-4d85-ea01-de23e5b4db41"
   },
   "outputs": [],
   "source": [
    "help(dexpy.factorial.build_factorial)"
   ]
  },
  {
   "cell_type": "code",
   "execution_count": null,
   "metadata": {
    "colab": {
     "base_uri": "https://localhost:8080/",
     "height": 595
    },
    "id": "R-OhmLD6b2-J",
    "outputId": "0b254cb0-57b2-45e6-c346-63eef7db7e10"
   },
   "outputs": [],
   "source": [
    "\n",
    "\n",
    "# cr6_print_history = dexpy.factorial.build_factorial(5, 2**(5-1))\n",
    "# cr6_print_history.columns = ['lh', 'ps', 'id', 'rw', 'wt']\n",
    "center_points = [\n",
    "]\n",
    "\n",
    "#columns = ['trial', 'lh', 'ps', 'id', 'rw', 'wt', 'cost', 'time', 'quality', 'comment']\n",
    "\n",
    "#cr6_print_history = pd.read_csv('file:///Users/wilsonm/Dropbox%20(APSU%20GIS)/Projects%20(DB)/Dissertation/3DP_Experiments/Data/cr6-doe-schedule.csv', skiprows=1, names=columns)\n",
    "\n",
    "#cr6_print_history = cr6_print_history.append(pd.DataFrame(center_points * 2, columns=cr6_print_history.columns))\n",
    "cr6_print_history.index = np.arange(0, len(cr6_print_history))\n",
    "\n",
    "display(Markdown(\"## 2<sup>(5-1)</sup> Factorial Design\"))\n",
    "display(PrettyPandas(cr6_print_history))\n",
    "\n",
    "actual_design = coded_to_actual(cr6_print_history, actual_lows, actual_highs)\n",
    "cr6_print_actual = actual_design\n",
    "display(Markdown(\"Actual ## 2<sup>(5-1)</sup> Factorial Design\"))\n",
    "display(PrettyPandas(actual_design))"
   ]
  },
  {
   "cell_type": "code",
   "execution_count": null,
   "metadata": {},
   "outputs": [],
   "source": [
    "# Transform DOE Schedule CSV dataframe to only include parameters\n",
    "\n",
    "myDoE = cr6_print_history[['lh', 'ps', 'id', 'rw', 'wt']]\n",
    "myDoE2 = cr6_print_actual[['lh', 'ps', 'id', 'rw', 'wt']]"
   ]
  },
  {
   "cell_type": "markdown",
   "metadata": {},
   "source": [
    "### Cost Calculating Aliases in dexpy"
   ]
  },
  {
   "cell_type": "code",
   "execution_count": null,
   "metadata": {},
   "outputs": [],
   "source": [
    "cr6_alias = cr6_print_history[['lh', 'ps', 'id', 'rw', 'wt']]"
   ]
  },
  {
   "cell_type": "markdown",
   "metadata": {
    "id": "iu_iv78Lb2-L"
   },
   "source": [
    "# Analysis\n",
    "\n",
    "* [statsmodels](http://statsmodels.sourceforge.net/) has lots of routines for modeling data\n",
    "* We will use [Ordinary Least Squares (OLS)](http://statsmodels.sourceforge.net/devel/examples/notebooks/generated/ols.html) to fit\n",
    "* `statsmodels` typically takes `numpy` arrays for X and y data\n",
    "* It also has a \"formulas\" api that accepts a `patsy` formula"
   ]
  },
  {
   "cell_type": "markdown",
   "metadata": {},
   "source": [
    "## Cost Analysis"
   ]
  },
  {
   "cell_type": "code",
   "execution_count": null,
   "metadata": {},
   "outputs": [],
   "source": [
    "cr6_cost_analysis = cr6_print_history[['lh', 'ps', 'id', 'rw', 'wt', 'cost']]\n",
    "cr6_cost_analysis2 = cr6_print_actual[['lh', 'ps', 'id', 'rw', 'wt', 'cost']]\n",
    "display(cr6_cost_analysis2)"
   ]
  },
  {
   "cell_type": "code",
   "execution_count": null,
   "metadata": {},
   "outputs": [],
   "source": [
    "y_cost = cr6_cost_analysis['cost']\n",
    "X = cr6_cost_analysis[['lh', 'ps', 'id', 'rw', 'wt']]\n",
    "\n",
    "## An intercept is not added by default, so we need to add that here\n",
    "X = sm.add_constant(X)\n",
    "cost_results = sm.OLS(y_cost, X).fit()\n",
    "cost_results.summary()\n",
    "\n",
    "print(cost_results.summary())"
   ]
  },
  {
   "cell_type": "code",
   "execution_count": null,
   "metadata": {},
   "outputs": [],
   "source": [
    "PlotWidth = 6\n",
    "plt.figure(figsize=(PlotWidth, PlotWidth))\n",
    "sns.regplot(x=cost_results.predict(X), y=y_cost)\n",
    "plt.xlabel('Predicted %Conversion')\n",
    "plt.ylabel('Actual %Conversion')\n",
    "plt.title('Actual vs. Predicted %Conversion')\n",
    "plt.show()"
   ]
  },
  {
   "cell_type": "code",
   "execution_count": null,
   "metadata": {},
   "outputs": [],
   "source": [
    "display(cr6_cost_analysis)"
   ]
  },
  {
   "cell_type": "code",
   "execution_count": null,
   "metadata": {
    "colab": {
     "base_uri": "https://localhost:8080/"
    },
    "id": "XdO0v7h7b2-M",
    "outputId": "faa5df71-f9b6-4c91-e410-6bde3f4846eb"
   },
   "outputs": [],
   "source": [
    "# Working Models\n",
    "# quantreg\n",
    "# poisson\n",
    "# \n",
    "\n",
    "lm = statsmodels.formula.api.ols(\"cost ~(lh + ps + id + rw + wt)**2\", data=cr6_cost_analysis).fit()\n",
    "print(lm.summary())\n",
    "\n"
   ]
  },
  {
   "cell_type": "code",
   "execution_count": null,
   "metadata": {
    "colab": {
     "base_uri": "https://localhost:8080/"
    },
    "id": "WHrYd7tdb2-M",
    "outputId": "8f309386-8f22-4ef6-c0cc-78efad954c42"
   },
   "outputs": [],
   "source": [
    "reduced_model = \"rw\"\n",
    "lm = statsmodels.formula.api.ols(\"cost ~\" + reduced_model, data=cr6_cost_analysis).fit()\n",
    "print(lm.summary2())"
   ]
  },
  {
   "cell_type": "markdown",
   "metadata": {
    "id": "MXUklkGWb2-M"
   },
   "source": [
    "# Visualization\n",
    "\n",
    "* [seaborn](http://seaborn.pydata.org/) is built on top of `matplotlib` and adds support for `pandas` dataframes \n",
    "* Can build a plot using `seaborn`, then manipulate it with `matplotlib`\n",
    "* Default themes look a lot nicer than what you get from `matplotlib` out of the box"
   ]
  },
  {
   "cell_type": "code",
   "execution_count": null,
   "metadata": {
    "colab": {
     "base_uri": "https://localhost:8080/",
     "height": 608
    },
    "id": "O_24hZN9b2-M",
    "outputId": "ba520822-056f-4dbf-c12d-ab22e2153802"
   },
   "outputs": [],
   "source": [
    "display(Markdown('''\n",
    "If we take the experiment data from the design and use our new model to fit that data, then plot it against\n",
    "the observed values we can get an idea for how well our model predicts. Points above the 45 degree line are\n",
    "overpredicting for that combination of inputs. Points below the line predict a lower taste rating than\n",
    "we actually measured during the experiment.'''))\n",
    "\n",
    "actual_predicted = pd.DataFrame({ 'actual': cr6_print_history['cost'],\n",
    "                                  'predicted': lm.fittedvalues\n",
    "                                }, index=np.arange(len(cr6_cost_analysis['cost'])))\n",
    "fg = sns.FacetGrid(actual_predicted, height=5)\n",
    "fg.map(plt.scatter, 'actual', 'predicted')\n",
    "ax = fg.axes[0, 0]\n",
    "ax.plot([0, 1], [0, 1], color='g', lw=2)\n",
    "ax.set_xticks(np.arange(0, 1.5))\n",
    "ax.set_xlim([0, 1.])\n",
    "ax.set_yticks(np.arange(0, 1))\n",
    "ax.set_title('Actual vs Predicted')\n",
    "_ = ax.set_ylim([0, 1])"
   ]
  },
  {
   "cell_type": "code",
   "execution_count": null,
   "metadata": {
    "colab": {
     "base_uri": "https://localhost:8080/",
     "height": 664
    },
    "id": "XJOhrMxDb2-N",
    "outputId": "691aef35-3e1b-4799-f541-2d6f5087a3fd"
   },
   "outputs": [],
   "source": [
    "display(Markdown('''\n",
    "Plotting the prediction for two factors at once shows how they interact with each other.\n",
    "In this graph you can see that at the low brew time the larger grind size results in\n",
    "a poor taste rating, likely because the coffee is too weak.'''))\n",
    "\n",
    "pred_points = pd.DataFrame(1, columns = cr6_cost_analysis.columns, index=np.arange(4))\n",
    "pred_points.loc[1,'wt'] = -1\n",
    "pred_points.loc[3,'wt'] = -1\n",
    "pred_points.loc[2,'rw'] = -1\n",
    "pred_points.loc[3,'rw'] = -1\n",
    "pred_points['cost'] = lm.predict(pred_points)\n",
    "pred_points = coded_to_actual(pred_points, actual_lows, actual_highs)\n",
    "\n",
    "fg = sns.factorplot('wt', 'cost', hue='rw', kind='point', data=pred_points)\n",
    "ax = fg.axes[0, 0]\n",
    "ax.set_xticklabels(get_tick_labels('wt', actual_lows, actual_highs, units))\n",
    "_ = ax.set_title('Print Speed/Infill Density')"
   ]
  },
  {
   "cell_type": "code",
   "execution_count": null,
   "metadata": {
    "colab": {
     "base_uri": "https://localhost:8080/",
     "height": 799
    },
    "id": "ocRvTfa7b2-N",
    "outputId": "00fb875a-425f-4f6a-e290-8accd6358f1a"
   },
   "outputs": [],
   "source": [
    "display(Markdown('''\n",
    "This graph contains the prediction with the highest taste rating, 7.72.\n",
    "However, if you look at the dark bean line there is a point where we can get\n",
    "a rating of 6.93 with 2.5oz of grounds.\n",
    "'''))\n",
    "\n",
    "pred_points = pd.DataFrame(1, columns = cr6_cost_analysis.columns, index=np.arange(4))\n",
    "pred_points.loc[1,'lh'] = -1\n",
    "pred_points.loc[3,'lh'] = -1\n",
    "pred_points.loc[2,'wt'] = -1\n",
    "pred_points.loc[3,'wt'] = -1\n",
    "pred_points['cost'] = lm.predict(pred_points)\n",
    "pred_points = coded_to_actual(pred_points, actual_lows, actual_highs)\n",
    "\n",
    "fg = sns.factorplot('lh', 'cost', hue='wt', kind='point', palette={'dark': 'maroon', 'light': 'peru'}, data=pred_points)\n",
    "ax = fg.axes[0, 0]\n",
    "ax.set_xticklabels(get_tick_labels('lh', actual_lows, actual_highs, units))\n",
    "ax.set_title('lh/wt Interaction')\n",
    "plt.show()\n",
    "\n",
    "display(PrettyPandas(pred_points))\n",
    "display(Markdown('''That savings of 1.5oz per pot would create a nice surplus in the coffee budget at the end of the year.'''))"
   ]
  },
  {
   "cell_type": "markdown",
   "metadata": {
    "id": "hMmfPFt3b2-O"
   },
   "source": [
    "![coffeemaker](img/coffee_maker.jpg)"
   ]
  },
  {
   "cell_type": "markdown",
   "metadata": {
    "id": "ujzuvtXeb2-O"
   },
   "source": [
    "# The End\n",
    "\n",
    "* We were able to build and execute an experiment in Python that resulted in a better tasting (and cheaper!) coffee.\n",
    "* These slides can be found at https://hpanderson.github.io/dexpy-pymntos\n",
    "* The jupyter notebook they are based on can be found on my github: https://github.com/hpanderson/dexpy-pymntos\n",
    "* You can reach me at: <hank@statease.com>\n",
    "* The `dexpy` docs are at: https://statease.github.io/dexpy/\n",
    "* `dexpy` is only at version 0.1, we plan on greatly expanding the design and analysis capabilities\n",
    " "
   ]
  }
 ],
 "metadata": {
  "anaconda-cloud": {},
  "celltoolbar": "Slideshow",
  "colab": {
   "collapsed_sections": [],
   "name": "dexpy-demo.ipynb",
   "provenance": []
  },
  "kernelspec": {
   "display_name": "Python 3",
   "language": "python",
   "name": "python3"
  },
  "language_info": {
   "codemirror_mode": {
    "name": "ipython",
    "version": 3
   },
   "file_extension": ".py",
   "mimetype": "text/x-python",
   "name": "python",
   "nbconvert_exporter": "python",
   "pygments_lexer": "ipython3",
   "version": "3.8.5"
  },
  "nbpresent": {
   "slides": {
    "69ca5852-a257-4b32-a164-46fd17e89d5d": {
     "id": "69ca5852-a257-4b32-a164-46fd17e89d5d",
     "layout": "grid",
     "prev": "7af1a671-4249-4e3e-ad27-77e10146d8c3",
     "regions": {
      "08479882-590c-4dcd-97e0-6461b2662cc7": {
       "attrs": {
        "height": 0.4166666666666667,
        "pad": 0.01,
        "width": 0.8333333333333334,
        "x": 0.08333333333333333,
        "y": 0.5
       },
       "content": {
        "cell": "afc624d6-8a65-4880-bef4-5d2f77dc8cb2",
        "part": "outputs"
       },
       "id": "08479882-590c-4dcd-97e0-6461b2662cc7"
      },
      "281a2605-2b2f-4c5a-8454-f2f478b60461": {
       "attrs": {
        "height": 0.4166666666666667,
        "pad": 0.01,
        "width": 0.8333333333333334,
        "x": 0.08333333333333333,
        "y": 0.08333333333333333
       },
       "content": {
        "cell": "afc624d6-8a65-4880-bef4-5d2f77dc8cb2",
        "part": "source"
       },
       "id": "281a2605-2b2f-4c5a-8454-f2f478b60461"
      }
     },
     "theme": null
    },
    "7af1a671-4249-4e3e-ad27-77e10146d8c3": {
     "id": "7af1a671-4249-4e3e-ad27-77e10146d8c3",
     "prev": null,
     "regions": {
      "0e6b4598-b189-48a7-9e0e-43beda6fa796": {
       "attrs": {
        "height": 0.2,
        "width": 0.4,
        "x": 0.1,
        "y": 0.7
       },
       "content": {
        "cell": "afc624d6-8a65-4880-bef4-5d2f77dc8cb2",
        "part": "source"
       },
       "id": "0e6b4598-b189-48a7-9e0e-43beda6fa796"
      },
      "3d5a9d45-6ebb-4aff-b393-77b42fe7a9d5": {
       "attrs": {
        "height": 0.6,
        "width": 0.8,
        "x": 0.1,
        "y": 0.1
       },
       "content": {
        "cell": "132443fd-23b6-4758-a074-be108db02fd9",
        "part": "source"
       },
       "id": "3d5a9d45-6ebb-4aff-b393-77b42fe7a9d5"
      },
      "d44fc3d2-a017-47e8-87d9-dc52608832d5": {
       "attrs": {
        "height": 0.2,
        "width": 0.4,
        "x": 0.5,
        "y": 0.7
       },
       "content": {
        "cell": "afc624d6-8a65-4880-bef4-5d2f77dc8cb2",
        "part": "outputs"
       },
       "id": "d44fc3d2-a017-47e8-87d9-dc52608832d5"
      }
     }
    }
   },
   "themes": {}
  }
 },
 "nbformat": 4,
 "nbformat_minor": 4
}
