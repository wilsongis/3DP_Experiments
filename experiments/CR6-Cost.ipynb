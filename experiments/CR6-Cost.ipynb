{
 "cells": [
  {
   "cell_type": "code",
   "execution_count": null,
   "metadata": {},
   "outputs": [],
   "source": []
  },
  {
   "cell_type": "code",
   "execution_count": 1,
   "metadata": {
    "colab": {
     "base_uri": "https://localhost:8080/"
    },
    "id": "bj2o-tkyb294",
    "outputId": "8c2a65aa-3bd2-41a1-bc74-8366fcb5cabc"
   },
   "outputs": [
    {
     "ename": "ModuleNotFoundError",
     "evalue": "No module named 'prettypandas'",
     "output_type": "error",
     "traceback": [
      "\u001b[0;31m---------------------------------------------------------------------------\u001b[0m",
      "\u001b[0;31mModuleNotFoundError\u001b[0m                       Traceback (most recent call last)",
      "\u001b[0;32m<ipython-input-1-f1150688ee39>\u001b[0m in \u001b[0;36m<module>\u001b[0;34m\u001b[0m\n\u001b[1;32m      2\u001b[0m \u001b[0;34m\u001b[0m\u001b[0m\n\u001b[1;32m      3\u001b[0m \u001b[0;32mimport\u001b[0m \u001b[0mpandas\u001b[0m \u001b[0;32mas\u001b[0m \u001b[0mpd\u001b[0m\u001b[0;34m\u001b[0m\u001b[0;34m\u001b[0m\u001b[0m\n\u001b[0;32m----> 4\u001b[0;31m \u001b[0;32mfrom\u001b[0m \u001b[0mprettypandas\u001b[0m \u001b[0;32mimport\u001b[0m \u001b[0mPrettyPandas\u001b[0m\u001b[0;34m\u001b[0m\u001b[0;34m\u001b[0m\u001b[0m\n\u001b[0m\u001b[1;32m      5\u001b[0m \u001b[0;32mimport\u001b[0m \u001b[0mpatsy\u001b[0m\u001b[0;34m\u001b[0m\u001b[0;34m\u001b[0m\u001b[0m\n\u001b[1;32m      6\u001b[0m \u001b[0;34m\u001b[0m\u001b[0m\n",
      "\u001b[0;31mModuleNotFoundError\u001b[0m: No module named 'prettypandas'"
     ]
    }
   ],
   "source": [
    "# import packages here to reduce the size of code cells later\n",
    "\n",
    "import pandas as pd\n",
    "from prettypandas import PrettyPandas\n",
    "import patsy\n",
    "\n",
    "import numpy as np\n",
    "import scipy.stats\n",
    "import statsmodels.formula.api\n",
    "import statsmodels.api as sm\n",
    "\n",
    "from graphviz import Digraph\n",
    "import seaborn as sns\n",
    "\n",
    "import dexpy.factorial\n",
    "import dexpy.alias\n",
    "import dexpy.power\n",
    "\n",
    "from mpl_toolkits.mplot3d import Axes3D\n",
    "import matplotlib.pyplot as plt\n",
    "from matplotlib import patches\n",
    "\n",
    "from IPython.display import display, Markdown, HTML\n"
   ]
  },
  {
   "cell_type": "code",
   "execution_count": null,
   "metadata": {
    "id": "Hx0PNT1xb297"
   },
   "outputs": [],
   "source": [
    "# helper functions for this notebook\n",
    "\n",
    "# use SVG for matplotlib-based figures\n",
    "%matplotlib inline\n",
    "%config InlineBackend.figure_format = 'svg'\n",
    "\n",
    "def coded_to_actual(coded_data, actual_lows, actual_highs):\n",
    "    \"\"\"Converts a pandas DataFrame from coded units to actuals.\"\"\"\n",
    "    actual_data = coded_data.copy()\n",
    "    for col in actual_data.columns:\n",
    "        if not (col in actual_highs and col in actual_lows):\n",
    "            continue\n",
    "        try:\n",
    "            # convert continuous variables to their actual value\n",
    "            actual_data[col] *= 0.5 * (float(actual_highs[col]) - float(actual_lows[col]))\n",
    "            # don't need to cast to float here, if either are not a float exception will have been thrown\n",
    "            actual_data[col] += 0.5 * (actual_highs[col] + actual_lows[col])\n",
    "        except ValueError:\n",
    "            # assume 2 level categorical\n",
    "            actual_data[col] = actual_data[col].map({-1: actual_lows[col], 1: actual_highs[col]})\n",
    "    return actual_data\n",
    "        \n",
    "def get_tick_labels(key, lows, highs, units):\n",
    "    \"\"\"Returns a list of low/high labels with units (e.g. [8mm, 10mm])\"\"\"\n",
    "    return [str(lows[key]) + units[key], str(highs[key]) + units[key]]"
   ]
  },
  {
   "cell_type": "markdown",
   "metadata": {
    "id": "tUWemjeSb298"
   },
   "source": [
    "# Design of Experiments in Python\n",
    "\n",
    "Hank Anderson  \n",
    "<hank@statease.com>  \n",
    "https://github.com/hpanderson/dexpy-pymntos  "
   ]
  },
  {
   "cell_type": "markdown",
   "metadata": {
    "id": "V7-Rbowgb298"
   },
   "source": [
    "# Agenda\n",
    "\n",
    "* What is Design of Experiments?\n",
    "* Design an experiment with `dexpy` to improve the office coffee\n",
    "* Measure the power of our experiment\n",
    "* Model the taste test results using `statsmodels`\n",
    "* Visualize the data with `seaborn` and `matplotlib` to find the best pot of coffee"
   ]
  },
  {
   "cell_type": "markdown",
   "metadata": {
    "id": "v78mlmrVb299"
   },
   "source": [
    "# What is Design of Experiments (DoE)?\n",
    "\n",
    "A systematic series of tests, in which purposeful changes are made to input factors, so that you may identify causes for significant changes in the output responses.\n",
    "\n",
    "NIST has a [nice primer on DOE](http://www.itl.nist.gov/div898/handbook/pri/section1/pri1.htm)."
   ]
  },
  {
   "cell_type": "code",
   "execution_count": null,
   "metadata": {
    "colab": {
     "base_uri": "https://localhost:8080/",
     "height": 152
    },
    "id": "7T7FTzlFb299",
    "outputId": "84881341-3ee4-4d71-9f3f-bd166cf59be7"
   },
   "outputs": [],
   "source": [
    "dot = Digraph(comment='Design of Experiments')\n",
    "dot.body.extend(['rankdir=LR', 'size=\"10,10\"'])\n",
    "dot.node_attr.update(shape='rectangle', style='filled', fontsize='20', fontname=\"helvetica\")\n",
    "\n",
    "dot.node('X', 'Controllable Factors', color='mediumseagreen', width='3')\n",
    "dot.node('Z', 'Noise Factors', color='indianred2', width='3')\n",
    "dot.node('P', 'Process', color='lightblue', height='1.25', width='3')\n",
    "dot.node('Y', 'Responses', color='lightblue')\n",
    "\n",
    "dot.edges(['XP', 'ZP', 'PY'] * 3)\n",
    "\n",
    "dot"
   ]
  },
  {
   "cell_type": "markdown",
   "metadata": {
    "id": "91A0_e8nb29-"
   },
   "source": [
    "# What Is It For?\n",
    "\n",
    "* Screening Experiments - Determining which inputs to your system are important\n",
    "* Modeling a Process - Gain a better understanding of your system\n",
    "* Optimization - Find the combination of inputs that results in a better output\n",
    "* Robustness - Find a combination of inputs that produces a consistent result"
   ]
  },
  {
   "cell_type": "markdown",
   "metadata": {
    "id": "BniHvFO0b29-",
    "nbpresent": {
     "id": "132443fd-23b6-4758-a074-be108db02fd9"
    }
   },
   "source": [
    "# DoE in Python: dexpy\n",
    "\n",
    "* Based on Design-Expert<sup>&reg;</sup> software, a package for design and analysis of industrial experiments\n",
    "* Apache2 licensed, pure python (for now), available on pypi\n",
    "* Requires `numpy`, `scipy`, `pandas` and `patsy`\n",
    "* Recommend `statsmodels` for analysis, `matplotlib` and `seaborn` for visualization\n",
    "* Other alternatives are:\n",
    " * [pyDOE](https://github.com/tisimst/pyDOE) (not actively maintained)\n",
    " * R [???](https://cran.r-project.org/web/views/ExperimentalDesign.html)\n",
    " * [SciDOE](https://forge.scilab.org/index.php/p/scidoe/)\n",
    " * [gosset](http://neilsloane.com/gosset/)\n",
    " * Proprietary software ($$$) - [Design-Expert](https://www.statease.com), [JMP](https://www.jmp.com), [Minitab](https://www.minitab.com)"
   ]
  },
  {
   "cell_type": "markdown",
   "metadata": {
    "id": "jl84gtxFb29_"
   },
   "source": [
    "# Motivating Example: Better Office Coffee\n",
    "\n",
    " * Current coffee is subpar (\"disgusting and unacceptable\")\n",
    " * Need to answer the following questions via experimentation:\n",
    "  * What coffee wt to use?\n",
    "  * How much coffee to use?\n",
    "  * How to grind the coffee?"
   ]
  },
  {
   "cell_type": "markdown",
   "metadata": {
    "id": "ikR61J3ob29_"
   },
   "source": [
    "# Motivating Example: Better Office Coffee\n",
    "\n",
    " * 5 input factors\n",
    "  * lh of Coffee (2.5 to 4.0 oz.)\n",
    "  * Grind size (8-10mm)\n",
    "  * Brew time (3.5 to 4.5 minutes)\n",
    "  * Grind Type (burr vs blade)\n",
    "  * Coffee wt (light vs dark)\n",
    " * 1 response: Average overall liking by a panel of 5 office coffee addicts\n",
    "  * Each taster rates the coffee from 1-9\n",
    " * Maximum of 3 taste tests a day, for liability reasons\n",
    " "
   ]
  },
  {
   "cell_type": "code",
   "execution_count": null,
   "metadata": {},
   "outputs": [],
   "source": [
    "# Layer Thickness = lh\n",
    "lh_low = .16 \n",
    "lh_hi = .24 \n",
    "\n",
    "# Print Speed = ps\n",
    "ps_low = 50 \n",
    "ps_hi = 60 \n",
    "\n",
    "# Infill Density = id\n",
    "id_low = .25 \n",
    "id_hi = .15 \n",
    "\n",
    "# Raster Width = rw\n",
    "rw_low = .4 \n",
    "rw_hi = .8 \n",
    "\n",
    "# Wall Thicknessv = wt\n",
    "wt_low = 1.2 \n",
    "wt_hi = .8"
   ]
  },
  {
   "cell_type": "code",
   "execution_count": null,
   "metadata": {
    "id": "hrNOki2eb2-A"
   },
   "outputs": [],
   "source": [
    "# set some variables related to the coffee data set\n",
    "actual_lows = { 'lh' : lh_low, 'ps' : ps_low, 'id': id_low, 'rw': rw_low, 'wt': wt_low }\n",
    "actual_highs = { 'lh' : lh_hi, 'ps' : ps_hi, 'id': id_hi, 'rw': rw_hi, 'wt': wt_hi }\n",
    "units = { 'lh' : 'mm', 'ps' : 'mm/s', 'id': '%', 'rw': 'mm', 'wt': 'mm' }"
   ]
  },
  {
   "cell_type": "markdown",
   "metadata": {
    "id": "cGyyf9v_b2-A"
   },
   "source": [
    "# One Factor at a Time Experimentation\n",
    "\n",
    "* Hold all inputs constant, then change one at a time\n",
    "* Cannot detect interactions, e.g. grind size and lh of coffee have a synergistic relationship\n",
    "* Inefficient"
   ]
  },
  {
   "cell_type": "code",
   "execution_count": null,
   "metadata": {
    "colab": {
     "base_uri": "https://localhost:8080/",
     "height": 563
    },
    "id": "Cyue-RSyb2-B",
    "outputId": "99f44635-3bc3-4dff-b529-80f795d31bab"
   },
   "outputs": [],
   "source": [
    "points = [\n",
    "    [-1, -1],\n",
    "    [-1, 1],\n",
    "    [1, -1],\n",
    "    [-1, -1],\n",
    "    [-1, 1],\n",
    "    [1, -1],\n",
    "]\n",
    "df = pd.DataFrame(points, columns=['ps', 'lh'])\n",
    "fg = sns.lmplot('lh', 'ps', data=df, fit_reg=False)\n",
    "\n",
    "p = patches.Polygon(points, color=\"navy\", alpha=0.3, lw=2)\n",
    "ax = fg.axes[0, 0]\n",
    "ax.add_patch(p)\n",
    "ax.set_xticks([-1, 1])\n",
    "ax.set_xticklabels(get_tick_labels('lh', actual_lows, actual_highs, units))\n",
    "ax.set_yticks([-1, 1])\n",
    "ax.set_yticklabels(get_tick_labels('ps', actual_lows, actual_highs, units))\n",
    "\n",
    "p = patches.Polygon([[-1, 1], [1, 1], [1, -1]], color=\"firebrick\", alpha=0.3, lw=2)\n",
    "p = ax.add_patch(p)\n"
   ]
  },
  {
   "cell_type": "code",
   "execution_count": null,
   "metadata": {
    "colab": {
     "base_uri": "https://localhost:8080/",
     "height": 330
    },
    "id": "hBKp4Bp2b2-B",
    "outputId": "62d6c54a-dec0-4e16-9965-f101f02734d8"
   },
   "outputs": [],
   "source": [
    "cube_design = dexpy.factorial.build_factorial(3, 8)\n",
    "\n",
    "points = np.array(cube_design)\n",
    "fig = plt.figure()\n",
    "\n",
    "ax = fig.add_subplot(111, projection='3d', facecolor='w')\n",
    "ax.view_init(30, -60) # rotate plot\n",
    "\n",
    "X, Y = np.meshgrid([-1,1], [-1,1])\n",
    "\n",
    "cube_alpha = 0.1\n",
    "ax.plot_surface(X, Y, np.atleast_2d(1), alpha=cube_alpha, color=\"r\")\n",
    "ax.plot_surface(X, Y, np.atleast_2d(-1), alpha=cube_alpha)\n",
    "ax.plot_surface(X, -1, Y, alpha=cube_alpha)\n",
    "ax.plot_surface(X, 1, Y, alpha=cube_alpha, color=\"r\")\n",
    "ax.plot_surface(1, X, Y, alpha=cube_alpha, color=\"r\")\n",
    "ax.plot_surface(-1, X, Y, alpha=cube_alpha)\n",
    "ax.scatter3D(points[:, 0], points[:, 1], points[:, 2],\n",
    "             c=[\"b\", \"b\", \"b\", \"r\", \"b\", \"r\", \"r\", \"r\"])\n",
    "\n",
    "ax.set_xticks([-1, 1])\n",
    "ax.set_xticklabels(get_tick_labels('ps', actual_lows, actual_highs, units))\n",
    "ax.set_yticks([-1, 1])\n",
    "ax.set_yticklabels(get_tick_labels('lh', actual_lows, actual_highs, units))\n",
    "ax.set_zticks([-1, 1])\n",
    "ax.set_zticklabels(get_tick_labels('wt', actual_lows, actual_highs, units))\n",
    "\n",
    "plt.show()"
   ]
  },
  {
   "cell_type": "markdown",
   "metadata": {
    "id": "XP9enaAsb2-C"
   },
   "source": [
    "# Factorial Design\n",
    "\n",
    "* Change multiple inputs at once\n",
    "* Reveals interactions\n",
    "* Maximizes information with minimum runs"
   ]
  },
  {
   "cell_type": "code",
   "execution_count": null,
   "metadata": {
    "colab": {
     "base_uri": "https://localhost:8080/",
     "height": 563
    },
    "id": "dreikUS6b2-C",
    "outputId": "17f24951-6998-4722-f4ba-9f9461cf7f8c"
   },
   "outputs": [],
   "source": [
    "df = dexpy.factorial.build_factorial(2, 4)\n",
    "df.columns = ['lh', 'ps']\n",
    "\n",
    "fg = sns.lmplot('lh', 'ps', data=df, fit_reg=False)\n",
    "ax = fg.axes[0, 0]\n",
    "ax.set_xticks([-1, 1])\n",
    "ax.set_xticklabels(get_tick_labels('lh', actual_lows, actual_highs, units))\n",
    "ax.set_yticks([-1, 1])\n",
    "ax.set_yticklabels(get_tick_labels('ps', actual_lows, actual_highs, units))\n",
    "p = ax.add_patch(patches.Rectangle((-1, -1), 2, 2, color=\"navy\", alpha=0.3, lw=2))"
   ]
  },
  {
   "cell_type": "code",
   "execution_count": null,
   "metadata": {
    "colab": {
     "base_uri": "https://localhost:8080/",
     "height": 330
    },
    "id": "9ml9mOpvb2-D",
    "outputId": "8eb0c1d7-8750-437d-a7a2-4e62b66b6291"
   },
   "outputs": [],
   "source": [
    "cube_design = dexpy.factorial.build_factorial(3, 8)\n",
    "\n",
    "points = np.array(cube_design)\n",
    "fig = plt.figure()\n",
    "\n",
    "ax = fig.add_subplot(111, projection='3d', facecolor='w')\n",
    "ax.view_init(30, -60) # rotate plot\n",
    "\n",
    "X, Y = np.meshgrid([-1,1], [-1,1])\n",
    "\n",
    "cube_alpha = 0.1\n",
    "ax.plot_surface(X, Y, np.atleast_2d(1), alpha=cube_alpha)\n",
    "ax.plot_surface(X, Y, np.atleast_2d(-1), alpha=cube_alpha)\n",
    "ax.plot_surface(X, -1, Y, alpha=cube_alpha)\n",
    "ax.plot_surface(X, 1, Y, alpha=cube_alpha)\n",
    "ax.plot_surface(1, X, Y, alpha=cube_alpha)\n",
    "ax.plot_surface(-1, X, Y, alpha=cube_alpha)\n",
    "ax.scatter3D(points[:, 0], points[:, 1], points[:, 2], c=\"b\")\n",
    "\n",
    "ax.set_xticks([-1, 1])\n",
    "ax.set_xticklabels([\"50mm\", \"60mm\"])\n",
    "ax.set_yticks([-1, 1])\n",
    "ax.set_yticklabels([\".15\", \".2\"])\n",
    "ax.set_zticks([-1, 1])\n",
    "ax.set_zticklabels([\"1.2mm\", \".8mm\"])\n",
    "\n",
    "plt.show()"
   ]
  },
  {
   "cell_type": "markdown",
   "metadata": {
    "id": "Fi5u-Vwzb2-D"
   },
   "source": [
    "# Statistical Power\n",
    "\n",
    "The probability that a design will detect an active effect.\n",
    "\n",
    "| Effect?       | Retain H<sub>0</sub>   | Reject H<sub>0</sub>    |\n",
    "| ------------- |:-----------------------| -----------------------:|\n",
    "| **No**        | OK                     | Type 1 Error            |\n",
    "| **Yes**       | Type II Error          | OK                      |\n",
    "\n",
    "Power is expressed as a probability to detect an effect of size Δ, given noise σ. This is typically given as a delta to sigma ratio Δ/σ. Power is a function of the signal to noise ratio, as well as the number and layout of experiments in the design."
   ]
  },
  {
   "cell_type": "code",
   "execution_count": null,
   "metadata": {
    "colab": {
     "base_uri": "https://localhost:8080/",
     "height": 495
    },
    "id": "R4VvGigib2-E",
    "outputId": "55b57863-d7d9-4504-e5bd-1b318d62b5c1"
   },
   "outputs": [],
   "source": [
    "runs = 50\n",
    "delta = 0.5\n",
    "sigma = 1.5\n",
    "alpha = 0.05\n",
    "\n",
    "one_factor = pd.DataFrame([ -1, 1 ] * runs, columns=['wt'])\n",
    "one_factor_power = dexpy.power.f_power('wt', one_factor, delta/sigma, alpha)\n",
    "\n",
    "display(Markdown('''\n",
    "# Power Example\n",
    "{} pots of coffee are tested with light wt, then {} pots with dark wt.\n",
    "There is a variance of {} taste rating from pot to pot. If we expect a {} change\n",
    "in the taste rating when going from light to dark, what is the likelihood we would detect it?\n",
    "(Answer: **{:.2f}%**)\n",
    "\n",
    "Note: this assumes that we reject H<sub>0</sub> at p <= {}\n",
    "'''.format(int(runs / 2), int(runs / 2), sigma, delta, one_factor_power[1]*100, alpha)\n",
    "))\n",
    "\n",
    "def plot_shift(runs, delta, sigma, annotate=False):\n",
    "    \"\"\"Plots two sets of random normal data, one shifted up delta units.\"\"\"\n",
    "    mean = 5\n",
    "    low = sigma*np.random.randn(int(runs/2),1)+mean\n",
    "    high = sigma*np.random.randn(int(runs/2),1)+mean+delta\n",
    "    fig = plt.figure()\n",
    "    ax = fig.add_subplot(111)\n",
    "    ax.set_ylabel(\"taste\")\n",
    "    ax.set_xlabel(\"runs\")\n",
    "    ax.set_ylim([0, 11])\n",
    "    \n",
    "    plt.plot(np.concatenate([low, high]))\n",
    "    plt.plot([0, (runs/2)], [low.mean()] * 2, color='firebrick', lw=2)\n",
    "    plt.plot([(runs/2), runs-1], [high.mean()] * 2, color='g', lw=2)\n",
    "    \n",
    "    p_value = scipy.stats.f_oneway(low, high).pvalue[0]\n",
    "    if annotate:\n",
    "        plt.annotate(\"p: {:.5f}\".format(p_value),\n",
    "                     xy=(runs / 2, (low.mean() + high.mean()) / 2), xycoords='data',\n",
    "                     xytext=(.8, .9), textcoords='axes fraction',\n",
    "                     bbox=dict(boxstyle=\"round4\", fc=\"w\"),\n",
    "                     arrowprops=dict(arrowstyle='-[', linewidth=2, color='black', connectionstyle=\"angle3\")\n",
    "                     )\n",
    "\n",
    "    plt.show()\n",
    "    return [low, high]\n",
    "\n",
    "low, high = plot_shift(runs, delta, sigma)"
   ]
  },
  {
   "cell_type": "code",
   "execution_count": null,
   "metadata": {
    "colab": {
     "base_uri": "https://localhost:8080/",
     "height": 469
    },
    "id": "LmsxXJlKb2-F",
    "outputId": "f3a7eded-bee0-49db-9b05-55117843ea95"
   },
   "outputs": [],
   "source": [
    "increased_delta = delta*4\n",
    "increased_delta_power = dexpy.power.f_power('wt', one_factor, increased_delta/sigma, alpha)\n",
    "\n",
    "display(Markdown('''\n",
    "# Power Example - Increase Delta\n",
    "What if we don't care about a taste increase of 0.5? That's not that much better\n",
    "than the current coffee, after all. Instead, if we say we only care about a change\n",
    "in rating above {}, what is the likelihood we would detect such a change?\n",
    "(Answer: **{:.5f}%**)\n",
    "'''.format(increased_delta, increased_delta_power[1]*100)\n",
    "))\n",
    "\n",
    "_ = plot_shift(runs, increased_delta, sigma)"
   ]
  },
  {
   "cell_type": "code",
   "execution_count": null,
   "metadata": {
    "colab": {
     "base_uri": "https://localhost:8080/",
     "height": 469
    },
    "id": "Lo_Z5-zFb2-F",
    "outputId": "ce167e71-e884-4f7d-9bb8-36bc5569da45"
   },
   "outputs": [],
   "source": [
    "decreased_sigma = sigma*0.5\n",
    "decreased_sigma_power = dexpy.power.f_power('wt', one_factor, delta/decreased_sigma, alpha)\n",
    "\n",
    "display(Markdown('''\n",
    "# Power Example - Decrease Noise\n",
    "Instead of lowering our standards for our noisy taste ratings, instead\n",
    "we could bring in expert testers who have a much more accurate palate.\n",
    "If we assume a decrease in noise from {} to {}, then we can detect a\n",
    "change in rating of {} with {:.2f}% probability.\n",
    "'''.format(sigma, decreased_sigma, delta, decreased_sigma_power[1]*100)\n",
    "))\n",
    "\n",
    "_ = plot_shift(runs, delta, sigma*0.1)"
   ]
  },
  {
   "cell_type": "code",
   "execution_count": null,
   "metadata": {
    "colab": {
     "base_uri": "https://localhost:8080/",
     "height": 509
    },
    "id": "u2P3cu3Rb2-G",
    "outputId": "95304472-d64d-4254-e942-d372630565c6"
   },
   "outputs": [],
   "source": [
    "increased_runs = runs * 4\n",
    "one_factor = pd.DataFrame([ -1, 1 ] * increased_runs, columns=['wt'])\n",
    "increased_runs_power = dexpy.power.f_power('wt', one_factor, delta/sigma, alpha)\n",
    "\n",
    "display(Markdown('''\n",
    "# Power Example - Increase Runs\n",
    "If expert testers are too expensive, and we are unwilling to compromise\n",
    "our standards, then the only remaining option is to create a more powerful\n",
    "design. In this toy example, there isn't much we can do, since it's\n",
    "just one factor. Increasing the runs from {} to {} gives a power of\n",
    "{:.2f}%. This may be a more acceptable success rate than the original power\n",
    "of {:.2f}%, however... that is a lot of coffee to drink.\n",
    "\n",
    "For more complicated designs changing the structure of the design\n",
    "can also increase power.\n",
    "'''.format(runs, increased_runs, increased_runs_power[1]*100, one_factor_power[1]*100)\n",
    "))\n",
    "_ = plot_shift(increased_runs, delta, sigma)"
   ]
  },
  {
   "cell_type": "markdown",
   "metadata": {
    "id": "K_o_53qBb2-G"
   },
   "source": [
    "# Calculating Power with dexpy\n",
    "\n",
    "https://statease.github.io/dexpy/evaluation.html#statistical-power"
   ]
  },
  {
   "cell_type": "code",
   "execution_count": null,
   "metadata": {
    "colab": {
     "base_uri": "https://localhost:8080/"
    },
    "id": "TRmQoVnPb2-G",
    "outputId": "7a7f241d-0b14-44d1-8650-93211adf1f90"
   },
   "outputs": [],
   "source": [
    "help(dexpy.power.f_power)"
   ]
  },
  {
   "cell_type": "code",
   "execution_count": null,
   "metadata": {
    "colab": {
     "base_uri": "https://localhost:8080/",
     "height": 244
    },
    "id": "2gyXWJtTb2-H",
    "nbpresent": {
     "id": "afc624d6-8a65-4880-bef4-5d2f77dc8cb2"
    },
    "outputId": "5ba8c584-1d74-4053-8241-07bc10fbf122"
   },
   "outputs": [],
   "source": [
    "base_point = [-1, -1, -1, -1, -1]\n",
    "ofat_points = [base_point]\n",
    "\n",
    "for i in range(0, 5):\n",
    "    new_point = base_point[:]\n",
    "    new_point[i] = 1\n",
    "    ofat_points.append(new_point)\n",
    "\n",
    "sn = 2.0\n",
    "alpha = 0.05\n",
    "\n",
    "ofat_df = pd.DataFrame(ofat_points*5, columns=['lh', 'ps', 'id', 'rw', 'wt'])\n",
    "model = ' + '.join(ofat_df.columns)\n",
    "ofat_power = dexpy.power.f_power('+'.join(ofat_df.columns), ofat_df, sn, alpha)\n",
    "ofat_power.pop(0) # remove intercept\n",
    "ofat_power = ['{0:.2f}%'.format(i*100) for i in ofat_power] # convert to %\n",
    "ofat_power = pd.DataFrame(ofat_power, columns=['Power'], index=ofat_df.columns)\n",
    "\n",
    "display(Markdown('''\n",
    "# Calculating Power with dexpy: OFAT\n",
    "* {} total runs, with a signal to noise ratio of 2.\n",
    "* Model: `{}`\n",
    "'''.format(len(ofat_df), model)))\n",
    "\n",
    "display(PrettyPandas(ofat_power))"
   ]
  },
  {
   "cell_type": "code",
   "execution_count": null,
   "metadata": {
    "colab": {
     "base_uri": "https://localhost:8080/",
     "height": 244
    },
    "id": "Xim1mVf3b2-H",
    "outputId": "a0e056b8-cecb-4de6-95eb-d0f456f94747"
   },
   "outputs": [],
   "source": [
    "full_design = dexpy.factorial.build_factorial(5, 2**5)\n",
    "full_design.columns = ['lh', 'ps', 'id', 'rw', 'wt']\n",
    "factorial_power = dexpy.power.f_power(model, full_design, sn, alpha)\n",
    "factorial_power.pop(0)\n",
    "factorial_power = ['{0:.2f}%'.format(i*100) for i in factorial_power] # convert to %\n",
    "factorial_power = pd.DataFrame(factorial_power, columns=['Power'], index=full_design.columns)\n",
    "\n",
    "display(Markdown('''\n",
    "# Calculating Power with dexpy: Factorial\n",
    "* {} total runs, with a signal to noise ratio of 2.\n",
    "* Model (`patsy` for: `{}`\n",
    "'''.format(len(full_design), model)))\n",
    "display(PrettyPandas(factorial_power))"
   ]
  },
  {
   "cell_type": "markdown",
   "metadata": {
    "id": "vDlL6bLWb2-H"
   },
   "source": [
    "# Fractional Factorials\n",
    "\n",
    "* Coffee experiment is 2<sup>5</sup> runs (32)\n",
    "* We want to add 4 center point runs to check for curvature\n",
    "* Total runs = 36, 3 per day if all testers are in the office\n",
    "* Estimate experiment will take a month"
   ]
  },
  {
   "cell_type": "markdown",
   "metadata": {
    "id": "v0HLrrvyb2-I"
   },
   "source": [
    "# Fractional Factorials\n",
    "* Power for the experiment is > 99%\n",
    "* Full factorial is overkill\n",
    "* Instead run 2<sup>5-1</sup> experiments, a \"half fraction\"\n"
   ]
  },
  {
   "cell_type": "markdown",
   "metadata": {
    "id": "mcbf6qp3b2-I"
   },
   "source": [
    "# Fractional Factorials in dexpy\n",
    "\n",
    "https://statease.github.io/dexpy/design-build.html#module-dexpy.factorial"
   ]
  },
  {
   "cell_type": "code",
   "execution_count": null,
   "metadata": {
    "colab": {
     "base_uri": "https://localhost:8080/"
    },
    "id": "c-PISX1Fb2-I",
    "outputId": "c4f45af1-f8e2-4d85-ea01-de23e5b4db41"
   },
   "outputs": [],
   "source": [
    "help(dexpy.factorial.build_factorial)"
   ]
  },
  {
   "cell_type": "code",
   "execution_count": null,
   "metadata": {
    "colab": {
     "base_uri": "https://localhost:8080/",
     "height": 595
    },
    "id": "R-OhmLD6b2-J",
    "outputId": "0b254cb0-57b2-45e6-c346-63eef7db7e10"
   },
   "outputs": [],
   "source": [
    "\n",
    "\n",
    "# cr6_print_history = dexpy.factorial.build_factorial(5, 2**(5-1))\n",
    "# cr6_print_history.columns = ['lh', 'ps', 'id', 'rw', 'wt']\n",
    "center_points = [\n",
    "]\n",
    "\n",
    "columns = ['trial', 'lh', 'ps', 'id', 'rw', 'wt', 'cost', 'time', 'quality', 'comment']\n",
    "\n",
    "cr6_print_history = pd.read_csv('file:///Users/wilsonm/Dropbox%20(APSU%20GIS)/Projects%20(DB)/Dissertation/3DP_Experiments/Data/cr6-doe-schedule.csv', skiprows=1, names=columns)\n",
    "\n",
    "#cr6_print_history = cr6_print_history.append(pd.DataFrame(center_points * 2, columns=cr6_print_history.columns))\n",
    "cr6_print_history.index = np.arange(0, len(cr6_print_history))\n",
    "\n",
    "display(Markdown(\"## 2<sup>(5-1)</sup> Factorial Design\"))\n",
    "display(PrettyPandas(cr6_print_history))\n",
    "\n",
    "actual_design = coded_to_actual(cr6_print_history, actual_lows, actual_highs)\n",
    "cr6_print_actual = actual_design\n",
    "display(Markdown(\"Actual ## 2<sup>(5-1)</sup> Factorial Design\"))\n",
    "display(PrettyPandas(actual_design))"
   ]
  },
  {
   "cell_type": "code",
   "execution_count": null,
   "metadata": {},
   "outputs": [],
   "source": [
    "# Transform DOE Schedule CSV dataframe to only include parameters\n",
    "\n",
    "myDoE = cr6_print_history[['lh', 'ps', 'id', 'rw', 'wt']]\n",
    "myDoE2 = cr6_print_actual[['lh', 'ps', 'id', 'rw', 'wt']]"
   ]
  },
  {
   "cell_type": "code",
   "execution_count": null,
   "metadata": {},
   "outputs": [],
   "source": [
    "model = ' + '.join(myDoE.columns)\n",
    "factorial_power = dexpy.power.f_power(model, myDoE, sn, alpha)\n",
    "factorial_power.pop(0)\n",
    "factorial_power = ['{0:.2f}%'.format(i*100) for i in factorial_power] # convert to %\n",
    "factorial_power = pd.DataFrame(factorial_power, columns=['Power'], index=myDoE.columns)\n",
    "\n",
    "display(Markdown('''\n",
    "## 2<sup>(5-1)</sup> Factorial Power\n",
    "* Power for {} total runs\n",
    "* Signal to noise ratio of 2\n",
    "* Model: `{}`\n",
    "'''.format(len(myDoE), model)))\n",
    "display(PrettyPandas(factorial_power))"
   ]
  },
  {
   "cell_type": "code",
   "execution_count": null,
   "metadata": {},
   "outputs": [],
   "source": [
    "help(dexpy.power.f_power)"
   ]
  },
  {
   "cell_type": "code",
   "execution_count": null,
   "metadata": {
    "colab": {
     "base_uri": "https://localhost:8080/",
     "height": 507
    },
    "id": "zCwa1BX6b2-J",
    "outputId": "37fa56cd-7fbe-4ec0-ae17-b7f05168b9fa"
   },
   "outputs": [],
   "source": [
    "twofi_model = \"(\" + '+'.join(myDoE.columns) + \")**2\"\n",
    "desc = patsy.ModelDesc.from_formula(twofi_model)\n",
    "factorial_power = dexpy.power.f_power(twofi_model, myDoE, sn, alpha)\n",
    "\n",
    "\n",
    "factorial_power.pop(0)\n",
    "factorial_power = ['{0:.2f}%'.format(i*100) for i in factorial_power] # convert to %\n",
    "factorial_power = pd.DataFrame(factorial_power, columns=['Power'], index=desc.describe().strip(\"~ \").split(\" + \"))\n",
    "\n",
    "display(Markdown('''\n",
    "## 2<sup>(5-1)</sup> Factorial Power\n",
    "* Power for {} total runs\n",
    "* Signal to noise ratio of 2\n",
    "* Model: `{}`\n",
    "'''.format(len(myDoE), twofi_model)))\n",
    "display(Markdown(\"## Power for {} total runs, with a signal to noise ratio of 2.\".format(len(myDoE))))\n",
    "display(PrettyPandas(factorial_power))"
   ]
  },
  {
   "cell_type": "code",
   "execution_count": null,
   "metadata": {
    "colab": {
     "base_uri": "https://localhost:8080/",
     "height": 290
    },
    "id": "GBTKdtO0b2-K",
    "outputId": "329592bb-4a93-4671-fd8c-cc2742f62ffe"
   },
   "outputs": [],
   "source": [
    "display(Markdown('''\n",
    "# Aliasing\n",
    "\n",
    "When you don't run all combinations of inputs, you lose the ability to estimate terms\n",
    "For example, if you have three inputs the full model matrix looks like this:\n",
    "'''))\n",
    "\n",
    "three_factor_design = dexpy.factorial.build_factorial(3, 8)\n",
    "X = patsy.dmatrix(\"(\" + \" + \".join(three_factor_design.columns) + \")**3\", three_factor_design, return_type='dataframe')\n",
    "display(PrettyPandas(X))\n"
   ]
  },
  {
   "cell_type": "code",
   "execution_count": null,
   "metadata": {
    "colab": {
     "base_uri": "https://localhost:8080/",
     "height": 330
    },
    "id": "Xevauhh7b2-K",
    "outputId": "a04d3bd7-02a9-4880-ebdf-cf37e50c3652"
   },
   "outputs": [],
   "source": [
    "display(Markdown('''\n",
    "## Aliasing\n",
    "\n",
    "If we remove half the runs, so that the design is 2<sup>3-1</sup>:\n",
    "'''))\n",
    "\n",
    "X.loc[[0,3,5,6]] = ''\n",
    "display(PrettyPandas(X))\n",
    "      \n",
    "display(Markdown('''\n",
    "You can see that A*B*C never changes. In addition, A = BC and B = AC.\n",
    "When a term is a linear combination of another term that is called an **alias**. Aliased terms are unestimable.\n",
    "'''))"
   ]
  },
  {
   "cell_type": "markdown",
   "metadata": {
    "id": "2JSNPQR_b2-K"
   },
   "source": [
    "## Calculating Aliases in dexpy\n",
    "\n",
    "dexpy can calculate the terms that are linear combinations of other terms.\n",
    "\n",
    "https://statease.github.io/dexpy/evaluation.html#alias-list"
   ]
  },
  {
   "cell_type": "code",
   "execution_count": null,
   "metadata": {
    "colab": {
     "base_uri": "https://localhost:8080/"
    },
    "id": "v7CX_ILhb2-L",
    "outputId": "3577b31a-419c-4670-ee6c-93c9b9b327ef"
   },
   "outputs": [],
   "source": [
    "help(dexpy.alias.alias_list)"
   ]
  },
  {
   "cell_type": "markdown",
   "metadata": {},
   "source": [
    "### Cost Calculating Aliases in dexpy"
   ]
  },
  {
   "cell_type": "code",
   "execution_count": null,
   "metadata": {},
   "outputs": [],
   "source": [
    "cr6_alias = cr6_print_history[['lh', 'ps', 'id', 'rw', 'wt']]"
   ]
  },
  {
   "cell_type": "code",
   "execution_count": null,
   "metadata": {
    "colab": {
     "base_uri": "https://localhost:8080/",
     "height": 339
    },
    "id": "RxBh-Ydqb2-L",
    "outputId": "e7039825-30ad-4530-ce42-28d475d60d30"
   },
   "outputs": [],
   "source": [
    "display(Markdown('''\n",
    "## Calculating Aliases in dexpy\n",
    "\n",
    "Here is what that alias list looks like for our 3DP Experiment:\n",
    "'''))\n",
    "    \n",
    "full_model = \"(\" + '+'.join(cr6_alias.columns) + \")**3\"\n",
    "aliases, _ = dexpy.alias.alias_list(full_model, cr6_alias)\n",
    "for a in aliases:\n",
    "    print(a)\n",
    "    \n",
    "display(Markdown('''\n",
    "As you can see, we lose the ability to estimate some three factor interactions separately from the two factor interactions.\n",
    "This is not a cause for great concern as the three factor interactions are rare in practice.\n",
    "'''))"
   ]
  },
  {
   "cell_type": "markdown",
   "metadata": {
    "id": "iu_iv78Lb2-L"
   },
   "source": [
    "# Analysis\n",
    "\n",
    "* [statsmodels](http://statsmodels.sourceforge.net/) has lots of routines for modeling data\n",
    "* We will use [Ordinary Least Squares (OLS)](http://statsmodels.sourceforge.net/devel/examples/notebooks/generated/ols.html) to fit\n",
    "* `statsmodels` typically takes `numpy` arrays for X and y data\n",
    "* It also has a \"formulas\" api that accepts a `patsy` formula"
   ]
  },
  {
   "cell_type": "markdown",
   "metadata": {},
   "source": [
    "## Cost Analysis"
   ]
  },
  {
   "cell_type": "code",
   "execution_count": null,
   "metadata": {},
   "outputs": [],
   "source": [
    "cr6_cost_analysis = cr6_print_history[['lh', 'ps', 'id', 'rw', 'wt', 'cost']]\n",
    "cr6_cost_analysis2 = cr6_print_actual[['lh', 'ps', 'id', 'rw', 'wt', 'cost']]\n",
    "display(cr6_cost_analysis2)"
   ]
  },
  {
   "cell_type": "code",
   "execution_count": null,
   "metadata": {},
   "outputs": [],
   "source": [
    "y_cost = cr6_cost_analysis['cost']\n",
    "X = cr6_cost_analysis[['lh', 'ps', 'id', 'rw', 'wt']]\n",
    "\n",
    "## An intercept is not added by default, so we need to add that here\n",
    "X = sm.add_constant(X)\n",
    "cost_results = sm.OLS(y_cost, X).fit()\n",
    "cost_results.summary()\n",
    "\n",
    "print(cost_results.summary())"
   ]
  },
  {
   "cell_type": "code",
   "execution_count": null,
   "metadata": {},
   "outputs": [],
   "source": [
    "PlotWidth = 6\n",
    "plt.figure(figsize=(PlotWidth, PlotWidth))\n",
    "sns.regplot(x=cost_results.predict(X), y=y_cost)\n",
    "plt.xlabel('Predicted %Conversion')\n",
    "plt.ylabel('Actual %Conversion')\n",
    "plt.title('Actual vs. Predicted %Conversion')\n",
    "plt.show()"
   ]
  },
  {
   "cell_type": "code",
   "execution_count": null,
   "metadata": {},
   "outputs": [],
   "source": [
    "display(cr6_cost_analysis)"
   ]
  },
  {
   "cell_type": "code",
   "execution_count": null,
   "metadata": {
    "colab": {
     "base_uri": "https://localhost:8080/"
    },
    "id": "XdO0v7h7b2-M",
    "outputId": "faa5df71-f9b6-4c91-e410-6bde3f4846eb"
   },
   "outputs": [],
   "source": [
    "# Working Models\n",
    "# quantreg\n",
    "# poisson\n",
    "# \n",
    "\n",
    "lm = statsmodels.formula.api.ols(\"cost ~(lh + ps + id + rw + wt)**2\", data=cr6_cost_analysis).fit()\n",
    "print(lm.summary())\n",
    "\n"
   ]
  },
  {
   "cell_type": "code",
   "execution_count": null,
   "metadata": {
    "colab": {
     "base_uri": "https://localhost:8080/"
    },
    "id": "WHrYd7tdb2-M",
    "outputId": "8f309386-8f22-4ef6-c0cc-78efad954c42"
   },
   "outputs": [],
   "source": [
    "reduced_model = \"lh + ps + id + rw + wt + lh:wt + ps:id + ps:rw\"\n",
    "lm = statsmodels.formula.api.ols(\"cost ~\" + reduced_model, data=cr6_cost_analysis).fit()\n",
    "print(lm.summary2())"
   ]
  },
  {
   "cell_type": "markdown",
   "metadata": {
    "id": "MXUklkGWb2-M"
   },
   "source": [
    "# Visualization\n",
    "\n",
    "* [seaborn](http://seaborn.pydata.org/) is built on top of `matplotlib` and adds support for `pandas` dataframes \n",
    "* Can build a plot using `seaborn`, then manipulate it with `matplotlib`\n",
    "* Default themes look a lot nicer than what you get from `matplotlib` out of the box"
   ]
  },
  {
   "cell_type": "code",
   "execution_count": null,
   "metadata": {
    "colab": {
     "base_uri": "https://localhost:8080/",
     "height": 608
    },
    "id": "O_24hZN9b2-M",
    "outputId": "ba520822-056f-4dbf-c12d-ab22e2153802"
   },
   "outputs": [],
   "source": [
    "display(Markdown('''\n",
    "If we take the experiment data from the design and use our new model to fit that data, then plot it against\n",
    "the observed values we can get an idea for how well our model predicts. Points above the 45 degree line are\n",
    "overpredicting for that combination of inputs. Points below the line predict a lower taste rating than\n",
    "we actually measured during the experiment.'''))\n",
    "\n",
    "actual_predicted = pd.DataFrame({ 'actual': cr6_print_history['cost'],\n",
    "                                  'predicted': lm.fittedvalues\n",
    "                                }, index=np.arange(len(cr6_cost_analysis['cost'])))\n",
    "fg = sns.FacetGrid(actual_predicted, height=5)\n",
    "fg.map(plt.scatter, 'actual', 'predicted')\n",
    "ax = fg.axes[0, 0]\n",
    "ax.plot([0, 1], [0, 1], color='g', lw=2)\n",
    "ax.set_xticks(np.arange(0, 1.5))\n",
    "ax.set_xlim([0, 1.])\n",
    "ax.set_yticks(np.arange(0, 1))\n",
    "ax.set_title('Actual vs Predicted')\n",
    "_ = ax.set_ylim([0, 1])"
   ]
  },
  {
   "cell_type": "code",
   "execution_count": null,
   "metadata": {
    "colab": {
     "base_uri": "https://localhost:8080/",
     "height": 664
    },
    "id": "XJOhrMxDb2-N",
    "outputId": "691aef35-3e1b-4799-f541-2d6f5087a3fd"
   },
   "outputs": [],
   "source": [
    "display(Markdown('''\n",
    "Plotting the prediction for two factors at once shows how they interact with each other.\n",
    "In this graph you can see that at the low brew time the larger grind size results in\n",
    "a poor taste rating, likely because the coffee is too weak.'''))\n",
    "\n",
    "pred_points = pd.DataFrame(1, columns = cr6_cost_analysis.columns, index=np.arange(4))\n",
    "pred_points.loc[1,'ps'] = -1\n",
    "pred_points.loc[3,'ps'] = -1\n",
    "pred_points.loc[2,'id'] = -1\n",
    "pred_points.loc[3,'id'] = -1\n",
    "pred_points['cost'] = lm.predict(pred_points)\n",
    "pred_points = coded_to_actual(pred_points, actual_lows, actual_highs)\n",
    "\n",
    "fg = sns.factorplot('ps', 'cost', hue='id', kind='point', data=pred_points)\n",
    "ax = fg.axes[0, 0]\n",
    "ax.set_xticklabels(get_tick_labels('ps', actual_lows, actual_highs, units))\n",
    "_ = ax.set_title('Print Speed/Infill Density')"
   ]
  },
  {
   "cell_type": "code",
   "execution_count": null,
   "metadata": {
    "colab": {
     "base_uri": "https://localhost:8080/",
     "height": 799
    },
    "id": "ocRvTfa7b2-N",
    "outputId": "00fb875a-425f-4f6a-e290-8accd6358f1a"
   },
   "outputs": [],
   "source": [
    "display(Markdown('''\n",
    "This graph contains the prediction with the highest taste rating, 7.72.\n",
    "However, if you look at the dark bean line there is a point where we can get\n",
    "a rating of 6.93 with 2.5oz of grounds.\n",
    "'''))\n",
    "\n",
    "pred_points = pd.DataFrame(1, columns = cr6_cost_analysis.columns, index=np.arange(4))\n",
    "pred_points.loc[1,'lh'] = -1\n",
    "pred_points.loc[3,'lh'] = -1\n",
    "pred_points.loc[2,'wt'] = -1\n",
    "pred_points.loc[3,'wt'] = -1\n",
    "pred_points['cost'] = lm.predict(pred_points)\n",
    "pred_points = coded_to_actual(pred_points, actual_lows, actual_highs)\n",
    "\n",
    "fg = sns.factorplot('lh', 'cost', hue='wt', kind='point', palette={'dark': 'maroon', 'light': 'peru'}, data=pred_points)\n",
    "ax = fg.axes[0, 0]\n",
    "ax.set_xticklabels(get_tick_labels('lh', actual_lows, actual_highs, units))\n",
    "ax.set_title('lh/wt Interaction')\n",
    "plt.show()\n",
    "\n",
    "display(PrettyPandas(pred_points))\n",
    "display(Markdown('''That savings of 1.5oz per pot would create a nice surplus in the coffee budget at the end of the year.'''))"
   ]
  },
  {
   "cell_type": "markdown",
   "metadata": {
    "id": "hMmfPFt3b2-O"
   },
   "source": [
    "![coffeemaker](img/coffee_maker.jpg)"
   ]
  },
  {
   "cell_type": "markdown",
   "metadata": {
    "id": "ujzuvtXeb2-O"
   },
   "source": [
    "# The End\n",
    "\n",
    "* We were able to build and execute an experiment in Python that resulted in a better tasting (and cheaper!) coffee.\n",
    "* These slides can be found at https://hpanderson.github.io/dexpy-pymntos\n",
    "* The jupyter notebook they are based on can be found on my github: https://github.com/hpanderson/dexpy-pymntos\n",
    "* You can reach me at: <hank@statease.com>\n",
    "* The `dexpy` docs are at: https://statease.github.io/dexpy/\n",
    "* `dexpy` is only at version 0.1, we plan on greatly expanding the design and analysis capabilities\n",
    " "
   ]
  }
 ],
 "metadata": {
  "anaconda-cloud": {},
  "celltoolbar": "Slideshow",
  "colab": {
   "collapsed_sections": [],
   "name": "dexpy-demo.ipynb",
   "provenance": []
  },
  "kernelspec": {
   "display_name": "Python 3",
   "language": "python",
   "name": "python3"
  },
  "language_info": {
   "codemirror_mode": {
    "name": "ipython",
    "version": 3
   },
   "file_extension": ".py",
   "mimetype": "text/x-python",
   "name": "python",
   "nbconvert_exporter": "python",
   "pygments_lexer": "ipython3",
   "version": "3.8.5"
  },
  "nbpresent": {
   "slides": {
    "69ca5852-a257-4b32-a164-46fd17e89d5d": {
     "id": "69ca5852-a257-4b32-a164-46fd17e89d5d",
     "layout": "grid",
     "prev": "7af1a671-4249-4e3e-ad27-77e10146d8c3",
     "regions": {
      "08479882-590c-4dcd-97e0-6461b2662cc7": {
       "attrs": {
        "height": 0.4166666666666667,
        "pad": 0.01,
        "width": 0.8333333333333334,
        "x": 0.08333333333333333,
        "y": 0.5
       },
       "content": {
        "cell": "afc624d6-8a65-4880-bef4-5d2f77dc8cb2",
        "part": "outputs"
       },
       "id": "08479882-590c-4dcd-97e0-6461b2662cc7"
      },
      "281a2605-2b2f-4c5a-8454-f2f478b60461": {
       "attrs": {
        "height": 0.4166666666666667,
        "pad": 0.01,
        "width": 0.8333333333333334,
        "x": 0.08333333333333333,
        "y": 0.08333333333333333
       },
       "content": {
        "cell": "afc624d6-8a65-4880-bef4-5d2f77dc8cb2",
        "part": "source"
       },
       "id": "281a2605-2b2f-4c5a-8454-f2f478b60461"
      }
     },
     "theme": null
    },
    "7af1a671-4249-4e3e-ad27-77e10146d8c3": {
     "id": "7af1a671-4249-4e3e-ad27-77e10146d8c3",
     "prev": null,
     "regions": {
      "0e6b4598-b189-48a7-9e0e-43beda6fa796": {
       "attrs": {
        "height": 0.2,
        "width": 0.4,
        "x": 0.1,
        "y": 0.7
       },
       "content": {
        "cell": "afc624d6-8a65-4880-bef4-5d2f77dc8cb2",
        "part": "source"
       },
       "id": "0e6b4598-b189-48a7-9e0e-43beda6fa796"
      },
      "3d5a9d45-6ebb-4aff-b393-77b42fe7a9d5": {
       "attrs": {
        "height": 0.6,
        "width": 0.8,
        "x": 0.1,
        "y": 0.1
       },
       "content": {
        "cell": "132443fd-23b6-4758-a074-be108db02fd9",
        "part": "source"
       },
       "id": "3d5a9d45-6ebb-4aff-b393-77b42fe7a9d5"
      },
      "d44fc3d2-a017-47e8-87d9-dc52608832d5": {
       "attrs": {
        "height": 0.2,
        "width": 0.4,
        "x": 0.5,
        "y": 0.7
       },
       "content": {
        "cell": "afc624d6-8a65-4880-bef4-5d2f77dc8cb2",
        "part": "outputs"
       },
       "id": "d44fc3d2-a017-47e8-87d9-dc52608832d5"
      }
     }
    }
   },
   "themes": {}
  }
 },
 "nbformat": 4,
 "nbformat_minor": 4
}
