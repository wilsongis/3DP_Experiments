{
 "cells": [
  {
   "cell_type": "markdown",
   "metadata": {},
   "source": [
    "# CR6 Results Analysis"
   ]
  },
  {
   "cell_type": "markdown",
   "metadata": {},
   "source": [
    "## Python Imports"
   ]
  },
  {
   "cell_type": "code",
   "execution_count": 9,
   "metadata": {},
   "outputs": [],
   "source": [
    "import numpy as np\n",
    "import pandas as pd\n",
    "from prettypandas import PrettyPandas\n",
    "import patsy\n",
    "import matplotlib.pyplot as plt\n",
    "import seaborn as sns\n",
    "import statsmodels.api as sm\n",
    "import statsmodels.formula.api\n",
    "\n",
    "from IPython.display import display, Markdown, HTML\n",
    "\n",
    "%matplotlib inline\n",
    "PlotWidth = 6\n",
    "\n",
    "import warnings\n",
    "#warnings.filterwarnings('ignore')"
   ]
  },
  {
   "cell_type": "markdown",
   "metadata": {},
   "source": [
    "### Install R Packages"
   ]
  },
  {
   "cell_type": "code",
   "execution_count": 2,
   "metadata": {},
   "outputs": [],
   "source": [
    "# Using R inside python\n",
    "import rpy2\n",
    "import rpy2.robjects as ro\n",
    "import rpy2.robjects.packages as rpackages\n",
    "\n",
    "# Allow conversion\n",
    "import rpy2.robjects as ro\n",
    "\n",
    "from rpy2.robjects.vectors import StrVector\n",
    "from rpy2.robjects.packages import importr\n",
    "from rpy2.robjects import pandas2ri\n",
    "\n",
    "from rpy2.robjects.conversion import localconverter\n",
    "\n",
    "utils = rpackages.importr('utils')\n",
    "utils.chooseCRANmirror(ind=1)\n",
    "\n",
    "# Install packages\n",
    "packnames = ('rsm')\n",
    "#utils.install_packages(StrVector(packnames))\n",
    "\n",
    "# Load packages\n",
    "rsm = importr('rsm')\n",
    "base = importr('base')"
   ]
  },
  {
   "cell_type": "code",
   "execution_count": null,
   "metadata": {},
   "outputs": [],
   "source": [
    "# helper functions for this notebook\n",
    "\n",
    "# use SVG for matplotlib-based figures\n",
    "%matplotlib inline\n",
    "%config InlineBackend.figure_format = 'svg'\n",
    "\n",
    "def coded_to_actual(coded_data, actual_lows, actual_highs):\n",
    "    \"\"\"Converts a pandas DataFrame from coded units to actuals.\"\"\"\n",
    "    actual_data = coded_data.copy()\n",
    "    for col in actual_data.columns:\n",
    "        if not (col in actual_highs and col in actual_lows):\n",
    "            continue\n",
    "        try:\n",
    "            # convert continuous variables to their actual value\n",
    "            actual_data[col] *= 0.5 * (float(actual_highs[col]) - float(actual_lows[col]))\n",
    "            # don't need to cast to float here, if either are not a float exception will have been thrown\n",
    "            actual_data[col] += 0.5 * (actual_highs[col] + actual_lows[col])\n",
    "        except ValueError:\n",
    "            # assume 2 level categorical\n",
    "            actual_data[col] = actual_data[col].map({-1: actual_lows[col], 1: actual_highs[col]})\n",
    "    return actual_data\n",
    "        \n",
    "def get_tick_labels(key, lows, highs, units):\n",
    "    \"\"\"Returns a list of low/high labels with units (e.g. [8mm, 10mm])\"\"\"\n",
    "    return [str(lows[key]) + units[key], str(highs[key]) + units[key]]"
   ]
  },
  {
   "cell_type": "markdown",
   "metadata": {},
   "source": [
    "## Process CSV Files"
   ]
  },
  {
   "cell_type": "code",
   "execution_count": 3,
   "metadata": {},
   "outputs": [
    {
     "name": "stdout",
     "output_type": "stream",
     "text": [
      "List of Cost column names :  ['lh', 'ps', 'id', 'rw', 'wt', 'alh', 'aps', 'aid', 'arw', 'awt', 'cost1', 'cost2', 'cost3', 'cost4', 'cost5']\n",
      "List of Time column names :  ['lh', 'ps', 'id', 'rw', 'wt', 'alh', 'aps', 'aid', 'arw', 'awt', 'time1', 'time2', 'time3', 'time4', 'time5']\n"
     ]
    }
   ],
   "source": [
    "\n",
    "# importing the pandas library\n",
    "import pandas as pd\n",
    "  \n",
    "# reading the csv file using read_csv\n",
    "# storing the data frame in variable called df\n",
    "dfcost = pd.read_csv('https://raw.githubusercontent.com/wilsongis/3DP_Experiments/main/Data/cr6_cost.txt', sep='\\t')\n",
    "dftime = pd.read_csv('https://raw.githubusercontent.com/wilsongis/3DP_Experiments/main/Data/cr6_time.txt', sep='\\t')\n",
    "  \n",
    "# creating a list of column names by\n",
    "# calling the .columns\n",
    "list_of_columns_cost = list(dfcost.columns)\n",
    "list_of_columns_time = list(dftime.columns)\n",
    "  \n",
    "# displaying the list of column names\n",
    "print('List of Cost column names : ', \n",
    "      list_of_columns_cost)\n",
    "print('List of Time column names : ', \n",
    "      list_of_columns_time)"
   ]
  },
  {
   "cell_type": "code",
   "execution_count": 4,
   "metadata": {},
   "outputs": [],
   "source": [
    "# Names of ‘variable’ and ‘value’ columns can be customized\n",
    "df_cost = pd.melt(dfcost, id_vars =['lh', 'ps', 'id', 'wt', 'rw', 'alh', 'aps', 'aid', 'awt', 'arw'],\n",
    "              var_name ='rep', value_name ='cost')\n",
    "df_time = pd.melt(dftime, id_vars =['lh', 'ps', 'id', 'wt', 'rw', 'alh', 'aps', 'aid', 'awt', 'arw'],\n",
    "              var_name ='rep', value_name ='time')"
   ]
  },
  {
   "cell_type": "code",
   "execution_count": 6,
   "metadata": {},
   "outputs": [
    {
     "data": {
      "text/markdown": [
       "### Statistics for Cost"
      ],
      "text/plain": [
       "<IPython.core.display.Markdown object>"
      ]
     },
     "metadata": {},
     "output_type": "display_data"
    },
    {
     "data": {
      "text/plain": [
       "count    80.000000\n",
       "mean      0.531500\n",
       "std       0.019623\n",
       "min       0.480000\n",
       "25%       0.510000\n",
       "50%       0.540000\n",
       "75%       0.540000\n",
       "max       0.560000\n",
       "Name: cost, dtype: float64"
      ]
     },
     "execution_count": 6,
     "metadata": {},
     "output_type": "execute_result"
    }
   ],
   "source": [
    "display((Markdown(\"### Statistics for Cost\")))\n",
    "df_cost.cost.describe()"
   ]
  },
  {
   "cell_type": "code",
   "execution_count": null,
   "metadata": {},
   "outputs": [],
   "source": []
  }
 ],
 "metadata": {
  "kernelspec": {
   "display_name": "Python 3",
   "language": "python",
   "name": "python3"
  },
  "language_info": {
   "codemirror_mode": {
    "name": "ipython",
    "version": 3
   },
   "file_extension": ".py",
   "mimetype": "text/x-python",
   "name": "python",
   "nbconvert_exporter": "python",
   "pygments_lexer": "ipython3",
   "version": "3.8.5"
  },
  "toc": {
   "base_numbering": 1,
   "nav_menu": {},
   "number_sections": false,
   "sideBar": true,
   "skip_h1_title": false,
   "title_cell": "Table of Contents",
   "title_sidebar": "Contents",
   "toc_cell": false,
   "toc_position": {},
   "toc_section_display": true,
   "toc_window_display": false
  }
 },
 "nbformat": 4,
 "nbformat_minor": 4
}
