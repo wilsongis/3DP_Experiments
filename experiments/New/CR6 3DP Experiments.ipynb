{
 "cells": [
  {
   "cell_type": "markdown",
   "metadata": {},
   "source": [
    "# CR6 Results Analysis A"
   ]
  },
  {
   "cell_type": "markdown",
   "metadata": {},
   "source": [
    "## Python Imports"
   ]
  },
  {
   "cell_type": "code",
   "execution_count": 1,
   "metadata": {},
   "outputs": [
    {
     "ename": "ModuleNotFoundError",
     "evalue": "No module named 'prettypandas'",
     "output_type": "error",
     "traceback": [
      "\u001b[0;31m---------------------------------------------------------------------------\u001b[0m",
      "\u001b[0;31mModuleNotFoundError\u001b[0m                       Traceback (most recent call last)",
      "\u001b[0;32m<ipython-input-1-de531d1924df>\u001b[0m in \u001b[0;36m<module>\u001b[0;34m\u001b[0m\n\u001b[1;32m      1\u001b[0m \u001b[0;32mimport\u001b[0m \u001b[0mnumpy\u001b[0m \u001b[0;32mas\u001b[0m \u001b[0mnp\u001b[0m\u001b[0;34m\u001b[0m\u001b[0;34m\u001b[0m\u001b[0m\n\u001b[1;32m      2\u001b[0m \u001b[0;32mimport\u001b[0m \u001b[0mpandas\u001b[0m \u001b[0;32mas\u001b[0m \u001b[0mpd\u001b[0m\u001b[0;34m\u001b[0m\u001b[0;34m\u001b[0m\u001b[0m\n\u001b[0;32m----> 3\u001b[0;31m \u001b[0;32mfrom\u001b[0m \u001b[0mprettypandas\u001b[0m \u001b[0;32mimport\u001b[0m \u001b[0mPrettyPandas\u001b[0m\u001b[0;34m\u001b[0m\u001b[0;34m\u001b[0m\u001b[0m\n\u001b[0m\u001b[1;32m      4\u001b[0m \u001b[0;32mimport\u001b[0m \u001b[0mpatsy\u001b[0m\u001b[0;34m\u001b[0m\u001b[0;34m\u001b[0m\u001b[0m\n\u001b[1;32m      5\u001b[0m \u001b[0;32mimport\u001b[0m \u001b[0mmatplotlib\u001b[0m\u001b[0;34m.\u001b[0m\u001b[0mpyplot\u001b[0m \u001b[0;32mas\u001b[0m \u001b[0mplt\u001b[0m\u001b[0;34m\u001b[0m\u001b[0;34m\u001b[0m\u001b[0m\n",
      "\u001b[0;31mModuleNotFoundError\u001b[0m: No module named 'prettypandas'"
     ]
    }
   ],
   "source": [
    "import numpy as np\n",
    "import pandas as pd\n",
    "from prettypandas import PrettyPandas\n",
    "import patsy\n",
    "import matplotlib.pyplot as plt\n",
    "import seaborn as sns\n",
    "import statsmodels.api as sm\n",
    "import statsmodels.formula.api\n",
    "from pyomo.environ import *\n",
    "\n",
    "from sklearn.linear_model import LinearRegression\n",
    "from sklearn.preprocessing import PolynomialFeatures\n",
    "\n",
    "from IPython.display import display, Markdown, HTML\n",
    "\n",
    "%matplotlib inline\n",
    "PlotWidth = 6\n",
    "\n",
    "import warnings\n",
    "warnings.filterwarnings('ignore')"
   ]
  },
  {
   "cell_type": "markdown",
   "metadata": {},
   "source": [
    "## Install R Packages"
   ]
  },
  {
   "cell_type": "code",
   "execution_count": null,
   "metadata": {},
   "outputs": [],
   "source": [
    "# Using R inside python\n",
    "import rpy2\n",
    "import rpy2.robjects as ro\n",
    "import rpy2.robjects.packages as rpackages\n",
    "\n",
    "# Allow conversion\n",
    "import rpy2.robjects as ro\n",
    "\n",
    "from rpy2.robjects.vectors import StrVector\n",
    "from rpy2.robjects.packages import importr\n",
    "from rpy2.robjects import pandas2ri\n",
    "\n",
    "from rpy2.robjects.conversion import localconverter\n",
    "\n",
    "utils = rpackages.importr('utils')\n",
    "utils.chooseCRANmirror(ind=1)\n",
    "\n",
    "# Install packages\n",
    "packnames = ('rsm')\n",
    "#utils.install_packages(StrVector(packnames))\n",
    "\n",
    "# Load packages\n",
    "rsm = importr('rsm')\n",
    "base = importr('base')"
   ]
  },
  {
   "cell_type": "code",
   "execution_count": null,
   "metadata": {},
   "outputs": [],
   "source": [
    "# helper functions for this notebook\n",
    "\n",
    "# use SVG for matplotlib-based figures\n",
    "%matplotlib inline\n",
    "%config InlineBackend.figure_format = 'svg'\n",
    "\n",
    "def coded_to_actual(coded_data, actual_lows, actual_highs):\n",
    "    \"\"\"Converts a pandas DataFrame from coded units to actuals.\"\"\"\n",
    "    actual_data = coded_data.copy()\n",
    "    for col in actual_data.columns:\n",
    "        if not (col in actual_highs and col in actual_lows):\n",
    "            continue\n",
    "        try:\n",
    "            # convert continuous variables to their actual value\n",
    "            actual_data[col] *= 0.5 * (float(actual_highs[col]) - float(actual_lows[col]))\n",
    "            # don't need to cast to float here, if either are not a float exception will have been thrown\n",
    "            actual_data[col] += 0.5 * (actual_highs[col] + actual_lows[col])\n",
    "        except ValueError:\n",
    "            # assume 2 level categorical\n",
    "            actual_data[col] = actual_data[col].map({-1: actual_lows[col], 1: actual_highs[col]})\n",
    "    return actual_data\n",
    "        \n",
    "def get_tick_labels(key, lows, highs, units):\n",
    "    \"\"\"Returns a list of low/high labels with units (e.g. [8mm, 10mm])\"\"\"\n",
    "    return [str(lows[key]) + units[key], str(highs[key]) + units[key]]\n",
    "\n",
    "def backward_regression(X, y,\n",
    "                           threshold_out,\n",
    "                           verbose=True):\n",
    "    included=list(X.columns)\n",
    "    while True:\n",
    "        changed=False\n",
    "        model = sm.OLS(y, sm.add_constant(pd.DataFrame(X[included]))).fit()\n",
    "        # use all coefs except intercept\n",
    "        pvalues = model.pvalues.iloc[1:]\n",
    "        worst_pval = pvalues.max() # null if pvalues is empty\n",
    "        if worst_pval > threshold_out:\n",
    "            changed=True\n",
    "            worst_feature = pvalues.idxmax()\n",
    "            included.remove(worst_feature)\n",
    "            if verbose:\n",
    "                print('Drop {:30} with p-value {:.6}'.format(worst_feature, worst_pval))\n",
    "        if not changed:\n",
    "            break\n",
    "        \n",
    "    return included\n",
    "\n",
    "def build_model(X,values,verbose=True):\n",
    "    X = [sub.replace('alh', 'model.X1') for sub in X]\n",
    "    X = [sub.replace('aps', 'model.X2') for sub in X]\n",
    "    X = [sub.replace('aid', 'model.X3') for sub in X]\n",
    "    X = [sub.replace('arw', 'model.X4') for sub in X]\n",
    "    X = [sub.replace('awt', 'model.X5') for sub in X]\n",
    "    X = [sub.replace(':', '*') for sub in X]\n",
    "    model = str(values[0])\n",
    "    i=1\n",
    "    for v in X:\n",
    "        model  += \" + \" + str(values[i]) + \" * \" + v\n",
    "        i += 1\n",
    "    if verbose:\n",
    "        print(model)\n",
    "    return model"
   ]
  },
  {
   "cell_type": "markdown",
   "metadata": {},
   "source": [
    "## Process CSV Files"
   ]
  },
  {
   "cell_type": "code",
   "execution_count": null,
   "metadata": {},
   "outputs": [],
   "source": [
    "\n",
    "# importing the pandas library\n",
    "import pandas as pd\n",
    "  \n",
    "# reading the csv file using read_csv\n",
    "# storing the data frame in variable called df\n",
    "df_cost = pd.read_csv('https://raw.githubusercontent.com/wilsongis/3DP_Experiments/main/Data/cr6_cost.txt', sep='\\t')\n",
    "df_time = pd.read_csv('https://raw.githubusercontent.com/wilsongis/3DP_Experiments/main/Data/cr6_time.txt', sep='\\t')\n",
    "  \n",
    "# creating a list of column names by\n",
    "# calling the .columns\n",
    "list_of_columns_cost = list(df_cost.columns)\n",
    "list_of_columns_time = list(df_time.columns)\n",
    "  \n",
    "# displaying the list of column names\n",
    "print('List of Cost column names : ', \n",
    "      list_of_columns_cost)\n",
    "print('List of Time column names : ', \n",
    "      list_of_columns_time)"
   ]
  },
  {
   "cell_type": "code",
   "execution_count": null,
   "metadata": {},
   "outputs": [],
   "source": [
    "display((Markdown(\"### Statistics for Cost\")))\n",
    "df_cost.cost.describe()"
   ]
  },
  {
   "cell_type": "code",
   "execution_count": null,
   "metadata": {},
   "outputs": [],
   "source": [
    "plt.figure(figsize=(PlotWidth, PlotWidth))\n",
    "sns.boxplot(data=df_cost['cost'])\n",
    "plt.title('Box Plot of Cost')\n",
    "plt.ylabel('Cost')\n",
    "plt.show()\n",
    "\n",
    "plt.figure(figsize=(PlotWidth, PlotWidth))\n",
    "df_cost['cost'].hist()\n",
    "plt.title('cost')\n",
    "plt.xlabel('cost)')\n",
    "plt.show()\n",
    "\n",
    "plt.figure(figsize=(PlotWidth*2, PlotWidth))\n",
    "plt.scatter(df_cost['trial'], df_cost['cost'])\n",
    "plt.title('cost vs. trial')\n",
    "plt.xlabel('trial')\n",
    "plt.ylabel('cost')\n",
    "plt.show()"
   ]
  },
  {
   "cell_type": "code",
   "execution_count": null,
   "metadata": {},
   "outputs": [],
   "source": [
    "display((Markdown(\"### Statistics for Time\")))\n",
    "df_time.time.describe()"
   ]
  },
  {
   "cell_type": "markdown",
   "metadata": {},
   "source": [
    "plt.figure(figsize=(PlotWidth, PlotWidth))\n",
    "sns.boxplot(data=df_time['time'])\n",
    "plt.title('Box Plot of Time')\n",
    "plt.ylabel('Time')\n",
    "plt.show()\n",
    "\n",
    "plt.figure(figsize=(PlotWidth, PlotWidth))\n",
    "df_time['time'].hist()\n",
    "plt.title('time')\n",
    "plt.xlabel('time)')\n",
    "plt.show()\n",
    "\n",
    "plt.figure(figsize=(PlotWidth*2, PlotWidth))\n",
    "plt.scatter(df_time['trial'], df_time['time'])\n",
    "plt.title('time vs. trial')\n",
    "plt.xlabel('trial')\n",
    "plt.ylabel('time')\n",
    "plt.show()"
   ]
  },
  {
   "cell_type": "markdown",
   "metadata": {},
   "source": [
    "# Cost Analysis"
   ]
  },
  {
   "cell_type": "code",
   "execution_count": null,
   "metadata": {},
   "outputs": [],
   "source": [
    "f = 'cost ~ (alh+aps+aid+arw+awt)**2'\n",
    "y, X = patsy.dmatrices(f, df_cost, return_type='dataframe')\n",
    "print(y[:5])\n",
    "print(X[:5])"
   ]
  },
  {
   "cell_type": "code",
   "execution_count": null,
   "metadata": {},
   "outputs": [],
   "source": [
    "\n",
    "## An intercept is not added by default, so we need to add that here\n",
    "X = sm.add_constant(X)\n",
    "results = sm.OLS(y, X).fit()\n",
    "results.summary()\n",
    "\n",
    "print(results.summary())\n",
    "\n",
    "plt.figure(figsize=(PlotWidth, PlotWidth))\n",
    "sns.regplot(x=results.predict(X), y=y)\n",
    "plt.xlabel('Predicted cost')\n",
    "plt.ylabel('Actual cost')\n",
    "plt.title('Actual vs. Predicted cost')\n",
    "plt.show()"
   ]
  },
  {
   "cell_type": "markdown",
   "metadata": {},
   "source": [
    "## Reduced Cost Model"
   ]
  },
  {
   "cell_type": "code",
   "execution_count": null,
   "metadata": {},
   "outputs": [],
   "source": [
    "cost_included = backward_regression(X,y,.05)\n",
    "cost_included.pop(0)\n",
    "print(cost_included)"
   ]
  },
  {
   "cell_type": "code",
   "execution_count": null,
   "metadata": {},
   "outputs": [],
   "source": [
    "y = df_cost['cost']\n",
    "#y = df_cost['time']\n",
    "X = X[cost_included]\n",
    "\n",
    "## An intercept is not added by default, so we need to add that here\n",
    "X = sm.add_constant(X)\n",
    "results = sm.OLS(y, X).fit()\n",
    "results.summary()\n",
    "\n",
    "print(results.summary())\n",
    "\n",
    "plt.figure(figsize=(PlotWidth, PlotWidth))\n",
    "sns.regplot(x=results.predict(X), y=y)\n",
    "plt.xlabel('Predicted cost')\n",
    "plt.ylabel('Actual cost')\n",
    "plt.title('Actual vs. Predicted cost')\n",
    "plt.show()"
   ]
  },
  {
   "cell_type": "code",
   "execution_count": null,
   "metadata": {},
   "outputs": [],
   "source": [
    "cost_eq = build_model(cost_included,results.params,False)\n",
    "print(\"Cost = \" + cost_eq)"
   ]
  },
  {
   "cell_type": "markdown",
   "metadata": {},
   "source": [
    "# Time Analysis"
   ]
  },
  {
   "cell_type": "code",
   "execution_count": null,
   "metadata": {},
   "outputs": [],
   "source": [
    "f = 'time ~ (alh+aps+aid+arw+awt)**2'\n",
    "y, X = patsy.dmatrices(f, df_time, return_type='dataframe')\n",
    "print(y[:5])\n",
    "print(X[:5])"
   ]
  },
  {
   "cell_type": "code",
   "execution_count": null,
   "metadata": {},
   "outputs": [],
   "source": [
    "## An intercept is not added by default, so we need to add that here\n",
    "X = sm.add_constant(X)\n",
    "results = sm.OLS(y, X).fit()\n",
    "results.summary()\n",
    "\n",
    "print(results.summary())\n",
    "\n",
    "plt.figure(figsize=(PlotWidth, PlotWidth))\n",
    "sns.regplot(x=results.predict(X), y=y)\n",
    "plt.xlabel('Predicted Time')\n",
    "plt.ylabel('Actual Time')\n",
    "plt.title('Actual vs. Predicted Time')\n",
    "plt.show()"
   ]
  },
  {
   "cell_type": "markdown",
   "metadata": {},
   "source": [
    "## Time Reduced Model"
   ]
  },
  {
   "cell_type": "code",
   "execution_count": null,
   "metadata": {},
   "outputs": [],
   "source": [
    "time_included = backward_regression(X,y,.05)\n",
    "time_included.pop(0)\n",
    "print(time_included)"
   ]
  },
  {
   "cell_type": "code",
   "execution_count": null,
   "metadata": {},
   "outputs": [],
   "source": [
    "y = df_time['time']\n",
    "X = X[time_included]\n",
    "\n",
    "## An intercept is not added by default, so we need to add that here\n",
    "X = sm.add_constant(X)\n",
    "results = sm.OLS(y, X).fit()\n",
    "results.summary()\n",
    "\n",
    "print(results.summary())\n",
    "\n",
    "plt.figure(figsize=(PlotWidth, PlotWidth))\n",
    "sns.regplot(x=results.predict(X), y=y)\n",
    "plt.xlabel('Predicted Time')\n",
    "plt.ylabel('Actual Time')\n",
    "plt.title('Actual vs. Predicted Time')\n",
    "plt.show()"
   ]
  },
  {
   "cell_type": "code",
   "execution_count": null,
   "metadata": {},
   "outputs": [],
   "source": [
    "time_eq = build_model(time_included,results.params,False)\n",
    "print(\"Time = \" + time_eq)"
   ]
  },
  {
   "cell_type": "markdown",
   "metadata": {},
   "source": [
    "## Equations"
   ]
  },
  {
   "cell_type": "code",
   "execution_count": null,
   "metadata": {},
   "outputs": [],
   "source": [
    "display(Markdown(\"Cost = \"))\n",
    "print(cost_eq)\n",
    "\n",
    "print(\"------\")\n",
    "\n",
    "display(Markdown(\"Time = \"))\n",
    "print(time_eq)\n"
   ]
  },
  {
   "cell_type": "markdown",
   "metadata": {},
   "source": [
    "# Optimization"
   ]
  },
  {
   "cell_type": "code",
   "execution_count": null,
   "metadata": {},
   "outputs": [],
   "source": [
    "model = ConcreteModel()\n",
    "\n",
    "model.X1 = Var(within=NonNegativeReals)\n",
    "model.X2 = Var(within=NonNegativeReals)\n",
    "model.X3 = Var(within=NonNegativeReals)\n",
    "model.X4 = Var(within=NonNegativeReals)\n",
    "model.X5 = Var(within=NonNegativeReals)\n",
    "\n",
    "model.C1 = Constraint(expr = model.X1 <= .28)\n",
    "model.C2 = Constraint(expr = model.X2 <= 60)\n",
    "model.C3 = Constraint(expr = model.X3 <= .25)\n",
    "model.C4 = Constraint(expr = model.X4 <= .8)\n",
    "model.C5 = Constraint(expr = model.X5 <= 1.2)\n",
    "\n",
    "model.C6 = Constraint(expr = model.X1 >= .16)\n",
    "model.C7 = Constraint(expr = model.X2 >= 50)\n",
    "model.C8 = Constraint(expr = model.X3 >= .15)\n",
    "model.C9 = Constraint(expr = model.X4 >= .4)\n",
    "model.C10 = Constraint(expr = model.X5 >= .8)\n",
    "\n",
    "model.f1 = Var()\n",
    "model.f2 = Var()\n",
    "model.C_f1 = Constraint(expr = model.f1 == (0.30061301677651686 + -0.0014979526099359666 * model.X2 + 0.3541048685686145 * model.X4 + 0.24600811428103486 * model.X5 + 0.003193676289093103 * model.X1*model.X2 + -0.681545835829839 * model.X1*model.X3 + 0.15813870197108404 * model.X1*model.X4 + -0.15310216338152616 * model.X1*model.X5 + 0.008101719131677326 * model.X2*model.X3 + -0.0026250000000000544 * model.X2*model.X4 + 0.0011250000000000322 * model.X2*model.X5 + 0.3961480849887108 * model.X3*model.X4 + -0.4897531916854896 * model.X3*model.X5 + -0.2593750000000006 * model.X4*model.X5))\n",
    "model.C_f2 = Constraint(expr = model.f2 == (39415.87499999855 + -79138.51046393832 * model.X1 + -128.19137670175314 * model.X2 + -8860.849838411767 * model.X5 + -46255.95567867106 * model.X1*model.X3 + 12299.502666120085 * model.X1*model.X4 + 29085.416666666522 * model.X1*model.X5 + 434.58559556786804 * model.X2*model.X3 + -57.717904019688284 * model.X2*model.X4 + -11377.20914127423 * model.X3*model.X5))\n",
    "model.O_f1 = Objective(expr = model.f1, sense=minimize)\n",
    "model.O_f2 = Objective(expr = model.f2, sense=minimize)\n",
    "\n",
    "# max f1 separately\n",
    "# install glpk solver:  sudo apt-get install glpk-utils\n",
    "model.O_f2.deactivate()\n",
    "solver = SolverFactory('ipopt')  #'cplex', 'ipopt'\n",
    "solver.solve(model)\n",
    "\n",
    "print('( X1 , X2, X3, X4, X5 ) = ( ' + str(value(model.X1)) + ' , ' + str(value(model.X2)) + ' , ' + str(value(model.X3)) + ' , ' + str(value(model.X4)) + ' , ' + str(value(model.X5)) + ' )')\n",
    "print('f1 = ' + str(value(model.f1)))\n",
    "print('f2 = ' + str(value(model.f2)))\n",
    "f2_min = value(model.f2)\n",
    "\n",
    "# max f2 separately\n",
    "model.O_f2.activate()\n",
    "model.O_f1.deactivate()\n",
    "solver = SolverFactory('ipopt')  #'cplex', 'ipopt'\n",
    "solver.solve(model)\n",
    "\n",
    "print('( X1 , X2, X3, X4, X5 ) = ( ' + str(value(model.X1)) + ' , ' + str(value(model.X2)) + ' , ' + str(value(model.X3)) + ' , ' + str(value(model.X4)) + ' , ' + str(value(model.X5)) + ' )')\n",
    "print('f1 = ' + str(value(model.f1)))\n",
    "print('f2 = ' + str(value(model.f2)))\n",
    "f2_max = value(model.f2)\n",
    "\n",
    "# apply augmented $\\epsilon$-Constraint\n",
    "# max   \t\tf1 + delta*s\n",
    "# constraint \tf2 - s = e\n",
    "model.O_f1.activate()\n",
    "model.O_f2.deactivate()\n",
    "\n",
    "model.del_component(model.O_f1)\n",
    "model.del_component(model.O_f2)\n",
    "\n",
    "model.e = Param(initialize=0, mutable=True)\n",
    "model.delta = Param(initialize=0.00001)\n",
    "model.slack = Var(within=NonNegativeReals)\n",
    "model.O_f1 = Objective(expr = model.f1 + model.delta * model.slack, sense=maximize)\n",
    "model.C_e = Constraint(expr = model.f2 - model.slack == model.e)\n",
    "\n",
    "n = 100\n",
    "step = int((f2_max - f2_min) / n)\n",
    "steps = list(range(int(f2_min),int(f2_max),step)) + [f2_max]\n",
    "\n",
    "x1_l, x2_l, x3_l, x4_l, x5_l = [], [], [], [], []\n",
    "f1_l, f2_l = [], []\n",
    "for i in steps:\n",
    "    model.e = i\n",
    "    solver.solve(model)\n",
    "    x1_l.append(value(model.X1))\n",
    "    x2_l.append(value(model.X2))\n",
    "    x3_l.append(value(model.X3))\n",
    "    x4_l.append(value(model.X4))\n",
    "    x5_l.append(value(model.X5))\n",
    "    f1_l.append(value(model.f1))\n",
    "    f2_l.append(value(model.f2))\n",
    "    # print(i, value(model.X1), value(model.X2), value(model.f1), value(model.slack), value(model.f2))\n",
    "\n"
   ]
  },
  {
   "cell_type": "code",
   "execution_count": null,
   "metadata": {},
   "outputs": [],
   "source": []
  }
 ],
 "metadata": {
  "kernelspec": {
   "display_name": "Python 3",
   "language": "python",
   "name": "python3"
  },
  "language_info": {
   "codemirror_mode": {
    "name": "ipython",
    "version": 3
   },
   "file_extension": ".py",
   "mimetype": "text/x-python",
   "name": "python",
   "nbconvert_exporter": "python",
   "pygments_lexer": "ipython3",
   "version": "3.8.10"
  },
  "toc": {
   "base_numbering": 1,
   "nav_menu": {},
   "number_sections": false,
   "sideBar": true,
   "skip_h1_title": false,
   "title_cell": "Table of Contents",
   "title_sidebar": "Contents",
   "toc_cell": false,
   "toc_position": {},
   "toc_section_display": true,
   "toc_window_display": false
  }
 },
 "nbformat": 4,
 "nbformat_minor": 4
}
