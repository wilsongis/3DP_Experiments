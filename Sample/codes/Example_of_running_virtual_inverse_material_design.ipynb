{
 "cells": [
  {
   "cell_type": "code",
   "execution_count": 1,
   "metadata": {},
   "outputs": [],
   "source": [
    "from matopt_review.BOtest  import BOtest\n",
    "import numpy as np"
   ]
  },
  {
   "cell_type": "code",
   "execution_count": 2,
   "metadata": {},
   "outputs": [
    {
     "name": "stdout",
     "output_type": "stream",
     "text": [
      "Maximization problems are converted to minimization problems by multiplying minus 1.\n",
      "Models printout after each iteration is only available for GP and GP_MCMC models\n"
     ]
    }
   ],
   "source": [
    "#Run a optimization for goal1 using PA\n",
    "ASF = None\n",
    "setting = \"Recsat\"\n",
    "goal1 = [-140.13, -83.69, -4.06] # Maximization problems are converted to minimization problems by multiplying minus 1.\n",
    "n_init = 10\n",
    "\n",
    "bo = BOtest(funcname=\"OilSorbent\", ASF=ASF)\n",
    "bo.run_BO(setting, \n",
    "          max_iter=10,# Number of Bayesian optimization steps.\n",
    "          sampling=1, \n",
    "          goals=goal1,\n",
    "          N_init=n_init,\n",
    "          exact_feval=True,\n",
    "          )\n",
    "Y_results = np.concatenate(bo.bowrap.bo_org.y_mult, axis=0)*-1\n",
    "X_results = bo.bowrap.bo_org.X"
   ]
  },
  {
   "cell_type": "code",
   "execution_count": 3,
   "metadata": {},
   "outputs": [
    {
     "name": "stdout",
     "output_type": "stream",
     "text": [
      "Maximization problems are converted to minimization problems by multiplying minus 1.\n"
     ]
    }
   ],
   "source": [
    "#Run a optimization for goal1 using achievement_LCB\n",
    "ASF = \"achievement\"\n",
    "setting = \"UCB\"\n",
    "goal1 = [-140.13, -83.69, -4.06] # Maximization problems are converted to minimization problems by multiplying minus 1.\n",
    "n_init = 10\n",
    "\n",
    "bo = BOtest(funcname=\"OilSorbent\", ASF=ASF)\n",
    "bo.run_BO(setting, \n",
    "          max_iter=10,# Number of Bayesian optimization steps.\n",
    "          sampling=1, \n",
    "          goals=goal1,\n",
    "          N_init=n_init,\n",
    "          exact_feval=True,\n",
    "          )\n",
    "Y_results = np.concatenate(bo.bowrap.bo_org.y_mult, axis=0)*-1\n",
    "X_results = bo.bowrap.bo_org.X"
   ]
  }
 ],
 "metadata": {
  "kernelspec": {
   "display_name": "Python 3",
   "language": "python",
   "name": "python3"
  },
  "language_info": {
   "codemirror_mode": {
    "name": "ipython",
    "version": 3
   },
   "file_extension": ".py",
   "mimetype": "text/x-python",
   "name": "python",
   "nbconvert_exporter": "python",
   "pygments_lexer": "ipython3",
   "version": "3.6.10"
  }
 },
 "nbformat": 4,
 "nbformat_minor": 4
}
