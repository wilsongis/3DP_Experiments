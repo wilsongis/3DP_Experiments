{
 "cells": [
  {
   "cell_type": "code",
   "execution_count": 1,
   "metadata": {
    "slideshow": {
     "slide_type": "skip"
    },
    "tags": []
   },
   "outputs": [],
   "source": [
    "# import packages here to reduce the size of code cells later\n",
    "\n",
    "import pandas as pd\n",
    "from prettypandas import PrettyPandas\n",
    "import patsy\n",
    "\n",
    "import numpy as np\n",
    "import scipy.stats\n",
    "import statsmodels.formula.api\n",
    "import statsmodels.api as sm\n",
    "\n",
    "from graphviz import Digraph\n",
    "import seaborn as sns\n",
    "\n",
    "import dexpy.factorial\n",
    "import dexpy.alias\n",
    "import dexpy.power\n",
    "\n",
    "from mpl_toolkits.mplot3d import Axes3D\n",
    "import matplotlib.pyplot as plt\n",
    "from matplotlib import patches\n",
    "\n",
    "from IPython.display import display, Markdown, HTML\n"
   ]
  },
  {
   "cell_type": "code",
   "execution_count": 2,
   "metadata": {
    "collapsed": false,
    "jupyter": {
     "outputs_hidden": false
    },
    "slideshow": {
     "slide_type": "skip"
    }
   },
   "outputs": [
    {
     "data": {
      "text/html": [
       "<script>\n",
       "code_show=true; \n",
       "function code_toggle() {\n",
       " if (code_show){\n",
       " $('div.input').hide();\n",
       " } else {\n",
       " $('div.input').show();\n",
       " }\n",
       " code_show = !code_show\n",
       "} \n",
       "$( document ).ready(code_toggle);\n",
       "</script>\n",
       "The raw code for this IPython notebook is by default hidden for easier reading.\n",
       "To toggle on/off the raw code, click <a href=\"javascript:code_toggle()\">here</a>."
      ],
      "text/plain": [
       "<IPython.core.display.HTML object>"
      ]
     },
     "execution_count": 2,
     "metadata": {},
     "output_type": "execute_result"
    }
   ],
   "source": [
    "from IPython.core.display import HTML\n",
    "HTML('''<script>\n",
    "code_show=true; \n",
    "function code_toggle() {\n",
    " if (code_show){\n",
    " $('div.input').hide();\n",
    " } else {\n",
    " $('div.input').show();\n",
    " }\n",
    " code_show = !code_show\n",
    "} \n",
    "$( document ).ready(code_toggle);\n",
    "</script>\n",
    "The raw code for this IPython notebook is by default hidden for easier reading.\n",
    "To toggle on/off the raw code, click <a href=\"javascript:code_toggle()\">here</a>.''')"
   ]
  },
  {
   "cell_type": "code",
   "execution_count": 3,
   "metadata": {
    "collapsed": false,
    "jupyter": {
     "outputs_hidden": false
    },
    "slideshow": {
     "slide_type": "skip"
    }
   },
   "outputs": [],
   "source": [
    "# helper functions for this notebook\n",
    "\n",
    "# use SVG for matplotlib-based figures\n",
    "%matplotlib inline\n",
    "%config InlineBackend.figure_format = 'svg'\n",
    "\n",
    "def coded_to_actual(coded_data, actual_lows, actual_highs):\n",
    "    \"\"\"Converts a pandas DataFrame from coded units to actuals.\"\"\"\n",
    "    actual_data = coded_data.copy()\n",
    "    for col in actual_data.columns:\n",
    "        if not (col in actual_highs and col in actual_lows):\n",
    "            continue\n",
    "        try:\n",
    "            # convert continuous variables to their actual value\n",
    "            actual_data[col] *= 0.5 * (float(actual_highs[col]) - float(actual_lows[col]))\n",
    "            # don't need to cast to float here, if either are not a float exception will have been thrown\n",
    "            actual_data[col] += 0.5 * (actual_highs[col] + actual_lows[col])\n",
    "        except ValueError:\n",
    "            # assume 2 level categorical\n",
    "            actual_data[col] = actual_data[col].map({-1: actual_lows[col], 1: actual_highs[col]})\n",
    "    return actual_data\n",
    "        \n",
    "def get_tick_labels(key, lows, highs, units):\n",
    "    \"\"\"Returns a list of low/high labels with units (e.g. [8mm, 10mm])\"\"\"\n",
    "    return [str(lows[key]) + units[key], str(highs[key]) + units[key]]"
   ]
  },
  {
   "cell_type": "markdown",
   "metadata": {
    "slideshow": {
     "slide_type": "slide"
    }
   },
   "source": [
    "# Design of Experiments in Python\n",
    "\n",
    "Hank Anderson  \n",
    "<hank@statease.com>  \n",
    "https://github.com/hpanderson/dexpy-pymntos  "
   ]
  },
  {
   "cell_type": "markdown",
   "metadata": {
    "slideshow": {
     "slide_type": "slide"
    }
   },
   "source": [
    "# Agenda\n",
    "\n",
    "* What is Design of Experiments?\n",
    "* Design an experiment with `dexpy` to improve the office coffee\n",
    "* Measure the power of our experiment\n",
    "* Model the taste test results using `statsmodels`\n",
    "* Visualize the data with `seaborn` and `matplotlib` to find the best pot of coffee"
   ]
  },
  {
   "cell_type": "markdown",
   "metadata": {
    "slideshow": {
     "slide_type": "slide"
    }
   },
   "source": [
    "# What is Design of Experiments (DoE)?\n",
    "\n",
    "A systematic series of tests, in which purposeful changes are made to input factors, so that you may identify causes for significant changes in the output responses.\n",
    "\n",
    "NIST has a [nice primer on DOE](http://www.itl.nist.gov/div898/handbook/pri/section1/pri1.htm)."
   ]
  },
  {
   "cell_type": "code",
   "execution_count": 4,
   "metadata": {
    "collapsed": false,
    "jupyter": {
     "outputs_hidden": false
    },
    "slideshow": {
     "slide_type": "-"
    }
   },
   "outputs": [
    {
     "data": {
      "image/svg+xml": [
       "<?xml version=\"1.0\" encoding=\"UTF-8\" standalone=\"no\"?>\n",
       "<!DOCTYPE svg PUBLIC \"-//W3C//DTD SVG 1.1//EN\"\n",
       " \"http://www.w3.org/Graphics/SVG/1.1/DTD/svg11.dtd\">\n",
       "<!-- Generated by graphviz version 2.40.1 (20161225.0304)\n",
       " -->\n",
       "<!-- Title: %3 Pages: 1 -->\n",
       "<svg width=\"629pt\" height=\"98pt\"\n",
       " viewBox=\"0.00 0.00 629.00 98.00\" xmlns=\"http://www.w3.org/2000/svg\" xmlns:xlink=\"http://www.w3.org/1999/xlink\">\n",
       "<g id=\"graph0\" class=\"graph\" transform=\"scale(1 1) rotate(0) translate(4 94)\">\n",
       "<title>%3</title>\n",
       "<polygon fill=\"#ffffff\" stroke=\"transparent\" points=\"-4,4 -4,-94 625,-94 625,4 -4,4\"/>\n",
       "<!-- X -->\n",
       "<g id=\"node1\" class=\"node\">\n",
       "<title>X</title>\n",
       "<polygon fill=\"#3cb371\" stroke=\"#3cb371\" points=\"216,-90 0,-90 0,-54 216,-54 216,-90\"/>\n",
       "<text text-anchor=\"middle\" x=\"108\" y=\"-67\" font-family=\"Helvetica,sans-Serif\" font-size=\"20.00\" fill=\"#000000\">Controllable Factors</text>\n",
       "</g>\n",
       "<!-- P -->\n",
       "<g id=\"node3\" class=\"node\">\n",
       "<title>P</title>\n",
       "<polygon fill=\"#add8e6\" stroke=\"#add8e6\" points=\"468,-90 252,-90 252,0 468,0 468,-90\"/>\n",
       "<text text-anchor=\"middle\" x=\"360\" y=\"-40\" font-family=\"Helvetica,sans-Serif\" font-size=\"20.00\" fill=\"#000000\">Process</text>\n",
       "</g>\n",
       "<!-- X&#45;&gt;P -->\n",
       "<g id=\"edge1\" class=\"edge\">\n",
       "<title>X&#45;&gt;P</title>\n",
       "<path fill=\"none\" stroke=\"#000000\" d=\"M167.4014,-53.9751C189.6892,-50.2264 215.8784,-46.8146 241.6402,-44.2035\"/>\n",
       "<polygon fill=\"#000000\" stroke=\"#000000\" points=\"242.2531,-47.6604 251.8666,-43.2071 241.5742,-40.6934 242.2531,-47.6604\"/>\n",
       "</g>\n",
       "<!-- X&#45;&gt;P -->\n",
       "<g id=\"edge4\" class=\"edge\">\n",
       "<title>X&#45;&gt;P</title>\n",
       "<path fill=\"none\" stroke=\"#000000\" d=\"M216.3332,-60.3929C224.7707,-59.4889 233.316,-58.5733 241.8138,-57.6628\"/>\n",
       "<polygon fill=\"#000000\" stroke=\"#000000\" points=\"242.1881,-61.1428 251.7583,-56.5973 241.4423,-54.1827 242.1881,-61.1428\"/>\n",
       "</g>\n",
       "<!-- X&#45;&gt;P -->\n",
       "<g id=\"edge7\" class=\"edge\">\n",
       "<title>X&#45;&gt;P</title>\n",
       "<path fill=\"none\" stroke=\"#000000\" d=\"M216.3332,-73.7742C224.7707,-72.9842 233.316,-72.1005 241.8138,-71.1397\"/>\n",
       "<polygon fill=\"#000000\" stroke=\"#000000\" points=\"242.2322,-74.6147 251.7583,-69.9774 241.4196,-67.662 242.2322,-74.6147\"/>\n",
       "</g>\n",
       "<!-- Z -->\n",
       "<g id=\"node2\" class=\"node\">\n",
       "<title>Z</title>\n",
       "<polygon fill=\"#ee6363\" stroke=\"#ee6363\" points=\"216,-36 0,-36 0,0 216,0 216,-36\"/>\n",
       "<text text-anchor=\"middle\" x=\"108\" y=\"-13\" font-family=\"Helvetica,sans-Serif\" font-size=\"20.00\" fill=\"#000000\">Noise Factors</text>\n",
       "</g>\n",
       "<!-- Z&#45;&gt;P -->\n",
       "<g id=\"edge2\" class=\"edge\">\n",
       "<title>Z&#45;&gt;P</title>\n",
       "<path fill=\"none\" stroke=\"#000000\" d=\"M216.3332,-16.2258C224.7707,-17.0158 233.316,-17.8995 241.8138,-18.8603\"/>\n",
       "<polygon fill=\"#000000\" stroke=\"#000000\" points=\"241.4196,-22.338 251.7583,-20.0226 242.2322,-15.3853 241.4196,-22.338\"/>\n",
       "</g>\n",
       "<!-- Z&#45;&gt;P -->\n",
       "<g id=\"edge5\" class=\"edge\">\n",
       "<title>Z&#45;&gt;P</title>\n",
       "<path fill=\"none\" stroke=\"#000000\" d=\"M216.3332,-29.6071C224.7707,-30.5111 233.316,-31.4267 241.8138,-32.3372\"/>\n",
       "<polygon fill=\"#000000\" stroke=\"#000000\" points=\"241.4423,-35.8173 251.7583,-33.4027 242.1881,-28.8572 241.4423,-35.8173\"/>\n",
       "</g>\n",
       "<!-- Z&#45;&gt;P -->\n",
       "<g id=\"edge8\" class=\"edge\">\n",
       "<title>Z&#45;&gt;P</title>\n",
       "<path fill=\"none\" stroke=\"#000000\" d=\"M167.4014,-36.0249C189.6892,-39.7736 215.8784,-43.1854 241.6402,-45.7965\"/>\n",
       "<polygon fill=\"#000000\" stroke=\"#000000\" points=\"241.5742,-49.3066 251.8666,-46.7929 242.2531,-42.3396 241.5742,-49.3066\"/>\n",
       "</g>\n",
       "<!-- Y -->\n",
       "<g id=\"node4\" class=\"node\">\n",
       "<title>Y</title>\n",
       "<polygon fill=\"#add8e6\" stroke=\"#add8e6\" points=\"621,-63 504,-63 504,-27 621,-27 621,-63\"/>\n",
       "<text text-anchor=\"middle\" x=\"562.5\" y=\"-40\" font-family=\"Helvetica,sans-Serif\" font-size=\"20.00\" fill=\"#000000\">Responses</text>\n",
       "</g>\n",
       "<!-- P&#45;&gt;Y -->\n",
       "<g id=\"edge3\" class=\"edge\">\n",
       "<title>P&#45;&gt;Y</title>\n",
       "<path fill=\"none\" stroke=\"#000000\" d=\"M468.0679,-31.5272C476.8452,-31.5975 485.5538,-31.8035 493.9284,-32.1454\"/>\n",
       "<polygon fill=\"#000000\" stroke=\"#000000\" points=\"493.8027,-35.6433 503.9599,-32.6298 494.1404,-28.6515 493.8027,-35.6433\"/>\n",
       "</g>\n",
       "<!-- P&#45;&gt;Y -->\n",
       "<g id=\"edge6\" class=\"edge\">\n",
       "<title>P&#45;&gt;Y</title>\n",
       "<path fill=\"none\" stroke=\"#000000\" d=\"M468.0679,-45C476.8452,-45 485.5538,-45 493.9284,-45\"/>\n",
       "<polygon fill=\"#000000\" stroke=\"#000000\" points=\"493.96,-48.5001 503.9599,-45 493.9599,-41.5001 493.96,-48.5001\"/>\n",
       "</g>\n",
       "<!-- P&#45;&gt;Y -->\n",
       "<g id=\"edge9\" class=\"edge\">\n",
       "<title>P&#45;&gt;Y</title>\n",
       "<path fill=\"none\" stroke=\"#000000\" d=\"M468.0679,-58.4728C476.8452,-58.4025 485.5538,-58.1965 493.9284,-57.8546\"/>\n",
       "<polygon fill=\"#000000\" stroke=\"#000000\" points=\"494.1404,-61.3485 503.9599,-57.3702 493.8027,-54.3567 494.1404,-61.3485\"/>\n",
       "</g>\n",
       "</g>\n",
       "</svg>\n"
      ],
      "text/plain": [
       "<graphviz.dot.Digraph at 0x7fe2310509a0>"
      ]
     },
     "execution_count": 4,
     "metadata": {},
     "output_type": "execute_result"
    }
   ],
   "source": [
    "dot = Digraph(comment='Design of Experiments')\n",
    "dot.body.extend(['rankdir=LR', 'size=\"10,10\"'])\n",
    "dot.node_attr.update(shape='rectangle', style='filled', fontsize='20', fontname=\"helvetica\")\n",
    "\n",
    "dot.node('X', 'Controllable Factors', color='mediumseagreen', width='3')\n",
    "dot.node('Z', 'Noise Factors', color='indianred2', width='3')\n",
    "dot.node('P', 'Process', color='lightblue', height='1.25', width='3')\n",
    "dot.node('Y', 'Responses', color='lightblue')\n",
    "\n",
    "dot.edges(['XP', 'ZP', 'PY'] * 3)\n",
    "\n",
    "dot"
   ]
  },
  {
   "cell_type": "markdown",
   "metadata": {
    "slideshow": {
     "slide_type": "slide"
    }
   },
   "source": [
    "# What Is It For?\n",
    "\n",
    "* Screening Experiments - Determining which inputs to your system are important\n",
    "* Modeling a Process - Gain a better understanding of your system\n",
    "* Optimization - Find the combination of inputs that results in a better output\n",
    "* Robustness - Find a combination of inputs that produces a consistent result"
   ]
  },
  {
   "cell_type": "markdown",
   "metadata": {
    "nbpresent": {
     "id": "132443fd-23b6-4758-a074-be108db02fd9"
    },
    "slideshow": {
     "slide_type": "slide"
    }
   },
   "source": [
    "# DoE in Python: dexpy\n",
    "\n",
    "* Based on Design-Expert<sup>&reg;</sup> software, a package for design and analysis of industrial experiments\n",
    "* Apache2 licensed, pure python (for now), available on pypi\n",
    "* Requires `numpy`, `scipy`, `pandas` and `patsy`\n",
    "* Recommend `statsmodels` for analysis, `matplotlib` and `seaborn` for visualization\n",
    "* Other alternatives are:\n",
    " * [pyDOE](https://github.com/tisimst/pyDOE) (not actively maintained)\n",
    " * R [???](https://cran.r-project.org/web/views/ExperimentalDesign.html)\n",
    " * [SciDOE](https://forge.scilab.org/index.php/p/scidoe/)\n",
    " * [gosset](http://neilsloane.com/gosset/)\n",
    " * Proprietary software ($$$) - [Design-Expert](https://www.statease.com), [JMP](https://www.jmp.com), [Minitab](https://www.minitab.com)"
   ]
  },
  {
   "cell_type": "markdown",
   "metadata": {
    "slideshow": {
     "slide_type": "slide"
    }
   },
   "source": [
    "# Motivating Example: Better Office Coffee\n",
    "\n",
    " * Current coffee is subpar (\"disgusting and unacceptable\")\n",
    " * Need to answer the following questions via experimentation:\n",
    "  * What coffee beans to use?\n",
    "  * How much coffee to use?\n",
    "  * How to grind the coffee?"
   ]
  },
  {
   "cell_type": "markdown",
   "metadata": {
    "slideshow": {
     "slide_type": "subslide"
    }
   },
   "source": [
    "# Motivating Example: Better Office Coffee\n",
    "\n",
    " * 5 input factors\n",
    "  * Amount of Coffee (2.5 to 4.0 oz.)\n",
    "  * Grind size (8-10mm)\n",
    "  * Brew time (3.5 to 4.5 minutes)\n",
    "  * Grind Type (burr vs blade)\n",
    "  * Coffee beans (light vs dark)\n",
    " * 1 response: Average overall liking by a panel of 5 office coffee addicts\n",
    "  * Each taster rates the coffee from 1-9\n",
    " * Maximum of 3 taste tests a day, for liability reasons\n",
    " "
   ]
  },
  {
   "cell_type": "code",
   "execution_count": 5,
   "metadata": {
    "slideshow": {
     "slide_type": "skip"
    }
   },
   "outputs": [],
   "source": [
    "# set some variables related to the coffee data set\n",
    "actual_lows = { 'amount' : 2.5, 'grind_size' : 8, 'brew_time': 3.5, 'grind_type': 'burr', 'beans': 'light' }\n",
    "actual_highs = { 'amount' : 4, 'grind_size' : 10, 'brew_time': 4.5, 'grind_type': 'blade', 'beans': 'dark' }\n",
    "units = { 'amount' : 'oz', 'grind_size' : 'mm', 'brew_time': 'm', 'grind_type': '', 'beans': '' }"
   ]
  },
  {
   "cell_type": "markdown",
   "metadata": {
    "slideshow": {
     "slide_type": "subslide"
    }
   },
   "source": [
    "             ((((\n",
    "            ((((\n",
    "             ))))\n",
    "          _ .---.\n",
    "         ( |`---'|\n",
    "          \\|     |\n",
    "          : `---' :\n",
    "           `-----'"
   ]
  },
  {
   "cell_type": "markdown",
   "metadata": {
    "slideshow": {
     "slide_type": "skip"
    }
   },
   "source": [
    "# One Factor at a Time Experimentation\n",
    "\n",
    "* Hold all inputs constant, then change one at a time\n",
    "* Cannot detect interactions, e.g. grind size and amount of coffee have a synergistic relationship\n",
    "* Inefficient"
   ]
  },
  {
   "cell_type": "code",
   "execution_count": 6,
   "metadata": {
    "collapsed": false,
    "jupyter": {
     "outputs_hidden": false
    },
    "slideshow": {
     "slide_type": "skip"
    }
   },
   "outputs": [
    {
     "name": "stderr",
     "output_type": "stream",
     "text": [
      "/usr/local/anaconda3/envs/Dissertation/lib/python3.8/site-packages/seaborn/_decorators.py:36: FutureWarning: Pass the following variables as keyword args: x, y. From version 0.12, the only valid positional argument will be `data`, and passing other arguments without an explicit keyword will result in an error or misinterpretation.\n",
      "  warnings.warn(\n"
     ]
    },
    {
     "data": {
      "image/svg+xml": [
       "<?xml version=\"1.0\" encoding=\"utf-8\" standalone=\"no\"?>\n",
       "<!DOCTYPE svg PUBLIC \"-//W3C//DTD SVG 1.1//EN\"\n",
       "  \"http://www.w3.org/Graphics/SVG/1.1/DTD/svg11.dtd\">\n",
       "<!-- Created with matplotlib (https://matplotlib.org/) -->\n",
       "<svg height=\"366.15625pt\" version=\"1.1\" viewBox=\"0 0 368.2125 366.15625\" width=\"368.2125pt\" xmlns=\"http://www.w3.org/2000/svg\" xmlns:xlink=\"http://www.w3.org/1999/xlink\">\n",
       " <metadata>\n",
       "  <rdf:RDF xmlns:cc=\"http://creativecommons.org/ns#\" xmlns:dc=\"http://purl.org/dc/elements/1.1/\" xmlns:rdf=\"http://www.w3.org/1999/02/22-rdf-syntax-ns#\">\n",
       "   <cc:Work>\n",
       "    <dc:type rdf:resource=\"http://purl.org/dc/dcmitype/StillImage\"/>\n",
       "    <dc:date>2021-05-25T14:58:49.188920</dc:date>\n",
       "    <dc:format>image/svg+xml</dc:format>\n",
       "    <dc:creator>\n",
       "     <cc:Agent>\n",
       "      <dc:title>Matplotlib v3.3.4, https://matplotlib.org/</dc:title>\n",
       "     </cc:Agent>\n",
       "    </dc:creator>\n",
       "   </cc:Work>\n",
       "  </rdf:RDF>\n",
       " </metadata>\n",
       " <defs>\n",
       "  <style type=\"text/css\">*{stroke-linecap:butt;stroke-linejoin:round;}</style>\n",
       " </defs>\n",
       " <g id=\"figure_1\">\n",
       "  <g id=\"patch_1\">\n",
       "   <path d=\"M 0 366.15625 \n",
       "L 368.2125 366.15625 \n",
       "L 368.2125 0 \n",
       "L 0 0 \n",
       "z\n",
       "\" style=\"fill:none;\"/>\n",
       "  </g>\n",
       "  <g id=\"axes_1\">\n",
       "   <g id=\"patch_2\">\n",
       "    <path d=\"M 60.3625 328.6 \n",
       "L 361.0125 328.6 \n",
       "L 361.0125 7.2 \n",
       "L 60.3625 7.2 \n",
       "z\n",
       "\" style=\"fill:#ffffff;\"/>\n",
       "   </g>\n",
       "   <g id=\"PathCollection_1\">\n",
       "    <defs>\n",
       "     <path d=\"M 0 3 \n",
       "C 0.795609 3 1.55874 2.683901 2.12132 2.12132 \n",
       "C 2.683901 1.55874 3 0.795609 3 0 \n",
       "C 3 -0.795609 2.683901 -1.55874 2.12132 -2.12132 \n",
       "C 1.55874 -2.683901 0.795609 -3 0 -3 \n",
       "C -0.795609 -3 -1.55874 -2.683901 -2.12132 -2.12132 \n",
       "C -2.683901 -1.55874 -3 -0.795609 -3 0 \n",
       "C -3 0.795609 -2.683901 1.55874 -2.12132 2.12132 \n",
       "C -1.55874 2.683901 -0.795609 3 0 3 \n",
       "z\n",
       "\" id=\"m68cf086b0e\" style=\"stroke:#1f77b4;stroke-opacity:0.8;\"/>\n",
       "    </defs>\n",
       "    <g clip-path=\"url(#p6263de0ceb)\">\n",
       "     <use style=\"fill:#1f77b4;fill-opacity:0.8;stroke:#1f77b4;stroke-opacity:0.8;\" x=\"74.028409\" xlink:href=\"#m68cf086b0e\" y=\"313.990909\"/>\n",
       "     <use style=\"fill:#1f77b4;fill-opacity:0.8;stroke:#1f77b4;stroke-opacity:0.8;\" x=\"347.346591\" xlink:href=\"#m68cf086b0e\" y=\"313.990909\"/>\n",
       "     <use style=\"fill:#1f77b4;fill-opacity:0.8;stroke:#1f77b4;stroke-opacity:0.8;\" x=\"74.028409\" xlink:href=\"#m68cf086b0e\" y=\"21.809091\"/>\n",
       "     <use style=\"fill:#1f77b4;fill-opacity:0.8;stroke:#1f77b4;stroke-opacity:0.8;\" x=\"74.028409\" xlink:href=\"#m68cf086b0e\" y=\"313.990909\"/>\n",
       "     <use style=\"fill:#1f77b4;fill-opacity:0.8;stroke:#1f77b4;stroke-opacity:0.8;\" x=\"347.346591\" xlink:href=\"#m68cf086b0e\" y=\"313.990909\"/>\n",
       "     <use style=\"fill:#1f77b4;fill-opacity:0.8;stroke:#1f77b4;stroke-opacity:0.8;\" x=\"74.028409\" xlink:href=\"#m68cf086b0e\" y=\"21.809091\"/>\n",
       "    </g>\n",
       "   </g>\n",
       "   <g id=\"patch_3\">\n",
       "    <path clip-path=\"url(#p6263de0ceb)\" d=\"M 74.028409 313.990909 \n",
       "L 74.028409 21.809091 \n",
       "L 347.346591 313.990909 \n",
       "L 74.028409 313.990909 \n",
       "L 74.028409 21.809091 \n",
       "L 347.346591 313.990909 \n",
       "z\n",
       "\" style=\"fill:#000080;opacity:0.3;stroke:#000080;stroke-linejoin:miter;stroke-width:2;\"/>\n",
       "   </g>\n",
       "   <g id=\"patch_4\">\n",
       "    <path clip-path=\"url(#p6263de0ceb)\" d=\"M 74.028409 21.809091 \n",
       "L 347.346591 21.809091 \n",
       "L 347.346591 313.990909 \n",
       "z\n",
       "\" style=\"fill:#b22222;opacity:0.3;stroke:#b22222;stroke-linejoin:miter;stroke-width:2;\"/>\n",
       "   </g>\n",
       "   <g id=\"matplotlib.axis_1\">\n",
       "    <g id=\"xtick_1\">\n",
       "     <g id=\"line2d_1\">\n",
       "      <defs>\n",
       "       <path d=\"M 0 0 \n",
       "L 0 3.5 \n",
       "\" id=\"m809c77d98e\" style=\"stroke:#000000;stroke-width:0.8;\"/>\n",
       "      </defs>\n",
       "      <g>\n",
       "       <use style=\"stroke:#000000;stroke-width:0.8;\" x=\"74.028409\" xlink:href=\"#m809c77d98e\" y=\"328.6\"/>\n",
       "      </g>\n",
       "     </g>\n",
       "     <g id=\"text_1\">\n",
       "      <!-- 2.5oz -->\n",
       "      <g transform=\"translate(60.393253 343.198437)scale(0.1 -0.1)\">\n",
       "       <defs>\n",
       "        <path d=\"M 19.1875 8.296875 \n",
       "L 53.609375 8.296875 \n",
       "L 53.609375 0 \n",
       "L 7.328125 0 \n",
       "L 7.328125 8.296875 \n",
       "Q 12.9375 14.109375 22.625 23.890625 \n",
       "Q 32.328125 33.6875 34.8125 36.53125 \n",
       "Q 39.546875 41.84375 41.421875 45.53125 \n",
       "Q 43.3125 49.21875 43.3125 52.78125 \n",
       "Q 43.3125 58.59375 39.234375 62.25 \n",
       "Q 35.15625 65.921875 28.609375 65.921875 \n",
       "Q 23.96875 65.921875 18.8125 64.3125 \n",
       "Q 13.671875 62.703125 7.8125 59.421875 \n",
       "L 7.8125 69.390625 \n",
       "Q 13.765625 71.78125 18.9375 73 \n",
       "Q 24.125 74.21875 28.421875 74.21875 \n",
       "Q 39.75 74.21875 46.484375 68.546875 \n",
       "Q 53.21875 62.890625 53.21875 53.421875 \n",
       "Q 53.21875 48.921875 51.53125 44.890625 \n",
       "Q 49.859375 40.875 45.40625 35.40625 \n",
       "Q 44.1875 33.984375 37.640625 27.21875 \n",
       "Q 31.109375 20.453125 19.1875 8.296875 \n",
       "z\n",
       "\" id=\"DejaVuSans-50\"/>\n",
       "        <path d=\"M 10.6875 12.40625 \n",
       "L 21 12.40625 \n",
       "L 21 0 \n",
       "L 10.6875 0 \n",
       "z\n",
       "\" id=\"DejaVuSans-46\"/>\n",
       "        <path d=\"M 10.796875 72.90625 \n",
       "L 49.515625 72.90625 \n",
       "L 49.515625 64.59375 \n",
       "L 19.828125 64.59375 \n",
       "L 19.828125 46.734375 \n",
       "Q 21.96875 47.46875 24.109375 47.828125 \n",
       "Q 26.265625 48.1875 28.421875 48.1875 \n",
       "Q 40.625 48.1875 47.75 41.5 \n",
       "Q 54.890625 34.8125 54.890625 23.390625 \n",
       "Q 54.890625 11.625 47.5625 5.09375 \n",
       "Q 40.234375 -1.421875 26.90625 -1.421875 \n",
       "Q 22.3125 -1.421875 17.546875 -0.640625 \n",
       "Q 12.796875 0.140625 7.71875 1.703125 \n",
       "L 7.71875 11.625 \n",
       "Q 12.109375 9.234375 16.796875 8.0625 \n",
       "Q 21.484375 6.890625 26.703125 6.890625 \n",
       "Q 35.15625 6.890625 40.078125 11.328125 \n",
       "Q 45.015625 15.765625 45.015625 23.390625 \n",
       "Q 45.015625 31 40.078125 35.4375 \n",
       "Q 35.15625 39.890625 26.703125 39.890625 \n",
       "Q 22.75 39.890625 18.8125 39.015625 \n",
       "Q 14.890625 38.140625 10.796875 36.28125 \n",
       "z\n",
       "\" id=\"DejaVuSans-53\"/>\n",
       "        <path d=\"M 30.609375 48.390625 \n",
       "Q 23.390625 48.390625 19.1875 42.75 \n",
       "Q 14.984375 37.109375 14.984375 27.296875 \n",
       "Q 14.984375 17.484375 19.15625 11.84375 \n",
       "Q 23.34375 6.203125 30.609375 6.203125 \n",
       "Q 37.796875 6.203125 41.984375 11.859375 \n",
       "Q 46.1875 17.53125 46.1875 27.296875 \n",
       "Q 46.1875 37.015625 41.984375 42.703125 \n",
       "Q 37.796875 48.390625 30.609375 48.390625 \n",
       "z\n",
       "M 30.609375 56 \n",
       "Q 42.328125 56 49.015625 48.375 \n",
       "Q 55.71875 40.765625 55.71875 27.296875 \n",
       "Q 55.71875 13.875 49.015625 6.21875 \n",
       "Q 42.328125 -1.421875 30.609375 -1.421875 \n",
       "Q 18.84375 -1.421875 12.171875 6.21875 \n",
       "Q 5.515625 13.875 5.515625 27.296875 \n",
       "Q 5.515625 40.765625 12.171875 48.375 \n",
       "Q 18.84375 56 30.609375 56 \n",
       "z\n",
       "\" id=\"DejaVuSans-111\"/>\n",
       "        <path d=\"M 5.515625 54.6875 \n",
       "L 48.1875 54.6875 \n",
       "L 48.1875 46.484375 \n",
       "L 14.40625 7.171875 \n",
       "L 48.1875 7.171875 \n",
       "L 48.1875 0 \n",
       "L 4.296875 0 \n",
       "L 4.296875 8.203125 \n",
       "L 38.09375 47.515625 \n",
       "L 5.515625 47.515625 \n",
       "z\n",
       "\" id=\"DejaVuSans-122\"/>\n",
       "       </defs>\n",
       "       <use xlink:href=\"#DejaVuSans-50\"/>\n",
       "       <use x=\"63.623047\" xlink:href=\"#DejaVuSans-46\"/>\n",
       "       <use x=\"95.410156\" xlink:href=\"#DejaVuSans-53\"/>\n",
       "       <use x=\"159.033203\" xlink:href=\"#DejaVuSans-111\"/>\n",
       "       <use x=\"220.214844\" xlink:href=\"#DejaVuSans-122\"/>\n",
       "      </g>\n",
       "     </g>\n",
       "    </g>\n",
       "    <g id=\"xtick_2\">\n",
       "     <g id=\"line2d_2\">\n",
       "      <g>\n",
       "       <use style=\"stroke:#000000;stroke-width:0.8;\" x=\"347.346591\" xlink:href=\"#m809c77d98e\" y=\"328.6\"/>\n",
       "      </g>\n",
       "     </g>\n",
       "     <g id=\"text_2\">\n",
       "      <!-- 4oz -->\n",
       "      <g transform=\"translate(338.481747 343.198437)scale(0.1 -0.1)\">\n",
       "       <defs>\n",
       "        <path d=\"M 37.796875 64.3125 \n",
       "L 12.890625 25.390625 \n",
       "L 37.796875 25.390625 \n",
       "z\n",
       "M 35.203125 72.90625 \n",
       "L 47.609375 72.90625 \n",
       "L 47.609375 25.390625 \n",
       "L 58.015625 25.390625 \n",
       "L 58.015625 17.1875 \n",
       "L 47.609375 17.1875 \n",
       "L 47.609375 0 \n",
       "L 37.796875 0 \n",
       "L 37.796875 17.1875 \n",
       "L 4.890625 17.1875 \n",
       "L 4.890625 26.703125 \n",
       "z\n",
       "\" id=\"DejaVuSans-52\"/>\n",
       "       </defs>\n",
       "       <use xlink:href=\"#DejaVuSans-52\"/>\n",
       "       <use x=\"63.623047\" xlink:href=\"#DejaVuSans-111\"/>\n",
       "       <use x=\"124.804688\" xlink:href=\"#DejaVuSans-122\"/>\n",
       "      </g>\n",
       "     </g>\n",
       "    </g>\n",
       "    <g id=\"text_3\">\n",
       "     <!-- amount -->\n",
       "     <g transform=\"translate(191.396094 356.876562)scale(0.1 -0.1)\">\n",
       "      <defs>\n",
       "       <path d=\"M 34.28125 27.484375 \n",
       "Q 23.390625 27.484375 19.1875 25 \n",
       "Q 14.984375 22.515625 14.984375 16.5 \n",
       "Q 14.984375 11.71875 18.140625 8.90625 \n",
       "Q 21.296875 6.109375 26.703125 6.109375 \n",
       "Q 34.1875 6.109375 38.703125 11.40625 \n",
       "Q 43.21875 16.703125 43.21875 25.484375 \n",
       "L 43.21875 27.484375 \n",
       "z\n",
       "M 52.203125 31.203125 \n",
       "L 52.203125 0 \n",
       "L 43.21875 0 \n",
       "L 43.21875 8.296875 \n",
       "Q 40.140625 3.328125 35.546875 0.953125 \n",
       "Q 30.953125 -1.421875 24.3125 -1.421875 \n",
       "Q 15.921875 -1.421875 10.953125 3.296875 \n",
       "Q 6 8.015625 6 15.921875 \n",
       "Q 6 25.140625 12.171875 29.828125 \n",
       "Q 18.359375 34.515625 30.609375 34.515625 \n",
       "L 43.21875 34.515625 \n",
       "L 43.21875 35.40625 \n",
       "Q 43.21875 41.609375 39.140625 45 \n",
       "Q 35.0625 48.390625 27.6875 48.390625 \n",
       "Q 23 48.390625 18.546875 47.265625 \n",
       "Q 14.109375 46.140625 10.015625 43.890625 \n",
       "L 10.015625 52.203125 \n",
       "Q 14.9375 54.109375 19.578125 55.046875 \n",
       "Q 24.21875 56 28.609375 56 \n",
       "Q 40.484375 56 46.34375 49.84375 \n",
       "Q 52.203125 43.703125 52.203125 31.203125 \n",
       "z\n",
       "\" id=\"DejaVuSans-97\"/>\n",
       "       <path d=\"M 52 44.1875 \n",
       "Q 55.375 50.25 60.0625 53.125 \n",
       "Q 64.75 56 71.09375 56 \n",
       "Q 79.640625 56 84.28125 50.015625 \n",
       "Q 88.921875 44.046875 88.921875 33.015625 \n",
       "L 88.921875 0 \n",
       "L 79.890625 0 \n",
       "L 79.890625 32.71875 \n",
       "Q 79.890625 40.578125 77.09375 44.375 \n",
       "Q 74.3125 48.1875 68.609375 48.1875 \n",
       "Q 61.625 48.1875 57.5625 43.546875 \n",
       "Q 53.515625 38.921875 53.515625 30.90625 \n",
       "L 53.515625 0 \n",
       "L 44.484375 0 \n",
       "L 44.484375 32.71875 \n",
       "Q 44.484375 40.625 41.703125 44.40625 \n",
       "Q 38.921875 48.1875 33.109375 48.1875 \n",
       "Q 26.21875 48.1875 22.15625 43.53125 \n",
       "Q 18.109375 38.875 18.109375 30.90625 \n",
       "L 18.109375 0 \n",
       "L 9.078125 0 \n",
       "L 9.078125 54.6875 \n",
       "L 18.109375 54.6875 \n",
       "L 18.109375 46.1875 \n",
       "Q 21.1875 51.21875 25.484375 53.609375 \n",
       "Q 29.78125 56 35.6875 56 \n",
       "Q 41.65625 56 45.828125 52.96875 \n",
       "Q 50 49.953125 52 44.1875 \n",
       "z\n",
       "\" id=\"DejaVuSans-109\"/>\n",
       "       <path d=\"M 8.5 21.578125 \n",
       "L 8.5 54.6875 \n",
       "L 17.484375 54.6875 \n",
       "L 17.484375 21.921875 \n",
       "Q 17.484375 14.15625 20.5 10.265625 \n",
       "Q 23.53125 6.390625 29.59375 6.390625 \n",
       "Q 36.859375 6.390625 41.078125 11.03125 \n",
       "Q 45.3125 15.671875 45.3125 23.6875 \n",
       "L 45.3125 54.6875 \n",
       "L 54.296875 54.6875 \n",
       "L 54.296875 0 \n",
       "L 45.3125 0 \n",
       "L 45.3125 8.40625 \n",
       "Q 42.046875 3.421875 37.71875 1 \n",
       "Q 33.40625 -1.421875 27.6875 -1.421875 \n",
       "Q 18.265625 -1.421875 13.375 4.4375 \n",
       "Q 8.5 10.296875 8.5 21.578125 \n",
       "z\n",
       "M 31.109375 56 \n",
       "z\n",
       "\" id=\"DejaVuSans-117\"/>\n",
       "       <path d=\"M 54.890625 33.015625 \n",
       "L 54.890625 0 \n",
       "L 45.90625 0 \n",
       "L 45.90625 32.71875 \n",
       "Q 45.90625 40.484375 42.875 44.328125 \n",
       "Q 39.84375 48.1875 33.796875 48.1875 \n",
       "Q 26.515625 48.1875 22.3125 43.546875 \n",
       "Q 18.109375 38.921875 18.109375 30.90625 \n",
       "L 18.109375 0 \n",
       "L 9.078125 0 \n",
       "L 9.078125 54.6875 \n",
       "L 18.109375 54.6875 \n",
       "L 18.109375 46.1875 \n",
       "Q 21.34375 51.125 25.703125 53.5625 \n",
       "Q 30.078125 56 35.796875 56 \n",
       "Q 45.21875 56 50.046875 50.171875 \n",
       "Q 54.890625 44.34375 54.890625 33.015625 \n",
       "z\n",
       "\" id=\"DejaVuSans-110\"/>\n",
       "       <path d=\"M 18.3125 70.21875 \n",
       "L 18.3125 54.6875 \n",
       "L 36.8125 54.6875 \n",
       "L 36.8125 47.703125 \n",
       "L 18.3125 47.703125 \n",
       "L 18.3125 18.015625 \n",
       "Q 18.3125 11.328125 20.140625 9.421875 \n",
       "Q 21.96875 7.515625 27.59375 7.515625 \n",
       "L 36.8125 7.515625 \n",
       "L 36.8125 0 \n",
       "L 27.59375 0 \n",
       "Q 17.1875 0 13.234375 3.875 \n",
       "Q 9.28125 7.765625 9.28125 18.015625 \n",
       "L 9.28125 47.703125 \n",
       "L 2.6875 47.703125 \n",
       "L 2.6875 54.6875 \n",
       "L 9.28125 54.6875 \n",
       "L 9.28125 70.21875 \n",
       "z\n",
       "\" id=\"DejaVuSans-116\"/>\n",
       "      </defs>\n",
       "      <use xlink:href=\"#DejaVuSans-97\"/>\n",
       "      <use x=\"61.279297\" xlink:href=\"#DejaVuSans-109\"/>\n",
       "      <use x=\"158.691406\" xlink:href=\"#DejaVuSans-111\"/>\n",
       "      <use x=\"219.873047\" xlink:href=\"#DejaVuSans-117\"/>\n",
       "      <use x=\"283.251953\" xlink:href=\"#DejaVuSans-110\"/>\n",
       "      <use x=\"346.630859\" xlink:href=\"#DejaVuSans-116\"/>\n",
       "     </g>\n",
       "    </g>\n",
       "   </g>\n",
       "   <g id=\"matplotlib.axis_2\">\n",
       "    <g id=\"ytick_1\">\n",
       "     <g id=\"line2d_3\">\n",
       "      <defs>\n",
       "       <path d=\"M 0 0 \n",
       "L -3.5 0 \n",
       "\" id=\"m7a6f827b09\" style=\"stroke:#000000;stroke-width:0.8;\"/>\n",
       "      </defs>\n",
       "      <g>\n",
       "       <use style=\"stroke:#000000;stroke-width:0.8;\" x=\"60.3625\" xlink:href=\"#m7a6f827b09\" y=\"313.990909\"/>\n",
       "      </g>\n",
       "     </g>\n",
       "     <g id=\"text_4\">\n",
       "      <!-- 8mm -->\n",
       "      <g transform=\"translate(27.51875 317.790128)scale(0.1 -0.1)\">\n",
       "       <defs>\n",
       "        <path d=\"M 31.78125 34.625 \n",
       "Q 24.75 34.625 20.71875 30.859375 \n",
       "Q 16.703125 27.09375 16.703125 20.515625 \n",
       "Q 16.703125 13.921875 20.71875 10.15625 \n",
       "Q 24.75 6.390625 31.78125 6.390625 \n",
       "Q 38.8125 6.390625 42.859375 10.171875 \n",
       "Q 46.921875 13.96875 46.921875 20.515625 \n",
       "Q 46.921875 27.09375 42.890625 30.859375 \n",
       "Q 38.875 34.625 31.78125 34.625 \n",
       "z\n",
       "M 21.921875 38.8125 \n",
       "Q 15.578125 40.375 12.03125 44.71875 \n",
       "Q 8.5 49.078125 8.5 55.328125 \n",
       "Q 8.5 64.0625 14.71875 69.140625 \n",
       "Q 20.953125 74.21875 31.78125 74.21875 \n",
       "Q 42.671875 74.21875 48.875 69.140625 \n",
       "Q 55.078125 64.0625 55.078125 55.328125 \n",
       "Q 55.078125 49.078125 51.53125 44.71875 \n",
       "Q 48 40.375 41.703125 38.8125 \n",
       "Q 48.828125 37.15625 52.796875 32.3125 \n",
       "Q 56.78125 27.484375 56.78125 20.515625 \n",
       "Q 56.78125 9.90625 50.3125 4.234375 \n",
       "Q 43.84375 -1.421875 31.78125 -1.421875 \n",
       "Q 19.734375 -1.421875 13.25 4.234375 \n",
       "Q 6.78125 9.90625 6.78125 20.515625 \n",
       "Q 6.78125 27.484375 10.78125 32.3125 \n",
       "Q 14.796875 37.15625 21.921875 38.8125 \n",
       "z\n",
       "M 18.3125 54.390625 \n",
       "Q 18.3125 48.734375 21.84375 45.5625 \n",
       "Q 25.390625 42.390625 31.78125 42.390625 \n",
       "Q 38.140625 42.390625 41.71875 45.5625 \n",
       "Q 45.3125 48.734375 45.3125 54.390625 \n",
       "Q 45.3125 60.0625 41.71875 63.234375 \n",
       "Q 38.140625 66.40625 31.78125 66.40625 \n",
       "Q 25.390625 66.40625 21.84375 63.234375 \n",
       "Q 18.3125 60.0625 18.3125 54.390625 \n",
       "z\n",
       "\" id=\"DejaVuSans-56\"/>\n",
       "       </defs>\n",
       "       <use xlink:href=\"#DejaVuSans-56\"/>\n",
       "       <use x=\"63.623047\" xlink:href=\"#DejaVuSans-109\"/>\n",
       "       <use x=\"161.035156\" xlink:href=\"#DejaVuSans-109\"/>\n",
       "      </g>\n",
       "     </g>\n",
       "    </g>\n",
       "    <g id=\"ytick_2\">\n",
       "     <g id=\"line2d_4\">\n",
       "      <g>\n",
       "       <use style=\"stroke:#000000;stroke-width:0.8;\" x=\"60.3625\" xlink:href=\"#m7a6f827b09\" y=\"21.809091\"/>\n",
       "      </g>\n",
       "     </g>\n",
       "     <g id=\"text_5\">\n",
       "      <!-- 10mm -->\n",
       "      <g transform=\"translate(21.15625 25.60831)scale(0.1 -0.1)\">\n",
       "       <defs>\n",
       "        <path d=\"M 12.40625 8.296875 \n",
       "L 28.515625 8.296875 \n",
       "L 28.515625 63.921875 \n",
       "L 10.984375 60.40625 \n",
       "L 10.984375 69.390625 \n",
       "L 28.421875 72.90625 \n",
       "L 38.28125 72.90625 \n",
       "L 38.28125 8.296875 \n",
       "L 54.390625 8.296875 \n",
       "L 54.390625 0 \n",
       "L 12.40625 0 \n",
       "z\n",
       "\" id=\"DejaVuSans-49\"/>\n",
       "        <path d=\"M 31.78125 66.40625 \n",
       "Q 24.171875 66.40625 20.328125 58.90625 \n",
       "Q 16.5 51.421875 16.5 36.375 \n",
       "Q 16.5 21.390625 20.328125 13.890625 \n",
       "Q 24.171875 6.390625 31.78125 6.390625 \n",
       "Q 39.453125 6.390625 43.28125 13.890625 \n",
       "Q 47.125 21.390625 47.125 36.375 \n",
       "Q 47.125 51.421875 43.28125 58.90625 \n",
       "Q 39.453125 66.40625 31.78125 66.40625 \n",
       "z\n",
       "M 31.78125 74.21875 \n",
       "Q 44.046875 74.21875 50.515625 64.515625 \n",
       "Q 56.984375 54.828125 56.984375 36.375 \n",
       "Q 56.984375 17.96875 50.515625 8.265625 \n",
       "Q 44.046875 -1.421875 31.78125 -1.421875 \n",
       "Q 19.53125 -1.421875 13.0625 8.265625 \n",
       "Q 6.59375 17.96875 6.59375 36.375 \n",
       "Q 6.59375 54.828125 13.0625 64.515625 \n",
       "Q 19.53125 74.21875 31.78125 74.21875 \n",
       "z\n",
       "\" id=\"DejaVuSans-48\"/>\n",
       "       </defs>\n",
       "       <use xlink:href=\"#DejaVuSans-49\"/>\n",
       "       <use x=\"63.623047\" xlink:href=\"#DejaVuSans-48\"/>\n",
       "       <use x=\"127.246094\" xlink:href=\"#DejaVuSans-109\"/>\n",
       "       <use x=\"224.658203\" xlink:href=\"#DejaVuSans-109\"/>\n",
       "      </g>\n",
       "     </g>\n",
       "    </g>\n",
       "    <g id=\"text_6\">\n",
       "     <!-- grind_size -->\n",
       "     <g transform=\"translate(14.798438 193.05625)rotate(-90)scale(0.1 -0.1)\">\n",
       "      <defs>\n",
       "       <path d=\"M 45.40625 27.984375 \n",
       "Q 45.40625 37.75 41.375 43.109375 \n",
       "Q 37.359375 48.484375 30.078125 48.484375 \n",
       "Q 22.859375 48.484375 18.828125 43.109375 \n",
       "Q 14.796875 37.75 14.796875 27.984375 \n",
       "Q 14.796875 18.265625 18.828125 12.890625 \n",
       "Q 22.859375 7.515625 30.078125 7.515625 \n",
       "Q 37.359375 7.515625 41.375 12.890625 \n",
       "Q 45.40625 18.265625 45.40625 27.984375 \n",
       "z\n",
       "M 54.390625 6.78125 \n",
       "Q 54.390625 -7.171875 48.1875 -13.984375 \n",
       "Q 42 -20.796875 29.203125 -20.796875 \n",
       "Q 24.46875 -20.796875 20.265625 -20.09375 \n",
       "Q 16.0625 -19.390625 12.109375 -17.921875 \n",
       "L 12.109375 -9.1875 \n",
       "Q 16.0625 -11.328125 19.921875 -12.34375 \n",
       "Q 23.78125 -13.375 27.78125 -13.375 \n",
       "Q 36.625 -13.375 41.015625 -8.765625 \n",
       "Q 45.40625 -4.15625 45.40625 5.171875 \n",
       "L 45.40625 9.625 \n",
       "Q 42.625 4.78125 38.28125 2.390625 \n",
       "Q 33.9375 0 27.875 0 \n",
       "Q 17.828125 0 11.671875 7.65625 \n",
       "Q 5.515625 15.328125 5.515625 27.984375 \n",
       "Q 5.515625 40.671875 11.671875 48.328125 \n",
       "Q 17.828125 56 27.875 56 \n",
       "Q 33.9375 56 38.28125 53.609375 \n",
       "Q 42.625 51.21875 45.40625 46.390625 \n",
       "L 45.40625 54.6875 \n",
       "L 54.390625 54.6875 \n",
       "z\n",
       "\" id=\"DejaVuSans-103\"/>\n",
       "       <path d=\"M 41.109375 46.296875 \n",
       "Q 39.59375 47.171875 37.8125 47.578125 \n",
       "Q 36.03125 48 33.890625 48 \n",
       "Q 26.265625 48 22.1875 43.046875 \n",
       "Q 18.109375 38.09375 18.109375 28.8125 \n",
       "L 18.109375 0 \n",
       "L 9.078125 0 \n",
       "L 9.078125 54.6875 \n",
       "L 18.109375 54.6875 \n",
       "L 18.109375 46.1875 \n",
       "Q 20.953125 51.171875 25.484375 53.578125 \n",
       "Q 30.03125 56 36.53125 56 \n",
       "Q 37.453125 56 38.578125 55.875 \n",
       "Q 39.703125 55.765625 41.0625 55.515625 \n",
       "z\n",
       "\" id=\"DejaVuSans-114\"/>\n",
       "       <path d=\"M 9.421875 54.6875 \n",
       "L 18.40625 54.6875 \n",
       "L 18.40625 0 \n",
       "L 9.421875 0 \n",
       "z\n",
       "M 9.421875 75.984375 \n",
       "L 18.40625 75.984375 \n",
       "L 18.40625 64.59375 \n",
       "L 9.421875 64.59375 \n",
       "z\n",
       "\" id=\"DejaVuSans-105\"/>\n",
       "       <path d=\"M 45.40625 46.390625 \n",
       "L 45.40625 75.984375 \n",
       "L 54.390625 75.984375 \n",
       "L 54.390625 0 \n",
       "L 45.40625 0 \n",
       "L 45.40625 8.203125 \n",
       "Q 42.578125 3.328125 38.25 0.953125 \n",
       "Q 33.9375 -1.421875 27.875 -1.421875 \n",
       "Q 17.96875 -1.421875 11.734375 6.484375 \n",
       "Q 5.515625 14.40625 5.515625 27.296875 \n",
       "Q 5.515625 40.1875 11.734375 48.09375 \n",
       "Q 17.96875 56 27.875 56 \n",
       "Q 33.9375 56 38.25 53.625 \n",
       "Q 42.578125 51.265625 45.40625 46.390625 \n",
       "z\n",
       "M 14.796875 27.296875 \n",
       "Q 14.796875 17.390625 18.875 11.75 \n",
       "Q 22.953125 6.109375 30.078125 6.109375 \n",
       "Q 37.203125 6.109375 41.296875 11.75 \n",
       "Q 45.40625 17.390625 45.40625 27.296875 \n",
       "Q 45.40625 37.203125 41.296875 42.84375 \n",
       "Q 37.203125 48.484375 30.078125 48.484375 \n",
       "Q 22.953125 48.484375 18.875 42.84375 \n",
       "Q 14.796875 37.203125 14.796875 27.296875 \n",
       "z\n",
       "\" id=\"DejaVuSans-100\"/>\n",
       "       <path d=\"M 50.984375 -16.609375 \n",
       "L 50.984375 -23.578125 \n",
       "L -0.984375 -23.578125 \n",
       "L -0.984375 -16.609375 \n",
       "z\n",
       "\" id=\"DejaVuSans-95\"/>\n",
       "       <path d=\"M 44.28125 53.078125 \n",
       "L 44.28125 44.578125 \n",
       "Q 40.484375 46.53125 36.375 47.5 \n",
       "Q 32.28125 48.484375 27.875 48.484375 \n",
       "Q 21.1875 48.484375 17.84375 46.4375 \n",
       "Q 14.5 44.390625 14.5 40.28125 \n",
       "Q 14.5 37.15625 16.890625 35.375 \n",
       "Q 19.28125 33.59375 26.515625 31.984375 \n",
       "L 29.59375 31.296875 \n",
       "Q 39.15625 29.25 43.1875 25.515625 \n",
       "Q 47.21875 21.78125 47.21875 15.09375 \n",
       "Q 47.21875 7.46875 41.1875 3.015625 \n",
       "Q 35.15625 -1.421875 24.609375 -1.421875 \n",
       "Q 20.21875 -1.421875 15.453125 -0.5625 \n",
       "Q 10.6875 0.296875 5.421875 2 \n",
       "L 5.421875 11.28125 \n",
       "Q 10.40625 8.6875 15.234375 7.390625 \n",
       "Q 20.0625 6.109375 24.8125 6.109375 \n",
       "Q 31.15625 6.109375 34.5625 8.28125 \n",
       "Q 37.984375 10.453125 37.984375 14.40625 \n",
       "Q 37.984375 18.0625 35.515625 20.015625 \n",
       "Q 33.0625 21.96875 24.703125 23.78125 \n",
       "L 21.578125 24.515625 \n",
       "Q 13.234375 26.265625 9.515625 29.90625 \n",
       "Q 5.8125 33.546875 5.8125 39.890625 \n",
       "Q 5.8125 47.609375 11.28125 51.796875 \n",
       "Q 16.75 56 26.8125 56 \n",
       "Q 31.78125 56 36.171875 55.265625 \n",
       "Q 40.578125 54.546875 44.28125 53.078125 \n",
       "z\n",
       "\" id=\"DejaVuSans-115\"/>\n",
       "       <path d=\"M 56.203125 29.59375 \n",
       "L 56.203125 25.203125 \n",
       "L 14.890625 25.203125 \n",
       "Q 15.484375 15.921875 20.484375 11.0625 \n",
       "Q 25.484375 6.203125 34.421875 6.203125 \n",
       "Q 39.59375 6.203125 44.453125 7.46875 \n",
       "Q 49.3125 8.734375 54.109375 11.28125 \n",
       "L 54.109375 2.78125 \n",
       "Q 49.265625 0.734375 44.1875 -0.34375 \n",
       "Q 39.109375 -1.421875 33.890625 -1.421875 \n",
       "Q 20.796875 -1.421875 13.15625 6.1875 \n",
       "Q 5.515625 13.8125 5.515625 26.8125 \n",
       "Q 5.515625 40.234375 12.765625 48.109375 \n",
       "Q 20.015625 56 32.328125 56 \n",
       "Q 43.359375 56 49.78125 48.890625 \n",
       "Q 56.203125 41.796875 56.203125 29.59375 \n",
       "z\n",
       "M 47.21875 32.234375 \n",
       "Q 47.125 39.59375 43.09375 43.984375 \n",
       "Q 39.0625 48.390625 32.421875 48.390625 \n",
       "Q 24.90625 48.390625 20.390625 44.140625 \n",
       "Q 15.875 39.890625 15.1875 32.171875 \n",
       "z\n",
       "\" id=\"DejaVuSans-101\"/>\n",
       "      </defs>\n",
       "      <use xlink:href=\"#DejaVuSans-103\"/>\n",
       "      <use x=\"63.476562\" xlink:href=\"#DejaVuSans-114\"/>\n",
       "      <use x=\"104.589844\" xlink:href=\"#DejaVuSans-105\"/>\n",
       "      <use x=\"132.373047\" xlink:href=\"#DejaVuSans-110\"/>\n",
       "      <use x=\"195.751953\" xlink:href=\"#DejaVuSans-100\"/>\n",
       "      <use x=\"259.228516\" xlink:href=\"#DejaVuSans-95\"/>\n",
       "      <use x=\"309.228516\" xlink:href=\"#DejaVuSans-115\"/>\n",
       "      <use x=\"361.328125\" xlink:href=\"#DejaVuSans-105\"/>\n",
       "      <use x=\"389.111328\" xlink:href=\"#DejaVuSans-122\"/>\n",
       "      <use x=\"441.601562\" xlink:href=\"#DejaVuSans-101\"/>\n",
       "     </g>\n",
       "    </g>\n",
       "   </g>\n",
       "   <g id=\"patch_5\">\n",
       "    <path d=\"M 60.3625 328.6 \n",
       "L 60.3625 7.2 \n",
       "\" style=\"fill:none;stroke:#000000;stroke-linecap:square;stroke-linejoin:miter;stroke-width:0.8;\"/>\n",
       "   </g>\n",
       "   <g id=\"patch_6\">\n",
       "    <path d=\"M 60.3625 328.6 \n",
       "L 361.0125 328.6 \n",
       "\" style=\"fill:none;stroke:#000000;stroke-linecap:square;stroke-linejoin:miter;stroke-width:0.8;\"/>\n",
       "   </g>\n",
       "  </g>\n",
       " </g>\n",
       " <defs>\n",
       "  <clipPath id=\"p6263de0ceb\">\n",
       "   <rect height=\"321.4\" width=\"300.65\" x=\"60.3625\" y=\"7.2\"/>\n",
       "  </clipPath>\n",
       " </defs>\n",
       "</svg>\n"
      ],
      "text/plain": [
       "<Figure size 360x360 with 1 Axes>"
      ]
     },
     "metadata": {
      "needs_background": "light"
     },
     "output_type": "display_data"
    }
   ],
   "source": [
    "points = [\n",
    "    [-1, -1],\n",
    "    [-1, 1],\n",
    "    [1, -1],\n",
    "    [-1, -1],\n",
    "    [-1, 1],\n",
    "    [1, -1],\n",
    "]\n",
    "df = pd.DataFrame(points, columns=['grind_size', 'amount'])\n",
    "fg = sns.lmplot('amount', 'grind_size', data=df, fit_reg=False)\n",
    "\n",
    "p = patches.Polygon(points, color=\"navy\", alpha=0.3, lw=2)\n",
    "ax = fg.axes[0, 0]\n",
    "ax.add_patch(p)\n",
    "ax.set_xticks([-1, 1])\n",
    "ax.set_xticklabels(get_tick_labels('amount', actual_lows, actual_highs, units))\n",
    "ax.set_yticks([-1, 1])\n",
    "ax.set_yticklabels(get_tick_labels('grind_size', actual_lows, actual_highs, units))\n",
    "\n",
    "p = patches.Polygon([[-1, 1], [1, 1], [1, -1]], color=\"firebrick\", alpha=0.3, lw=2)\n",
    "p = ax.add_patch(p)\n"
   ]
  },
  {
   "cell_type": "code",
   "execution_count": 7,
   "metadata": {
    "collapsed": false,
    "jupyter": {
     "outputs_hidden": false
    },
    "slideshow": {
     "slide_type": "skip"
    }
   },
   "outputs": [
    {
     "ename": "AttributeError",
     "evalue": "'Axes3DSubplot' object has no property 'axisbg'",
     "output_type": "error",
     "traceback": [
      "\u001b[0;31m---------------------------------------------------------------------------\u001b[0m",
      "\u001b[0;31mAttributeError\u001b[0m                            Traceback (most recent call last)",
      "\u001b[0;32m<ipython-input-7-12b0d8c17964>\u001b[0m in \u001b[0;36m<module>\u001b[0;34m\u001b[0m\n\u001b[1;32m      4\u001b[0m \u001b[0mfig\u001b[0m \u001b[0;34m=\u001b[0m \u001b[0mplt\u001b[0m\u001b[0;34m.\u001b[0m\u001b[0mfigure\u001b[0m\u001b[0;34m(\u001b[0m\u001b[0;34m)\u001b[0m\u001b[0;34m\u001b[0m\u001b[0;34m\u001b[0m\u001b[0m\n\u001b[1;32m      5\u001b[0m \u001b[0;34m\u001b[0m\u001b[0m\n\u001b[0;32m----> 6\u001b[0;31m \u001b[0max\u001b[0m \u001b[0;34m=\u001b[0m \u001b[0mfig\u001b[0m\u001b[0;34m.\u001b[0m\u001b[0madd_subplot\u001b[0m\u001b[0;34m(\u001b[0m\u001b[0;36m111\u001b[0m\u001b[0;34m,\u001b[0m \u001b[0mprojection\u001b[0m\u001b[0;34m=\u001b[0m\u001b[0;34m'3d'\u001b[0m\u001b[0;34m,\u001b[0m \u001b[0maxisbg\u001b[0m\u001b[0;34m=\u001b[0m\u001b[0;34m'w'\u001b[0m\u001b[0;34m)\u001b[0m\u001b[0;34m\u001b[0m\u001b[0;34m\u001b[0m\u001b[0m\n\u001b[0m\u001b[1;32m      7\u001b[0m \u001b[0max\u001b[0m\u001b[0;34m.\u001b[0m\u001b[0mview_init\u001b[0m\u001b[0;34m(\u001b[0m\u001b[0;36m30\u001b[0m\u001b[0;34m,\u001b[0m \u001b[0;34m-\u001b[0m\u001b[0;36m60\u001b[0m\u001b[0;34m)\u001b[0m \u001b[0;31m# rotate plot\u001b[0m\u001b[0;34m\u001b[0m\u001b[0;34m\u001b[0m\u001b[0m\n\u001b[1;32m      8\u001b[0m \u001b[0;34m\u001b[0m\u001b[0m\n",
      "\u001b[0;32m/usr/local/anaconda3/envs/Dissertation/lib/python3.8/site-packages/matplotlib/figure.py\u001b[0m in \u001b[0;36madd_subplot\u001b[0;34m(self, *args, **kwargs)\u001b[0m\n\u001b[1;32m   1400\u001b[0m                     \u001b[0;31m# more similar to add_axes.\u001b[0m\u001b[0;34m\u001b[0m\u001b[0;34m\u001b[0m\u001b[0;34m\u001b[0m\u001b[0m\n\u001b[1;32m   1401\u001b[0m                     \u001b[0mself\u001b[0m\u001b[0;34m.\u001b[0m\u001b[0m_axstack\u001b[0m\u001b[0;34m.\u001b[0m\u001b[0mremove\u001b[0m\u001b[0;34m(\u001b[0m\u001b[0max\u001b[0m\u001b[0;34m)\u001b[0m\u001b[0;34m\u001b[0m\u001b[0;34m\u001b[0m\u001b[0m\n\u001b[0;32m-> 1402\u001b[0;31m             \u001b[0max\u001b[0m \u001b[0;34m=\u001b[0m \u001b[0msubplot_class_factory\u001b[0m\u001b[0;34m(\u001b[0m\u001b[0mprojection_class\u001b[0m\u001b[0;34m)\u001b[0m\u001b[0;34m(\u001b[0m\u001b[0mself\u001b[0m\u001b[0;34m,\u001b[0m \u001b[0;34m*\u001b[0m\u001b[0margs\u001b[0m\u001b[0;34m,\u001b[0m \u001b[0;34m**\u001b[0m\u001b[0mkwargs\u001b[0m\u001b[0;34m)\u001b[0m\u001b[0;34m\u001b[0m\u001b[0;34m\u001b[0m\u001b[0m\n\u001b[0m\u001b[1;32m   1403\u001b[0m \u001b[0;34m\u001b[0m\u001b[0m\n\u001b[1;32m   1404\u001b[0m         \u001b[0;32mreturn\u001b[0m \u001b[0mself\u001b[0m\u001b[0;34m.\u001b[0m\u001b[0m_add_axes_internal\u001b[0m\u001b[0;34m(\u001b[0m\u001b[0mkey\u001b[0m\u001b[0;34m,\u001b[0m \u001b[0max\u001b[0m\u001b[0;34m)\u001b[0m\u001b[0;34m\u001b[0m\u001b[0;34m\u001b[0m\u001b[0m\n",
      "\u001b[0;32m/usr/local/anaconda3/envs/Dissertation/lib/python3.8/site-packages/matplotlib/axes/_subplots.py\u001b[0m in \u001b[0;36m__init__\u001b[0;34m(self, fig, *args, **kwargs)\u001b[0m\n\u001b[1;32m     40\u001b[0m         \u001b[0mself\u001b[0m\u001b[0;34m.\u001b[0m\u001b[0mupdate_params\u001b[0m\u001b[0;34m(\u001b[0m\u001b[0;34m)\u001b[0m\u001b[0;34m\u001b[0m\u001b[0;34m\u001b[0m\u001b[0m\n\u001b[1;32m     41\u001b[0m         \u001b[0;31m# _axes_class is set in the subplot_class_factory\u001b[0m\u001b[0;34m\u001b[0m\u001b[0;34m\u001b[0m\u001b[0;34m\u001b[0m\u001b[0m\n\u001b[0;32m---> 42\u001b[0;31m         \u001b[0mself\u001b[0m\u001b[0;34m.\u001b[0m\u001b[0m_axes_class\u001b[0m\u001b[0;34m.\u001b[0m\u001b[0m__init__\u001b[0m\u001b[0;34m(\u001b[0m\u001b[0mself\u001b[0m\u001b[0;34m,\u001b[0m \u001b[0mfig\u001b[0m\u001b[0;34m,\u001b[0m \u001b[0mself\u001b[0m\u001b[0;34m.\u001b[0m\u001b[0mfigbox\u001b[0m\u001b[0;34m,\u001b[0m \u001b[0;34m**\u001b[0m\u001b[0mkwargs\u001b[0m\u001b[0;34m)\u001b[0m\u001b[0;34m\u001b[0m\u001b[0;34m\u001b[0m\u001b[0m\n\u001b[0m\u001b[1;32m     43\u001b[0m         \u001b[0;31m# add a layout box to this, for both the full axis, and the poss\u001b[0m\u001b[0;34m\u001b[0m\u001b[0;34m\u001b[0m\u001b[0;34m\u001b[0m\u001b[0m\n\u001b[1;32m     44\u001b[0m         \u001b[0;31m# of the axis.  We need both because the axes may become smaller\u001b[0m\u001b[0;34m\u001b[0m\u001b[0;34m\u001b[0m\u001b[0;34m\u001b[0m\u001b[0m\n",
      "\u001b[0;32m/usr/local/anaconda3/envs/Dissertation/lib/python3.8/site-packages/mpl_toolkits/mplot3d/axes3d.py\u001b[0m in \u001b[0;36m__init__\u001b[0;34m(self, fig, rect, azim, elev, sharez, proj_type, box_aspect, *args, **kwargs)\u001b[0m\n\u001b[1;32m    103\u001b[0m             \u001b[0mself\u001b[0m\u001b[0;34m.\u001b[0m\u001b[0m_adjustable\u001b[0m \u001b[0;34m=\u001b[0m \u001b[0;34m'datalim'\u001b[0m\u001b[0;34m\u001b[0m\u001b[0;34m\u001b[0m\u001b[0m\n\u001b[1;32m    104\u001b[0m \u001b[0;34m\u001b[0m\u001b[0m\n\u001b[0;32m--> 105\u001b[0;31m         super().__init__(\n\u001b[0m\u001b[1;32m    106\u001b[0m             \u001b[0mfig\u001b[0m\u001b[0;34m,\u001b[0m \u001b[0mrect\u001b[0m\u001b[0;34m,\u001b[0m \u001b[0mframeon\u001b[0m\u001b[0;34m=\u001b[0m\u001b[0;32mTrue\u001b[0m\u001b[0;34m,\u001b[0m \u001b[0mbox_aspect\u001b[0m\u001b[0;34m=\u001b[0m\u001b[0mbox_aspect\u001b[0m\u001b[0;34m,\u001b[0m \u001b[0;34m*\u001b[0m\u001b[0margs\u001b[0m\u001b[0;34m,\u001b[0m \u001b[0;34m**\u001b[0m\u001b[0mkwargs\u001b[0m\u001b[0;34m\u001b[0m\u001b[0;34m\u001b[0m\u001b[0m\n\u001b[1;32m    107\u001b[0m         )\n",
      "\u001b[0;32m/usr/local/anaconda3/envs/Dissertation/lib/python3.8/site-packages/matplotlib/axes/_base.py\u001b[0m in \u001b[0;36m__init__\u001b[0;34m(self, fig, rect, facecolor, frameon, sharex, sharey, label, xscale, yscale, box_aspect, **kwargs)\u001b[0m\n\u001b[1;32m    523\u001b[0m             \u001b[0mself\u001b[0m\u001b[0;34m.\u001b[0m\u001b[0mset_yscale\u001b[0m\u001b[0;34m(\u001b[0m\u001b[0myscale\u001b[0m\u001b[0;34m)\u001b[0m\u001b[0;34m\u001b[0m\u001b[0;34m\u001b[0m\u001b[0m\n\u001b[1;32m    524\u001b[0m \u001b[0;34m\u001b[0m\u001b[0m\n\u001b[0;32m--> 525\u001b[0;31m         \u001b[0mself\u001b[0m\u001b[0;34m.\u001b[0m\u001b[0mupdate\u001b[0m\u001b[0;34m(\u001b[0m\u001b[0mkwargs\u001b[0m\u001b[0;34m)\u001b[0m\u001b[0;34m\u001b[0m\u001b[0;34m\u001b[0m\u001b[0m\n\u001b[0m\u001b[1;32m    526\u001b[0m \u001b[0;34m\u001b[0m\u001b[0m\n\u001b[1;32m    527\u001b[0m         \u001b[0;32mif\u001b[0m \u001b[0mself\u001b[0m\u001b[0;34m.\u001b[0m\u001b[0mxaxis\u001b[0m \u001b[0;32mis\u001b[0m \u001b[0;32mnot\u001b[0m \u001b[0;32mNone\u001b[0m\u001b[0;34m:\u001b[0m\u001b[0;34m\u001b[0m\u001b[0;34m\u001b[0m\u001b[0m\n",
      "\u001b[0;32m/usr/local/anaconda3/envs/Dissertation/lib/python3.8/site-packages/matplotlib/artist.py\u001b[0m in \u001b[0;36mupdate\u001b[0;34m(self, props)\u001b[0m\n\u001b[1;32m    994\u001b[0m                     \u001b[0mfunc\u001b[0m \u001b[0;34m=\u001b[0m \u001b[0mgetattr\u001b[0m\u001b[0;34m(\u001b[0m\u001b[0mself\u001b[0m\u001b[0;34m,\u001b[0m \u001b[0;34mf\"set_{k}\"\u001b[0m\u001b[0;34m,\u001b[0m \u001b[0;32mNone\u001b[0m\u001b[0;34m)\u001b[0m\u001b[0;34m\u001b[0m\u001b[0;34m\u001b[0m\u001b[0m\n\u001b[1;32m    995\u001b[0m                     \u001b[0;32mif\u001b[0m \u001b[0;32mnot\u001b[0m \u001b[0mcallable\u001b[0m\u001b[0;34m(\u001b[0m\u001b[0mfunc\u001b[0m\u001b[0;34m)\u001b[0m\u001b[0;34m:\u001b[0m\u001b[0;34m\u001b[0m\u001b[0;34m\u001b[0m\u001b[0m\n\u001b[0;32m--> 996\u001b[0;31m                         raise AttributeError(f\"{type(self).__name__!r} object \"\n\u001b[0m\u001b[1;32m    997\u001b[0m                                              f\"has no property {k!r}\")\n\u001b[1;32m    998\u001b[0m                     \u001b[0mret\u001b[0m\u001b[0;34m.\u001b[0m\u001b[0mappend\u001b[0m\u001b[0;34m(\u001b[0m\u001b[0mfunc\u001b[0m\u001b[0;34m(\u001b[0m\u001b[0mv\u001b[0m\u001b[0;34m)\u001b[0m\u001b[0;34m)\u001b[0m\u001b[0;34m\u001b[0m\u001b[0;34m\u001b[0m\u001b[0m\n",
      "\u001b[0;31mAttributeError\u001b[0m: 'Axes3DSubplot' object has no property 'axisbg'"
     ]
    },
    {
     "data": {
      "text/plain": [
       "<Figure size 432x288 with 0 Axes>"
      ]
     },
     "metadata": {},
     "output_type": "display_data"
    }
   ],
   "source": [
    "cube_design = dexpy.factorial.build_factorial(3, 8)\n",
    "\n",
    "points = np.array(cube_design)\n",
    "fig = plt.figure()\n",
    "\n",
    "ax = fig.add_subplot(111, projection='3d', axisbg='w')\n",
    "ax.view_init(30, -60) # rotate plot\n",
    "\n",
    "X, Y = np.meshgrid([-1,1], [-1,1])\n",
    "\n",
    "cube_alpha = 0.1\n",
    "ax.plot_surface(X, Y, 1, alpha=cube_alpha, color=\"r\")\n",
    "ax.plot_surface(X, Y, -1, alpha=cube_alpha)\n",
    "ax.plot_surface(X, -1, Y, alpha=cube_alpha)\n",
    "ax.plot_surface(X, 1, Y, alpha=cube_alpha, color=\"r\")\n",
    "ax.plot_surface(1, X, Y, alpha=cube_alpha, color=\"r\")\n",
    "ax.plot_surface(-1, X, Y, alpha=cube_alpha)\n",
    "ax.scatter3D(points[:, 0], points[:, 1], points[:, 2],\n",
    "             c=[\"b\", \"b\", \"b\", \"r\", \"b\", \"r\", \"r\", \"r\"])\n",
    "\n",
    "ax.set_xticks([-1, 1])\n",
    "ax.set_xticklabels(get_tick_labels('grind_size', actual_lows, actual_highs, units))\n",
    "ax.set_yticks([-1, 1])\n",
    "ax.set_yticklabels(get_tick_labels('amount', actual_lows, actual_highs, units))\n",
    "ax.set_zticks([-1, 1])\n",
    "ax.set_zticklabels(get_tick_labels('beans', actual_lows, actual_highs, units))\n",
    "\n",
    "plt.show()"
   ]
  },
  {
   "cell_type": "markdown",
   "metadata": {
    "slideshow": {
     "slide_type": "slide"
    }
   },
   "source": [
    "# Factorial Design\n",
    "\n",
    "* Change multiple inputs at once\n",
    "* Reveals interactions\n",
    "* Maximizes information with minimum runs"
   ]
  },
  {
   "cell_type": "code",
   "execution_count": null,
   "metadata": {
    "collapsed": false,
    "jupyter": {
     "outputs_hidden": false
    },
    "slideshow": {
     "slide_type": "fragment"
    }
   },
   "outputs": [],
   "source": [
    "df = dexpy.factorial.build_factorial(2, 4)\n",
    "df.columns = ['amount', 'grind_size']\n",
    "\n",
    "fg = sns.lmplot('amount', 'grind_size', data=df, fit_reg=False)\n",
    "ax = fg.axes[0, 0]\n",
    "ax.set_xticks([-1, 1])\n",
    "ax.set_xticklabels(get_tick_labels('amount', actual_lows, actual_highs, units))\n",
    "ax.set_yticks([-1, 1])\n",
    "ax.set_yticklabels(get_tick_labels('grind_size', actual_lows, actual_highs, units))\n",
    "p = ax.add_patch(patches.Rectangle((-1, -1), 2, 2, color=\"navy\", alpha=0.3, lw=2))"
   ]
  },
  {
   "cell_type": "code",
   "execution_count": null,
   "metadata": {
    "collapsed": false,
    "jupyter": {
     "outputs_hidden": false
    },
    "slideshow": {
     "slide_type": "subslide"
    }
   },
   "outputs": [],
   "source": [
    "cube_design = dexpy.factorial.build_factorial(3, 8)\n",
    "\n",
    "points = np.array(cube_design)\n",
    "fig = plt.figure()\n",
    "\n",
    "ax = fig.add_subplot(111, projection='3d', axisbg='w')\n",
    "ax.view_init(30, -60) # rotate plot\n",
    "\n",
    "X, Y = np.meshgrid([-1,1], [-1,1])\n",
    "\n",
    "cube_alpha = 0.1\n",
    "ax.plot_surface(X, Y, 1, alpha=cube_alpha)\n",
    "ax.plot_surface(X, Y, -1, alpha=cube_alpha)\n",
    "ax.plot_surface(X, -1, Y, alpha=cube_alpha)\n",
    "ax.plot_surface(X, 1, Y, alpha=cube_alpha)\n",
    "ax.plot_surface(1, X, Y, alpha=cube_alpha)\n",
    "ax.plot_surface(-1, X, Y, alpha=cube_alpha)\n",
    "ax.scatter3D(points[:, 0], points[:, 1], points[:, 2], c=\"b\")\n",
    "\n",
    "ax.set_xticks([-1, 1])\n",
    "ax.set_xticklabels([\"8mm\", \"10mm\"])\n",
    "ax.set_yticks([-1, 1])\n",
    "ax.set_yticklabels([\"2.5oz\", \"4oz\"])\n",
    "ax.set_zticks([-1, 1])\n",
    "ax.set_zticklabels([\"light\", \"dark\"])\n",
    "\n",
    "plt.show()"
   ]
  },
  {
   "cell_type": "markdown",
   "metadata": {
    "slideshow": {
     "slide_type": "slide"
    }
   },
   "source": [
    "# Statistical Power\n",
    "\n",
    "The probability that a design will detect an active effect.\n",
    "\n",
    "| Effect?       | Retain H<sub>0</sub>   | Reject H<sub>0</sub>    |\n",
    "| ------------- |:-----------------------| -----------------------:|\n",
    "| **No**        | OK                     | Type 1 Error            |\n",
    "| **Yes**       | Type II Error          | OK                      |\n",
    "\n",
    "Power is expressed as a probability to detect an effect of size Δ, given noise σ. This is typically given as a delta to sigma ratio Δ/σ. Power is a function of the signal to noise ratio, as well as the number and layout of experiments in the design."
   ]
  },
  {
   "cell_type": "code",
   "execution_count": null,
   "metadata": {
    "collapsed": false,
    "jupyter": {
     "outputs_hidden": false
    },
    "slideshow": {
     "slide_type": "slide"
    }
   },
   "outputs": [],
   "source": [
    "runs = 50\n",
    "delta = 0.5\n",
    "sigma = 1.5\n",
    "alpha = 0.05\n",
    "\n",
    "one_factor = pd.DataFrame([ -1, 1 ] * runs, columns=['beans'])\n",
    "one_factor_power = dexpy.power.f_power('beans', one_factor, delta/sigma, alpha)\n",
    "\n",
    "display(Markdown('''\n",
    "# Power Example\n",
    "{} pots of coffee are tested with light beans, then {} pots with dark beans.\n",
    "There is a variance of {} taste rating from pot to pot. If we expect a {} change\n",
    "in the taste rating when going from light to dark, what is the likelihood we would detect it?\n",
    "(Answer: **{:.2f}%**)\n",
    "\n",
    "Note: this assumes that we reject H<sub>0</sub> at p <= {}\n",
    "'''.format(int(runs / 2), int(runs / 2), sigma, delta, one_factor_power[1]*100, alpha)\n",
    "))\n",
    "\n",
    "def plot_shift(runs, delta, sigma, annotate=False):\n",
    "    \"\"\"Plots two sets of random normal data, one shifted up delta units.\"\"\"\n",
    "    mean = 5\n",
    "    low = sigma*np.random.randn(int(runs/2),1)+mean\n",
    "    high = sigma*np.random.randn(int(runs/2),1)+mean+delta\n",
    "    fig = plt.figure()\n",
    "    ax = fig.add_subplot(111)\n",
    "    ax.set_ylabel(\"taste\")\n",
    "    ax.set_xlabel(\"runs\")\n",
    "    ax.set_ylim([0, 11])\n",
    "    \n",
    "    plt.plot(np.concatenate([low, high]))\n",
    "    plt.plot([0, (runs/2)], [low.mean()] * 2, color='firebrick', lw=2)\n",
    "    plt.plot([(runs/2), runs-1], [high.mean()] * 2, color='g', lw=2)\n",
    "    \n",
    "    p_value = scipy.stats.f_oneway(low, high).pvalue[0]\n",
    "    if annotate:\n",
    "        plt.annotate(\"p: {:.5f}\".format(p_value),\n",
    "                     xy=(runs / 2, (low.mean() + high.mean()) / 2), xycoords='data',\n",
    "                     xytext=(.8, .9), textcoords='axes fraction',\n",
    "                     bbox=dict(boxstyle=\"round4\", fc=\"w\"),\n",
    "                     arrowprops=dict(arrowstyle='-[', linewidth=2, color='black', connectionstyle=\"angle3\")\n",
    "                     )\n",
    "\n",
    "    plt.show()\n",
    "    return [low, high]\n",
    "\n",
    "low, high = plot_shift(runs, delta, sigma)"
   ]
  },
  {
   "cell_type": "code",
   "execution_count": null,
   "metadata": {
    "collapsed": false,
    "jupyter": {
     "outputs_hidden": false
    },
    "slideshow": {
     "slide_type": "subslide"
    }
   },
   "outputs": [],
   "source": [
    "increased_delta = delta*4\n",
    "increased_delta_power = dexpy.power.f_power('beans', one_factor, increased_delta/sigma, alpha)\n",
    "\n",
    "display(Markdown('''\n",
    "# Power Example - Increase Delta\n",
    "What if we don't care about a taste increase of 0.5? That's not that much better\n",
    "than the current coffee, after all. Instead, if we say we only care about a change\n",
    "in rating above {}, what is the likelihood we would detect such a change?\n",
    "(Answer: **{:.5f}%**)\n",
    "'''.format(increased_delta, increased_delta_power[1]*100)\n",
    "))\n",
    "\n",
    "_ = plot_shift(runs, increased_delta, sigma)"
   ]
  },
  {
   "cell_type": "code",
   "execution_count": null,
   "metadata": {
    "collapsed": false,
    "jupyter": {
     "outputs_hidden": false
    },
    "slideshow": {
     "slide_type": "subslide"
    }
   },
   "outputs": [],
   "source": [
    "decreased_sigma = sigma*0.5\n",
    "decreased_sigma_power = dexpy.power.f_power('beans', one_factor, delta/decreased_sigma, alpha)\n",
    "\n",
    "display(Markdown('''\n",
    "# Power Example - Decrease Noise\n",
    "Instead of lowering our standards for our noisy taste ratings, instead\n",
    "we could bring in expert testers who have a much more accurate palate.\n",
    "If we assume a decrease in noise from {} to {}, then we can detect a\n",
    "change in rating of {} with {:.2f}% probability.\n",
    "'''.format(sigma, decreased_sigma, delta, decreased_sigma_power[1]*100)\n",
    "))\n",
    "\n",
    "_ = plot_shift(runs, delta, sigma*0.1)"
   ]
  },
  {
   "cell_type": "code",
   "execution_count": null,
   "metadata": {
    "collapsed": false,
    "jupyter": {
     "outputs_hidden": false
    },
    "slideshow": {
     "slide_type": "subslide"
    }
   },
   "outputs": [],
   "source": [
    "increased_runs = runs * 4\n",
    "one_factor = pd.DataFrame([ -1, 1 ] * increased_runs, columns=['beans'])\n",
    "increased_runs_power = dexpy.power.f_power('beans', one_factor, delta/sigma, alpha)\n",
    "\n",
    "display(Markdown('''\n",
    "# Power Example - Increase Runs\n",
    "If expert testers are too expensive, and we are unwilling to compromise\n",
    "our standards, then the only remaining option is to create a more powerful\n",
    "design. In this toy example, there isn't much we can do, since it's\n",
    "just one factor. Increasing the runs from {} to {} gives a power of\n",
    "{:.2f}%. This may be a more acceptable success rate than the original power\n",
    "of {:.2f}%, however... that is a lot of coffee to drink.\n",
    "\n",
    "For more complicated designs changing the structure of the design\n",
    "can also increase power.\n",
    "'''.format(runs, increased_runs, increased_runs_power[1]*100, one_factor_power[1]*100)\n",
    "))\n",
    "_ = plot_shift(increased_runs, delta, sigma)"
   ]
  },
  {
   "cell_type": "markdown",
   "metadata": {
    "slideshow": {
     "slide_type": "slide"
    }
   },
   "source": [
    "# Calculating Power with dexpy\n",
    "\n",
    "https://statease.github.io/dexpy/evaluation.html#statistical-power"
   ]
  },
  {
   "cell_type": "code",
   "execution_count": null,
   "metadata": {
    "collapsed": false,
    "jupyter": {
     "outputs_hidden": false
    },
    "slideshow": {
     "slide_type": "-"
    }
   },
   "outputs": [],
   "source": [
    "help(dexpy.power.f_power)"
   ]
  },
  {
   "cell_type": "code",
   "execution_count": null,
   "metadata": {
    "collapsed": false,
    "jupyter": {
     "outputs_hidden": false
    },
    "nbpresent": {
     "id": "afc624d6-8a65-4880-bef4-5d2f77dc8cb2"
    },
    "slideshow": {
     "slide_type": "skip"
    }
   },
   "outputs": [],
   "source": [
    "base_point = [-1, -1, -1, -1, -1]\n",
    "ofat_points = [base_point]\n",
    "\n",
    "for i in range(0, 5):\n",
    "    new_point = base_point[:]\n",
    "    new_point[i] = 1\n",
    "    ofat_points.append(new_point)\n",
    "\n",
    "sn = 2.0\n",
    "alpha = 0.05\n",
    "\n",
    "ofat_df = pd.DataFrame(ofat_points*5, columns=['amount', 'grind_size', 'brew_time', 'grind_type', 'beans'])\n",
    "model = ' + '.join(ofat_df.columns)\n",
    "ofat_power = dexpy.power.f_power('+'.join(ofat_df.columns), ofat_df, sn, alpha)\n",
    "ofat_power.pop(0) # remove intercept\n",
    "ofat_power = ['{0:.2f}%'.format(i*100) for i in ofat_power] # convert to %\n",
    "ofat_power = pd.DataFrame(ofat_power, columns=['Power'], index=ofat_df.columns)\n",
    "\n",
    "display(Markdown('''\n",
    "# Calculating Power with dexpy: OFAT\n",
    "* {} total runs, with a signal to noise ratio of 2.\n",
    "* Model: `{}`\n",
    "'''.format(len(ofat_df), model)))\n",
    "\n",
    "display(PrettyPandas(ofat_power))"
   ]
  },
  {
   "cell_type": "code",
   "execution_count": null,
   "metadata": {
    "collapsed": false,
    "jupyter": {
     "outputs_hidden": false
    },
    "slideshow": {
     "slide_type": "subslide"
    }
   },
   "outputs": [],
   "source": [
    "full_design = dexpy.factorial.build_factorial(5, 2**5)\n",
    "full_design.columns = ['amount', 'grind_size', 'brew_time', 'grind_type', 'beans']\n",
    "factorial_power = dexpy.power.f_power(model, full_design, sn, alpha)\n",
    "factorial_power.pop(0)\n",
    "factorial_power = ['{0:.2f}%'.format(i*100) for i in factorial_power] # convert to %\n",
    "factorial_power = pd.DataFrame(factorial_power, columns=['Power'], index=full_design.columns)\n",
    "\n",
    "display(Markdown('''\n",
    "# Calculating Power with dexpy: Factorial\n",
    "* {} total runs, with a signal to noise ratio of 2.\n",
    "* Model (`patsy` for: `{}`\n",
    "'''.format(len(full_design), model)))\n",
    "display(PrettyPandas(factorial_power))"
   ]
  },
  {
   "cell_type": "markdown",
   "metadata": {
    "slideshow": {
     "slide_type": "slide"
    }
   },
   "source": [
    "# Fractional Factorials\n",
    "\n",
    "* Coffee experiment is 2<sup>5</sup> runs (32)\n",
    "* We want to add 4 center point runs to check for curvature\n",
    "* Total runs = 36, 3 per day if all testers are in the office\n",
    "* Estimate experiment will take a month"
   ]
  },
  {
   "cell_type": "markdown",
   "metadata": {
    "slideshow": {
     "slide_type": "subslide"
    }
   },
   "source": [
    "# Fractional Factorials\n",
    "* Power for the experiment is > 99%\n",
    "* Full factorial is overkill\n",
    "* Instead run 2<sup>5-1</sup> experiments, a \"half fraction\"\n"
   ]
  },
  {
   "cell_type": "markdown",
   "metadata": {
    "slideshow": {
     "slide_type": "slide"
    }
   },
   "source": [
    "# Fractional Factorials in dexpy\n",
    "\n",
    "https://statease.github.io/dexpy/design-build.html#module-dexpy.factorial"
   ]
  },
  {
   "cell_type": "code",
   "execution_count": null,
   "metadata": {
    "collapsed": false,
    "jupyter": {
     "outputs_hidden": false
    },
    "slideshow": {
     "slide_type": "-"
    }
   },
   "outputs": [],
   "source": [
    "help(dexpy.factorial.build_factorial)"
   ]
  },
  {
   "cell_type": "code",
   "execution_count": null,
   "metadata": {
    "collapsed": false,
    "jupyter": {
     "outputs_hidden": false
    },
    "slideshow": {
     "slide_type": "subslide"
    }
   },
   "outputs": [],
   "source": [
    "coffee_design = dexpy.factorial.build_factorial(5, 2**(5-1))\n",
    "coffee_design.columns = ['amount', 'grind_size', 'brew_time', 'grind_type', 'beans']\n",
    "center_points = [\n",
    "    [0, 0, 0, -1, -1],\n",
    "    [0, 0, 0, -1, 1],\n",
    "    [0, 0, 0, 1, -1],\n",
    "    [0, 0, 0, 1, 1]\n",
    "]\n",
    "\n",
    "coffee_design = coffee_design.append(pd.DataFrame(center_points * 2, columns=coffee_design.columns))\n",
    "coffee_design.index = np.arange(0, len(coffee_design))\n",
    "\n",
    "actual_design = coded_to_actual(coffee_design, actual_lows, actual_highs)\n",
    "\n",
    "display(Markdown(\"## 2<sup>(5-1)</sup> Factorial Design\"))\n",
    "display(PrettyPandas(actual_design))"
   ]
  },
  {
   "cell_type": "code",
   "execution_count": null,
   "metadata": {
    "collapsed": false,
    "jupyter": {
     "outputs_hidden": false
    },
    "slideshow": {
     "slide_type": "subslide"
    }
   },
   "outputs": [],
   "source": [
    "model = ' + '.join(coffee_design.columns)\n",
    "factorial_power = dexpy.power.f_power(model, coffee_design, sn, alpha)\n",
    "factorial_power.pop(0)\n",
    "factorial_power = ['{0:.2f}%'.format(i*100) for i in factorial_power] # convert to %\n",
    "factorial_power = pd.DataFrame(factorial_power, columns=['Power'], index=coffee_design.columns)\n",
    "\n",
    "display(Markdown('''\n",
    "## 2<sup>(5-1)</sup> Factorial Power\n",
    "* Power for {} total runs\n",
    "* Signal to noise ratio of 2\n",
    "* Model: `{}`\n",
    "'''.format(len(coffee_design), model)))\n",
    "display(PrettyPandas(factorial_power))"
   ]
  },
  {
   "cell_type": "code",
   "execution_count": null,
   "metadata": {
    "collapsed": false,
    "jupyter": {
     "outputs_hidden": false
    },
    "slideshow": {
     "slide_type": "skip"
    }
   },
   "outputs": [],
   "source": [
    "twofi_model = \"(\" + '+'.join(coffee_design.columns) + \")**2\"\n",
    "desc = patsy.ModelDesc.from_formula(twofi_model)\n",
    "factorial_power = dexpy.power.f_power(twofi_model, coffee_design, sn, alpha)\n",
    "factorial_power.pop(0)\n",
    "factorial_power = ['{0:.2f}%'.format(i*100) for i in factorial_power] # convert to %\n",
    "factorial_power = pd.DataFrame(factorial_power, columns=['Power'], index=desc.describe().strip(\"~ \").split(\" + \"))\n",
    "\n",
    "display(Markdown('''\n",
    "## 2<sup>(5-1)</sup> Factorial Power\n",
    "* Power for {} total runs\n",
    "* Signal to noise ratio of 2\n",
    "* Model: `{}`\n",
    "'''.format(len(coffee_design), twofi_model)))\n",
    "display(Markdown(\"## Power for {} total runs, with a signal to noise ratio of 2.\".format(len(coffee_design))))\n",
    "display(PrettyPandas(factorial_power))"
   ]
  },
  {
   "cell_type": "code",
   "execution_count": null,
   "metadata": {
    "collapsed": false,
    "jupyter": {
     "outputs_hidden": false
    },
    "slideshow": {
     "slide_type": "skip"
    }
   },
   "outputs": [],
   "source": [
    "display(Markdown('''\n",
    "# Aliasing\n",
    "\n",
    "When you don't run all combinations of inputs, you lose the ability to estimate terms\n",
    "For example, if you have three inputs the full model matrix looks like this:\n",
    "'''))\n",
    "\n",
    "three_factor_design = dexpy.factorial.build_factorial(3, 8)\n",
    "X = patsy.dmatrix(\"(\" + \" + \".join(three_factor_design.columns) + \")**3\", three_factor_design, return_type='dataframe')\n",
    "display(PrettyPandas(X))\n"
   ]
  },
  {
   "cell_type": "code",
   "execution_count": null,
   "metadata": {
    "collapsed": false,
    "jupyter": {
     "outputs_hidden": false
    },
    "slideshow": {
     "slide_type": "skip"
    }
   },
   "outputs": [],
   "source": [
    "display(Markdown('''\n",
    "## Aliasing\n",
    "\n",
    "If we remove half the runs, so that the design is 2<sup>3-1</sup>:\n",
    "'''))\n",
    "\n",
    "X.loc[[0,3,5,6]] = ''\n",
    "display(PrettyPandas(X))\n",
    "      \n",
    "display(Markdown('''\n",
    "You can see that A*B*C never changes. In addition, A = BC and B = AC.\n",
    "When a term is a linear combination of another term that is called an **alias**. Aliased terms are unestimable.\n",
    "'''))"
   ]
  },
  {
   "cell_type": "markdown",
   "metadata": {
    "slideshow": {
     "slide_type": "skip"
    }
   },
   "source": [
    "## Calculating Aliases in dexpy\n",
    "\n",
    "dexpy can calculate the terms that are linear combinations of other terms.\n",
    "\n",
    "https://statease.github.io/dexpy/evaluation.html#alias-list"
   ]
  },
  {
   "cell_type": "code",
   "execution_count": null,
   "metadata": {
    "collapsed": false,
    "jupyter": {
     "outputs_hidden": false
    },
    "slideshow": {
     "slide_type": "skip"
    }
   },
   "outputs": [],
   "source": [
    "help(dexpy.alias.alias_list)"
   ]
  },
  {
   "cell_type": "code",
   "execution_count": null,
   "metadata": {
    "collapsed": false,
    "jupyter": {
     "outputs_hidden": false
    },
    "slideshow": {
     "slide_type": "skip"
    }
   },
   "outputs": [],
   "source": [
    "display(Markdown('''\n",
    "## Calculating Aliases in dexpy\n",
    "\n",
    "Here is what that alias list looks like for our Coffee Experiment:\n",
    "'''))\n",
    "    \n",
    "full_model = \"(\" + '+'.join(coffee_design.columns) + \")**3\"\n",
    "aliases, _ = dexpy.alias.alias_list(full_model, coffee_design)\n",
    "for a in aliases:\n",
    "    print(a)\n",
    "    \n",
    "display(Markdown('''\n",
    "As you can see, we lose the ability to estimate some three factor interactions separately from the two factor interactions.\n",
    "This is not a cause for great concern as the three factor interactions are rare in practice.\n",
    "'''))"
   ]
  },
  {
   "cell_type": "markdown",
   "metadata": {
    "slideshow": {
     "slide_type": "slide"
    }
   },
   "source": [
    "# Analysis\n",
    "\n",
    "* [statsmodels](http://statsmodels.sourceforge.net/) has lots of routines for modeling data\n",
    "* We will use [Ordinary Least Squares (OLS)](http://statsmodels.sourceforge.net/devel/examples/notebooks/generated/ols.html) to fit\n",
    "* `statsmodels` typically takes `numpy` arrays for X and y data\n",
    "* It also has a \"formulas\" api that accepts a `patsy` formula"
   ]
  },
  {
   "cell_type": "code",
   "execution_count": null,
   "metadata": {
    "slideshow": {
     "slide_type": "skip"
    }
   },
   "outputs": [],
   "source": [
    "# enter response data here\n",
    "\n",
    "coffee_design['taste_rating'] = [\n",
    "    4.53, 1.6336, 1.363, 8.7, 1.679, 2.895, 7.341, 3.642, # A low\n",
    "    6.974, 3.398, 3.913, 9.04, 5.092, 3.718, 8.227, 6.992, # A high\n",
    "    4.419, 6.806, 3.512, 5.36, 4.865, 6.342, 4.38, 5.942 # center points\n",
    "]"
   ]
  },
  {
   "cell_type": "code",
   "execution_count": null,
   "metadata": {
    "collapsed": false,
    "jupyter": {
     "outputs_hidden": false
    },
    "slideshow": {
     "slide_type": "skip"
    }
   },
   "outputs": [],
   "source": [
    "lm = statsmodels.formula.api.ols(\"taste_rating ~\" + twofi_model, data=coffee_design).fit()\n",
    "print(lm.summary2())"
   ]
  },
  {
   "cell_type": "code",
   "execution_count": null,
   "metadata": {
    "collapsed": false,
    "jupyter": {
     "outputs_hidden": false
    },
    "slideshow": {
     "slide_type": "subslide"
    }
   },
   "outputs": [],
   "source": [
    "reduced_model = \"amount + grind_size + brew_time + grind_type + beans + amount:beans + grind_size:brew_time + grind_size:grind_type\"\n",
    "lm = statsmodels.formula.api.ols(\"taste_rating ~\" + reduced_model, data=coffee_design).fit()\n",
    "print(lm.summary2())"
   ]
  },
  {
   "cell_type": "markdown",
   "metadata": {
    "slideshow": {
     "slide_type": "slide"
    }
   },
   "source": [
    "# Visualization\n",
    "\n",
    "* [seaborn](http://seaborn.pydata.org/) is built on top of `matplotlib` and adds support for `pandas` dataframes \n",
    "* Can build a plot using `seaborn`, then manipulate it with `matplotlib`\n",
    "* Default themes look a lot nicer than what you get from `matplotlib` out of the box"
   ]
  },
  {
   "cell_type": "code",
   "execution_count": null,
   "metadata": {
    "collapsed": false,
    "jupyter": {
     "outputs_hidden": false
    },
    "slideshow": {
     "slide_type": "subslide"
    }
   },
   "outputs": [],
   "source": [
    "display(Markdown('''\n",
    "If we take the experiment data from the design and use our new model to fit that data, then plot it against\n",
    "the observed values we can get an idea for how well our model predicts. Points above the 45 degree line are\n",
    "overpredicting for that combination of inputs. Points below the line predict a lower taste rating than\n",
    "we actually measured during the experiment.'''))\n",
    "\n",
    "actual_predicted = pd.DataFrame({ 'actual': coffee_design['taste_rating'],\n",
    "                                  'predicted': lm.fittedvalues\n",
    "                                }, index=np.arange(len(coffee_design['taste_rating'])))\n",
    "fg = sns.FacetGrid(actual_predicted, size=5)\n",
    "fg.map(plt.scatter, 'actual', 'predicted')\n",
    "ax = fg.axes[0, 0]\n",
    "ax.plot([1, 10], [1, 10], color='g', lw=2)\n",
    "ax.set_xticks(np.arange(1, 11))\n",
    "ax.set_xlim([0, 11])\n",
    "ax.set_yticks(np.arange(1, 11))\n",
    "ax.set_title('Actual vs Predicted')\n",
    "_ = ax.set_ylim([0, 11])"
   ]
  },
  {
   "cell_type": "code",
   "execution_count": null,
   "metadata": {
    "collapsed": false,
    "jupyter": {
     "outputs_hidden": false
    },
    "slideshow": {
     "slide_type": "subslide"
    }
   },
   "outputs": [],
   "source": [
    "display(Markdown('''\n",
    "Plotting the prediction for two factors at once shows how they interact with each other.\n",
    "In this graph you can see that at the low brew time the larger grind size results in\n",
    "a poor taste rating, likely because the coffee is too weak.'''))\n",
    "\n",
    "pred_points = pd.DataFrame(1, columns = coffee_design.columns, index=np.arange(4))\n",
    "pred_points.loc[1,'grind_size'] = -1\n",
    "pred_points.loc[3,'grind_size'] = -1\n",
    "pred_points.loc[2,'brew_time'] = -1\n",
    "pred_points.loc[3,'brew_time'] = -1\n",
    "pred_points['taste_rating'] = lm.predict(pred_points)\n",
    "pred_points = coded_to_actual(pred_points, actual_lows, actual_highs)\n",
    "\n",
    "fg = sns.factorplot('grind_size', 'taste_rating', hue='brew_time', kind='point', data=pred_points)\n",
    "ax = fg.axes[0, 0]\n",
    "ax.set_xticklabels(get_tick_labels('grind_size', actual_lows, actual_highs, units))\n",
    "_ = ax.set_title('Grind Size/Brew Time Interaction')"
   ]
  },
  {
   "cell_type": "code",
   "execution_count": null,
   "metadata": {
    "collapsed": false,
    "jupyter": {
     "outputs_hidden": false
    },
    "slideshow": {
     "slide_type": "subslide"
    }
   },
   "outputs": [],
   "source": [
    "display(Markdown('''\n",
    "This graph contains the prediction with the highest taste rating, 7.72.\n",
    "However, if you look at the dark bean line there is a point where we can get\n",
    "a rating of 6.93 with 2.5oz of grounds.\n",
    "'''))\n",
    "\n",
    "pred_points = pd.DataFrame(1, columns = coffee_design.columns, index=np.arange(4))\n",
    "pred_points.loc[1,'amount'] = -1\n",
    "pred_points.loc[3,'amount'] = -1\n",
    "pred_points.loc[2,'beans'] = -1\n",
    "pred_points.loc[3,'beans'] = -1\n",
    "pred_points['taste_rating'] = lm.predict(pred_points)\n",
    "pred_points = coded_to_actual(pred_points, actual_lows, actual_highs)\n",
    "\n",
    "fg = sns.factorplot('amount', 'taste_rating', hue='beans', kind='point', palette={'dark': 'maroon', 'light': 'peru'}, data=pred_points)\n",
    "ax = fg.axes[0, 0]\n",
    "ax.set_xticklabels(get_tick_labels('amount', actual_lows, actual_highs, units))\n",
    "ax.set_title('Amount/Beans Interaction')\n",
    "plt.show()\n",
    "\n",
    "display(PrettyPandas(pred_points))\n",
    "display(Markdown('''That savings of 1.5oz per pot would create a nice surplus in the coffee budget at the end of the year.'''))"
   ]
  },
  {
   "cell_type": "markdown",
   "metadata": {
    "slideshow": {
     "slide_type": "subslide"
    }
   },
   "source": [
    "![coffeemaker](img/coffee_maker.jpg)"
   ]
  },
  {
   "cell_type": "markdown",
   "metadata": {
    "slideshow": {
     "slide_type": "slide"
    }
   },
   "source": [
    "# The End\n",
    "\n",
    "* We were able to build and execute an experiment in Python that resulted in a better tasting (and cheaper!) coffee.\n",
    "* These slides can be found at https://hpanderson.github.io/dexpy-pymntos\n",
    "* The jupyter notebook they are based on can be found on my github: https://github.com/hpanderson/dexpy-pymntos\n",
    "* You can reach me at: <hank@statease.com>\n",
    "* The `dexpy` docs are at: https://statease.github.io/dexpy/\n",
    "* `dexpy` is only at version 0.1, we plan on greatly expanding the design and analysis capabilities\n",
    " "
   ]
  }
 ],
 "metadata": {
  "anaconda-cloud": {},
  "celltoolbar": "Slideshow",
  "kernelspec": {
   "display_name": "Python 3",
   "language": "python",
   "name": "python3"
  },
  "language_info": {
   "codemirror_mode": {
    "name": "ipython",
    "version": 3
   },
   "file_extension": ".py",
   "mimetype": "text/x-python",
   "name": "python",
   "nbconvert_exporter": "python",
   "pygments_lexer": "ipython3",
   "version": "3.8.2"
  },
  "nbpresent": {
   "slides": {
    "69ca5852-a257-4b32-a164-46fd17e89d5d": {
     "id": "69ca5852-a257-4b32-a164-46fd17e89d5d",
     "layout": "grid",
     "prev": "7af1a671-4249-4e3e-ad27-77e10146d8c3",
     "regions": {
      "08479882-590c-4dcd-97e0-6461b2662cc7": {
       "attrs": {
        "height": 0.4166666666666667,
        "pad": 0.01,
        "width": 0.8333333333333334,
        "x": 0.08333333333333333,
        "y": 0.5
       },
       "content": {
        "cell": "afc624d6-8a65-4880-bef4-5d2f77dc8cb2",
        "part": "outputs"
       },
       "id": "08479882-590c-4dcd-97e0-6461b2662cc7"
      },
      "281a2605-2b2f-4c5a-8454-f2f478b60461": {
       "attrs": {
        "height": 0.4166666666666667,
        "pad": 0.01,
        "width": 0.8333333333333334,
        "x": 0.08333333333333333,
        "y": 0.08333333333333333
       },
       "content": {
        "cell": "afc624d6-8a65-4880-bef4-5d2f77dc8cb2",
        "part": "source"
       },
       "id": "281a2605-2b2f-4c5a-8454-f2f478b60461"
      }
     },
     "theme": null
    },
    "7af1a671-4249-4e3e-ad27-77e10146d8c3": {
     "id": "7af1a671-4249-4e3e-ad27-77e10146d8c3",
     "prev": null,
     "regions": {
      "0e6b4598-b189-48a7-9e0e-43beda6fa796": {
       "attrs": {
        "height": 0.2,
        "width": 0.4,
        "x": 0.1,
        "y": 0.7
       },
       "content": {
        "cell": "afc624d6-8a65-4880-bef4-5d2f77dc8cb2",
        "part": "source"
       },
       "id": "0e6b4598-b189-48a7-9e0e-43beda6fa796"
      },
      "3d5a9d45-6ebb-4aff-b393-77b42fe7a9d5": {
       "attrs": {
        "height": 0.6,
        "width": 0.8,
        "x": 0.1,
        "y": 0.1
       },
       "content": {
        "cell": "132443fd-23b6-4758-a074-be108db02fd9",
        "part": "source"
       },
       "id": "3d5a9d45-6ebb-4aff-b393-77b42fe7a9d5"
      },
      "d44fc3d2-a017-47e8-87d9-dc52608832d5": {
       "attrs": {
        "height": 0.2,
        "width": 0.4,
        "x": 0.5,
        "y": 0.7
       },
       "content": {
        "cell": "afc624d6-8a65-4880-bef4-5d2f77dc8cb2",
        "part": "outputs"
       },
       "id": "d44fc3d2-a017-47e8-87d9-dc52608832d5"
      }
     }
    }
   },
   "themes": {}
  }
 },
 "nbformat": 4,
 "nbformat_minor": 4
}
