{
 "cells": [
  {
   "cell_type": "code",
   "execution_count": 1,
   "metadata": {
    "ExecuteTime": {
     "end_time": "2021-07-04T11:51:09.861272Z",
     "start_time": "2021-07-04T11:50:57.989Z"
    }
   },
   "outputs": [
    {
     "name": "stderr",
     "output_type": "stream",
     "text": [
      "Updating HTML index of packages in '.Library'\n",
      "\n",
      "Making 'packages.html' ...\n",
      " done\n",
      "\n",
      "Updating HTML index of packages in '.Library'\n",
      "\n",
      "Making 'packages.html' ...\n",
      " done\n",
      "\n",
      "Updating HTML index of packages in '.Library'\n",
      "\n",
      "Making 'packages.html' ...\n",
      " done\n",
      "\n"
     ]
    }
   ],
   "source": [
    "install.packages(\"rsm\")\n",
    "library(rsm)\n",
    "\n",
    "install.packages(\"Vdgraph\")\n",
    "library(Vdgraph)\n",
    "\n",
    "install.packages(\"desirability\")\n",
    "library(desirability)"
   ]
  },
  {
   "cell_type": "code",
   "execution_count": 2,
   "metadata": {
    "ExecuteTime": {
     "end_time": "2021-07-04T11:51:20.029996Z",
     "start_time": "2021-07-04T11:51:13.827Z"
    }
   },
   "outputs": [
    {
     "data": {
      "text/html": [
       "0"
      ],
      "text/latex": [
       "0"
      ],
      "text/markdown": [
       "0"
      ],
      "text/plain": [
       "[1] 0"
      ]
     },
     "metadata": {},
     "output_type": "display_data"
    },
    {
     "data": {
      "text/html": [
       "0"
      ],
      "text/latex": [
       "0"
      ],
      "text/markdown": [
       "0"
      ],
      "text/plain": [
       "[1] 0"
      ]
     },
     "metadata": {},
     "output_type": "display_data"
    },
    {
     "data": {
      "text/html": [
       "0"
      ],
      "text/latex": [
       "0"
      ],
      "text/markdown": [
       "0"
      ],
      "text/plain": [
       "[1] 0"
      ]
     },
     "metadata": {},
     "output_type": "display_data"
    },
    {
     "name": "stdout",
     "output_type": "stream",
     "text": [
      "[1] 111.0397399   0.7488587  39.8461104\n"
     ]
    }
   ],
   "source": [
    "x<-c(0,0,0)\n",
    "saPred<-function(x) 125.4106 -8.1233*x[1]+17.0266*x[2]+.4277*x[3]+2.4184*x[1]*x[2]\n",
    "-8.4376*x[1]*x[3]+9.0134*x[2]*x[3]+33.88054*x[1]^2+14.81976*x[2]^2+13.07001*x[3]^2\n",
    "\n",
    "pvPred<-function(x) .661354-.1963*x[1]-.02016*x[2]-.00291*x[3]+.02399*x[1]*x[2]\n",
    "+.010327*x[1]*x[3]-.0374*x[2]*x[3]+.15126*x[1]^2+.118423*x[2]^2+.0679*x[3]^2\n",
    "\n",
    "dpPred<-function(x) 39.35608+3.19547*x[1]+.21729*x[2]-1.46979*x[3]+.58873*x[1]*x[2]\n",
    "-.62136*x[1]*x[3]-1.53234*x[2]*x[3]+.41413*x[1]^2-2.39408*x[2]^2-2.36399*x[3]^2\n",
    "\n",
    "library(desirability)\n",
    "saD<-dMax(100, 217)\n",
    "pvD<-dMax(0.6, 1.3)\n",
    "dpD<-dTarget(38, 40, 42)\n",
    "overallD<-dOverall(saD, pvD, dpD)\n",
    "\n",
    "# Code on web page referred to on p. 426\n",
    "rsmOpt <- function(x, dObject, space = \"square\")\n",
    "{\n",
    "  sa <- saPred(x)\n",
    "  pv <- pvPred(x)\n",
    "  dp <- dpPred(x)\n",
    "  \n",
    "  out <- predict(dObject, data.frame(sa = sa, pv = pv, dp = dp))\n",
    "  \n",
    "  if(space == \"circular\")\n",
    "  {\n",
    "    if(sqrt(sum(x^2)) > 1.0) out <- 0\n",
    "  } else if(space == \"square\") if(any(abs(x) > 1.0)) out <- 0\n",
    "  out\n",
    "}\n",
    "\n",
    "\n",
    "searchGrid <- expand.grid(Mixtime = seq(-1.0, 1.0, length = 5),\n",
    "                          filTtime = seq(-1.0, 1.0, length = 5),\n",
    "                          PackMth = seq(-1.0, 1.0, length = 5))\n",
    "for(i in 1:dim(searchGrid)[1])\n",
    "{\n",
    "  tmp <- optim(as.vector(searchGrid[i,]),\n",
    "               rsmOpt,\n",
    "               dObject = overallD,\n",
    "               space = \"square\",\n",
    "               control = list(fnscale = -1))\n",
    "  if(i == 1)\n",
    "  {\n",
    "    best <- tmp\n",
    "  } else {\n",
    "    if(tmp$value > best$value) best <- tmp\n",
    "  }\n",
    "}\n",
    "\n",
    "predOutcomes <-c(saPred(c(-0.2924993,-1,-1)), pvPred(c(-0.2924993,-1,-1)), dpPred(c(-0.2924993,-1,-1)))\n",
    "print(predOutcomes)\n"
   ]
  },
  {
   "cell_type": "code",
   "execution_count": 3,
   "metadata": {
    "ExecuteTime": {
     "end_time": "2021-07-04T11:58:35.583830Z",
     "start_time": "2021-07-04T11:51:23.757Z"
    }
   },
   "outputs": [
    {
     "name": "stdout",
     "output_type": "stream",
     "text": [
      "[1]     0.524 14626.990\n"
     ]
    }
   ],
   "source": [
    "x<-c(0,0,0,0,0)\n",
    "saPred<-function(x) .5315 - .002250*x[1] + .002250*x[2] - .001500*x[3] + .013500*x[4] - .004000*x[5] + .001*x[1]*x[2] + .002250*x[1]*x[3] + .002250*x[1]*x[4] + .002250*x[1]*x[5] - .002250*x[2]*x[3] - .002250*x[2]*x[4] - .002250*x[2]*x[5] - .003500*x[3]*x[4] - .006000*x[3]*x[5] + .009*x[4]*x[5]\n",
    "\n",
    "pvPred<-function(x) 13131.87 - 2415.95*x[1] + 70.95*x[2] - 471.45*x[3] + 363.97*x[4] + 145.5*x[5] -  1509.62*x[1]*x[2] - 649.17*x[1]*x[3] - 1479.35*x[1]*x[4] - 700.03*x[1]*x[5] + 1519.68*x[2]*x[5] + 570.68*x[3]*x[5] + 1435.95*x[4]*x[5]\n",
    "\n",
    "\n",
    "library(desirability)\n",
    "saD<-dMin(.48, .56)\n",
    "pvD<-dMin(8480, 16000)\n",
    "overallD<-dOverall(saD, pvD)\n",
    "\n",
    "# Code on web page referred to on p. 426\n",
    "rsmOpt <- function(x, dObject, space = \"square\")\n",
    "{\n",
    "  sa <- saPred(x)\n",
    "  pv <- pvPred(x)\n",
    "  \n",
    "  out <- predict(dObject, data.frame(sa = sa, pv = pv))\n",
    "  \n",
    "  if(space == \"circular\")\n",
    "  {\n",
    "    if(sqrt(sum(x^2)) > 1.0) out <- 0\n",
    "  } else if(space == \"square\") if(any(abs(x) > 1.0)) out <- 0\n",
    "  out\n",
    "}\n",
    "\n",
    "\n",
    "searchGrid <- expand.grid(lh = seq(-1.0, 1.0, length = 5),\n",
    "                          ps = seq(-1.0, 1.0, length = 5),\n",
    "                          id = seq(-1.0, 1.0, length = 5),\n",
    "                          wt = seq(-1.0, 1.0, length = 5),\n",
    "                          rw = seq(-1.0, 1.0, length = 5))\n",
    "for(i in 1:dim(searchGrid)[1])\n",
    "{\n",
    "  tmp <- optim(as.vector(searchGrid[i,]),\n",
    "               rsmOpt,\n",
    "               dObject = overallD,\n",
    "               space = \"square\",\n",
    "               control = list(fnscale = -1))\n",
    "  if(i == 1)\n",
    "  {\n",
    "    best <- tmp\n",
    "  } else {\n",
    "    if(tmp$value > best$value) best <- tmp\n",
    "  }\n",
    "}\n",
    "\n",
    "predOutcomes <-c(saPred(c(-1,-1,-1,-1,-1)), pvPred(c(-1,-1,-1,-1,-1)))\n",
    "print(predOutcomes)\n"
   ]
  },
  {
   "cell_type": "code",
   "execution_count": null,
   "metadata": {},
   "outputs": [],
   "source": []
  }
 ],
 "metadata": {
  "kernelspec": {
   "display_name": "R",
   "language": "R",
   "name": "ir"
  },
  "language_info": {
   "codemirror_mode": "r",
   "file_extension": ".r",
   "mimetype": "text/x-r-source",
   "name": "R",
   "pygments_lexer": "r",
   "version": "3.6.1"
  },
  "toc": {
   "base_numbering": 1,
   "nav_menu": {},
   "number_sections": false,
   "sideBar": true,
   "skip_h1_title": false,
   "title_cell": "Table of Contents",
   "title_sidebar": "Contents",
   "toc_cell": false,
   "toc_position": {},
   "toc_section_display": true,
   "toc_window_display": false
  }
 },
 "nbformat": 4,
 "nbformat_minor": 4
}
