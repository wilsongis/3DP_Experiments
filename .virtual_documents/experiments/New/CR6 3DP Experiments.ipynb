import numpy as np
import pandas as pd
from prettypandas import PrettyPandas
import patsy
import matplotlib.pyplot as plt
import seaborn as sns
import statsmodels.api as sm
import statsmodels.formula.api
from pyomo.environ import *

from IPython.display import display, Markdown, HTML

get_ipython().run_line_magic("matplotlib", " inline")
PlotWidth = 6

import warnings
#warnings.filterwarnings('ignore')


# Using R inside python
import rpy2
import rpy2.robjects as ro
import rpy2.robjects.packages as rpackages

# Allow conversion
import rpy2.robjects as ro

from rpy2.robjects.vectors import StrVector
from rpy2.robjects.packages import importr
from rpy2.robjects import pandas2ri

from rpy2.robjects.conversion import localconverter

utils = rpackages.importr('utils')
utils.chooseCRANmirror(ind=1)

# Install packages
packnames = ('rsm')
#utils.install_packages(StrVector(packnames))

# Load packages
rsm = importr('rsm')
base = importr('base')


# helper functions for this notebook

# use SVG for matplotlib-based figures
get_ipython().run_line_magic("matplotlib", " inline")
get_ipython().run_line_magic("config", " InlineBackend.figure_format = 'svg'")

def coded_to_actual(coded_data, actual_lows, actual_highs):
    """Converts a pandas DataFrame from coded units to actuals."""
    actual_data = coded_data.copy()
    for col in actual_data.columns:
        if not (col in actual_highs and col in actual_lows):
            continue
        try:
            # convert continuous variables to their actual value
            actual_data[col] *= 0.5 * (float(actual_highs[col]) - float(actual_lows[col]))
            # don't need to cast to float here, if either are not a float exception will have been thrown
            actual_data[col] += 0.5 * (actual_highs[col] + actual_lows[col])
        except ValueError:
            # assume 2 level categorical
            actual_data[col] = actual_data[col].map({-1: actual_lows[col], 1: actual_highs[col]})
    return actual_data
        
def get_tick_labels(key, lows, highs, units):
    """Returns a list of low/high labels with units (e.g. [8mm, 10mm])"""
    return [str(lows[key]) + units[key], str(highs[key]) + units[key]]



# importing the pandas library
import pandas as pd
  
# reading the csv file using read_csv
# storing the data frame in variable called df
df_cost = pd.read_csv('https://raw.githubusercontent.com/wilsongis/3DP_Experiments/main/Data/cr6_cost.txt', sep='\t')
df_time = pd.read_csv('https://raw.githubusercontent.com/wilsongis/3DP_Experiments/main/Data/cr6_time.txt', sep='\t')
  
# creating a list of column names by
# calling the .columns
list_of_columns_cost = list(df_cost.columns)
list_of_columns_time = list(df_time.columns)
  
# displaying the list of column names
print('List of Cost column names : ', 
      list_of_columns_cost)
print('List of Time column names : ', 
      list_of_columns_time)


display((Markdown("### Statistics for Cost")))
df_cost.cost.describe()


plt.figure(figsize=(PlotWidth, PlotWidth))
sns.boxplot(data=df_cost['cost'])
plt.title('Box Plot of Cost')
plt.ylabel('Cost')
plt.show()

plt.figure(figsize=(PlotWidth, PlotWidth))
df_cost['cost'].hist()
plt.title('cost')
plt.xlabel('cost)')
plt.show()

plt.figure(figsize=(PlotWidth*2, PlotWidth))
plt.scatter(df_cost['trial'], df_cost['cost'])
plt.title('cost vs. trial')
plt.xlabel('trial')
plt.ylabel('cost')
plt.show()


display((Markdown("### Statistics for Time")))
df_time.time.describe()


display(Markdown("## Cost Ordinary Least Squares Regression - Coded"))
lm_cost_coded = statsmodels.formula.api.ols("cost ~ (lh+ps+id+rw+wt)**2", data=df_cost).fit()
print(lm_cost_coded.summary2())

display(Markdown("## Cost Ordinary Least Squares Regression - Actual"))
lm_cost_actual = statsmodels.formula.api.ols("cost ~ (alh+aps+aid+arw+awt)**2", data=df_cost).fit()
print(lm_cost_actual.summary2())



print(lm_cost_actual.params)


cb = (str(lm_cost_actual.params[0]))
cv1 = (str(lm_cost_actual.params[1]))
cv2 = (str(lm_cost_actual.params[2]))
cv3 = (str(lm_cost_actual.params[3]))
cv4 = (str(lm_cost_actual.params[4]))
cv5 = (str(lm_cost_actual.params[5]))
cv6 = (str(lm_cost_actual.params[6]))
cv7 = (str(lm_cost_actual.params[7]))
cv8 = (str(lm_cost_actual.params[8]))
cv9 = (str(lm_cost_actual.params[9]))
cv10 = (str(lm_cost_actual.params[10]))
cv11 = (str(lm_cost_actual.params[11]))
cv12 = (str(lm_cost_actual.params[12]))
cv13 = (str(lm_cost_actual.params[13]))
cv14 = (str(lm_cost_actual.params[14]))
cv15 = (str(lm_cost_actual.params[15]))


eq_cost_actual = (
    cb + " + " + cv1 + "*model.X1" + " + " + cv2 + "*model.X2" +  " + " + cv3 + "*model.X3" + " + " + cv4 + "*model.X4" + " + " + cv5 + "*model.X5" + " + " 
    + cv6 + "*model.X1*model.X2" + " + " + cv7 + "*model.X1*model.X3" + " + " + cv8 + "*model.X1*model.X4" + " + " + cv9 + "*model.X1*model.X5" + " + " + cv10 
    + "*model.X2*model.X3" + " + " + cv11 + "*model.X2*model.X4" + " + " + cv12 + "*model.X2*model.X5" + " + " + cv13 
    + "*model.X3*model.X4" + " + " + cv14 + "*model.X3*model.X5" + " + " + cv15 + "*model.X4*model.X5")



print(eq_cost_actual)


display(Markdown("## Time Ordinary Least Squares Regression - Coded"))
lm_time_coded = statsmodels.formula.api.ols("time ~ (lh+ps+id+rw+wt)**2", data=df_time).fit()
print(lm_time_coded.summary2())

display(Markdown("## Time Ordinary Least Squares Regression - Actual"))
lm_time_actual = statsmodels.formula.api.ols("time ~ (alh+aps+aid+arw+awt)**2", data=df_time).fit()
print(lm_time_actual.summary2())


display(Markdown("## Time Ordinary Least Squares Regression - Actual"))
lm_time_actual_reduced = statsmodels.formula.api.ols("time ~ (alh+aps+aid+arw+awt+alh:aps+alh:aid+alh:arw+alh:awt+aps:awt+aid:awt+arw:awt )", data=df_time).fit()
print(lm_time_actual_reduced.summary2())


print(lm_time_actual_reduced.params)


tb = (str(lm_time_actual_reduced.params[0]))
tv1 = (str(lm_time_actual_reduced.params[1]))
tv2 = (str(lm_time_actual_reduced.params[2]))
tv3 = (str(lm_time_actual_reduced.params[3]))
tv4 = (str(lm_time_actual_reduced.params[4]))
tv5 = (str(lm_time_actual_reduced.params[5]))
tv6 = (str(lm_time_actual_reduced.params[6]))
tv7 = (str(lm_time_actual_reduced.params[7]))
tv8 = (str(lm_time_actual_reduced.params[8]))
tv9 = (str(lm_time_actual_reduced.params[9]))
tv10 = (str(lm_time_actual_reduced.params[10]))
tv11 = (str(lm_time_actual_reduced.params[11]))
tv12 = (str(lm_time_actual_reduced.params[12]))



eq_time_actual = (
    tb + " + " + tv1 + "*model.X1" + " + " + tv2 + "*model.X2" +  " + " + tv3 + "*model.X3" + " + " + tv4 + "*model.X4" + " + " + 
    tv5 + "*model.X5" + " + " + tv6 + "*model.X1*model.X2" + " + " + tv7 + "*model.X1*model.X3" + " + " + tv8 + "*model.X1*model.X4" + 
    " + " + tv9 + "*model.X1*model.X5" + " + " + tv10 + "*model.X2*model.X5" + " + " + tv11 + "*model.X3*model.X5" + " + " + tv12  + 
    "*model.X4*model.X5") 


display(Markdown("Cost = "))
print(eq_cost_actual)

print("------")

display(Markdown("Time = "))
print(eq_time_actual)



model = ConcreteModel()

model.X1 = Var(within=NonNegativeReals)
model.X2 = Var(within=NonNegativeReals)
model.X3 = Var(within=NonNegativeReals)
model.X4 = Var(within=NonNegativeReals)
model.X5 = Var(within=NonNegativeReals)

model.C1 = Constraint(expr = model.X1 <= .28)
model.C2 = Constraint(expr = model.X2 <= 60)
model.C3 = Constraint(expr = model.X3 <= .25)
model.C4 = Constraint(expr = model.X4 <= .8)
model.C5 = Constraint(expr = model.X5 <= 1.2)

model.C6 = Constraint(expr = model.X1 >= .16)
model.C7 = Constraint(expr = model.X2 >= 50)
model.C8 = Constraint(expr = model.X3 >= .15)
model.C9 = Constraint(expr = model.X4 >= .4)
model.C10 = Constraint(expr = model.X5 >= .8)

model.f1 = Var()
model.f2 = Var()
model.C_f1 = Constraint(expr = model.f1 == (0.3748333333333349 + 0.004166666666655772*model.X1 + 
                                            -0.0029833333333334766*model.X2 + 0.08999999999998987*model.X3 + 
                                            0.30500000000000094*model.X4 + 0.192500000000001*model.X5 +
                                            0.0033333333333336324*model.X1*model.X2 + -0.7499999999999938*model.X1*model.X3 
                                            + 0.18750000000000377*model.X1*model.X4 + -0.18750000000000078*model.X1*model.X5 
                                            + 0.009000000000000938*model.X2*model.X3 
                                            + -0.0022499999999998355*model.X2*model.X4 
                                            + 0.0022499999999998385*model.X2*model.X5 + 0.3500000000000012*model.X3*model.X4 
                                            + -0.5999999999999952*model.X3*model.X5 + -0.22499999999999876*model.X4*model.X5))
model.C_f2 = Constraint(expr = model.f2 == (-71031.55000000093 + 128704.99999999983*model.X1 + 
                                            1866.1641666666828*model.X2 + -172720.583333333*model.X3 + 
                                            45471.062500000015*model.X4 + 53415.75000000034*model.X5 
                                            + -3696.291666666646*model.X1*model.X2 + 349970.83333333314*model.X1*model.X3 
                                            + -89884.37500000007*model.X1*model.X4 + 24940.62500000026*model.X1*model.X5 
                                            + -1118.9374999999773*model.X2*model.X5 + 97141.2499999996*model.X3*model.X5 
                                            + -25880.31249999999*model.X4*model.X5))
model.O_f1 = Objective(expr = model.f1, sense=minimize)
model.O_f2 = Objective(expr = model.f2, sense=minimize)

# max f1 separately
# install glpk solver:  sudo apt-get install glpk-utils
model.O_f2.deactivate()
solver = SolverFactory('ipopt')  #'cplex', 'ipopt'
solver.solve(model)

print('( X1 , X2, X3, X4, X5 ) = ( ' + str(value(model.X1)) + ' , ' + str(value(model.X2)) + ' , ' + str(value(model.X3)) + ' , ' + str(value(model.X4)) + ' , ' + str(value(model.X5)) + ' )')
print('f1 = ' + str(value(model.f1)))
print('f2 = ' + str(value(model.f2)))
f2_min = value(model.f2)

# max f2 separately
model.O_f2.activate()
model.O_f1.deactivate()
solver = SolverFactory('ipopt')  #'cplex', 'ipopt'
solver.solve(model)

print('( X1 , X2, X3, X4, X5 ) = ( ' + str(value(model.X1)) + ' , ' + str(value(model.X2)) + ' , ' + str(value(model.X3)) + ' , ' + str(value(model.X4)) + ' , ' + str(value(model.X5)) + ' )')
print('f1 = ' + str(value(model.f1)))
print('f2 = ' + str(value(model.f2)))
f2_max = value(model.f2)

# apply augmented $\epsilon$-Constraint
# max   		f1 + delta*s
# constraint 	f2 - s = e
model.O_f1.activate()
model.O_f2.deactivate()

model.del_component(model.O_f1)
model.del_component(model.O_f2)

model.e = Param(initialize=0, mutable=True)
model.delta = Param(initialize=0.00001)
model.slack = Var(within=NonNegativeReals)
model.O_f1 = Objective(expr = model.f1 + model.delta * model.slack, sense=maximize)
model.C_e = Constraint(expr = model.f2 - model.slack == model.e)

n = 100
step = int((f2_max - f2_min) / n)
steps = list(range(int(f2_min),int(f2_max),step)) + [f2_max]

x1_l, x2_l, x3_l, x4_l, x5_l = [], [], [], [], []
f1_l, f2_l = [], []
for i in steps:
    model.e = i
    solver.solve(model)
    x1_l.append(value(model.X1))
    x2_l.append(value(model.X2))
    x3_l.append(value(model.X3))
    x4_l.append(value(model.X4))
    x5_l.append(value(model.X5))
    f1_l.append(value(model.f1))
    f2_l.append(value(model.f2))
    # print(i, value(model.X1), value(model.X2), value(model.f1), value(model.slack), value(model.f2))





