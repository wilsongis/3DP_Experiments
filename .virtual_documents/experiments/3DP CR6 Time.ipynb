import numpy as np
import pandas as pd
from prettypandas import PrettyPandas
import patsy
import matplotlib.pyplot as plt
import seaborn as sns
import statsmodels.api as sm

from IPython.display import display, Markdown, HTML

get_ipython().run_line_magic("matplotlib", " inline")
PlotWidth = 6

import warnings
warnings.filterwarnings('ignore')


# Files

columns = ['trial', 'lh', 'ps', 'id', 'rw', 'wt', 'cost', 'time', 'quality', 'comment']
cr6DoE = pd.read_csv('https://raw.githubusercontent.com/wilsongis/3DP_Experiments/main/Data/cr6-doe-schedule.csv', skiprows=1, sep=',', names=columns, index_col=False)


# helper functions for this notebook

# use SVG for matplotlib-based figures
get_ipython().run_line_magic("matplotlib", " inline")
get_ipython().run_line_magic("config", " InlineBackend.figure_format = 'svg'")

def coded_to_actual(coded_data, actual_lows, actual_highs):
    """Converts a pandas DataFrame from coded units to actuals."""
    actual_data = coded_data.copy()
    for col in actual_data.columns:
        if not (col in actual_highs and col in actual_lows):
            continue
        try:
            # convert continuous variables to their actual value
            actual_data[col] *= 0.5 * (float(actual_highs[col]) - float(actual_lows[col]))
            # don't need to cast to float here, if either are not a float exception will have been thrown
            actual_data[col] += 0.5 * (actual_highs[col] + actual_lows[col])
        except ValueError:
            # assume 2 level categorical
            actual_data[col] = actual_data[col].map({-1: actual_lows[col], 1: actual_highs[col]})
    return actual_data
        
def get_tick_labels(key, lows, highs, units):
    """Returns a list of low/high labels with units (e.g. [8mm, 10mm])"""
    return [str(lows[key]) + units[key], str(highs[key]) + units[key]]


# Layer Thickness = lh
lh_low = .16 
lh_hi = .24 

# Print Speed = ps
ps_low = 50 
ps_hi = 60 

# Infill Density = id
id_low = .25 
id_hi = .15 

# Raster Width = rw
rw_low = .4 
rw_hi = .8 

# Wall Thicknessv = wt
wt_low = 1.2 
wt_hi = .8


# set some variables related to the coffee data set
actual_lows = { 'lh' : lh_low, 'ps' : ps_low, 'id': id_low, 'rw': rw_low, 'wt': wt_low }
actual_highs = { 'lh' : lh_hi, 'ps' : ps_hi, 'id': id_hi, 'rw': rw_hi, 'wt': wt_hi }
units = { 'lh' : 'mm', 'ps' : 'mm/s', 'id': '%', 'rw': 'mm', 'wt': 'mm' }



display(cr6DoE)


cr6DoE_actual = coded_to_actual(cr6DoE, actual_lows, actual_highs)

display(Markdown("Actual ## 2<sup>(5-1)</sup> Factorial Design"))
display(PrettyPandas(cr6DoE_actual))


plt.figure(figsize=(PlotWidth, PlotWidth))
sns.boxplot(data=cr6DoE_actual['time'])
plt.title('Box Plot of Cost')
plt.ylabel('time')
plt.show()

plt.figure(figsize=(PlotWidth, PlotWidth))
cr6DoE_actual['time'].hist()
plt.title('time')
plt.xlabel('time)')
plt.show()

plt.figure(figsize=(PlotWidth*2, PlotWidth))
plt.scatter(cr6DoE_actual['trial'], cr6DoE_actual['time'])
plt.title('time vs. trial')
plt.xlabel('trial')
plt.ylabel('time')
plt.show()





y = cr6DoE_actual['time']
X = cr6DoE_actual[['lh', 'ps', 'id','rw', 'wt']]

## An intercept is not added by default, so we need to add that here
X = sm.add_constant(X)
results = sm.OLS(y, X).fit()
results.summary()

print(results.summary())


plt.figure(figsize=(PlotWidth, PlotWidth))
sns.regplot(x=results.predict(X), y=y)
plt.xlabel('Predicted time')
plt.ylabel('Actual time')
plt.title('Actual vs. Predicted time')
plt.show()


Factors = ['lh', 'ps', 'id', 'rw', 'wt']
Interactions = [[p,q] for p in Factors for q in Factors]
InteractionsToUse = Interactions[1:5] + Interactions [7:10] + Interactions [13:15] + Interactions [23:24]
display(InteractionsToUse)


# newDoE = cr6DoE.copy(deep=True)
InteractionTerms = []
for i in np.arange(len(InteractionsToUse)):
    InteractionTerms += [InteractionsToUse[i][0] + ' * ' + InteractionsToUse[i][1]]
    cr6DoE_actual[InteractionsToUse[i][0] + ' * ' + InteractionsToUse[i][1]] = (cr6DoE_actual[InteractionsToUse[i][0]]-cr6DoE_actual[InteractionsToUse[i][0]].mean()) * (cr6DoE_actual[InteractionsToUse[i][1]]-cr6DoE_actual[InteractionsToUse[i][1]].mean())
    
display(cr6DoE_actual[Factors + InteractionTerms])



y = cr6DoE_actual['time']
X = cr6DoE_actual[Factors + InteractionTerms]

## An intercept is not added by default, so we need to add that here
X = sm.add_constant(X)
results = sm.OLS(y, X).fit()
results.summary()

print(results.summary())

plt.figure(figsize=(PlotWidth, PlotWidth))
sns.regplot(x=results.predict(X), y=y)
plt.xlabel('Predicted time')
plt.ylabel('Actual time')
plt.title('Actual vs. Predicted time')
plt.show()



y = cr6DoE_actual['time']
X = cr6DoE_actual[['lh', 'lh * ps', 'lh * id', 'lh * rw', 'ps * wt', 'id * wt', 'wt * rw']]

## An intercept is not added by default, so we need to add that here
X = sm.add_constant(X)
results = sm.OLS(y, X).fit()
results.summary()

print(results.summary())

plt.figure(figsize=(PlotWidth, PlotWidth))
sns.regplot(x=results.predict(X), y=y)
plt.xlabel('Predicted time')
plt.ylabel('Actual time')
plt.title('Actual vs. Predicted time')
plt.show()



