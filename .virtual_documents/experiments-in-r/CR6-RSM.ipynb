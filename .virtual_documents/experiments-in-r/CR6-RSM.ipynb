## Load Packages
## Install R Packages

install.packages("rsm")
library(rsm)

library(reshape2)

install.packages("desirability")
library(desirability)



# Layer Thickness = lh
lh_low = .16 
lh_hi = .24 

# Print Speed = ps
ps_low = 50 
ps_hi = 60 

# Infill Density = id
id_low = .25 
id_hi = .15 

# Raster Width = rw
rw_low = .4 
rw_hi = .8 

# Wall Thicknessv = wt
wt_low = 1.2 
wt_hi = .8


## Read data and save relevant variables.

fn.data.cost <- "https://raw.githubusercontent.com/wilsongis/3DP_Experiments/main/Data/cr6_cost.txt"
fn.data.time <- "https://raw.githubusercontent.com/wilsongis/3DP_Experiments/main/Data/cr6_time.txt"
df <- read.table(fn.data.cost, header=TRUE)
str(df)


df


# reshape data into long format
df.cost <- melt(df, id.vars = c("lh", "ps", "id", "wt", "rw", "alh", "aps", "aid", "awt", "arw"), variable.name = "rep", value.name = "cost")


# Summary of the original data

summary(df.cost)


cost_rsm <- rsm(cost ~ SO(alh, aps, aid, awt, arw), data = df.cost)


# externally Studentized residuals
cost_rsm$studres <- rstudent(cost_rsm)
summary(cost_rsm)


## generate ANOVA table for selected model
anova(cost_rsm)


lm_cost3lvl <- lm(cost ~ (alh+ aps+ aid+ awt+ arw)^3, data = df.cost)
# externally Studentized residuals
lm_cost3lvl$studres <- rstudent(lm_cost3lvl)
summary(lm_cost3lvl)


### Interactions: Layer Height


## Generate interaction plots.

par(mfrow=c(2,1), bg=rgb(1,1,0.8), mar=c(5, 8, 2, 4))


interaction.plot(df.cost$aps, df.cost$alh, df.cost$cost, fun=mean,type="b", pch=c(21,21), col=4,xlab="ps", ylab="cost", trace.lab="lh")

interaction.plot(df.cost$alh, df.cost$aps, df.cost$cost, fun=mean,
                 type="b", pch=c(21,21), col=4,
                 trace.lab="ps", ylab="cost", xlab="lh")

interaction.plot(df.cost$aid, df.cost$alh, df.cost$cost, fun=mean,
                 type="b", pch=c(21,21), col=4,
                 xlab="id", ylab="cost", trace.lab="lh")

interaction.plot(df.cost$alh, df.cost$aid, df.cost$cost, fun=mean,
                 type="b", pch=c(21,21), col=4,
                 trace.lab="id", ylab="cost", xlab="lh")

interaction.plot(df.cost$arw, df.cost$alh, df.cost$cost, fun=mean,
                 type="b", pch=c(21,21), col=4,
                 xlab="rw", ylab="cost", trace.lab="lh")

interaction.plot(df.cost$alh, df.cost$arw, df.cost$cost, fun=mean,
                 type="b", pch=c(21,21), col=4,
                 trace.lab="rw", ylab="cost", xlab="lh")

interaction.plot(df.cost$awt, df.cost$alh, df.cost$cost, fun=mean,
                 type="b", pch=c(21,21), col=4,
                 xlab="wt", ylab="cost", trace.lab="lh")

interaction.plot(df.cost$alh, df.cost$awt, df.cost$cost, fun=mean,
                 type="b", pch=c(21,21), col=4,
                 trace.lab="wt", ylab="cost", xlab="lh")


interaction.plot(df.cost$aid, df.cost$aps, df.cost$cost, fun=mean,
                 type="b", pch=c(21,21), col=4,
                 xlab="id", ylab="cost", trace.lab="ps")

interaction.plot(df.cost$aps, df.cost$aid, df.cost$cost, fun=mean,
                 type="b", pch=c(21,21), col=4,
                 trace.lab="id", ylab="cost", xlab="ps")

interaction.plot(df.cost$arw, df.cost$aps, df.cost$cost, fun=mean,
                 type="b", pch=c(21,21), col=4,
                 xlab="rw", ylab="cost", trace.lab="ps")

interaction.plot(df.cost$aps, df.cost$arw, df.cost$cost, fun=mean,
                 type="b", pch=c(21,21), col=4,
                 trace.lab="rw", ylab="cost", xlab="ps")

interaction.plot(df.cost$awt, df.cost$aps, df.cost$cost, fun=mean,
                 type="b", pch=c(21,21), col=4,
                 xlab="wt", ylab="cost", trace.lab="ps")

interaction.plot(df.cost$aps, df.cost$awt, df.cost$cost, fun=mean,
                 type="b", pch=c(21,21), col=4,
                 trace.lab="wt", ylab="cost", xlab="ps")



interaction.plot(df.cost$arw, df.cost$aid, df.cost$cost, fun=mean,
                 type="b", pch=c(21,21), col=4,
                 xlab="rw", ylab="cost", trace.lab="id")

interaction.plot(df.cost$aid, df.cost$arw, df.cost$cost, fun=mean,
                 type="b", pch=c(21,21), col=4,
                 trace.lab="rw", ylab="cost", xlab="id")

interaction.plot(df.cost$awt, df.cost$aid, df.cost$cost, fun=mean,
                 type="b", pch=c(21,21), col=4,
                 xlab="wt", ylab="cost", trace.lab="id")

interaction.plot(df.cost$aid, df.cost$awt, df.cost$cost, fun=mean,
                 type="b", pch=c(21,21), col=4,
                 trace.lab="wt", ylab="cost", xlab="id")


interaction.plot(df.cost$awt, df.cost$arw, df.cost$cost, fun=mean,
                 type="b", pch=c(21,21), col=4,
                 xlab="wt", ylab="cost", trace.lab="rw")

interaction.plot(df.cost$arw, df.cost$awt, df.cost$cost, fun=mean,
                 type="b", pch=c(21,21), col=4,
                 trace.lab="wt", ylab="cost", xlab="rw")


#contour plots 
par(mfrow=c(1,1))
suppressWarnings(
    contour(cost_rsm, ~alh + aps + aid + awt + arw, image=TRUE, at=summary(cost_rsm$canoncial$xs))
    )



# Generate plots taking two factors at a time

par(mfrow=c(1,1))

suppressWarnings(
    persp(cost_rsm,~alh+aps,image=TRUE,contour="colors",zlab="Cost",theta=30)   
    )
suppressWarnings(
    persp(cost_rsm,~alh+aid,image=TRUE,contour="colors",zlab="Cost",theta=30)   
    )
suppressWarnings(
    persp(cost_rsm,~alh+awt,image=TRUE,contour="colors",zlab="Cost",theta=30)   
    )
suppressWarnings(
    persp(cost_rsm,~alh+arw,image=TRUE,contour="colors",zlab="Cost",theta=30)   
    )
suppressWarnings(
    persp(cost_rsm,~aps+aid,image=TRUE,contour="colors",zlab="Cost",theta=30)   
    )
suppressWarnings(
    persp(cost_rsm,~aps+awt,image=TRUE,contour="colors",zlab="Cost",theta=30)   
    )
suppressWarnings(
    persp(cost_rsm,~aps+arw,image=TRUE,contour="colors",zlab="Cost",theta=30)   
    )
suppressWarnings(
    persp(cost_rsm,~aid+awt,image=TRUE,contour="colors",zlab="Cost",theta=30)   
    )
suppressWarnings(
    persp(cost_rsm,~aid+arw,image=TRUE,contour="colors",zlab="Cost",theta=30)   
    )
suppressWarnings(
    persp(cost_rsm,~awt+arw,image=TRUE,contour="colors",zlab="Cost",theta=30)   
    )


df <- read.table(fn.data.time, header=TRUE)
str(df)


# reshape data into long format
df.time <- melt(df, id.vars = c("lh", "ps", "id", "wt", "rw", "alh", "aps", "aid", "awt", "arw"), variable.name = "rep", value.name = "time")


# Summary of the original data

summary(df.time)


time_rsm <- rsm(time ~ SO(alh, aps, aid, awt, arw), data = df.time)


# externally Studentized residuals
time_rsm$studres <- rstudent(time_rsm)
summary(time_rsm)


## generate ANOVA table for selected model
anova(time_rsm)


lm_time3lvl <- lm(time ~ (alh+ aps+ aid+ awt+ arw)^3, data = df.time)
# externally Studentized residuals
lm_time3lvl$studres <- rstudent(lm_time3lvl)
summary(lm_time3lvl)


## Generate interaction plots.

par(mfrow=c(2,1), bg=rgb(1,1,0.8), mar=c(5, 8, 2, 4))


interaction.plot(df.time$aps, df.time$alh, df.time$time, fun=mean,type="b", pch=c(21,21), col=4,xlab="ps", ylab="time", trace.lab="lh")

interaction.plot(df.time$alh, df.time$aps, df.time$time, fun=mean,
                 type="b", pch=c(21,21), col=4,
                 trace.lab="ps", ylab="time", xlab="lh")

interaction.plot(df.time$aid, df.time$alh, df.time$time, fun=mean,
                 type="b", pch=c(21,21), col=4,
                 xlab="id", ylab="time", trace.lab="lh")

interaction.plot(df.time$alh, df.time$aid, df.time$time, fun=mean,
                 type="b", pch=c(21,21), col=4,
                 trace.lab="id", ylab="time", xlab="lh")

interaction.plot(df.time$arw, df.time$alh, df.time$time, fun=mean,
                 type="b", pch=c(21,21), col=4,
                 xlab="rw", ylab="time", trace.lab="lh")

interaction.plot(df.time$alh, df.time$arw, df.time$time, fun=mean,
                 type="b", pch=c(21,21), col=4,
                 trace.lab="rw", ylab="time", xlab="lh")

interaction.plot(df.time$awt, df.time$alh, df.time$time, fun=mean,
                 type="b", pch=c(21,21), col=4,
                 xlab="wt", ylab="time", trace.lab="lh")

interaction.plot(df.time$alh, df.time$awt, df.time$time, fun=mean,
                 type="b", pch=c(21,21), col=4,
                 trace.lab="wt", ylab="time", xlab="lh")


## Interactions: Print Speed (ps)


interaction.plot(df.time$aid, df.time$aps, df.time$time, fun=mean,
                 type="b", pch=c(21,21), col=4,
                 xlab="id", ylab="time", trace.lab="ps")

interaction.plot(df.time$aps, df.time$aid, df.time$time, fun=mean,
                 type="b", pch=c(21,21), col=4,
                 trace.lab="id", ylab="time", xlab="ps")

interaction.plot(df.time$arw, df.time$aps, df.time$time, fun=mean,
                 type="b", pch=c(21,21), col=4,
                 xlab="rw", ylab="time", trace.lab="ps")

interaction.plot(df.time$aps, df.time$arw, df.time$time, fun=mean,
                 type="b", pch=c(21,21), col=4,
                 trace.lab="rw", ylab="time", xlab="ps")

interaction.plot(df.time$awt, df.time$aps, df.time$time, fun=mean,
                 type="b", pch=c(21,21), col=4,
                 xlab="wt", ylab="time", trace.lab="ps")

interaction.plot(df.time$aps, df.time$awt, df.time$time, fun=mean,
                 type="b", pch=c(21,21), col=4,
                 trace.lab="wt", ylab="time", xlab="ps")


## Interactions: Infill Density (id)


interaction.plot(df.time$arw, df.time$aid, df.time$time, fun=mean,
                 type="b", pch=c(21,21), col=4,
                 xlab="rw", ylab="time", trace.lab="id")

interaction.plot(df.time$aid, df.time$arw, df.time$time, fun=mean,
                 type="b", pch=c(21,21), col=4,
                 trace.lab="rw", ylab="time", xlab="id")

interaction.plot(df.time$awt, df.time$aid, df.time$time, fun=mean,
                 type="b", pch=c(21,21), col=4,
                 xlab="wt", ylab="time", trace.lab="id")

interaction.plot(df.time$aid, df.time$awt, df.time$time, fun=mean,
                 type="b", pch=c(21,21), col=4,
                 trace.lab="wt", ylab="time", xlab="id")


## Interactions: Raster Width (rw)


interaction.plot(df.time$awt, df.time$arw, df.time$time, fun=mean,
                 type="b", pch=c(21,21), col=4,
                 xlab="wt", ylab="time", trace.lab="rw")

interaction.plot(df.time$arw, df.time$awt, df.time$time, fun=mean,
                 type="b", pch=c(21,21), col=4,
                 trace.lab="wt", ylab="time", xlab="rw")


#contour plots 
par(mfrow=c(1,1))
suppressWarnings(
    contour(time_rsm, ~alh + aps + aid + awt + arw, image=TRUE, at=summary(time_rsm$canoncial$xs))
    )



# Generate plots taking two factors at a time

par(mfrow=c(1,1))

suppressWarnings(
    persp(time_rsm,~alh+aps,image=TRUE,contour="colors",zlab="time",theta=30)   
    )
suppressWarnings(
    persp(time_rsm,~alh+aid,image=TRUE,contour="colors",zlab="time",theta=30)   
    )
suppressWarnings(
    persp(time_rsm,~alh+awt,image=TRUE,contour="colors",zlab="time",theta=30)   
    )
suppressWarnings(
    persp(time_rsm,~alh+arw,image=TRUE,contour="colors",zlab="time",theta=30)   
    )
suppressWarnings(
    persp(time_rsm,~aps+aid,image=TRUE,contour="colors",zlab="time",theta=30)   
    )
suppressWarnings(
    persp(time_rsm,~aps+awt,image=TRUE,contour="colors",zlab="time",theta=30)   
    )
suppressWarnings(
    persp(time_rsm,~aps+arw,image=TRUE,contour="colors",zlab="time",theta=30)   
    )
suppressWarnings(
    persp(time_rsm,~aid+awt,image=TRUE,contour="colors",zlab="time",theta=30)   
    )
suppressWarnings(
    persp(time_rsm,~aid+arw,image=TRUE,contour="colors",zlab="time",theta=30)   
    )
suppressWarnings(
    persp(time_rsm,~awt+arw,image=TRUE,contour="colors",zlab="time",theta=30)   
    )


summary(cost_rsm)


summary(time_rsm)


costPred <-function(x) .3748333 + .0041667*df.cost$alh - .0041667*df.cost$aps + 0.09*df.cost$aid + .305*df.cost$awt + .1925*df.cost$arw + .0033333*df.cost$alh*df.cost$aps - .75*df.cost$alh*df.cost$aid + .1875*df.cost$alh*df.cost$awt - .1875*df.cost$alh*df.cost$arw + .009*df.cost$aps*df.cost$aid - .00225*df.cost$aps*df.cost$awt + .00225*df.cost$aps*df.cost$arw + .35*df.cost$aid*df.cost$awt - .6*df.cost$aid*df.cost$arw - .225*df.cost$awt*df.cost$arw




timePred <-function(x) -95522.2 + 208852.5*df.time$alh + 2111.7*df.time$aps  -213627.2*df.time$aid + 39419.8*df.time$awt + 80131.6*df.time$arw - 5032.1*df.time$alh*df.time$aps + 216391.7*df.time$alh*df.time$aid - 123279.2*df.time$alh*df.time$awt + 58335.4*df.time$alh*df.time$arw + 1705.9*df.time$aps*df.time$aid + 313.4*df.time$aps*df.time$awt - 1519.7*df.time$aps*df.time$arw + 40930.0*df.time$aid*df.time$awt + 57067.5*df.time$aid*df.time$arw - 35898.7*df.time$awt*df.time$arw








