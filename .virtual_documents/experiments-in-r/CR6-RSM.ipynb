## Read data and save relevant variables.
fname = "https://raw.githubusercontent.com/wilsongis/3DP_Experiments/main/Data/cr6_all.dat"
m = matrix(scan(fname,skip=1,sep = ","),ncol=14,byrow=T)


## Main Effects
lh = m[,2]
ps = m[,3]
id = m[,4]
rw = m[,5]
wt = m[,6]


## Interactions
lh_ps = lh*ps
lh_id = lh*id
lh_rw = lh*rw
lh_wt = lh*wt
ps_id = ps*id
ps_rw = ps*rw
ps_wt = ps*wt
id_rw = id*rw
id_wt = id*wt
rw_wt = rw*wt


## Objectives
cost = m[,7]
time = m[,8]


run = m[,1]
quality = m[,9]


## Actual Values
alh = m[,10]
aps = m[,11]
aid = m[,12]
arw = m[,13]
awt = m[,14]

alh_aps = alh*aps
alh_aid = alh*aid
alh_arw = alh*arw
alh_awt = alh*awt
aps_aid = aps*aid
aps_arw = aps*arw
aps_awt = aps*awt
aid_arw = aid*arw
aid_awt = aid*awt
arw_awt = arw*awt


## Create data frame.
df = data.frame(run,
                lh,ps,id,wt,rw,
                lh_ps,lh_id,lh_rw,lh_wt,ps_id,ps_rw,ps_wt,id_rw,id_wt,rw_wt,
                cost,time,quality,
                alh,aps,aid,awt,arw,
                alh_aps,alh_aid,alh_arw,alh_awt,aps_aid,aps_arw,aps_awt,aid_arw,aid_awt,arw_awt)


print(df)


## Fit full model (Cost).
z = lm(cost ~ alh,aps,aid,awt,arw,alh_aps,alh_aid,alh_arw,alh_awt,aps_aid,aps_arw,aps_awt,aid_arw,aid_awt,arw_awt,data=df)
summary(z)






