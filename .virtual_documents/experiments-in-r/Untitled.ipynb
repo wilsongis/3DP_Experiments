install.packages("desirability")
library(desirability)


costPred <-function(x) .3748333 + .0041667*x[1] - .0041667*x[2] + 0.09*x[3] + .305*x[4] + .1925*x[5] + .0033333*x[1]*x[2] - .75*x[1]*x[3] + .1875*x[1]*x[4] - .1875*x[1]*x[5] + .009*x[2]*x[3] - .00225*x[2]*x[4] + .00225*x[2]*x[5] + .35*x[3]*x[4] - .6*x[3]*x[5] - .225*x[4]*x[5]

timePred <-function(x) -95522.2 + 208852.5*x[1] + 2111.7*x[2]  -213627.2*x[3] + 39419.8*x[4] + 80131.6*x[5] - 5032.1*x[1]*x[2] + 216391.7*x[1]*x[3] - 123279.2*x[1]*x[4] + 58335.4*x[1]*x[5] + 1705.9*x[2]*x[3] + 313.4*x[2]*x[4] - 1519.7*x[2]*x[5] + 40930.0*x[3]*x[4] + 57067.5*x[3]*x[5] - 35898.7*x[4]*x[5]



costD <- dMin(.48, .56)
timeD <- dMin(8480, 16000)


predOutcomes <- c(costPred(c(0,0,0,0,0)), timePred(c(0,0,0,0,0)))


print(predOutcomes)


predict(costD, predOutcomes[1])


predict(timeD, predOutcomes[2])


overallD <- dOverall(costD, timeD)
print(overallD)


predict(overallD, predOutcomes)


rsmOpt <- function(x, dObject, space = "square")
{
    cost <- costPred(x)
    time <- timePred(x)
    out <- predict(dObject, data.frame(cost = cost, time = time))
    if(space == "circular")
    {
        if(sqrt(sum(x^2)) > 1.682) out <- 0
    } else if(space == "square") if(any(abs(x) > 1)) out <- 0
out
}


searchGrid <- expand.grid(lh = seq(-1.5, 1.5, length = 5),
                          ps = seq(-1.5, 1.5, length = 5),
                          id = seq(-1.5, 1.5, length = 5),
                          wt = seq(-1.5, 1.5, length = 5),
                          rw = seq(-1.5, 1.5, length = 5))
for(i in 1:dim(searchGrid)[1])
{
    tmp <- optim(as.vector(searchGrid[i,]),
                 rsmOpt,
                 dObject = overallD,
                 space = "square",
                 control = list(fnscale = -1))
    if(i == 1)
    {
        best <- tmp
    } else {
        if(tmp$value > best$value) best <- tmp
        }
}
print(best)



