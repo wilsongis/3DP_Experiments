{
 "cells": [
  {
   "cell_type": "code",
   "execution_count": 1,
   "metadata": {},
   "outputs": [],
   "source": [
    "from matopt_review.BOtest  import BOtest\n",
    "import numpy as np"
   ]
  },
  {
   "cell_type": "code",
   "execution_count": 2,
   "metadata": {},
   "outputs": [],
   "source": [
    "#Run a single randomly initialized optimization of Foncesa using achievement_LCB\n",
    "minmax_pareto_solutions = [[0.001,0.981], [0.001,0.981]]\n",
    "random_goal = [np.random.uniform(d[0], d[1]) for d in minmax_pareto_solutions]\n",
    "bo = BOtest(funcname=\"MulFonseca\", ASF=\"achievement\")\n",
    "bo.run_BO(\"UCB\", \n",
    "          max_iter=10,# Number of Bayesian optimization steps (200 in the paper).\n",
    "          sampling=1, \n",
    "          goals=random_goal,\n",
    "          exact_feval=True\n",
    "          )\n",
    "Y_results = np.concatenate(bo.bowrap.bo_org.y_mult, axis=0)\n",
    "X_results = bo.bowrap.bo_org.X"
   ]
  },
  {
   "cell_type": "code",
   "execution_count": 3,
   "metadata": {},
   "outputs": [],
   "source": [
    "#Run a single randomly initialized optimization of Kursawe using achievement_LCB\n",
    "minmax_pareto_solutions = [[-19.9,-13.0], [-10.7,0.09]]\n",
    "random_goal = [np.random.uniform(d[0], d[1]) for d in minmax_pareto_solutions]\n",
    "bo = BOtest(funcname=\"MulKursawe\", ASF=\"achievement\")\n",
    "bo.run_BO(\"UCB\", \n",
    "          max_iter=10,# Number of Bayesian optimization steps (200 in the paper).\n",
    "          sampling=1, \n",
    "          goals=random_goal,\n",
    "          exact_feval=True\n",
    "          )\n",
    "Y_results = np.concatenate(bo.bowrap.bo_org.y_mult, axis=0)\n",
    "X_results = bo.bowrap.bo_org.X"
   ]
  },
  {
   "cell_type": "code",
   "execution_count": 4,
   "metadata": {},
   "outputs": [],
   "source": [
    "#Run a single randomly initialized optimization of Viennet using achievement_LCB\n",
    "minmax_pareto_solutions = [[0.0,67.6],[15.0,17.0],[-0.10,0.183]]\n",
    "random_goal = [np.random.uniform(d[0], d[1]) for d in minmax_pareto_solutions]\n",
    "bo = BOtest(funcname=\"MulViennet\", ASF=\"achievement\")\n",
    "bo.run_BO(\"UCB\", \n",
    "          max_iter=10,# Number of Bayesian optimization steps (200 in the paper).\n",
    "          sampling=1, \n",
    "          goals=random_goal,\n",
    "          exact_feval=True\n",
    "          )\n",
    "Y_results = np.concatenate(bo.bowrap.bo_org.y_mult, axis=0)\n",
    "X_results = bo.bowrap.bo_org.X"
   ]
  },
  {
   "cell_type": "code",
   "execution_count": 5,
   "metadata": {},
   "outputs": [],
   "source": [
    "#Run a single randomly initialized optimization of ZDT1 using achievement_LCB\n",
    "minmax_pareto_solutions = [[0.000,1.000],[0.00,1.01]]\n",
    "random_goal = [np.random.uniform(d[0], d[1]) for d in minmax_pareto_solutions]\n",
    "bo = BOtest(funcname=\"MulZDT1\", ASF=\"achievement\")\n",
    "bo.run_BO(\"UCB\", \n",
    "          max_iter=10,# Number of Bayesian optimization steps (200 in the paper).\n",
    "          sampling=1, \n",
    "          goals=random_goal,\n",
    "          exact_feval=True\n",
    "          )\n",
    "Y_results = np.concatenate(bo.bowrap.bo_org.y_mult, axis=0)\n",
    "X_results = bo.bowrap.bo_org.X"
   ]
  },
  {
   "cell_type": "code",
   "execution_count": 6,
   "metadata": {},
   "outputs": [],
   "source": [
    "#Run a single randomly initialized optimization of ZDT2 using achievement_LCB\n",
    "minmax_pareto_solutions = [[0.000,1.000],[0.00,1.00]]\n",
    "random_goal = [np.random.uniform(d[0], d[1]) for d in minmax_pareto_solutions]\n",
    "bo = BOtest(funcname=\"MulZDT2\", ASF=\"achievement\")\n",
    "bo.run_BO(\"UCB\", \n",
    "          max_iter=10,# Number of Bayesian optimization steps (200 in the paper).\n",
    "          sampling=1, \n",
    "          goals=random_goal,\n",
    "          exact_feval=True\n",
    "          )\n",
    "Y_results = np.concatenate(bo.bowrap.bo_org.y_mult, axis=0)\n",
    "X_results = bo.bowrap.bo_org.X"
   ]
  },
  {
   "cell_type": "code",
   "execution_count": 7,
   "metadata": {},
   "outputs": [],
   "source": [
    "#Run a single randomly initialized optimization of ZDT3 using achievement_LCB\n",
    "minmax_pareto_solutions = [[0.000,0.853], [-0.77,1.00]]\n",
    "random_goal = [np.random.uniform(d[0], d[1]) for d in minmax_pareto_solutions]\n",
    "bo = BOtest(funcname=\"MulZDT3\", ASF=\"achievement\")\n",
    "bo.run_BO(\"UCB\", \n",
    "          max_iter=10,# Number of Bayesian optimization steps (200 in the paper).\n",
    "          sampling=1, \n",
    "          goals=random_goal,\n",
    "          exact_feval=True\n",
    "          )\n",
    "Y_results = np.concatenate(bo.bowrap.bo_org.y_mult, axis=0)\n",
    "X_results = bo.bowrap.bo_org.X"
   ]
  }
 ],
 "metadata": {
  "kernelspec": {
   "display_name": "Python 3",
   "language": "python",
   "name": "python3"
  },
  "language_info": {
   "codemirror_mode": {
    "name": "ipython",
    "version": 3
   },
   "file_extension": ".py",
   "mimetype": "text/x-python",
   "name": "python",
   "nbconvert_exporter": "python",
   "pygments_lexer": "ipython3",
   "version": "3.6.10"
  }
 },
 "nbformat": 4,
 "nbformat_minor": 4
}
