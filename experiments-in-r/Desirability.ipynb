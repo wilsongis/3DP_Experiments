{
 "cells": [
  {
   "cell_type": "code",
   "execution_count": 1,
   "metadata": {
    "ExecuteTime": {
     "end_time": "2021-07-04T12:03:31.405014Z",
     "start_time": "2021-07-04T12:03:26.860Z"
    }
   },
   "outputs": [
    {
     "name": "stderr",
     "output_type": "stream",
     "text": [
      "Updating HTML index of packages in '.Library'\n",
      "\n",
      "Making 'packages.html' ...\n",
      " done\n",
      "\n"
     ]
    }
   ],
   "source": [
    "install.packages(\"desirability\")\n",
    "library(desirability)"
   ]
  },
  {
   "cell_type": "code",
   "execution_count": 2,
   "metadata": {
    "ExecuteTime": {
     "end_time": "2021-07-04T12:03:35.242734Z",
     "start_time": "2021-07-04T12:03:35.184Z"
    }
   },
   "outputs": [],
   "source": [
    "costPred <-function(x) .5315 - .002250*x[1] + .002250*x[2] - .001500*x[3] + .013500*x[4] - .004000*x[5] + .001*x[1]*x[2] + .002250*x[1]*x[3] + .002250*x[1]*x[4] + .002250*x[1]*x[5] - .002250*x[2]*x[3] - .002250*x[2]*x[4] - .002250*x[2]*x[5] - .003500*x[3]*x[4] - .006000*x[3]*x[5] + .009*x[4]*x[5]\n",
    "\n",
    "timePred <-function(x) 13131.87 - 2415.95*x[1] + 70.95*x[2] - 471.45*x[3] + 363.97*x[4] + 145.5*x[5] -  1509.62*x[1]*x[2] - 649.17*x[1]*x[3] - 1479.35*x[1]*x[4] - 700.03*x[1]*x[5] + 1519.68*x[2]*x[5] + 570.68*x[3]*x[5] + 1435.95*x[4]*x[5]\n"
   ]
  },
  {
   "cell_type": "code",
   "execution_count": 3,
   "metadata": {
    "ExecuteTime": {
     "end_time": "2021-07-04T12:03:38.979602Z",
     "start_time": "2021-07-04T12:03:38.954Z"
    }
   },
   "outputs": [],
   "source": [
    "costD <- dMin(.48, .56)\n",
    "timeD <- dMin(8480, 16000)"
   ]
  },
  {
   "cell_type": "code",
   "execution_count": 22,
   "metadata": {
    "ExecuteTime": {
     "end_time": "2021-07-04T12:18:34.775872Z",
     "start_time": "2021-07-04T12:17:57.036Z"
    }
   },
   "outputs": [],
   "source": [
    "predOutcomes <- c(costPred(c(1,1,1,1,1)), timePred(c(1,1,1,1,1)))"
   ]
  },
  {
   "cell_type": "code",
   "execution_count": 24,
   "metadata": {
    "ExecuteTime": {
     "end_time": "2021-07-04T12:18:35.520622Z",
     "start_time": "2021-07-04T12:18:09.868Z"
    }
   },
   "outputs": [
    {
     "name": "stdout",
     "output_type": "stream",
     "text": [
      "[1]     0.54 10013.03\n"
     ]
    }
   ],
   "source": [
    "print(predOutcomes)"
   ]
  },
  {
   "cell_type": "code",
   "execution_count": 25,
   "metadata": {
    "ExecuteTime": {
     "end_time": "2021-07-04T12:18:35.862809Z",
     "start_time": "2021-07-04T12:18:13.483Z"
    }
   },
   "outputs": [
    {
     "name": "stdout",
     "output_type": "stream",
     "text": [
      "[1] 10013.03\n"
     ]
    }
   ],
   "source": [
    "print(predOutcomes[2])"
   ]
  },
  {
   "cell_type": "code",
   "execution_count": 26,
   "metadata": {
    "ExecuteTime": {
     "end_time": "2021-07-04T12:18:36.656544Z",
     "start_time": "2021-07-04T12:18:24.314Z"
    }
   },
   "outputs": [
    {
     "data": {
      "text/html": [
       "0.25"
      ],
      "text/latex": [
       "0.25"
      ],
      "text/markdown": [
       "0.25"
      ],
      "text/plain": [
       "[1] 0.25"
      ]
     },
     "metadata": {},
     "output_type": "display_data"
    }
   ],
   "source": [
    "predict(costD, predOutcomes[1])"
   ]
  },
  {
   "cell_type": "code",
   "execution_count": 27,
   "metadata": {
    "ExecuteTime": {
     "end_time": "2021-07-04T12:19:40.832160Z",
     "start_time": "2021-07-04T12:18:28.895Z"
    }
   },
   "outputs": [
    {
     "data": {
      "text/html": [
       "0.796139627659574"
      ],
      "text/latex": [
       "0.796139627659574"
      ],
      "text/markdown": [
       "0.796139627659574"
      ],
      "text/plain": [
       "[1] 0.7961396"
      ]
     },
     "metadata": {},
     "output_type": "display_data"
    }
   ],
   "source": [
    "predict(timeD, predOutcomes[2])"
   ]
  },
  {
   "cell_type": "code",
   "execution_count": null,
   "metadata": {
    "ExecuteTime": {
     "start_time": "2021-07-04T12:18:31.668Z"
    }
   },
   "outputs": [],
   "source": [
    "overallD <- dOverall(costD, timeD)\n",
    "print(overallD)"
   ]
  },
  {
   "cell_type": "code",
   "execution_count": 19,
   "metadata": {
    "ExecuteTime": {
     "end_time": "2021-07-04T12:16:05.343127Z",
     "start_time": "2021-07-04T12:16:05.324Z"
    }
   },
   "outputs": [
    {
     "data": {
      "text/html": [
       "<style>\n",
       ".list-inline {list-style: none; margin:0; padding: 0}\n",
       ".list-inline>li {display: inline-block}\n",
       ".list-inline>li:not(:last-child)::after {content: \"\\00b7\"; padding: 0 .5ex}\n",
       "</style>\n",
       "<ol class=list-inline><li>0.670820393249937</li><li>0</li></ol>\n"
      ],
      "text/latex": [
       "\\begin{enumerate*}\n",
       "\\item 0.670820393249937\n",
       "\\item 0\n",
       "\\end{enumerate*}\n"
      ],
      "text/markdown": [
       "1. 0.670820393249937\n",
       "2. 0\n",
       "\n",
       "\n"
      ],
      "text/plain": [
       "[1] 0.6708204 0.0000000"
      ]
     },
     "metadata": {},
     "output_type": "display_data"
    }
   ],
   "source": [
    "predict(overallD, predOutcomes)"
   ]
  },
  {
   "cell_type": "code",
   "execution_count": null,
   "metadata": {
    "ExecuteTime": {
     "start_time": "2021-07-04T12:18:35.644Z"
    }
   },
   "outputs": [],
   "source": [
    "rsmOpt <- function(x, dObject, space = \"square\")\n",
    "{\n",
    "    cost <- costPred(x)\n",
    "    time <- timePred(x)\n",
    "    out <- predict(dObject, data.frame(cost = cost, time = time))\n",
    "    if(space == \"circular\")\n",
    "    {\n",
    "        if(sqrt(sum(x^2)) > 1) out <- 0\n",
    "    } else if(space == \"square\") if(any(abs(x) > 1)) out <- 0\n",
    "out\n",
    "}"
   ]
  },
  {
   "cell_type": "code",
   "execution_count": null,
   "metadata": {
    "ExecuteTime": {
     "start_time": "2021-07-04T12:18:39.227Z"
    }
   },
   "outputs": [],
   "source": [
    "searchGrid <- expand.grid(lh = seq(-1.5, 1.5, length = 5),\n",
    "                          ps = seq(-1.5, 1.5, length = 5),\n",
    "                          id = seq(-1.5, 1.5, length = 5),\n",
    "                          wt = seq(-1.5, 1.5, length = 5),\n",
    "                          rw = seq(-1.5, 1.5, length = 5))\n",
    "for(i in 1:dim(searchGrid)[1])\n",
    "{\n",
    "    tmp <- optim(as.vector(searchGrid[i,]),\n",
    "                 rsmOpt,\n",
    "                 dObject = overallD,\n",
    "                 space = \"square\",\n",
    "                 control = list(fnscale = -1))\n",
    "    if(i == 1)\n",
    "    {\n",
    "        best <- tmp\n",
    "    } else {\n",
    "        if(tmp$value > best$value) best <- tmp\n",
    "        }\n",
    "}\n",
    "print(best)"
   ]
  },
  {
   "cell_type": "code",
   "execution_count": null,
   "metadata": {},
   "outputs": [],
   "source": []
  }
 ],
 "metadata": {
  "kernelspec": {
   "display_name": "R",
   "language": "R",
   "name": "ir"
  },
  "language_info": {
   "codemirror_mode": "r",
   "file_extension": ".r",
   "mimetype": "text/x-r-source",
   "name": "R",
   "pygments_lexer": "r",
   "version": "3.6.1"
  },
  "toc": {
   "base_numbering": 1,
   "nav_menu": {},
   "number_sections": false,
   "sideBar": true,
   "skip_h1_title": false,
   "title_cell": "Table of Contents",
   "title_sidebar": "Contents",
   "toc_cell": false,
   "toc_position": {},
   "toc_section_display": true,
   "toc_window_display": false
  }
 },
 "nbformat": 4,
 "nbformat_minor": 4
}
