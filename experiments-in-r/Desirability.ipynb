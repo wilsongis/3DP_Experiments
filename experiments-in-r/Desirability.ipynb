{
 "cells": [
  {
   "cell_type": "code",
   "execution_count": null,
   "metadata": {},
   "outputs": [],
   "source": [
    "install.packages(\"desirability\")\n",
    "library(desirability)"
   ]
  },
  {
   "cell_type": "code",
   "execution_count": null,
   "metadata": {},
   "outputs": [],
   "source": [
    "costPred <-function(x) .3748333 + .0041667*x[1] - .0041667*x[2] + 0.09*x[3] + .305*x[4] + .1925*x[5] + .0033333*x[1]*x[2] - .75*x[1]*x[3] + .1875*x[1]*x[4] - .1875*x[1]*x[5] + .009*x[2]*x[3] - .00225*x[2]*x[4] + .00225*x[2]*x[5] + .35*x[3]*x[4] - .6*x[3]*x[5] - .225*x[4]*x[5]\n",
    "\n",
    "timePred <-function(x) -95522.2 + 208852.5*x[1] + 2111.7*x[2]  -213627.2*x[3] + 39419.8*x[4] + 80131.6*x[5] - 5032.1*x[1]*x[2] + 216391.7*x[1]*x[3] - 123279.2*x[1]*x[4] + 58335.4*x[1]*x[5] + 1705.9*x[2]*x[3] + 313.4*x[2]*x[4] - 1519.7*x[2]*x[5] + 40930.0*x[3]*x[4] + 57067.5*x[3]*x[5] - 35898.7*x[4]*x[5]\n"
   ]
  },
  {
   "cell_type": "code",
   "execution_count": 10,
   "metadata": {},
   "outputs": [],
   "source": [
    "costD <- dMin(.48, .56)\n",
    "timeD <- dMin(8480, 16000)"
   ]
  },
  {
   "cell_type": "code",
   "execution_count": 13,
   "metadata": {},
   "outputs": [],
   "source": [
    "predOutcomes <- c(costPred(c(0,0,0,0,0)), timePred(c(0,0,0,0,0)))"
   ]
  },
  {
   "cell_type": "code",
   "execution_count": 14,
   "metadata": {},
   "outputs": [
    {
     "name": "stdout",
     "output_type": "stream",
     "text": [
      "[1]  3.748333e-01 -9.552220e+04\n"
     ]
    }
   ],
   "source": [
    "print(predOutcomes)"
   ]
  },
  {
   "cell_type": "code",
   "execution_count": 15,
   "metadata": {},
   "outputs": [
    {
     "data": {
      "text/html": [
       "1"
      ],
      "text/latex": [
       "1"
      ],
      "text/markdown": [
       "1"
      ],
      "text/plain": [
       "[1] 1"
      ]
     },
     "metadata": {},
     "output_type": "display_data"
    }
   ],
   "source": [
    "predict(costD, predOutcomes[1])"
   ]
  },
  {
   "cell_type": "code",
   "execution_count": 16,
   "metadata": {},
   "outputs": [
    {
     "data": {
      "text/html": [
       "1"
      ],
      "text/latex": [
       "1"
      ],
      "text/markdown": [
       "1"
      ],
      "text/plain": [
       "[1] 1"
      ]
     },
     "metadata": {},
     "output_type": "display_data"
    }
   ],
   "source": [
    "predict(timeD, predOutcomes[2])"
   ]
  },
  {
   "cell_type": "code",
   "execution_count": 18,
   "metadata": {},
   "outputs": [
    {
     "name": "stdout",
     "output_type": "stream",
     "text": [
      "Combined desirability function\n",
      "\n",
      "Call: dOverall.default(costD, timeD)\n",
      "\n",
      "----\n",
      "Smaller-is-better desirability function\n",
      "\n",
      "Call: dMin.default(low = 0.48, high = 0.56)\n",
      "\n",
      "Non-informative value: 0.5 \n",
      "----\n",
      "Smaller-is-better desirability function\n",
      "\n",
      "Call: dMin.default(low = 8480, high = 16000)\n",
      "\n",
      "Non-informative value: 0.5 \n"
     ]
    }
   ],
   "source": [
    "overallD <- dOverall(costD, timeD)\n",
    "print(overallD)"
   ]
  },
  {
   "cell_type": "code",
   "execution_count": 19,
   "metadata": {},
   "outputs": [
    {
     "data": {
      "text/html": [
       "<style>\n",
       ".list-inline {list-style: none; margin:0; padding: 0}\n",
       ".list-inline>li {display: inline-block}\n",
       ".list-inline>li:not(:last-child)::after {content: \"\\00b7\"; padding: 0 .5ex}\n",
       "</style>\n",
       "<ol class=list-inline><li>1</li><li>1</li></ol>\n"
      ],
      "text/latex": [
       "\\begin{enumerate*}\n",
       "\\item 1\n",
       "\\item 1\n",
       "\\end{enumerate*}\n"
      ],
      "text/markdown": [
       "1. 1\n",
       "2. 1\n",
       "\n",
       "\n"
      ],
      "text/plain": [
       "[1] 1 1"
      ]
     },
     "metadata": {},
     "output_type": "display_data"
    }
   ],
   "source": [
    "predict(overallD, predOutcomes)"
   ]
  },
  {
   "cell_type": "code",
   "execution_count": 20,
   "metadata": {},
   "outputs": [],
   "source": [
    "rsmOpt <- function(x, dObject, space = \"square\")\n",
    "{\n",
    "    cost <- costPred(x)\n",
    "    time <- timePred(x)\n",
    "    out <- predict(dObject, data.frame(cost = cost, time = time))\n",
    "    if(space == \"circular\")\n",
    "    {\n",
    "        if(sqrt(sum(x^2)) > 1.682) out <- 0\n",
    "    } else if(space == \"square\") if(any(abs(x) > 1)) out <- 0\n",
    "out\n",
    "}"
   ]
  },
  {
   "cell_type": "code",
   "execution_count": 21,
   "metadata": {},
   "outputs": [
    {
     "name": "stdout",
     "output_type": "stream",
     "text": [
      "$par\n",
      "   lh    ps    id    wt    rw \n",
      "-0.75 -0.75 -0.75 -0.75 -0.75 \n",
      "\n",
      "$value\n",
      "[1] 1\n",
      "\n",
      "$counts\n",
      "function gradient \n",
      "       6       NA \n",
      "\n",
      "$convergence\n",
      "[1] 0\n",
      "\n",
      "$message\n",
      "NULL\n",
      "\n"
     ]
    }
   ],
   "source": [
    "searchGrid <- expand.grid(lh = seq(-1.5, 1.5, length = 5),\n",
    "                          ps = seq(-1.5, 1.5, length = 5),\n",
    "                          id = seq(-1.5, 1.5, length = 5),\n",
    "                          wt = seq(-1.5, 1.5, length = 5),\n",
    "                          rw = seq(-1.5, 1.5, length = 5))\n",
    "for(i in 1:dim(searchGrid)[1])\n",
    "{\n",
    "    tmp <- optim(as.vector(searchGrid[i,]),\n",
    "                 rsmOpt,\n",
    "                 dObject = overallD,\n",
    "                 space = \"square\",\n",
    "                 control = list(fnscale = -1))\n",
    "    if(i == 1)\n",
    "    {\n",
    "        best <- tmp\n",
    "    } else {\n",
    "        if(tmp$value > best$value) best <- tmp\n",
    "        }\n",
    "}\n",
    "print(best)"
   ]
  },
  {
   "cell_type": "code",
   "execution_count": null,
   "metadata": {},
   "outputs": [],
   "source": []
  }
 ],
 "metadata": {
  "kernelspec": {
   "display_name": "R",
   "language": "R",
   "name": "ir"
  },
  "language_info": {
   "codemirror_mode": "r",
   "file_extension": ".r",
   "mimetype": "text/x-r-source",
   "name": "R",
   "pygments_lexer": "r",
   "version": "3.6.1"
  }
 },
 "nbformat": 4,
 "nbformat_minor": 4
}
