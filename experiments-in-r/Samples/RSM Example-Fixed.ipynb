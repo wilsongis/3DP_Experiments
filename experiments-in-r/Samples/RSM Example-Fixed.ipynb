{
 "cells": [
  {
   "cell_type": "code",
   "execution_count": 1,
   "metadata": {
    "ExecuteTime": {
     "end_time": "2021-06-28T18:01:27.397205Z",
     "start_time": "2021-06-28T18:01:27.288Z"
    }
   },
   "outputs": [],
   "source": [
    "## From https://www.itl.nist.gov/div898/handbook/pri/section4/pri473.htm\n",
    "\n",
    "## R commands and output:\n",
    "\n",
    "## Read data and save relevant variables.\n",
    "fname = \"IMPROVE-5_4_7_3.DAT\"\n",
    "m = matrix(scan(fname,skip=25),ncol=7,byrow=T)\n",
    "run = m[,1]\n",
    "pressure = m[,2]\n",
    "h2 = m[,3]\n",
    "uniformity = m[,4]\n",
    "stress = m[,5]\n",
    "ph2 = pressure*h2\n",
    "press2 = pressure*pressure\n",
    "h22 = h2*h2\n",
    "\n",
    "\n",
    "## Coded variables.\n",
    "cpress = m[,6]\n",
    "ch2 = m[,7]\n",
    "cph = cpress*ch2\n",
    "ch22 = ch2*ch2\n",
    "cpress2 = cpress*cpress\n",
    "\n",
    "\n",
    "## Create data frame.\n",
    "df = data.frame(run,pressure,h2,uniformity,stress,cpress,ch2,h2,press2,h22,cph,ch22,cpress2)\n"
   ]
  },
  {
   "cell_type": "code",
   "execution_count": null,
   "metadata": {
    "ExecuteTime": {
     "end_time": "2021-06-28T18:01:27.445244Z",
     "start_time": "2021-06-28T18:01:27.294Z"
    }
   },
   "outputs": [],
   "source": [
    "## Fit full model.\n",
    "z = lm(uniformity ~ pressure+h2+ph2+press2+h22,data=df)\n",
    "summary(z)"
   ]
  },
  {
   "cell_type": "code",
   "execution_count": null,
   "metadata": {
    "ExecuteTime": {
     "end_time": "2021-06-28T18:01:27.526189Z",
     "start_time": "2021-06-28T18:01:27.296Z"
    }
   },
   "outputs": [],
   "source": [
    "##> Call:\n",
    "##> lm(formula = uniformity ~ pressure + h2 + ph2 + press2 + h22, \n",
    "##>     data = df)\n",
    "\n",
    "##> Residuals:\n",
    "##>       1       2       3       4       5       6       7       8       9      10 \n",
    "##>  0.5125  0.3334 -0.5068  0.6068 -0.6124  0.5334  0.2886  0.1751 -0.1886 -0.2752 \n",
    "##>      11 \n",
    "##> -0.8666 \n",
    "\n",
    "##> Coefficients:\n",
    "##>               Estimate Std. Error t value Pr(>|t|)   \n",
    "##> (Intercept)  1.137e+01  1.977e+00   5.753  0.00223 **\n",
    "##> pressure    -1.252e-01  4.663e-02  -2.684  0.04361 * \n",
    "##> h2          -5.507e-01  5.082e-01  -1.084  0.32794   \n",
    "##> ph2          1.118e-02  4.773e-03   2.342  0.06622 . \n",
    "##> press2       9.235e-05  4.231e-04   0.218  0.83584   \n",
    "##> h22          2.088e-03  3.817e-02   0.055  0.95850   \n",
    "##> ---\n",
    "##> Signif. codes:  0 ‘***’ 0.001 ‘**’ 0.01 ‘*’ 0.05 ‘.’ 0.1 ‘ ’ 1 \n",
    "\n",
    "##> Residual standard error: 0.7259 on 5 degrees of freedom\n",
    "##> Multiple R-squared: 0.8707,     Adjusted R-squared: 0.7415 \n",
    "##> F-statistic: 6.736 on 5 and 5 DF,  p-value: 0.02823\n",
    "\n",
    "\n",
    "## Perform stepwise regression.\n",
    "zz = step(z,direction=\"both\")"
   ]
  },
  {
   "cell_type": "code",
   "execution_count": null,
   "metadata": {
    "ExecuteTime": {
     "end_time": "2021-06-28T18:01:27.605487Z",
     "start_time": "2021-06-28T18:01:27.300Z"
    }
   },
   "outputs": [],
   "source": [
    "##> Start:  AIC=-3.72\n",
    "##> uniformity ~ pressure + h2 + ph2 + press2 + h22\n",
    "\n",
    "##>            Df Sum of Sq     RSS     AIC\n",
    "##> - h22       1    0.0016  2.6362 -5.7141\n",
    "##> - press2    1    0.0251  2.6597 -5.6164\n",
    "##> <none>                   2.6346 -3.7207\n",
    "##> - h2        1    0.6189  3.2535 -3.3997\n",
    "##> - ph2       1    2.8900  5.5246  2.4245\n",
    "##> - pressure  1    3.7961  6.4307  4.0950\n",
    "\n",
    "##> Step:  AIC=-5.71\n",
    "##> uniformity ~ pressure + h2 + ph2 + press2\n",
    "\n",
    "##>            Df Sum of Sq     RSS     AIC\n",
    "##> - press2    1    0.0236  2.6598 -7.6162\n",
    "##> <none>                   2.6362 -5.7141\n",
    "##> + h22       1    0.0016  2.6346 -3.7207\n",
    "##> - ph2       1    2.8900  5.5262  0.4277\n",
    "##> - h2        1    3.0077  5.6439  0.6595\n",
    "##> - pressure  1    3.9601  6.5963  2.3748\n",
    "\n",
    "##> Step:  AIC=-7.62\n",
    "##> uniformity ~ pressure + h2 + ph2\n",
    "\n",
    "##>            Df Sum of Sq     RSS     AIC\n",
    "##> <none>                   2.6598 -7.6162\n",
    "##> + press2    1    0.0236  2.6362 -5.7141\n",
    "##> + h22       1    0.0001  2.6597 -5.6164\n",
    "##> - ph2       1    2.8900  5.5498 -1.5255\n",
    "##> - h2        1    3.0077  5.6675 -1.2946\n",
    "##> - pressure  1    7.9682 10.6280  5.6216\n",
    "\n",
    "\n",
    "## generate ANOVA table for selected model\n",
    "anova(update(zz,~1),zz)"
   ]
  },
  {
   "cell_type": "code",
   "execution_count": null,
   "metadata": {
    "ExecuteTime": {
     "end_time": "2021-06-28T18:01:27.629490Z",
     "start_time": "2021-06-28T18:01:27.302Z"
    }
   },
   "outputs": [],
   "source": [
    "##> Analysis of Variance Table\n",
    "\n",
    "##> Model 1: uniformity ~ 1\n",
    "##> Model 2: uniformity ~ pressure + h2 + ph2\n",
    "##>   Res.Df     RSS Df Sum of Sq      F   Pr(>F)   \n",
    "##> 1     10 20.3818                                \n",
    "##> 2      7  2.6598  3   17.7220 15.547 0.001772 **\n",
    "##> ---\n",
    "##> Signif. codes:  0 ‘***’ 0.001 ‘**’ 0.01 ‘*’ 0.05 ‘.’ 0.1 ‘ ’ 1 \n",
    "\n",
    "\n",
    "summary(zz)"
   ]
  },
  {
   "cell_type": "code",
   "execution_count": null,
   "metadata": {
    "ExecuteTime": {
     "end_time": "2021-06-28T18:01:27.658408Z",
     "start_time": "2021-06-28T18:01:27.304Z"
    }
   },
   "outputs": [],
   "source": [
    "\n",
    "\n",
    "##> Call:\n",
    "##> lm(formula = uniformity ~ pressure + h2 + ph2, data = df)\n",
    "\n",
    "##> Residuals:\n",
    "##>     Min      1Q  Median      3Q     Max \n",
    "##> -0.9273 -0.3932  0.1479  0.3920  0.6295 \n",
    "\n",
    "##> Coefficients:\n",
    "##>              Estimate Std. Error t value Pr(>|t|)    \n",
    "##> (Intercept) 11.195193   1.186352   9.437 3.13e-05 ***\n",
    "##> pressure    -0.117395   0.025636  -4.579  0.00255 ** \n",
    "##> h2          -0.525696   0.186849  -2.813  0.02602 *  \n",
    "##> ph2          0.011178   0.004053   2.758  0.02818 *  \n",
    "##> ---\n",
    "##> Signif. codes:  0 ‘***’ 0.001 ‘**’ 0.01 ‘*’ 0.05 ‘.’ 0.1 ‘ ’ 1 \n",
    "\n",
    "##> Residual standard error: 0.6164 on 7 degrees of freedom\n",
    "##> Multiple R-squared: 0.8695,     Adjusted R-squared: 0.8136 \n",
    "##> F-statistic: 15.55 on 3 and 7 DF,  p-value: 0.001772\n",
    "\n",
    "\n",
    "## Generate ANOVA table.\n",
    "anova(zz)"
   ]
  },
  {
   "cell_type": "code",
   "execution_count": null,
   "metadata": {
    "ExecuteTime": {
     "end_time": "2021-06-28T18:01:27.696997Z",
     "start_time": "2021-06-28T18:01:27.307Z"
    }
   },
   "outputs": [],
   "source": [
    "\n",
    "\n",
    "##> Analysis of Variance Table\n",
    "\n",
    "##> Response: uniformity\n",
    "##>           Df  Sum Sq Mean Sq F value    Pr(>F)    \n",
    "##> pressure   1 14.6296 14.6296 38.5022 0.0004431 ***\n",
    "##> h2         1  0.2024  0.2024  0.5326 0.4891950    \n",
    "##> ph2        1  2.8900  2.8900  7.6059 0.0281821 *  \n",
    "##> Residuals  7  2.6598  0.3800                      \n",
    "##> ---\n",
    "##> Signif. codes:  0 ‘***’ 0.001 ‘**’ 0.01 ‘*’ 0.05 ‘.’ 0.1 ‘ ’ 1 \n",
    "\n",
    "\n",
    "## Perform lack-of-fit test.\n",
    "lof = factor(paste(pressure,h2,ph2))\n",
    "inner.model = lm(uniformity ~ pressure + h2 + ph2, data = df)\n",
    "outer.model = lm(uniformity ~ lof)\n",
    "anova(inner.model, outer.model)"
   ]
  },
  {
   "cell_type": "code",
   "execution_count": null,
   "metadata": {
    "ExecuteTime": {
     "end_time": "2021-06-28T18:01:27.839885Z",
     "start_time": "2021-06-28T18:01:27.309Z"
    }
   },
   "outputs": [],
   "source": [
    "##> Analysis of Variance Table\n",
    "\n",
    "##> Model 1: uniformity ~ pressure + h2 + ph2\n",
    "##> Model 2: uniformity ~ lof\n",
    "##>   Res.Df    RSS Df Sum of Sq      F Pr(>F)\n",
    "##> 1      7 2.6598                           \n",
    "##> 2      2 1.1467  5    1.5131 0.5278 0.7559\n",
    "\n",
    "\n",
    "## Plot actual versus predicted.\n",
    "par(mfrow=c(1,1),bg=rgb(1,1,0.8))\n",
    "plot(predict(zz),df$uniformity,ylab=\"Observed Uniformity\",\n",
    "     xlab=\"Predicted Uniformity\", col=4, pch=19)\n",
    "## Add regression line and confidence bounds to the plot.\n",
    "rline = lm(predict(zz)~df$uniformity)\n",
    "abline(rline)\n",
    "bnds = data.frame(predict.lm(rline, interval = \"confidence\"),uniformity)\n",
    "bnds = bnds[order(bnds$fit),]\n",
    "lines(bnds$uniformity,bnds[,2],col=2)\n",
    "lines(bnds$uniformity,bnds[,3],col=2)\n",
    "par(mfrow=c(1,1))"
   ]
  },
  {
   "cell_type": "code",
   "execution_count": null,
   "metadata": {
    "ExecuteTime": {
     "end_time": "2021-06-28T18:01:27.957018Z",
     "start_time": "2021-06-28T18:01:27.311Z"
    }
   },
   "outputs": [],
   "source": [
    "## Generate normal probability plot of the effects.\n",
    "## Save parameters in a vector, but remove intercept.\n",
    "qef = z$coef\n",
    "qef = qef[-1]\n",
    "\n",
    "## Sort effects and save labels.\n",
    "sef = qef[order(qef)]\n",
    "qlab = names(sef)\n",
    "qlab=c(\"H2/WF6\",\"Press\",\"Press^2\",\"H2/WF6^2\",\"Press*H2/WF6\")\n",
    "\n",
    "## Generate theoretical quantiles.\n",
    "ip = ppoints(length(sef))\n",
    "zp = qnorm(ip)\n",
    "\n",
    "## Generate normal probability plot of all effects (excluding the\n",
    "## intercept).  \n",
    "par(mfrow=c(1,1),bg=rgb(1,1,0.8))\n",
    "plot(zp, sef, pch=19,\n",
    "     ylab=\"Parameter Estimate\", xlab=\"Theoretical Quantiles\",\n",
    "     main=\"Normal Probability Plot of Parameter Estimates\")\n",
    "##qqline(sef, col=2)\n",
    "##abline(h=0, col=4)\n",
    "\n",
    "## Add labels for effects.\n",
    "small2 = c(1:(length(sef)-3))\n",
    "text(zp[small2],sef[small2],label=qlab[small2],pos=4,cex=1)\n",
    "text(zp[-small2],sef[-small2],label=qlab[-small2],pos=2,cex=1)"
   ]
  },
  {
   "cell_type": "code",
   "execution_count": null,
   "metadata": {
    "ExecuteTime": {
     "end_time": "2021-06-28T18:01:28.056254Z",
     "start_time": "2021-06-28T18:01:27.313Z"
    }
   },
   "outputs": [],
   "source": [
    "## Generate interaction plots.\n",
    "dfp = subset(df,pressure==15.13|pressure==68.87)\n",
    "\n",
    "par(mfrow=c(2,1), bg=rgb(1,1,0.8), mar=c(5, 8, 2, 4))\n",
    "interaction.plot(dfp$h2, dfp$pressure, dfp$uniformity, fun=mean,\n",
    "                 type=\"b\", pch=c(21,21), col=4,\n",
    "                 xlab=\"H2/W6\", ylab=\"Uniformity\", trace.lab=\"Pressure\")\n",
    "\n",
    "interaction.plot(dfp$pressure, dfp$h2, dfp$uniformity, fun=mean,\n",
    "                 type=\"b\", pch=c(21,21), col=4,\n",
    "                 trace.lab=\"H2/W6\", ylab=\"Uniformity\", xlab=\"Pressure\")"
   ]
  },
  {
   "cell_type": "code",
   "execution_count": null,
   "metadata": {
    "ExecuteTime": {
     "end_time": "2021-06-28T18:01:28.327460Z",
     "start_time": "2021-06-28T18:01:27.315Z"
    }
   },
   "outputs": [],
   "source": [
    "## Generate x and y data for plotting.\n",
    "xord = seq(4,80,by=4)\n",
    "yord = seq(2,10,by=.5)\n",
    "\n",
    "## Generate predicted response surface and generate matrix of surface.\n",
    "model = function (a, b){\n",
    "  zz$coefficients[1] +\n",
    "  zz$coefficients[2]*a +\n",
    "  zz$coefficients[3]*b +\n",
    "  zz$coefficients[4]*a*b}\n",
    "pmatu = outer(xord,yord,model)\n",
    "\n",
    "\n",
    "## Generate contour plot.\n",
    "par(mfrow=c(1,1), bg=rgb(1,1,0.8))\n",
    "contour(xord, yord, pmatu, nlevels=30, xlab=\"Pressure\", ylab=\"H2/WF6\",\n",
    "        col=\"blue\")\n",
    "par(mfrow=c(1,1))\n",
    "\n",
    "\n",
    "## Generate perspective plot.\n",
    "par(mfrow=c(1,1), bg=rgb(1,1,0.8))\n",
    "persp(xord, yord, pmatu, xlab=\"Pressure\", ylab=\"H2/WF6\", zlab=\"Uniformity\",\n",
    "      theta=30, phi=30, ticktype=\"detailed\", col=\"lightblue\") \n",
    "par(mfrow=c(1,1))"
   ]
  },
  {
   "cell_type": "code",
   "execution_count": null,
   "metadata": {
    "ExecuteTime": {
     "end_time": "2021-06-28T18:01:28.437940Z",
     "start_time": "2021-06-28T18:01:27.317Z"
    }
   },
   "outputs": [],
   "source": [
    "## Generate four plots of residuals.\n",
    "par(mfrow=c(2,2), bg=rgb(1,1,0.8))\n",
    "qqnorm(zz$residuals)\n",
    "qqline(zz$residuals, col = 2)\n",
    "abline(h=0)\n",
    "boxplot(zz$residuals, horizontal=TRUE, main=\"Box Plot\", xlab=\"Residual\")\n",
    "hist(zz$residuals, main=\"Histogram\", xlab=\"Residual\")\n",
    "plot(run, zz$residuals, xlab=\"Actual Run Order\", ylab=\"Residual\",\n",
    "     main=\"Run Order Plot\", col=4, pch=19)\n",
    "par(mfrow=c(1,1))\n",
    "\n",
    "\n",
    "## Fit model\n",
    "q = lm(stress ~ pressure+h2+ph2+press2+h22,data=df)\n",
    "summary(q)"
   ]
  },
  {
   "cell_type": "code",
   "execution_count": null,
   "metadata": {
    "ExecuteTime": {
     "end_time": "2021-06-28T18:01:28.470145Z",
     "start_time": "2021-06-28T18:01:27.319Z"
    }
   },
   "outputs": [],
   "source": [
    "##> Call:\n",
    "##> lm(formula = stress ~ pressure + h2 + ph2 + press2 + h22, data = df)\n",
    "\n",
    "##> Residuals:\n",
    "##>         1         2         3         4         5         6         7         8 \n",
    "##>  0.042447 -0.010004 -0.019295  0.009363 -0.032516 -0.100004  0.033712 -0.012256 \n",
    "##>         9        10        11 \n",
    "##> -0.043644  0.022198  0.109996 \n",
    "\n",
    "##> Coefficients:\n",
    "##>               Estimate Std. Error t value Pr(>|t|)    \n",
    "##> (Intercept)  5.427e+00  2.081e-01  26.073 1.55e-06 ***\n",
    "##> pressure     4.748e-02  4.909e-03   9.671 0.000201 ***\n",
    "##> h2           1.951e-01  5.350e-02   3.646 0.014803 *  \n",
    "##> ph2          4.603e-04  5.025e-04   0.916 0.401714    \n",
    "##> press2      -3.670e-04  4.454e-05  -8.240 0.000429 ***\n",
    "##> h22         -7.498e-03  4.019e-03  -1.866 0.121067    \n",
    "##> ---\n",
    "##> Signif. codes:  0 ‘***’ 0.001 ‘**’ 0.01 ‘*’ 0.05 ‘.’ 0.1 ‘ ’ 1 \n",
    "\n",
    "##> Residual standard error: 0.07642 on 5 degrees of freedom\n",
    "##> Multiple R-squared: 0.9919,     Adjusted R-squared: 0.9838 \n",
    "##> F-statistic: 122.3 on 5 and 5 DF,  p-value: 3.192e-05 \n",
    "\n",
    "\n",
    "## Perform stepwise regression.\n",
    "stepq = step(q,direction=\"both\")"
   ]
  },
  {
   "cell_type": "code",
   "execution_count": null,
   "metadata": {
    "ExecuteTime": {
     "end_time": "2021-06-28T18:01:28.505061Z",
     "start_time": "2021-06-28T18:01:27.322Z"
    }
   },
   "outputs": [],
   "source": [
    "##> Start:  AIC=-53.25\n",
    "##> stress ~ pressure + h2 + ph2 + press2 + h22\n",
    "\n",
    "##>            Df Sum of Sq     RSS     AIC\n",
    "##> - ph2       1     0.005   0.034 -53.539\n",
    "##> <none>                    0.029 -53.245\n",
    "##> - h22       1     0.020   0.050 -49.433\n",
    "##> - h2        1     0.078   0.107 -40.975\n",
    "##> - press2    1     0.397   0.426 -25.769\n",
    "##> - pressure  1     0.546   0.575 -22.455\n",
    "\n",
    "##> Step:  AIC=-53.54\n",
    "##> stress ~ pressure + h2 + press2 + h22\n",
    "\n",
    "##>            Df Sum of Sq     RSS     AIC\n",
    "##> <none>                    0.034 -53.539\n",
    "##> + ph2       1     0.005   0.029 -53.245\n",
    "##> - h22       1     0.020   0.054 -50.395\n",
    "##> - h2        1     0.111   0.145 -39.602\n",
    "##> - press2    1     0.397   0.431 -27.643\n",
    "##> - pressure  1     0.982   1.016 -18.200\n",
    "\n",
    "qq = lm(stress ~ pressure+h2+press2,data=df)\n",
    "\n",
    "anova(qq,q)"
   ]
  },
  {
   "cell_type": "code",
   "execution_count": null,
   "metadata": {
    "ExecuteTime": {
     "end_time": "2021-06-28T18:01:28.531673Z",
     "start_time": "2021-06-28T18:01:27.325Z"
    }
   },
   "outputs": [],
   "source": [
    "\n",
    "\n",
    "##> Analysis of Variance Table\n",
    "\n",
    "##> Model 1: stress ~ pressure + h2 + press2\n",
    "##> Model 2: stress ~ pressure + h2 + ph2 + press2 + h22\n",
    "##>   Res.Df      RSS Df Sum of Sq      F Pr(>F)\n",
    "##> 1      7 0.054435                           \n",
    "##> 2      5 0.029203  2  0.025232 2.1601 0.2108\n",
    "\n",
    "\n",
    "# ANOVA for reduced model for stress\n",
    "anova(update(qq,~1),qq)"
   ]
  },
  {
   "cell_type": "code",
   "execution_count": null,
   "metadata": {
    "ExecuteTime": {
     "end_time": "2021-06-28T18:01:28.551897Z",
     "start_time": "2021-06-28T18:01:27.328Z"
    }
   },
   "outputs": [],
   "source": [
    "\n",
    "\n",
    "##> Analysis of Variance Table\n",
    "\n",
    "##> Model 1: stress ~ 1\n",
    "##> Model 2: stress ~ pressure + h2 + press2\n",
    "##>   Res.Df    RSS Df Sum of Sq      F   Pr(>F)    \n",
    "##> 1     10 3.6001                                 \n",
    "##> 2      7 0.0544  3    3.5456 151.98 9.84e-07 ***\n",
    "##> ---\n",
    "##> Signif. codes:  0 ‘***’ 0.001 ‘**’ 0.01 ‘*’ 0.05 ‘.’ 0.1 ‘ ’ 1\n",
    "\n",
    "summary(qq)"
   ]
  },
  {
   "cell_type": "code",
   "execution_count": null,
   "metadata": {
    "ExecuteTime": {
     "end_time": "2021-06-28T18:01:28.577484Z",
     "start_time": "2021-06-28T18:01:27.330Z"
    }
   },
   "outputs": [],
   "source": [
    "\n",
    "\n",
    "##> Call:\n",
    "##> lm(formula = stress ~ pressure + h2 + press2, data = df)\n",
    "\n",
    "##> Residuals:\n",
    "##>      Min       1Q   Median       3Q      Max \n",
    "##> -0.07576 -0.04519 -0.02985  0.04699  0.16647 \n",
    "\n",
    "##> Coefficients:\n",
    "##>               Estimate Std. Error t value Pr(>|t|)    \n",
    "##> (Intercept)  5.567e+00  1.056e-01  52.706 2.32e-10 ***\n",
    "##> pressure     4.819e-02  4.286e-03  11.241 9.84e-06 ***\n",
    "##> h2           1.244e-01  1.102e-02  11.293 9.55e-06 ***\n",
    "##> press2      -3.426e-04  4.912e-05  -6.974 0.000217 ***\n",
    "##> ---\n",
    "##> Signif. codes:  0 ‘***’ 0.001 ‘**’ 0.01 ‘*’ 0.05 ‘.’ 0.1 ‘ ’ 1 \n",
    "\n",
    "##> Residual standard error: 0.08818 on 7 degrees of freedom\n",
    "##> Multiple R-squared: 0.9849,     Adjusted R-squared: 0.9784 \n",
    "##> F-statistic:   152 on 3 and 7 DF,  p-value: 9.84e-07 \n",
    "\n",
    "## Generate anova table.\n",
    "anova(qq)"
   ]
  },
  {
   "cell_type": "code",
   "execution_count": null,
   "metadata": {
    "ExecuteTime": {
     "end_time": "2021-06-28T18:01:28.615085Z",
     "start_time": "2021-06-28T18:01:27.332Z"
    }
   },
   "outputs": [],
   "source": [
    "\n",
    "\n",
    "##> Analysis of Variance Table\n",
    "\n",
    "##> Response: stress\n",
    "##>           Df  Sum Sq Mean Sq F value    Pr(>F)    \n",
    "##> pressure   1 2.17573 2.17573 279.783 6.676e-07 ***\n",
    "##> h2         1 0.99166 0.99166 127.521 9.550e-06 ***\n",
    "##> press2     1 0.37822 0.37822  48.637 0.0002165 ***\n",
    "##> Residuals  7 0.05444 0.00778                      \n",
    "##> ---\n",
    "##> Signif. codes:  0 ‘***’ 0.001 ‘**’ 0.01 ‘*’ 0.05 ‘.’ 0.1 ‘ ’ 1\n",
    "\n",
    "## Perform lack-of-fit test.\n",
    "lof = factor(paste(pressure,h2,ph2))\n",
    "inner.model = lm(stress ~ pressure + h2 + press2, data = df)\n",
    "outer.model = lm(stress ~ lof)\n",
    "anova(inner.model, outer.model)"
   ]
  },
  {
   "cell_type": "code",
   "execution_count": null,
   "metadata": {
    "ExecuteTime": {
     "end_time": "2021-06-28T18:01:28.717872Z",
     "start_time": "2021-06-28T18:01:27.334Z"
    }
   },
   "outputs": [],
   "source": [
    "\n",
    "##> Analysis of Variance Table\n",
    "\n",
    "##> Model 1: stress ~ pressure + h2 + press2\n",
    "##> Model 2: stress ~ lof\n",
    "##>   Res.Df      RSS Df Sum of Sq      F Pr(>F)\n",
    "##> 1      7 0.054435                           \n",
    "##> 2      2 0.022200  5  0.032235 0.5808 0.7301\n",
    "\n",
    "## Plot actual versus predicted.\n",
    "par(mfrow=c(1,1), bg=rgb(1,1,0.8))\n",
    "plot(predict(qq),df$stress,ylab=\"Observed Stress\",\n",
    "     xlab=\"Predicted Stress\", pch=19, col=4)\n",
    "## Add regression line and confidence bounds to the plot.\n",
    "rline = lm(predict(qq)~df$stress)\n",
    "abline(rline)\n",
    "bnds = data.frame(predict.lm(rline, interval = \"confidence\"), stress)\n",
    "bnds = bnds[order(bnds$fit),]\n",
    "lines(bnds$stress,bnds[,2], col=2)\n",
    "lines(bnds$stress,bnds[,3], col=2)\n",
    "par(mfrow=c(1,1))"
   ]
  },
  {
   "cell_type": "code",
   "execution_count": null,
   "metadata": {
    "ExecuteTime": {
     "end_time": "2021-06-28T18:01:28.736346Z",
     "start_time": "2021-06-28T18:01:27.336Z"
    }
   },
   "outputs": [],
   "source": [
    "## Generate normal probability plot of the effects.\n",
    "## Save parameters in a vector, but remove intercept.\n",
    "qef = q$coef\n",
    "qef = qef[-1]\n",
    "\n",
    "## Sort effects and save labels.\n",
    "sef = qef[order(qef)]\n",
    "qlab = names(sef)\n",
    "qlab=c(\"H2/WF6^2\",\"Press^2\",\"Press*H2/WF6\",\"Press\",\"H2/WF6\")\n",
    "\n",
    "## Generate theoretical quantiles.\n",
    "ip = ppoints(length(sef))\n",
    "zp = qnorm(ip)"
   ]
  },
  {
   "cell_type": "code",
   "execution_count": null,
   "metadata": {
    "ExecuteTime": {
     "end_time": "2021-06-28T18:01:28.906508Z",
     "start_time": "2021-06-28T18:01:27.338Z"
    }
   },
   "outputs": [],
   "source": [
    "\n",
    "## Generate normal probability plot of all effects (excluding the\n",
    "## intercept).  \n",
    "par(mfrow=c(1,1),bg=rgb(1,1,0.8))\n",
    "plot(zp, sef, pch=19,\n",
    "     ylab=\"Parameter Estimate\", xlab=\"Theoretical Quantiles\",\n",
    "     main=\"Normal Probability Plot of Parameter Estimates\")\n",
    "## Add labels for effects.\n",
    "small2 = c(1:(length(sef)-2))\n",
    "text(zp[small2],sef[small2],label=qlab[small2],pos=4,cex=1)\n",
    "text(zp[-small2],sef[-small2],label=qlab[-small2],pos=2,cex=1)\n",
    "par(mfrow=c(1,1))\n",
    "\n",
    "\n",
    "## Generate interaction plots.\n",
    "dfp = subset(df,pressure==15.13|pressure==68.87)\n",
    "\n",
    "par(mfrow=c(2,1), bg=rgb(1,1,0.8), mar=c(5, 8, 2, 4))\n",
    "interaction.plot(dfp$h2, dfp$pressure, dfp$stress, fun=mean,\n",
    "                 type=\"b\", pch=c(21,21), col=2,\n",
    "                 xlab=\"H2/W6\", ylab=\"Stress\", trace.lab=\"Pressure\")\n",
    "\n",
    "interaction.plot(dfp$pressure, dfp$h2, dfp$stress, fun=mean,\n",
    "                 type=\"b\", pch=c(21,21), col=2,\n",
    "                 trace.lab=\"H2/W6\", ylab=\"Stress\", xlab=\"Pressure\")\n",
    "par(mfrow=c(1,1), mar=c(5, 4, 4, 2)+0.1)"
   ]
  },
  {
   "cell_type": "code",
   "execution_count": null,
   "metadata": {
    "ExecuteTime": {
     "end_time": "2021-06-28T18:01:29.316664Z",
     "start_time": "2021-06-28T18:01:27.340Z"
    }
   },
   "outputs": [],
   "source": [
    "## Generate x and y data for plotting.\n",
    "xord = seq(4,80,by=4)\n",
    "yord = seq(2,10,by=.5)\n",
    "\n",
    "## Generate predicted response surface and generate matrix of surface.\n",
    "model = function (a, b){\n",
    "  qq$coefficients[1] +\n",
    "  qq$coefficients[2]*a +\n",
    "  qq$coefficients[3]*b +\n",
    "  qq$coefficients[4]*a*a}\n",
    "pmats = outer(xord,yord,model)\n",
    "\n",
    "\n",
    "## Generate contour plot.\n",
    "par(mfrow=c(1,1), bg=rgb(1,1,0.8))\n",
    "contour(xord, yord, pmats, nlevels=30, xlab=\"Pressure\", ylab=\"H2/WF6\",\n",
    "        col=\"red\")\n",
    "par(mfrow=c(1,1))\n",
    "\n",
    "\n",
    "## Generate perspective plot.\n",
    "par(mfrow=c(1,1), bg=rgb(1,1,0.8))\n",
    "persp(xord, yord, pmats, xlab=\"Pressure\", ylab=\"H2/WF6\", zlab=\"Stress\",\n",
    "      theta=30, phi=30, ticktype=\"detailed\", col=\"lightblue\") \n",
    "par(mfrow=c(1,1))\n",
    "\n",
    "\n",
    "## Generate four plots of residuals.\n",
    "par(mfrow=c(2,2), bg=rgb(1,1,0.8))\n",
    "qqnorm(qq$residuals)\n",
    "qqline(qq$residuals, col = 2)\n",
    "abline(h=0)\n",
    "boxplot(qq$residuals, horizontal=TRUE, main=\"Box Plot\", xlab=\"Residual\")\n",
    "hist(qq$residuals, main=\"Histogram\", xlab=\"Residual\")\n",
    "plot(run, qq$residuals, xlab=\"Actual Run Order\", ylab=\"Residual\",\n",
    "     main=\"Run Order Plot\", pch=19, col=4)\n",
    "par(mfrow=c(1,1))\n",
    "\n",
    "\n",
    "## Overlay uniformity and stress contour plots.\n",
    "par(mfrow=c(1,1), bg=rgb(1,1,0.8))\n",
    "contour(xord, yord, pmatu, nlevels=20, xlab=\"Pressure\", ylab=\"H2/WF6\",\n",
    "        col=\"blue\")\n",
    "contour(xord, yord, pmats, nlevels=15, xlab=\"Pressure\", ylab=\"H2/WF6\",\n",
    "        col=\"red\",add=TRUE)\n",
    "par(mfrow=c(1,1))\n"
   ]
  },
  {
   "cell_type": "code",
   "execution_count": null,
   "metadata": {},
   "outputs": [],
   "source": []
  },
  {
   "cell_type": "code",
   "execution_count": null,
   "metadata": {},
   "outputs": [],
   "source": []
  }
 ],
 "metadata": {
  "kernelspec": {
   "display_name": "R",
   "language": "R",
   "name": "ir"
  },
  "language_info": {
   "codemirror_mode": "r",
   "file_extension": ".r",
   "mimetype": "text/x-r-source",
   "name": "R",
   "pygments_lexer": "r",
   "version": "3.6.1"
  },
  "toc": {
   "base_numbering": 1,
   "nav_menu": {},
   "number_sections": false,
   "sideBar": true,
   "skip_h1_title": false,
   "title_cell": "Table of Contents",
   "title_sidebar": "Contents",
   "toc_cell": false,
   "toc_position": {},
   "toc_section_display": true,
   "toc_window_display": false
  }
 },
 "nbformat": 4,
 "nbformat_minor": 4
}
