{
 "cells": [
  {
   "cell_type": "code",
   "execution_count": 7,
   "metadata": {},
   "outputs": [
    {
     "name": "stderr",
     "output_type": "stream",
     "text": [
      "Updating HTML index of packages in '.Library'\n",
      "\n",
      "Making 'packages.html' ...\n",
      " done\n",
      "\n",
      "Updating HTML index of packages in '.Library'\n",
      "\n",
      "Making 'packages.html' ...\n",
      " done\n",
      "\n",
      "Updating HTML index of packages in '.Library'\n",
      "\n",
      "Making 'packages.html' ...\n",
      " done\n",
      "\n"
     ]
    }
   ],
   "source": [
    "install.packages(\"rsm\")\n",
    "library(rsm)\n",
    "\n",
    "install.packages(\"Vdgraph\")\n",
    "library(Vdgraph)\n",
    "\n",
    "install.packages(\"desirability\")\n",
    "library(desirability)"
   ]
  },
  {
   "cell_type": "code",
   "execution_count": 8,
   "metadata": {},
   "outputs": [
    {
     "data": {
      "text/html": [
       "<table>\n",
       "<caption>A data.frame: 10 × 11</caption>\n",
       "<thead>\n",
       "\t<tr><th></th><th scope=col>n.c</th><th scope=col>n0.c</th><th scope=col>blks.c</th><th scope=col>n.s</th><th scope=col>n0.s</th><th scope=col>bbr.c</th><th scope=col>wbr.s</th><th scope=col>bbr.s</th><th scope=col>N</th><th scope=col>alpha.rot</th><th scope=col>alpha.orth</th></tr>\n",
       "\t<tr><th></th><th scope=col>&lt;dbl&gt;</th><th scope=col>&lt;int&gt;</th><th scope=col>&lt;dbl&gt;</th><th scope=col>&lt;dbl&gt;</th><th scope=col>&lt;int&gt;</th><th scope=col>&lt;dbl&gt;</th><th scope=col>&lt;dbl&gt;</th><th scope=col>&lt;dbl&gt;</th><th scope=col>&lt;dbl&gt;</th><th scope=col>&lt;dbl&gt;</th><th scope=col>&lt;dbl&gt;</th></tr>\n",
       "</thead>\n",
       "<tbody>\n",
       "\t<tr><th scope=row>1</th><td>32</td><td> 2</td><td>1</td><td>10</td><td>2</td><td>1</td><td>1</td><td>1</td><td>46</td><td>2.378414</td><td>2.376354</td></tr>\n",
       "\t<tr><th scope=row>2</th><td>32</td><td> 5</td><td>1</td><td>10</td><td>3</td><td>1</td><td>1</td><td>1</td><td>50</td><td>2.378414</td><td>2.370996</td></tr>\n",
       "\t<tr><th scope=row>3</th><td>32</td><td>10</td><td>1</td><td>10</td><td>5</td><td>1</td><td>1</td><td>1</td><td>57</td><td>2.378414</td><td>2.390457</td></tr>\n",
       "\t<tr><th scope=row>4</th><td>32</td><td> 8</td><td>1</td><td>10</td><td>4</td><td>1</td><td>1</td><td>1</td><td>54</td><td>2.378414</td><td>2.366432</td></tr>\n",
       "\t<tr><th scope=row>5</th><td>32</td><td> 7</td><td>1</td><td>10</td><td>4</td><td>1</td><td>1</td><td>1</td><td>53</td><td>2.378414</td><td>2.396579</td></tr>\n",
       "\t<tr><th scope=row>6</th><td>32</td><td> 4</td><td>1</td><td>10</td><td>3</td><td>1</td><td>1</td><td>1</td><td>49</td><td>2.378414</td><td>2.403701</td></tr>\n",
       "\t<tr><th scope=row>7</th><td>32</td><td> 1</td><td>1</td><td>10</td><td>2</td><td>1</td><td>1</td><td>1</td><td>45</td><td>2.378414</td><td>2.412091</td></tr>\n",
       "\t<tr><th scope=row>8</th><td>32</td><td> 3</td><td>1</td><td>10</td><td>2</td><td>1</td><td>1</td><td>1</td><td>47</td><td>2.378414</td><td>2.342160</td></tr>\n",
       "\t<tr><th scope=row>9</th><td>32</td><td> 6</td><td>1</td><td>10</td><td>3</td><td>1</td><td>1</td><td>1</td><td>51</td><td>2.378414</td><td>2.339591</td></tr>\n",
       "\t<tr><th scope=row>10</th><td>32</td><td> 9</td><td>1</td><td>10</td><td>5</td><td>1</td><td>1</td><td>1</td><td>56</td><td>2.378414</td><td>2.419434</td></tr>\n",
       "</tbody>\n",
       "</table>\n"
      ],
      "text/latex": [
       "A data.frame: 10 × 11\n",
       "\\begin{tabular}{r|lllllllllll}\n",
       "  & n.c & n0.c & blks.c & n.s & n0.s & bbr.c & wbr.s & bbr.s & N & alpha.rot & alpha.orth\\\\\n",
       "  & <dbl> & <int> & <dbl> & <dbl> & <int> & <dbl> & <dbl> & <dbl> & <dbl> & <dbl> & <dbl>\\\\\n",
       "\\hline\n",
       "\t1 & 32 &  2 & 1 & 10 & 2 & 1 & 1 & 1 & 46 & 2.378414 & 2.376354\\\\\n",
       "\t2 & 32 &  5 & 1 & 10 & 3 & 1 & 1 & 1 & 50 & 2.378414 & 2.370996\\\\\n",
       "\t3 & 32 & 10 & 1 & 10 & 5 & 1 & 1 & 1 & 57 & 2.378414 & 2.390457\\\\\n",
       "\t4 & 32 &  8 & 1 & 10 & 4 & 1 & 1 & 1 & 54 & 2.378414 & 2.366432\\\\\n",
       "\t5 & 32 &  7 & 1 & 10 & 4 & 1 & 1 & 1 & 53 & 2.378414 & 2.396579\\\\\n",
       "\t6 & 32 &  4 & 1 & 10 & 3 & 1 & 1 & 1 & 49 & 2.378414 & 2.403701\\\\\n",
       "\t7 & 32 &  1 & 1 & 10 & 2 & 1 & 1 & 1 & 45 & 2.378414 & 2.412091\\\\\n",
       "\t8 & 32 &  3 & 1 & 10 & 2 & 1 & 1 & 1 & 47 & 2.378414 & 2.342160\\\\\n",
       "\t9 & 32 &  6 & 1 & 10 & 3 & 1 & 1 & 1 & 51 & 2.378414 & 2.339591\\\\\n",
       "\t10 & 32 &  9 & 1 & 10 & 5 & 1 & 1 & 1 & 56 & 2.378414 & 2.419434\\\\\n",
       "\\end{tabular}\n"
      ],
      "text/markdown": [
       "\n",
       "A data.frame: 10 × 11\n",
       "\n",
       "| <!--/--> | n.c &lt;dbl&gt; | n0.c &lt;int&gt; | blks.c &lt;dbl&gt; | n.s &lt;dbl&gt; | n0.s &lt;int&gt; | bbr.c &lt;dbl&gt; | wbr.s &lt;dbl&gt; | bbr.s &lt;dbl&gt; | N &lt;dbl&gt; | alpha.rot &lt;dbl&gt; | alpha.orth &lt;dbl&gt; |\n",
       "|---|---|---|---|---|---|---|---|---|---|---|---|\n",
       "| 1 | 32 |  2 | 1 | 10 | 2 | 1 | 1 | 1 | 46 | 2.378414 | 2.376354 |\n",
       "| 2 | 32 |  5 | 1 | 10 | 3 | 1 | 1 | 1 | 50 | 2.378414 | 2.370996 |\n",
       "| 3 | 32 | 10 | 1 | 10 | 5 | 1 | 1 | 1 | 57 | 2.378414 | 2.390457 |\n",
       "| 4 | 32 |  8 | 1 | 10 | 4 | 1 | 1 | 1 | 54 | 2.378414 | 2.366432 |\n",
       "| 5 | 32 |  7 | 1 | 10 | 4 | 1 | 1 | 1 | 53 | 2.378414 | 2.396579 |\n",
       "| 6 | 32 |  4 | 1 | 10 | 3 | 1 | 1 | 1 | 49 | 2.378414 | 2.403701 |\n",
       "| 7 | 32 |  1 | 1 | 10 | 2 | 1 | 1 | 1 | 45 | 2.378414 | 2.412091 |\n",
       "| 8 | 32 |  3 | 1 | 10 | 2 | 1 | 1 | 1 | 47 | 2.378414 | 2.342160 |\n",
       "| 9 | 32 |  6 | 1 | 10 | 3 | 1 | 1 | 1 | 51 | 2.378414 | 2.339591 |\n",
       "| 10 | 32 |  9 | 1 | 10 | 5 | 1 | 1 | 1 | 56 | 2.378414 | 2.419434 |\n",
       "\n"
      ],
      "text/plain": [
       "   n.c n0.c blks.c n.s n0.s bbr.c wbr.s bbr.s N  alpha.rot alpha.orth\n",
       "1  32   2   1      10  2    1     1     1     46 2.378414  2.376354  \n",
       "2  32   5   1      10  3    1     1     1     50 2.378414  2.370996  \n",
       "3  32  10   1      10  5    1     1     1     57 2.378414  2.390457  \n",
       "4  32   8   1      10  4    1     1     1     54 2.378414  2.366432  \n",
       "5  32   7   1      10  4    1     1     1     53 2.378414  2.396579  \n",
       "6  32   4   1      10  3    1     1     1     49 2.378414  2.403701  \n",
       "7  32   1   1      10  2    1     1     1     45 2.378414  2.412091  \n",
       "8  32   3   1      10  2    1     1     1     47 2.378414  2.342160  \n",
       "9  32   6   1      10  3    1     1     1     51 2.378414  2.339591  \n",
       "10 32   9   1      10  5    1     1     1     56 2.378414  2.419434  "
      ]
     },
     "metadata": {},
     "output_type": "display_data"
    }
   ],
   "source": [
    "ccd.pick(k=5)"
   ]
  },
  {
   "cell_type": "code",
   "execution_count": 11,
   "metadata": {},
   "outputs": [
    {
     "data": {
      "text/html": [
       "<table>\n",
       "<caption>A matrix: 23 × 5 of type dbl</caption>\n",
       "<thead>\n",
       "\t<tr><th scope=col>x1</th><th scope=col>x2</th><th scope=col>x3</th><th scope=col>x4</th><th scope=col>x5</th></tr>\n",
       "</thead>\n",
       "<tbody>\n",
       "\t<tr><td> 1.00000</td><td>-1.00000</td><td> 1.00000</td><td> 1.00000</td><td> 1.00000</td></tr>\n",
       "\t<tr><td> 1.00000</td><td> 1.00000</td><td>-1.00000</td><td>-1.00000</td><td>-1.00000</td></tr>\n",
       "\t<tr><td>-1.00000</td><td> 1.00000</td><td> 1.00000</td><td>-1.00000</td><td> 1.00000</td></tr>\n",
       "\t<tr><td> 1.00000</td><td>-1.00000</td><td> 1.00000</td><td>-1.00000</td><td> 1.00000</td></tr>\n",
       "\t<tr><td> 1.00000</td><td> 1.00000</td><td>-1.00000</td><td> 1.00000</td><td> 1.00000</td></tr>\n",
       "\t<tr><td> 1.00000</td><td> 1.00000</td><td> 1.00000</td><td>-1.00000</td><td>-1.00000</td></tr>\n",
       "\t<tr><td>-1.00000</td><td> 1.00000</td><td> 1.00000</td><td> 1.00000</td><td>-1.00000</td></tr>\n",
       "\t<tr><td>-1.00000</td><td>-1.00000</td><td> 1.00000</td><td> 1.00000</td><td>-1.00000</td></tr>\n",
       "\t<tr><td>-1.00000</td><td>-1.00000</td><td>-1.00000</td><td>-1.00000</td><td> 1.00000</td></tr>\n",
       "\t<tr><td> 1.00000</td><td>-1.00000</td><td>-1.00000</td><td> 1.00000</td><td>-1.00000</td></tr>\n",
       "\t<tr><td>-1.00000</td><td> 1.00000</td><td>-1.00000</td><td> 1.00000</td><td> 1.00000</td></tr>\n",
       "\t<tr><td>-1.00000</td><td>-1.00000</td><td>-1.00000</td><td>-1.00000</td><td>-1.00000</td></tr>\n",
       "\t<tr><td>-1.86121</td><td> 0.00000</td><td> 0.00000</td><td> 0.00000</td><td> 0.00000</td></tr>\n",
       "\t<tr><td> 1.86121</td><td> 0.00000</td><td> 0.00000</td><td> 0.00000</td><td> 0.00000</td></tr>\n",
       "\t<tr><td> 0.00000</td><td>-1.86121</td><td> 0.00000</td><td> 0.00000</td><td> 0.00000</td></tr>\n",
       "\t<tr><td> 0.00000</td><td> 1.86121</td><td> 0.00000</td><td> 0.00000</td><td> 0.00000</td></tr>\n",
       "\t<tr><td> 0.00000</td><td> 0.00000</td><td>-1.86121</td><td> 0.00000</td><td> 0.00000</td></tr>\n",
       "\t<tr><td> 0.00000</td><td> 0.00000</td><td> 1.86121</td><td> 0.00000</td><td> 0.00000</td></tr>\n",
       "\t<tr><td> 0.00000</td><td> 0.00000</td><td> 0.00000</td><td>-1.86121</td><td> 0.00000</td></tr>\n",
       "\t<tr><td> 0.00000</td><td> 0.00000</td><td> 0.00000</td><td> 1.86121</td><td> 0.00000</td></tr>\n",
       "\t<tr><td> 0.00000</td><td> 0.00000</td><td> 0.00000</td><td> 0.00000</td><td>-1.86121</td></tr>\n",
       "\t<tr><td> 0.00000</td><td> 0.00000</td><td> 0.00000</td><td> 0.00000</td><td> 1.86121</td></tr>\n",
       "\t<tr><td> 0.00000</td><td> 0.00000</td><td> 0.00000</td><td> 0.00000</td><td> 0.00000</td></tr>\n",
       "</tbody>\n",
       "</table>\n"
      ],
      "text/latex": [
       "A matrix: 23 × 5 of type dbl\n",
       "\\begin{tabular}{lllll}\n",
       " x1 & x2 & x3 & x4 & x5\\\\\n",
       "\\hline\n",
       "\t  1.00000 & -1.00000 &  1.00000 &  1.00000 &  1.00000\\\\\n",
       "\t  1.00000 &  1.00000 & -1.00000 & -1.00000 & -1.00000\\\\\n",
       "\t -1.00000 &  1.00000 &  1.00000 & -1.00000 &  1.00000\\\\\n",
       "\t  1.00000 & -1.00000 &  1.00000 & -1.00000 &  1.00000\\\\\n",
       "\t  1.00000 &  1.00000 & -1.00000 &  1.00000 &  1.00000\\\\\n",
       "\t  1.00000 &  1.00000 &  1.00000 & -1.00000 & -1.00000\\\\\n",
       "\t -1.00000 &  1.00000 &  1.00000 &  1.00000 & -1.00000\\\\\n",
       "\t -1.00000 & -1.00000 &  1.00000 &  1.00000 & -1.00000\\\\\n",
       "\t -1.00000 & -1.00000 & -1.00000 & -1.00000 &  1.00000\\\\\n",
       "\t  1.00000 & -1.00000 & -1.00000 &  1.00000 & -1.00000\\\\\n",
       "\t -1.00000 &  1.00000 & -1.00000 &  1.00000 &  1.00000\\\\\n",
       "\t -1.00000 & -1.00000 & -1.00000 & -1.00000 & -1.00000\\\\\n",
       "\t -1.86121 &  0.00000 &  0.00000 &  0.00000 &  0.00000\\\\\n",
       "\t  1.86121 &  0.00000 &  0.00000 &  0.00000 &  0.00000\\\\\n",
       "\t  0.00000 & -1.86121 &  0.00000 &  0.00000 &  0.00000\\\\\n",
       "\t  0.00000 &  1.86121 &  0.00000 &  0.00000 &  0.00000\\\\\n",
       "\t  0.00000 &  0.00000 & -1.86121 &  0.00000 &  0.00000\\\\\n",
       "\t  0.00000 &  0.00000 &  1.86121 &  0.00000 &  0.00000\\\\\n",
       "\t  0.00000 &  0.00000 &  0.00000 & -1.86121 &  0.00000\\\\\n",
       "\t  0.00000 &  0.00000 &  0.00000 &  1.86121 &  0.00000\\\\\n",
       "\t  0.00000 &  0.00000 &  0.00000 &  0.00000 & -1.86121\\\\\n",
       "\t  0.00000 &  0.00000 &  0.00000 &  0.00000 &  1.86121\\\\\n",
       "\t  0.00000 &  0.00000 &  0.00000 &  0.00000 &  0.00000\\\\\n",
       "\\end{tabular}\n"
      ],
      "text/markdown": [
       "\n",
       "A matrix: 23 × 5 of type dbl\n",
       "\n",
       "| x1 | x2 | x3 | x4 | x5 |\n",
       "|---|---|---|---|---|\n",
       "|  1.00000 | -1.00000 |  1.00000 |  1.00000 |  1.00000 |\n",
       "|  1.00000 |  1.00000 | -1.00000 | -1.00000 | -1.00000 |\n",
       "| -1.00000 |  1.00000 |  1.00000 | -1.00000 |  1.00000 |\n",
       "|  1.00000 | -1.00000 |  1.00000 | -1.00000 |  1.00000 |\n",
       "|  1.00000 |  1.00000 | -1.00000 |  1.00000 |  1.00000 |\n",
       "|  1.00000 |  1.00000 |  1.00000 | -1.00000 | -1.00000 |\n",
       "| -1.00000 |  1.00000 |  1.00000 |  1.00000 | -1.00000 |\n",
       "| -1.00000 | -1.00000 |  1.00000 |  1.00000 | -1.00000 |\n",
       "| -1.00000 | -1.00000 | -1.00000 | -1.00000 |  1.00000 |\n",
       "|  1.00000 | -1.00000 | -1.00000 |  1.00000 | -1.00000 |\n",
       "| -1.00000 |  1.00000 | -1.00000 |  1.00000 |  1.00000 |\n",
       "| -1.00000 | -1.00000 | -1.00000 | -1.00000 | -1.00000 |\n",
       "| -1.86121 |  0.00000 |  0.00000 |  0.00000 |  0.00000 |\n",
       "|  1.86121 |  0.00000 |  0.00000 |  0.00000 |  0.00000 |\n",
       "|  0.00000 | -1.86121 |  0.00000 |  0.00000 |  0.00000 |\n",
       "|  0.00000 |  1.86121 |  0.00000 |  0.00000 |  0.00000 |\n",
       "|  0.00000 |  0.00000 | -1.86121 |  0.00000 |  0.00000 |\n",
       "|  0.00000 |  0.00000 |  1.86121 |  0.00000 |  0.00000 |\n",
       "|  0.00000 |  0.00000 |  0.00000 | -1.86121 |  0.00000 |\n",
       "|  0.00000 |  0.00000 |  0.00000 |  1.86121 |  0.00000 |\n",
       "|  0.00000 |  0.00000 |  0.00000 |  0.00000 | -1.86121 |\n",
       "|  0.00000 |  0.00000 |  0.00000 |  0.00000 |  1.86121 |\n",
       "|  0.00000 |  0.00000 |  0.00000 |  0.00000 |  0.00000 |\n",
       "\n"
      ],
      "text/plain": [
       "      x1       x2       x3       x4       x5      \n",
       " [1,]  1.00000 -1.00000  1.00000  1.00000  1.00000\n",
       " [2,]  1.00000  1.00000 -1.00000 -1.00000 -1.00000\n",
       " [3,] -1.00000  1.00000  1.00000 -1.00000  1.00000\n",
       " [4,]  1.00000 -1.00000  1.00000 -1.00000  1.00000\n",
       " [5,]  1.00000  1.00000 -1.00000  1.00000  1.00000\n",
       " [6,]  1.00000  1.00000  1.00000 -1.00000 -1.00000\n",
       " [7,] -1.00000  1.00000  1.00000  1.00000 -1.00000\n",
       " [8,] -1.00000 -1.00000  1.00000  1.00000 -1.00000\n",
       " [9,] -1.00000 -1.00000 -1.00000 -1.00000  1.00000\n",
       "[10,]  1.00000 -1.00000 -1.00000  1.00000 -1.00000\n",
       "[11,] -1.00000  1.00000 -1.00000  1.00000  1.00000\n",
       "[12,] -1.00000 -1.00000 -1.00000 -1.00000 -1.00000\n",
       "[13,] -1.86121  0.00000  0.00000  0.00000  0.00000\n",
       "[14,]  1.86121  0.00000  0.00000  0.00000  0.00000\n",
       "[15,]  0.00000 -1.86121  0.00000  0.00000  0.00000\n",
       "[16,]  0.00000  1.86121  0.00000  0.00000  0.00000\n",
       "[17,]  0.00000  0.00000 -1.86121  0.00000  0.00000\n",
       "[18,]  0.00000  0.00000  1.86121  0.00000  0.00000\n",
       "[19,]  0.00000  0.00000  0.00000 -1.86121  0.00000\n",
       "[20,]  0.00000  0.00000  0.00000  1.86121  0.00000\n",
       "[21,]  0.00000  0.00000  0.00000  0.00000 -1.86121\n",
       "[22,]  0.00000  0.00000  0.00000  0.00000  1.86121\n",
       "[23,]  0.00000  0.00000  0.00000  0.00000  0.00000"
      ]
     },
     "metadata": {},
     "output_type": "display_data"
    },
    {
     "data": {
      "text/html": [
       "<table>\n",
       "<caption>A matrix: 28 × 5 of type int</caption>\n",
       "<thead>\n",
       "\t<tr><th scope=col>x1</th><th scope=col>x2</th><th scope=col>x3</th><th scope=col>x4</th><th scope=col>x5</th></tr>\n",
       "</thead>\n",
       "<tbody>\n",
       "\t<tr><td>-1</td><td>-1</td><td>-1</td><td>-1</td><td> 1</td></tr>\n",
       "\t<tr><td> 1</td><td>-1</td><td>-1</td><td>-1</td><td>-1</td></tr>\n",
       "\t<tr><td>-1</td><td> 1</td><td>-1</td><td>-1</td><td>-1</td></tr>\n",
       "\t<tr><td> 1</td><td> 1</td><td>-1</td><td>-1</td><td> 1</td></tr>\n",
       "\t<tr><td>-1</td><td>-1</td><td> 1</td><td>-1</td><td>-1</td></tr>\n",
       "\t<tr><td> 1</td><td>-1</td><td> 1</td><td>-1</td><td> 1</td></tr>\n",
       "\t<tr><td>-1</td><td> 1</td><td> 1</td><td>-1</td><td> 1</td></tr>\n",
       "\t<tr><td> 1</td><td> 1</td><td> 1</td><td>-1</td><td>-1</td></tr>\n",
       "\t<tr><td>-1</td><td>-1</td><td>-1</td><td> 1</td><td>-1</td></tr>\n",
       "\t<tr><td> 1</td><td>-1</td><td>-1</td><td> 1</td><td> 1</td></tr>\n",
       "\t<tr><td>-1</td><td> 1</td><td>-1</td><td> 1</td><td> 1</td></tr>\n",
       "\t<tr><td> 1</td><td> 1</td><td>-1</td><td> 1</td><td>-1</td></tr>\n",
       "\t<tr><td>-1</td><td>-1</td><td> 1</td><td> 1</td><td> 1</td></tr>\n",
       "\t<tr><td> 1</td><td>-1</td><td> 1</td><td> 1</td><td>-1</td></tr>\n",
       "\t<tr><td>-1</td><td> 1</td><td> 1</td><td> 1</td><td>-1</td></tr>\n",
       "\t<tr><td> 1</td><td> 1</td><td> 1</td><td> 1</td><td> 1</td></tr>\n",
       "\t<tr><td>-2</td><td> 0</td><td> 0</td><td> 0</td><td> 0</td></tr>\n",
       "\t<tr><td> 2</td><td> 0</td><td> 0</td><td> 0</td><td> 0</td></tr>\n",
       "\t<tr><td> 0</td><td>-2</td><td> 0</td><td> 0</td><td> 0</td></tr>\n",
       "\t<tr><td> 0</td><td> 2</td><td> 0</td><td> 0</td><td> 0</td></tr>\n",
       "\t<tr><td> 0</td><td> 0</td><td>-2</td><td> 0</td><td> 0</td></tr>\n",
       "\t<tr><td> 0</td><td> 0</td><td> 2</td><td> 0</td><td> 0</td></tr>\n",
       "\t<tr><td> 0</td><td> 0</td><td> 0</td><td>-2</td><td> 0</td></tr>\n",
       "\t<tr><td> 0</td><td> 0</td><td> 0</td><td> 2</td><td> 0</td></tr>\n",
       "\t<tr><td> 0</td><td> 0</td><td> 0</td><td> 0</td><td>-2</td></tr>\n",
       "\t<tr><td> 0</td><td> 0</td><td> 0</td><td> 0</td><td> 2</td></tr>\n",
       "\t<tr><td> 0</td><td> 0</td><td> 0</td><td> 0</td><td> 0</td></tr>\n",
       "\t<tr><td> 0</td><td> 0</td><td> 0</td><td> 0</td><td> 0</td></tr>\n",
       "</tbody>\n",
       "</table>\n"
      ],
      "text/latex": [
       "A matrix: 28 × 5 of type int\n",
       "\\begin{tabular}{lllll}\n",
       " x1 & x2 & x3 & x4 & x5\\\\\n",
       "\\hline\n",
       "\t -1 & -1 & -1 & -1 &  1\\\\\n",
       "\t  1 & -1 & -1 & -1 & -1\\\\\n",
       "\t -1 &  1 & -1 & -1 & -1\\\\\n",
       "\t  1 &  1 & -1 & -1 &  1\\\\\n",
       "\t -1 & -1 &  1 & -1 & -1\\\\\n",
       "\t  1 & -1 &  1 & -1 &  1\\\\\n",
       "\t -1 &  1 &  1 & -1 &  1\\\\\n",
       "\t  1 &  1 &  1 & -1 & -1\\\\\n",
       "\t -1 & -1 & -1 &  1 & -1\\\\\n",
       "\t  1 & -1 & -1 &  1 &  1\\\\\n",
       "\t -1 &  1 & -1 &  1 &  1\\\\\n",
       "\t  1 &  1 & -1 &  1 & -1\\\\\n",
       "\t -1 & -1 &  1 &  1 &  1\\\\\n",
       "\t  1 & -1 &  1 &  1 & -1\\\\\n",
       "\t -1 &  1 &  1 &  1 & -1\\\\\n",
       "\t  1 &  1 &  1 &  1 &  1\\\\\n",
       "\t -2 &  0 &  0 &  0 &  0\\\\\n",
       "\t  2 &  0 &  0 &  0 &  0\\\\\n",
       "\t  0 & -2 &  0 &  0 &  0\\\\\n",
       "\t  0 &  2 &  0 &  0 &  0\\\\\n",
       "\t  0 &  0 & -2 &  0 &  0\\\\\n",
       "\t  0 &  0 &  2 &  0 &  0\\\\\n",
       "\t  0 &  0 &  0 & -2 &  0\\\\\n",
       "\t  0 &  0 &  0 &  2 &  0\\\\\n",
       "\t  0 &  0 &  0 &  0 & -2\\\\\n",
       "\t  0 &  0 &  0 &  0 &  2\\\\\n",
       "\t  0 &  0 &  0 &  0 &  0\\\\\n",
       "\t  0 &  0 &  0 &  0 &  0\\\\\n",
       "\\end{tabular}\n"
      ],
      "text/markdown": [
       "\n",
       "A matrix: 28 × 5 of type int\n",
       "\n",
       "| x1 | x2 | x3 | x4 | x5 |\n",
       "|---|---|---|---|---|\n",
       "| -1 | -1 | -1 | -1 |  1 |\n",
       "|  1 | -1 | -1 | -1 | -1 |\n",
       "| -1 |  1 | -1 | -1 | -1 |\n",
       "|  1 |  1 | -1 | -1 |  1 |\n",
       "| -1 | -1 |  1 | -1 | -1 |\n",
       "|  1 | -1 |  1 | -1 |  1 |\n",
       "| -1 |  1 |  1 | -1 |  1 |\n",
       "|  1 |  1 |  1 | -1 | -1 |\n",
       "| -1 | -1 | -1 |  1 | -1 |\n",
       "|  1 | -1 | -1 |  1 |  1 |\n",
       "| -1 |  1 | -1 |  1 |  1 |\n",
       "|  1 |  1 | -1 |  1 | -1 |\n",
       "| -1 | -1 |  1 |  1 |  1 |\n",
       "|  1 | -1 |  1 |  1 | -1 |\n",
       "| -1 |  1 |  1 |  1 | -1 |\n",
       "|  1 |  1 |  1 |  1 |  1 |\n",
       "| -2 |  0 |  0 |  0 |  0 |\n",
       "|  2 |  0 |  0 |  0 |  0 |\n",
       "|  0 | -2 |  0 |  0 |  0 |\n",
       "|  0 |  2 |  0 |  0 |  0 |\n",
       "|  0 |  0 | -2 |  0 |  0 |\n",
       "|  0 |  0 |  2 |  0 |  0 |\n",
       "|  0 |  0 |  0 | -2 |  0 |\n",
       "|  0 |  0 |  0 |  2 |  0 |\n",
       "|  0 |  0 |  0 |  0 | -2 |\n",
       "|  0 |  0 |  0 |  0 |  2 |\n",
       "|  0 |  0 |  0 |  0 |  0 |\n",
       "|  0 |  0 |  0 |  0 |  0 |\n",
       "\n"
      ],
      "text/plain": [
       "      x1 x2 x3 x4 x5\n",
       " [1,] -1 -1 -1 -1  1\n",
       " [2,]  1 -1 -1 -1 -1\n",
       " [3,] -1  1 -1 -1 -1\n",
       " [4,]  1  1 -1 -1  1\n",
       " [5,] -1 -1  1 -1 -1\n",
       " [6,]  1 -1  1 -1  1\n",
       " [7,] -1  1  1 -1  1\n",
       " [8,]  1  1  1 -1 -1\n",
       " [9,] -1 -1 -1  1 -1\n",
       "[10,]  1 -1 -1  1  1\n",
       "[11,] -1  1 -1  1  1\n",
       "[12,]  1  1 -1  1 -1\n",
       "[13,] -1 -1  1  1  1\n",
       "[14,]  1 -1  1  1 -1\n",
       "[15,] -1  1  1  1 -1\n",
       "[16,]  1  1  1  1  1\n",
       "[17,] -2  0  0  0  0\n",
       "[18,]  2  0  0  0  0\n",
       "[19,]  0 -2  0  0  0\n",
       "[20,]  0  2  0  0  0\n",
       "[21,]  0  0 -2  0  0\n",
       "[22,]  0  0  2  0  0\n",
       "[23,]  0  0  0 -2  0\n",
       "[24,]  0  0  0  2  0\n",
       "[25,]  0  0  0  0 -2\n",
       "[26,]  0  0  0  0  2\n",
       "[27,]  0  0  0  0  0\n",
       "[28,]  0  0  0  0  0"
      ]
     },
     "metadata": {},
     "output_type": "display_data"
    }
   ],
   "source": [
    "\n",
    "data(SCDDL5)\n",
    "SCDDL5\n",
    "\n",
    "data(SCDH5)\n",
    "SCDH5"
   ]
  },
  {
   "cell_type": "code",
   "execution_count": null,
   "metadata": {},
   "outputs": [],
   "source": []
  },
  {
   "cell_type": "code",
   "execution_count": 1,
   "metadata": {},
   "outputs": [
    {
     "data": {
      "text/html": [
       "<dl>\n",
       "\t<dt>$par</dt>\n",
       "\t\t<dd><style>\n",
       ".list-inline {list-style: none; margin:0; padding: 0}\n",
       ".list-inline>li {display: inline-block}\n",
       ".list-inline>li:not(:last-child)::after {content: \"\\00b7\"; padding: 0 .5ex}\n",
       "</style>\n",
       "<ol class=list-inline><li>102.964364538736</li><li>0.546087294998933</li><li>41.945422741671</li></ol>\n",
       "</dd>\n",
       "\t<dt>$value</dt>\n",
       "\t\t<dd>-40.6522952823369</dd>\n",
       "\t<dt>$counts</dt>\n",
       "\t\t<dd><style>\n",
       ".dl-inline {width: auto; margin:0; padding: 0}\n",
       ".dl-inline>dt, .dl-inline>dd {float: none; width: auto; display: inline-block}\n",
       ".dl-inline>dt::after {content: \":\\0020\"; padding-right: .5ex}\n",
       ".dl-inline>dt:not(:first-of-type) {padding-left: .5ex}\n",
       "</style><dl class=dl-inline><dt>function</dt><dd>440</dd><dt>gradient</dt><dd>&lt;NA&gt;</dd></dl>\n",
       "</dd>\n",
       "\t<dt>$convergence</dt>\n",
       "\t\t<dd>0</dd>\n",
       "\t<dt>$message</dt>\n",
       "\t\t<dd>NULL</dd>\n",
       "\t<dt>$outer.iterations</dt>\n",
       "\t\t<dd>3</dd>\n",
       "\t<dt>$barrier.value</dt>\n",
       "\t\t<dd>-0.0454500483926026</dd>\n",
       "</dl>\n"
      ],
      "text/latex": [
       "\\begin{description}\n",
       "\\item[\\$par] \\begin{enumerate*}\n",
       "\\item 102.964364538736\n",
       "\\item 0.546087294998933\n",
       "\\item 41.945422741671\n",
       "\\end{enumerate*}\n",
       "\n",
       "\\item[\\$value] -40.6522952823369\n",
       "\\item[\\$counts] \\begin{description*}\n",
       "\\item[function] 440\n",
       "\\item[gradient] <NA>\n",
       "\\end{description*}\n",
       "\n",
       "\\item[\\$convergence] 0\n",
       "\\item[\\$message] NULL\n",
       "\\item[\\$outer.iterations] 3\n",
       "\\item[\\$barrier.value] -0.0454500483926026\n",
       "\\end{description}\n"
      ],
      "text/markdown": [
       "$par\n",
       ":   1. 102.964364538736\n",
       "2. 0.546087294998933\n",
       "3. 41.945422741671\n",
       "\n",
       "\n",
       "\n",
       "$value\n",
       ":   -40.6522952823369\n",
       "$counts\n",
       ":   function\n",
       ":   440gradient\n",
       ":   &lt;NA&gt;\n",
       "\n",
       "\n",
       "$convergence\n",
       ":   0\n",
       "$message\n",
       ":   NULL\n",
       "$outer.iterations\n",
       ":   3\n",
       "$barrier.value\n",
       ":   -0.0454500483926026\n",
       "\n",
       "\n"
      ],
      "text/plain": [
       "$par\n",
       "[1] 102.9643645   0.5460873  41.9454227\n",
       "\n",
       "$value\n",
       "[1] -40.6523\n",
       "\n",
       "$counts\n",
       "function gradient \n",
       "     440       NA \n",
       "\n",
       "$convergence\n",
       "[1] 0\n",
       "\n",
       "$message\n",
       "NULL\n",
       "\n",
       "$outer.iterations\n",
       "[1] 3\n",
       "\n",
       "$barrier.value\n",
       "[1] -0.04545005\n"
      ]
     },
     "metadata": {},
     "output_type": "display_data"
    }
   ],
   "source": [
    "start<-c(100,.6,40)\n",
    "tsrcost<-function(x) {\n",
    "  Temp<-x[1]\n",
    "  Ratio<-x[2]\n",
    "  AOPPM<-x[3]\n",
    "  tsrcost<- -(-226+3.375*Temp+86.5*Ratio+2.646*AOPPM-.0128*Temp*Temp-17.5*Ratio*Ratio-.0121*AOPPM*AOPPM\n",
    "              +           -.3857*Ratio*Temp-.0126*AOPPM*Temp-.0333*AOPPM*Ratio)+\n",
    "    +           100*max((.8313+1.27*Ratio+.37*Ratio*AOPPM-10),0)\n",
    "}\n",
    "ui<-matrix(c(1,-1,0,0,0,0,0,0,1,-1,0,0,0,0,0,0,1,-1),6,3)\n",
    "ci<-c(70,-140,.5,-1.5,5,-65)\n",
    "constrOptim(start,tsrcost,NULL,ui,ci)\n",
    "# note this minimizes tsrcost, subject to ui%*%x-ci>=0"
   ]
  },
  {
   "cell_type": "code",
   "execution_count": 2,
   "metadata": {},
   "outputs": [
    {
     "data": {
      "text/html": [
       "0"
      ],
      "text/latex": [
       "0"
      ],
      "text/markdown": [
       "0"
      ],
      "text/plain": [
       "[1] 0"
      ]
     },
     "metadata": {},
     "output_type": "display_data"
    },
    {
     "data": {
      "text/html": [
       "0"
      ],
      "text/latex": [
       "0"
      ],
      "text/markdown": [
       "0"
      ],
      "text/plain": [
       "[1] 0"
      ]
     },
     "metadata": {},
     "output_type": "display_data"
    },
    {
     "data": {
      "text/html": [
       "0"
      ],
      "text/latex": [
       "0"
      ],
      "text/markdown": [
       "0"
      ],
      "text/plain": [
       "[1] 0"
      ]
     },
     "metadata": {},
     "output_type": "display_data"
    }
   ],
   "source": [
    "x<-c(0,0,0)\n",
    "saPred<-function(x) 125.4106 -8.1233*x[1]+17.0266*x[2]+.4277*x[3]+2.4184*x[1]*x[2]\n",
    "-8.4376*x[1]*x[3]+9.0134*x[2]*x[3]+33.88054*x[1]^2+14.81976*x[2]^2+13.07001*x[3]^2\n",
    "\n",
    "pvPred<-function(x) .661354-.1963*x[1]-.02016*x[2]-.00291*x[3]+.02399*x[1]*x[2]\n",
    "+.010327*x[1]*x[3]-.0374*x[2]*x[3]+.15126*x[1]^2+.118423*x[2]^2+.0679*x[3]^2\n",
    "\n",
    "dpPred<-function(x) 39.35608+3.19547*x[1]+.21729*x[2]-1.46979*x[3]+.58873*x[1]*x[2]\n",
    "-.62136*x[1]*x[3]-1.53234*x[2]*x[3]+.41413*x[1]^2-2.39408*x[2]^2-2.36399*x[3]^2\n",
    "\n",
    "library(desirability)\n",
    "saD<-dMax(100, 217)\n",
    "pvD<-dMax(0.6, 1.3)\n",
    "dpD<-dTarget(38, 40, 42)\n",
    "overallD<-dOverall(saD, pvD, dpD)"
   ]
  },
  {
   "cell_type": "code",
   "execution_count": 3,
   "metadata": {},
   "outputs": [
    {
     "name": "stdout",
     "output_type": "stream",
     "text": [
      "[1] 111.0397399   0.7488587  39.8461104\n"
     ]
    }
   ],
   "source": [
    "rsmOpt <- function(x, dObject, space = \"square\")\n",
    "{\n",
    "  sa <- saPred(x)\n",
    "  pv <- pvPred(x)\n",
    "  dp <- dpPred(x)\n",
    "  \n",
    "  out <- predict(dObject, data.frame(sa = sa, pv = pv, dp = dp))\n",
    "  \n",
    "  if(space == \"circular\")\n",
    "  {\n",
    "    if(sqrt(sum(x^2)) > 1.0) out <- 0\n",
    "  } else if(space == \"square\") if(any(abs(x) > 1.0)) out <- 0\n",
    "  out\n",
    "}\n",
    "\n",
    "\n",
    "searchGrid <- expand.grid(Mixtime = seq(-1.0, 1.0, length = 5),\n",
    "                          filTtime = seq(-1.0, 1.0, length = 5),\n",
    "                          PackMth = seq(-1.0, 1.0, length = 5))\n",
    "for(i in 1:dim(searchGrid)[1])\n",
    "{\n",
    "  tmp <- optim(as.vector(searchGrid[i,]),\n",
    "               rsmOpt,\n",
    "               dObject = overallD,\n",
    "               space = \"square\",\n",
    "               control = list(fnscale = -1))\n",
    "  if(i == 1)\n",
    "  {\n",
    "    best <- tmp\n",
    "  } else {\n",
    "    if(tmp$value > best$value) best <- tmp\n",
    "  }\n",
    "}\n",
    "\n",
    "predOutcomes <-c(saPred(c(-0.2924993,-1,-1)), pvPred(c(-0.2924993,-1,-1)), dpPred(c(-0.2924993,-1,-1)))\n",
    "print(predOutcomes)"
   ]
  },
  {
   "cell_type": "code",
   "execution_count": null,
   "metadata": {},
   "outputs": [],
   "source": []
  }
 ],
 "metadata": {
  "kernelspec": {
   "display_name": "R",
   "language": "R",
   "name": "ir"
  },
  "language_info": {
   "codemirror_mode": "r",
   "file_extension": ".r",
   "mimetype": "text/x-r-source",
   "name": "R",
   "pygments_lexer": "r",
   "version": "3.6.1"
  }
 },
 "nbformat": 4,
 "nbformat_minor": 4
}
