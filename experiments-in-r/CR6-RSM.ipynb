{
 "cells": [
  {
   "cell_type": "markdown",
   "metadata": {},
   "source": [
    "# CR 6 RSM"
   ]
  },
  {
   "cell_type": "markdown",
   "metadata": {},
   "source": [
    "## Read data and save relevant variables."
   ]
  },
  {
   "cell_type": "code",
   "execution_count": null,
   "metadata": {},
   "outputs": [],
   "source": [
    "## Read data and save relevant variables.\n",
    "fname = \"https://raw.githubusercontent.com/wilsongis/3DP_Experiments/main/Data/cr6.dat\"\n",
    "m = matrix(scan(fname,skip=1,sep = \",\"),ncol=9,byrow=T)"
   ]
  },
  {
   "cell_type": "markdown",
   "metadata": {},
   "source": [
    "## Main Effects"
   ]
  },
  {
   "cell_type": "code",
   "execution_count": null,
   "metadata": {},
   "outputs": [],
   "source": [
    "## Main Effects\n",
    "lh = m[,2]\n",
    "ps = m[,3]\n",
    "id = m[,4]\n",
    "rw = m[,5]\n",
    "wt = m[,6]"
   ]
  },
  {
   "cell_type": "markdown",
   "metadata": {},
   "source": [
    "## Interactions"
   ]
  },
  {
   "cell_type": "code",
   "execution_count": null,
   "metadata": {},
   "outputs": [],
   "source": [
    "## Interactions\n",
    "lh:ps = lh*ps\n",
    "lh:id = lh*id\n",
    "lh:rw = lh*rw\n",
    "lh:wt = lh*wt\n",
    "ps:id = ps*id\n",
    "ps:rw = ps*rw\n",
    "ps:wt = ps*wt\n",
    "id:rw = id*rw\n",
    "id:wt = id*wt\n",
    "rw:wt = rw*wt"
   ]
  },
  {
   "cell_type": "markdown",
   "metadata": {},
   "source": [
    "## Objectives"
   ]
  },
  {
   "cell_type": "code",
   "execution_count": null,
   "metadata": {},
   "outputs": [],
   "source": [
    "## Objectives\n",
    "cost = m[,7]\n",
    "time = m[,8]"
   ]
  },
  {
   "cell_type": "markdown",
   "metadata": {},
   "source": [
    "## Other Values"
   ]
  },
  {
   "cell_type": "raw",
   "metadata": {},
   "source": [
    "run = m[,1]\n",
    "quality = m[,9]"
   ]
  },
  {
   "cell_type": "code",
   "execution_count": null,
   "metadata": {},
   "outputs": [],
   "source": []
  }
 ],
 "metadata": {
  "kernelspec": {
   "display_name": "R",
   "language": "R",
   "name": "ir"
  },
  "language_info": {
   "codemirror_mode": "r",
   "file_extension": ".r",
   "mimetype": "text/x-r-source",
   "name": "R",
   "pygments_lexer": "r",
   "version": "3.6.1"
  }
 },
 "nbformat": 4,
 "nbformat_minor": 4
}
