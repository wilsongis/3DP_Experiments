{
 "cells": [
  {
   "cell_type": "code",
   "execution_count": 15,
   "metadata": {},
   "outputs": [
    {
     "name": "stderr",
     "output_type": "stream",
     "text": [
      "Warning message in file(file, \"r\"):\n",
      "“cannot open URL 'https://raw.githubusercontent.com/wilsongis/3DP_Experiments/main/Data/cr6.dat': HTTP status was '404 Not Found'”\n"
     ]
    },
    {
     "ename": "ERROR",
     "evalue": "Error in file(file, \"r\"): cannot open the connection to 'https://raw.githubusercontent.com/wilsongis/3DP_Experiments/main/Data/cr6.dat'\n",
     "output_type": "error",
     "traceback": [
      "Error in file(file, \"r\"): cannot open the connection to 'https://raw.githubusercontent.com/wilsongis/3DP_Experiments/main/Data/cr6.dat'\nTraceback:\n",
      "1. matrix(scan(fname, skip = 1, sep = \",\"), ncol = 10, byrow = T)",
      "2. scan(fname, skip = 1, sep = \",\")",
      "3. file(file, \"r\")"
     ]
    }
   ],
   "source": [
    "## Read data and save relevant variables.\n",
    "fname = \"https://raw.githubusercontent.com/wilsongis/3DP_Experiments/main/Data/cr6.dat\"\n",
    "m = matrix(scan(fname,skip=1,sep = \",\"),ncol=10,byrow=T)\n",
    "run = m[,1]\n",
    "pressure = m[,2]\n",
    "h2 = m[,3]\n",
    "uniformity = m[,4]\n",
    "stress = m[,5]\n",
    "ph2 = pressure*h2\n",
    "press2 = pressure*pressure\n",
    "h22 = h2*h2"
   ]
  },
  {
   "cell_type": "code",
   "execution_count": null,
   "metadata": {},
   "outputs": [],
   "source": []
  }
 ],
 "metadata": {
  "kernelspec": {
   "display_name": "R",
   "language": "R",
   "name": "ir"
  },
  "language_info": {
   "codemirror_mode": "r",
   "file_extension": ".r",
   "mimetype": "text/x-r-source",
   "name": "R",
   "pygments_lexer": "r",
   "version": "3.6.1"
  }
 },
 "nbformat": 4,
 "nbformat_minor": 4
}
