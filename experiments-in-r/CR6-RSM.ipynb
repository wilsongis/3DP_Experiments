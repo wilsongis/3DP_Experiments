{
 "cells": [
  {
   "cell_type": "markdown",
   "metadata": {},
   "source": [
    "# CR 6 RSM"
   ]
  },
  {
   "cell_type": "markdown",
   "metadata": {},
   "source": [
    "## Read data and save relevant variables."
   ]
  },
  {
   "cell_type": "code",
   "execution_count": null,
   "metadata": {},
   "outputs": [],
   "source": [
    "## Read data and save relevant variables.\n",
    "fname = \"https://raw.githubusercontent.com/wilsongis/3DP_Experiments/main/Data/cr6_all.dat\"\n",
    "m = matrix(scan(fname,skip=1,sep = \",\"),ncol=14,byrow=T)"
   ]
  },
  {
   "cell_type": "markdown",
   "metadata": {},
   "source": [
    "## Main Effects"
   ]
  },
  {
   "cell_type": "code",
   "execution_count": null,
   "metadata": {},
   "outputs": [],
   "source": [
    "## Main Effects\n",
    "lh = m[,2]\n",
    "ps = m[,3]\n",
    "id = m[,4]\n",
    "rw = m[,5]\n",
    "wt = m[,6]"
   ]
  },
  {
   "cell_type": "markdown",
   "metadata": {},
   "source": [
    "## Interactions"
   ]
  },
  {
   "cell_type": "code",
   "execution_count": null,
   "metadata": {},
   "outputs": [],
   "source": [
    "## Interactions\n",
    "lh_ps = lh*ps\n",
    "lh_id = lh*id\n",
    "lh_rw = lh*rw\n",
    "lh_wt = lh*wt\n",
    "ps_id = ps*id\n",
    "ps_rw = ps*rw\n",
    "ps_wt = ps*wt\n",
    "id_rw = id*rw\n",
    "id_wt = id*wt\n",
    "rw_wt = rw*wt"
   ]
  },
  {
   "cell_type": "markdown",
   "metadata": {},
   "source": [
    "## Objectives"
   ]
  },
  {
   "cell_type": "code",
   "execution_count": null,
   "metadata": {},
   "outputs": [],
   "source": [
    "## Objectives\n",
    "cost = m[,7]\n",
    "time = m[,8]"
   ]
  },
  {
   "cell_type": "markdown",
   "metadata": {},
   "source": [
    "## Other Values"
   ]
  },
  {
   "cell_type": "code",
   "execution_count": null,
   "metadata": {},
   "outputs": [],
   "source": [
    "run = m[,1]\n",
    "quality = m[,9]"
   ]
  },
  {
   "cell_type": "markdown",
   "metadata": {},
   "source": [
    "## Actual Values"
   ]
  },
  {
   "cell_type": "code",
   "execution_count": null,
   "metadata": {},
   "outputs": [],
   "source": [
    "## Actual Values\n",
    "alh = m[,10]\n",
    "aps = m[,11]\n",
    "aid = m[,12]\n",
    "arw = m[,13]\n",
    "awt = m[,14]\n",
    "\n",
    "alh_aps = alh*aps\n",
    "alh_aid = alh*aid\n",
    "alh_arw = alh*arw\n",
    "alh_awt = alh*awt\n",
    "aps_aid = aps*aid\n",
    "aps_arw = aps*arw\n",
    "aps_awt = aps*awt\n",
    "aid_arw = aid*arw\n",
    "aid_awt = aid*awt\n",
    "arw_awt = arw*awt"
   ]
  },
  {
   "cell_type": "markdown",
   "metadata": {},
   "source": [
    "## Create Data Frame"
   ]
  },
  {
   "cell_type": "code",
   "execution_count": null,
   "metadata": {},
   "outputs": [],
   "source": [
    "## Create data frame.\n",
    "df = data.frame(run,\n",
    "                lh,ps,id,wt,rw,\n",
    "                lh_ps,lh_id,lh_rw,lh_wt,ps_id,ps_rw,ps_wt,id_rw,id_wt,rw_wt,\n",
    "                cost,time,quality,\n",
    "                alh,aps,aid,awt,arw,\n",
    "                alh_aps,alh_aid,alh_arw,alh_awt,aps_aid,aps_arw,aps_awt,aid_arw,aid_awt,arw_awt)"
   ]
  },
  {
   "cell_type": "code",
   "execution_count": null,
   "metadata": {},
   "outputs": [],
   "source": [
    "print(df)"
   ]
  },
  {
   "cell_type": "markdown",
   "metadata": {},
   "source": [
    "# Modelling"
   ]
  },
  {
   "cell_type": "markdown",
   "metadata": {},
   "source": [
    "## Cost"
   ]
  },
  {
   "cell_type": "code",
   "execution_count": null,
   "metadata": {},
   "outputs": [],
   "source": [
    "## Fit full model (Cost).\n",
    "z = lm(cost ~ alh,aps,aid,awt,arw,alh_aps,alh_aid,alh_arw,alh_awt,aps_aid,aps_arw,aps_awt,aid_arw,aid_awt,arw_awt,data=df)\n",
    "summary(z)"
   ]
  },
  {
   "cell_type": "code",
   "execution_count": null,
   "metadata": {},
   "outputs": [],
   "source": []
  },
  {
   "cell_type": "code",
   "execution_count": null,
   "metadata": {},
   "outputs": [],
   "source": []
  }
 ],
 "metadata": {
  "kernelspec": {
   "display_name": "R",
   "language": "R",
   "name": "ir"
  },
  "language_info": {
   "codemirror_mode": "r",
   "file_extension": ".r",
   "mimetype": "text/x-r-source",
   "name": "R",
   "pygments_lexer": "r",
   "version": "3.6.1"
  }
 },
 "nbformat": 4,
 "nbformat_minor": 4
}
