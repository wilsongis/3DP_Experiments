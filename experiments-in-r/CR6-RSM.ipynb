{
 "cells": [
  {
   "cell_type": "markdown",
   "metadata": {},
   "source": [
    "# CR 6 RSM"
   ]
  },
  {
   "cell_type": "markdown",
   "metadata": {},
   "source": [
    "## Load Packages"
   ]
  },
  {
   "cell_type": "code",
   "execution_count": 40,
   "metadata": {},
   "outputs": [
    {
     "name": "stderr",
     "output_type": "stream",
     "text": [
      "Updating HTML index of packages in '.Library'\n",
      "\n",
      "Making 'packages.html' ...\n",
      " done\n",
      "\n"
     ]
    }
   ],
   "source": [
    "## Load Packages\n",
    "## Install R Packages\n",
    "\n",
    "install.packages(\"rsm\")\n",
    "library(rsm)\n",
    "\n",
    "library(reshape2)\n"
   ]
  },
  {
   "cell_type": "code",
   "execution_count": 41,
   "metadata": {},
   "outputs": [],
   "source": [
    "# Layer Thickness = lh\n",
    "lh_low = .16 \n",
    "lh_hi = .24 \n",
    "\n",
    "# Print Speed = ps\n",
    "ps_low = 50 \n",
    "ps_hi = 60 \n",
    "\n",
    "# Infill Density = id\n",
    "id_low = .25 \n",
    "id_hi = .15 \n",
    "\n",
    "# Raster Width = rw\n",
    "rw_low = .4 \n",
    "rw_hi = .8 \n",
    "\n",
    "# Wall Thicknessv = wt\n",
    "wt_low = 1.2 \n",
    "wt_hi = .8"
   ]
  },
  {
   "cell_type": "markdown",
   "metadata": {},
   "source": [
    "## Read data and save relevant variables."
   ]
  },
  {
   "cell_type": "code",
   "execution_count": 42,
   "metadata": {
    "ExecuteTime": {
     "end_time": "2021-06-30T16:09:40.320691Z",
     "start_time": "2021-06-30T16:09:39.780Z"
    }
   },
   "outputs": [
    {
     "name": "stdout",
     "output_type": "stream",
     "text": [
      "'data.frame':\t16 obs. of  15 variables:\n",
      " $ alh  : int  -1 1 -1 1 -1 1 -1 1 -1 1 ...\n",
      " $ ps   : int  -1 -1 1 1 -1 -1 1 1 -1 -1 ...\n",
      " $ id   : int  -1 -1 -1 -1 1 1 1 1 -1 -1 ...\n",
      " $ wt   : int  -1 -1 -1 -1 -1 -1 -1 -1 1 1 ...\n",
      " $ rw   : int  1 -1 -1 1 -1 1 1 -1 -1 1 ...\n",
      " $ alh.1: num  0.16 0.28 0.16 0.28 0.16 0.28 0.16 0.28 0.16 0.28 ...\n",
      " $ aps  : int  50 50 60 60 50 50 60 60 50 50 ...\n",
      " $ aid  : num  0.25 0.25 0.25 0.25 0.15 0.15 0.15 0.15 0.25 0.25 ...\n",
      " $ awt  : num  0.4 0.4 0.4 0.4 0.4 0.4 0.4 0.4 0.8 0.8 ...\n",
      " $ arw  : num  0.8 1.2 1.2 0.8 1.2 0.8 0.8 1.2 1.2 0.8 ...\n",
      " $ cost1: num  0.51 0.51 0.54 0.51 0.54 0.5 0.5 0.54 0.54 0.56 ...\n",
      " $ cost2: num  0.51 0.51 0.54 0.51 0.54 0.5 0.5 0.54 0.54 0.56 ...\n",
      " $ cost3: num  0.51 0.51 0.54 0.51 0.54 0.5 0.5 0.54 0.54 0.56 ...\n",
      " $ cost4: num  0.51 0.51 0.54 0.51 0.54 0.5 0.5 0.54 0.54 0.56 ...\n",
      " $ cost5: num  0.51 0.48 0.54 0.51 0.54 0.5 0.5 0.54 0.54 0.56 ...\n"
     ]
    }
   ],
   "source": [
    "## Read data and save relevant variables.\n",
    "\n",
    "fn.data.cost <- \"https://raw.githubusercontent.com/wilsongis/3DP_Experiments/main/Data/cr6_cost.txt\"\n",
    "fn.data.time <- \"https://raw.githubusercontent.com/wilsongis/3DP_Experiments/main/Data/cr6_time.txt\"\n",
    "df <- read.table(fn.data.cost, header=TRUE)\n",
    "str(df)"
   ]
  },
  {
   "cell_type": "code",
   "execution_count": 43,
   "metadata": {},
   "outputs": [
    {
     "data": {
      "text/html": [
       "<table>\n",
       "<caption>A data.frame: 16 × 15</caption>\n",
       "<thead>\n",
       "\t<tr><th scope=col>alh</th><th scope=col>ps</th><th scope=col>id</th><th scope=col>wt</th><th scope=col>rw</th><th scope=col>alh.1</th><th scope=col>aps</th><th scope=col>aid</th><th scope=col>awt</th><th scope=col>arw</th><th scope=col>cost1</th><th scope=col>cost2</th><th scope=col>cost3</th><th scope=col>cost4</th><th scope=col>cost5</th></tr>\n",
       "\t<tr><th scope=col>&lt;int&gt;</th><th scope=col>&lt;int&gt;</th><th scope=col>&lt;int&gt;</th><th scope=col>&lt;int&gt;</th><th scope=col>&lt;int&gt;</th><th scope=col>&lt;dbl&gt;</th><th scope=col>&lt;int&gt;</th><th scope=col>&lt;dbl&gt;</th><th scope=col>&lt;dbl&gt;</th><th scope=col>&lt;dbl&gt;</th><th scope=col>&lt;dbl&gt;</th><th scope=col>&lt;dbl&gt;</th><th scope=col>&lt;dbl&gt;</th><th scope=col>&lt;dbl&gt;</th><th scope=col>&lt;dbl&gt;</th></tr>\n",
       "</thead>\n",
       "<tbody>\n",
       "\t<tr><td>-1</td><td>-1</td><td>-1</td><td>-1</td><td> 1</td><td>0.16</td><td>50</td><td>0.25</td><td>0.4</td><td>0.8</td><td>0.51</td><td>0.51</td><td>0.51</td><td>0.51</td><td>0.51</td></tr>\n",
       "\t<tr><td> 1</td><td>-1</td><td>-1</td><td>-1</td><td>-1</td><td>0.28</td><td>50</td><td>0.25</td><td>0.4</td><td>1.2</td><td>0.51</td><td>0.51</td><td>0.51</td><td>0.51</td><td>0.48</td></tr>\n",
       "\t<tr><td>-1</td><td> 1</td><td>-1</td><td>-1</td><td>-1</td><td>0.16</td><td>60</td><td>0.25</td><td>0.4</td><td>1.2</td><td>0.54</td><td>0.54</td><td>0.54</td><td>0.54</td><td>0.54</td></tr>\n",
       "\t<tr><td> 1</td><td> 1</td><td>-1</td><td>-1</td><td> 1</td><td>0.28</td><td>60</td><td>0.25</td><td>0.4</td><td>0.8</td><td>0.51</td><td>0.51</td><td>0.51</td><td>0.51</td><td>0.51</td></tr>\n",
       "\t<tr><td>-1</td><td>-1</td><td> 1</td><td>-1</td><td>-1</td><td>0.16</td><td>50</td><td>0.15</td><td>0.4</td><td>1.2</td><td>0.54</td><td>0.54</td><td>0.54</td><td>0.54</td><td>0.54</td></tr>\n",
       "\t<tr><td> 1</td><td>-1</td><td> 1</td><td>-1</td><td> 1</td><td>0.28</td><td>50</td><td>0.15</td><td>0.4</td><td>0.8</td><td>0.50</td><td>0.50</td><td>0.50</td><td>0.50</td><td>0.50</td></tr>\n",
       "\t<tr><td>-1</td><td> 1</td><td> 1</td><td>-1</td><td> 1</td><td>0.16</td><td>60</td><td>0.15</td><td>0.4</td><td>0.8</td><td>0.50</td><td>0.50</td><td>0.50</td><td>0.50</td><td>0.50</td></tr>\n",
       "\t<tr><td> 1</td><td> 1</td><td> 1</td><td>-1</td><td>-1</td><td>0.28</td><td>60</td><td>0.15</td><td>0.4</td><td>1.2</td><td>0.54</td><td>0.54</td><td>0.54</td><td>0.54</td><td>0.54</td></tr>\n",
       "\t<tr><td>-1</td><td>-1</td><td>-1</td><td> 1</td><td>-1</td><td>0.16</td><td>50</td><td>0.25</td><td>0.8</td><td>1.2</td><td>0.54</td><td>0.54</td><td>0.54</td><td>0.54</td><td>0.54</td></tr>\n",
       "\t<tr><td> 1</td><td>-1</td><td>-1</td><td> 1</td><td> 1</td><td>0.28</td><td>50</td><td>0.25</td><td>0.8</td><td>0.8</td><td>0.56</td><td>0.56</td><td>0.56</td><td>0.56</td><td>0.56</td></tr>\n",
       "\t<tr><td>-1</td><td> 1</td><td>-1</td><td> 1</td><td> 1</td><td>0.16</td><td>60</td><td>0.25</td><td>0.8</td><td>0.8</td><td>0.56</td><td>0.56</td><td>0.56</td><td>0.56</td><td>0.56</td></tr>\n",
       "\t<tr><td> 1</td><td> 1</td><td>-1</td><td> 1</td><td>-1</td><td>0.28</td><td>60</td><td>0.25</td><td>0.8</td><td>1.2</td><td>0.54</td><td>0.54</td><td>0.54</td><td>0.54</td><td>0.54</td></tr>\n",
       "\t<tr><td>-1</td><td>-1</td><td> 1</td><td> 1</td><td> 1</td><td>0.16</td><td>50</td><td>0.15</td><td>0.8</td><td>0.8</td><td>0.54</td><td>0.54</td><td>0.54</td><td>0.54</td><td>0.54</td></tr>\n",
       "\t<tr><td> 1</td><td>-1</td><td> 1</td><td> 1</td><td>-1</td><td>0.28</td><td>50</td><td>0.15</td><td>0.8</td><td>1.2</td><td>0.54</td><td>0.54</td><td>0.54</td><td>0.54</td><td>0.54</td></tr>\n",
       "\t<tr><td>-1</td><td> 1</td><td> 1</td><td> 1</td><td>-1</td><td>0.16</td><td>60</td><td>0.15</td><td>0.8</td><td>1.2</td><td>0.54</td><td>0.54</td><td>0.54</td><td>0.54</td><td>0.54</td></tr>\n",
       "\t<tr><td> 1</td><td> 1</td><td> 1</td><td> 1</td><td> 1</td><td>0.28</td><td>60</td><td>0.15</td><td>0.8</td><td>0.8</td><td>0.54</td><td>0.54</td><td>0.54</td><td>0.54</td><td>0.54</td></tr>\n",
       "</tbody>\n",
       "</table>\n"
      ],
      "text/latex": [
       "A data.frame: 16 × 15\n",
       "\\begin{tabular}{lllllllllllllll}\n",
       " alh & ps & id & wt & rw & alh.1 & aps & aid & awt & arw & cost1 & cost2 & cost3 & cost4 & cost5\\\\\n",
       " <int> & <int> & <int> & <int> & <int> & <dbl> & <int> & <dbl> & <dbl> & <dbl> & <dbl> & <dbl> & <dbl> & <dbl> & <dbl>\\\\\n",
       "\\hline\n",
       "\t -1 & -1 & -1 & -1 &  1 & 0.16 & 50 & 0.25 & 0.4 & 0.8 & 0.51 & 0.51 & 0.51 & 0.51 & 0.51\\\\\n",
       "\t  1 & -1 & -1 & -1 & -1 & 0.28 & 50 & 0.25 & 0.4 & 1.2 & 0.51 & 0.51 & 0.51 & 0.51 & 0.48\\\\\n",
       "\t -1 &  1 & -1 & -1 & -1 & 0.16 & 60 & 0.25 & 0.4 & 1.2 & 0.54 & 0.54 & 0.54 & 0.54 & 0.54\\\\\n",
       "\t  1 &  1 & -1 & -1 &  1 & 0.28 & 60 & 0.25 & 0.4 & 0.8 & 0.51 & 0.51 & 0.51 & 0.51 & 0.51\\\\\n",
       "\t -1 & -1 &  1 & -1 & -1 & 0.16 & 50 & 0.15 & 0.4 & 1.2 & 0.54 & 0.54 & 0.54 & 0.54 & 0.54\\\\\n",
       "\t  1 & -1 &  1 & -1 &  1 & 0.28 & 50 & 0.15 & 0.4 & 0.8 & 0.50 & 0.50 & 0.50 & 0.50 & 0.50\\\\\n",
       "\t -1 &  1 &  1 & -1 &  1 & 0.16 & 60 & 0.15 & 0.4 & 0.8 & 0.50 & 0.50 & 0.50 & 0.50 & 0.50\\\\\n",
       "\t  1 &  1 &  1 & -1 & -1 & 0.28 & 60 & 0.15 & 0.4 & 1.2 & 0.54 & 0.54 & 0.54 & 0.54 & 0.54\\\\\n",
       "\t -1 & -1 & -1 &  1 & -1 & 0.16 & 50 & 0.25 & 0.8 & 1.2 & 0.54 & 0.54 & 0.54 & 0.54 & 0.54\\\\\n",
       "\t  1 & -1 & -1 &  1 &  1 & 0.28 & 50 & 0.25 & 0.8 & 0.8 & 0.56 & 0.56 & 0.56 & 0.56 & 0.56\\\\\n",
       "\t -1 &  1 & -1 &  1 &  1 & 0.16 & 60 & 0.25 & 0.8 & 0.8 & 0.56 & 0.56 & 0.56 & 0.56 & 0.56\\\\\n",
       "\t  1 &  1 & -1 &  1 & -1 & 0.28 & 60 & 0.25 & 0.8 & 1.2 & 0.54 & 0.54 & 0.54 & 0.54 & 0.54\\\\\n",
       "\t -1 & -1 &  1 &  1 &  1 & 0.16 & 50 & 0.15 & 0.8 & 0.8 & 0.54 & 0.54 & 0.54 & 0.54 & 0.54\\\\\n",
       "\t  1 & -1 &  1 &  1 & -1 & 0.28 & 50 & 0.15 & 0.8 & 1.2 & 0.54 & 0.54 & 0.54 & 0.54 & 0.54\\\\\n",
       "\t -1 &  1 &  1 &  1 & -1 & 0.16 & 60 & 0.15 & 0.8 & 1.2 & 0.54 & 0.54 & 0.54 & 0.54 & 0.54\\\\\n",
       "\t  1 &  1 &  1 &  1 &  1 & 0.28 & 60 & 0.15 & 0.8 & 0.8 & 0.54 & 0.54 & 0.54 & 0.54 & 0.54\\\\\n",
       "\\end{tabular}\n"
      ],
      "text/markdown": [
       "\n",
       "A data.frame: 16 × 15\n",
       "\n",
       "| alh &lt;int&gt; | ps &lt;int&gt; | id &lt;int&gt; | wt &lt;int&gt; | rw &lt;int&gt; | alh.1 &lt;dbl&gt; | aps &lt;int&gt; | aid &lt;dbl&gt; | awt &lt;dbl&gt; | arw &lt;dbl&gt; | cost1 &lt;dbl&gt; | cost2 &lt;dbl&gt; | cost3 &lt;dbl&gt; | cost4 &lt;dbl&gt; | cost5 &lt;dbl&gt; |\n",
       "|---|---|---|---|---|---|---|---|---|---|---|---|---|---|---|\n",
       "| -1 | -1 | -1 | -1 |  1 | 0.16 | 50 | 0.25 | 0.4 | 0.8 | 0.51 | 0.51 | 0.51 | 0.51 | 0.51 |\n",
       "|  1 | -1 | -1 | -1 | -1 | 0.28 | 50 | 0.25 | 0.4 | 1.2 | 0.51 | 0.51 | 0.51 | 0.51 | 0.48 |\n",
       "| -1 |  1 | -1 | -1 | -1 | 0.16 | 60 | 0.25 | 0.4 | 1.2 | 0.54 | 0.54 | 0.54 | 0.54 | 0.54 |\n",
       "|  1 |  1 | -1 | -1 |  1 | 0.28 | 60 | 0.25 | 0.4 | 0.8 | 0.51 | 0.51 | 0.51 | 0.51 | 0.51 |\n",
       "| -1 | -1 |  1 | -1 | -1 | 0.16 | 50 | 0.15 | 0.4 | 1.2 | 0.54 | 0.54 | 0.54 | 0.54 | 0.54 |\n",
       "|  1 | -1 |  1 | -1 |  1 | 0.28 | 50 | 0.15 | 0.4 | 0.8 | 0.50 | 0.50 | 0.50 | 0.50 | 0.50 |\n",
       "| -1 |  1 |  1 | -1 |  1 | 0.16 | 60 | 0.15 | 0.4 | 0.8 | 0.50 | 0.50 | 0.50 | 0.50 | 0.50 |\n",
       "|  1 |  1 |  1 | -1 | -1 | 0.28 | 60 | 0.15 | 0.4 | 1.2 | 0.54 | 0.54 | 0.54 | 0.54 | 0.54 |\n",
       "| -1 | -1 | -1 |  1 | -1 | 0.16 | 50 | 0.25 | 0.8 | 1.2 | 0.54 | 0.54 | 0.54 | 0.54 | 0.54 |\n",
       "|  1 | -1 | -1 |  1 |  1 | 0.28 | 50 | 0.25 | 0.8 | 0.8 | 0.56 | 0.56 | 0.56 | 0.56 | 0.56 |\n",
       "| -1 |  1 | -1 |  1 |  1 | 0.16 | 60 | 0.25 | 0.8 | 0.8 | 0.56 | 0.56 | 0.56 | 0.56 | 0.56 |\n",
       "|  1 |  1 | -1 |  1 | -1 | 0.28 | 60 | 0.25 | 0.8 | 1.2 | 0.54 | 0.54 | 0.54 | 0.54 | 0.54 |\n",
       "| -1 | -1 |  1 |  1 |  1 | 0.16 | 50 | 0.15 | 0.8 | 0.8 | 0.54 | 0.54 | 0.54 | 0.54 | 0.54 |\n",
       "|  1 | -1 |  1 |  1 | -1 | 0.28 | 50 | 0.15 | 0.8 | 1.2 | 0.54 | 0.54 | 0.54 | 0.54 | 0.54 |\n",
       "| -1 |  1 |  1 |  1 | -1 | 0.16 | 60 | 0.15 | 0.8 | 1.2 | 0.54 | 0.54 | 0.54 | 0.54 | 0.54 |\n",
       "|  1 |  1 |  1 |  1 |  1 | 0.28 | 60 | 0.15 | 0.8 | 0.8 | 0.54 | 0.54 | 0.54 | 0.54 | 0.54 |\n",
       "\n"
      ],
      "text/plain": [
       "   alh ps id wt rw alh.1 aps aid  awt arw cost1 cost2 cost3 cost4 cost5\n",
       "1  -1  -1 -1 -1  1 0.16  50  0.25 0.4 0.8 0.51  0.51  0.51  0.51  0.51 \n",
       "2   1  -1 -1 -1 -1 0.28  50  0.25 0.4 1.2 0.51  0.51  0.51  0.51  0.48 \n",
       "3  -1   1 -1 -1 -1 0.16  60  0.25 0.4 1.2 0.54  0.54  0.54  0.54  0.54 \n",
       "4   1   1 -1 -1  1 0.28  60  0.25 0.4 0.8 0.51  0.51  0.51  0.51  0.51 \n",
       "5  -1  -1  1 -1 -1 0.16  50  0.15 0.4 1.2 0.54  0.54  0.54  0.54  0.54 \n",
       "6   1  -1  1 -1  1 0.28  50  0.15 0.4 0.8 0.50  0.50  0.50  0.50  0.50 \n",
       "7  -1   1  1 -1  1 0.16  60  0.15 0.4 0.8 0.50  0.50  0.50  0.50  0.50 \n",
       "8   1   1  1 -1 -1 0.28  60  0.15 0.4 1.2 0.54  0.54  0.54  0.54  0.54 \n",
       "9  -1  -1 -1  1 -1 0.16  50  0.25 0.8 1.2 0.54  0.54  0.54  0.54  0.54 \n",
       "10  1  -1 -1  1  1 0.28  50  0.25 0.8 0.8 0.56  0.56  0.56  0.56  0.56 \n",
       "11 -1   1 -1  1  1 0.16  60  0.25 0.8 0.8 0.56  0.56  0.56  0.56  0.56 \n",
       "12  1   1 -1  1 -1 0.28  60  0.25 0.8 1.2 0.54  0.54  0.54  0.54  0.54 \n",
       "13 -1  -1  1  1  1 0.16  50  0.15 0.8 0.8 0.54  0.54  0.54  0.54  0.54 \n",
       "14  1  -1  1  1 -1 0.28  50  0.15 0.8 1.2 0.54  0.54  0.54  0.54  0.54 \n",
       "15 -1   1  1  1 -1 0.16  60  0.15 0.8 1.2 0.54  0.54  0.54  0.54  0.54 \n",
       "16  1   1  1  1  1 0.28  60  0.15 0.8 0.8 0.54  0.54  0.54  0.54  0.54 "
      ]
     },
     "metadata": {},
     "output_type": "display_data"
    }
   ],
   "source": [
    "df"
   ]
  },
  {
   "cell_type": "code",
   "execution_count": 44,
   "metadata": {},
   "outputs": [
    {
     "ename": "ERROR",
     "evalue": "Error: id variables not found in data: lh\n",
     "output_type": "error",
     "traceback": [
      "Error: id variables not found in data: lh\nTraceback:\n",
      "1. melt(df, id.vars = c(\"lh\", \"ps\", \"id\", \"wt\", \"rw\", \"alh\", \"aps\", \n .     \"aid\", \"awt\", \"arw\"), variable.name = \"rep\", value.name = \"cost\")",
      "2. melt.data.frame(df, id.vars = c(\"lh\", \"ps\", \"id\", \"wt\", \"rw\", \n .     \"alh\", \"aps\", \"aid\", \"awt\", \"arw\"), variable.name = \"rep\", \n .     value.name = \"cost\")",
      "3. melt_check(data, id.vars, measure.vars, variable.name, value.name)",
      "4. stop(\"id variables not found in data: \", vars, call. = FALSE)"
     ]
    }
   ],
   "source": [
    "# reshape data into long format\n",
    "df.cost <- melt(df, id.vars = c(\"lh\", \"ps\", \"id\", \"wt\", \"rw\", \"alh\", \"aps\", \"aid\", \"awt\", \"arw\"), variable.name = \"rep\", value.name = \"cost\")"
   ]
  },
  {
   "cell_type": "code",
   "execution_count": null,
   "metadata": {
    "ExecuteTime": {
     "end_time": "2021-06-30T16:09:48.004539Z",
     "start_time": "2021-06-30T16:09:39.804Z"
    }
   },
   "outputs": [],
   "source": [
    "# Summary of the original data\n",
    "\n",
    "summary(df.cost)"
   ]
  },
  {
   "cell_type": "markdown",
   "metadata": {},
   "source": [
    "# Modelling"
   ]
  },
  {
   "cell_type": "markdown",
   "metadata": {},
   "source": [
    "## Cost RSM"
   ]
  },
  {
   "cell_type": "code",
   "execution_count": null,
   "metadata": {},
   "outputs": [],
   "source": [
    "cost_rsm <- rsm(cost ~ SO(lh, ps, id, wt, rw), data = df.cost)"
   ]
  },
  {
   "cell_type": "code",
   "execution_count": null,
   "metadata": {},
   "outputs": [],
   "source": [
    "# externally Studentized residuals\n",
    "cost_rsm$studres <- rstudent(cost_rsm)\n",
    "summary(cost_rsm)"
   ]
  },
  {
   "cell_type": "code",
   "execution_count": null,
   "metadata": {},
   "outputs": [],
   "source": [
    "## generate ANOVA table for selected model\n",
    "anova(cost_rsm)"
   ]
  },
  {
   "cell_type": "markdown",
   "metadata": {},
   "source": [
    "## 3 Level Interactions"
   ]
  },
  {
   "cell_type": "code",
   "execution_count": null,
   "metadata": {},
   "outputs": [],
   "source": [
    "lm_cost3lvl <- lm(cost ~ (lh+ ps+ id+ wt+ rw)^3, data = df.cost)\n",
    "# externally Studentized residuals\n",
    "lm_cost3lvl$studres <- rstudent(lm_cost3lvl)\n",
    "summary(lm_cost3lvl)"
   ]
  },
  {
   "cell_type": "markdown",
   "metadata": {},
   "source": [
    "## Cost Interaction Plots"
   ]
  },
  {
   "cell_type": "code",
   "execution_count": null,
   "metadata": {},
   "outputs": [],
   "source": [
    "### Interactions: Layer Height"
   ]
  },
  {
   "cell_type": "code",
   "execution_count": null,
   "metadata": {
    "ExecuteTime": {
     "end_time": "2021-06-30T16:09:48.736067Z",
     "start_time": "2021-06-30T16:09:39.835Z"
    }
   },
   "outputs": [],
   "source": [
    "## Generate interaction plots.\n",
    "\n",
    "par(mfrow=c(2,1), bg=rgb(1,1,0.8), mar=c(5, 8, 2, 4))"
   ]
  },
  {
   "cell_type": "code",
   "execution_count": null,
   "metadata": {
    "ExecuteTime": {
     "end_time": "2021-06-30T16:09:48.872619Z",
     "start_time": "2021-06-30T16:09:39.839Z"
    }
   },
   "outputs": [],
   "source": [
    "interaction.plot(df.cost$ps, df.cost$lh, df.cost$cost, fun=mean,type=\"b\", pch=c(21,21), col=4,xlab=\"ps\", ylab=\"cost\", trace.lab=\"lh\")\n",
    "\n",
    "interaction.plot(df.cost$lh, df.cost$ps, df.cost$cost, fun=mean,\n",
    "                 type=\"b\", pch=c(21,21), col=4,\n",
    "                 trace.lab=\"ps\", ylab=\"cost\", xlab=\"lh\")\n",
    "\n",
    "interaction.plot(df.cost$id, df.cost$lh, df.cost$cost, fun=mean,\n",
    "                 type=\"b\", pch=c(21,21), col=4,\n",
    "                 xlab=\"id\", ylab=\"cost\", trace.lab=\"lh\")\n",
    "\n",
    "interaction.plot(df.cost$lh, df.cost$id, df.cost$cost, fun=mean,\n",
    "                 type=\"b\", pch=c(21,21), col=4,\n",
    "                 trace.lab=\"id\", ylab=\"cost\", xlab=\"lh\")\n",
    "\n",
    "interaction.plot(df.cost$rw, df.cost$lh, df.cost$cost, fun=mean,\n",
    "                 type=\"b\", pch=c(21,21), col=4,\n",
    "                 xlab=\"rw\", ylab=\"cost\", trace.lab=\"lh\")\n",
    "\n",
    "interaction.plot(df.cost$lh, df.cost$rw, df.cost$cost, fun=mean,\n",
    "                 type=\"b\", pch=c(21,21), col=4,\n",
    "                 trace.lab=\"rw\", ylab=\"cost\", xlab=\"lh\")\n",
    "\n",
    "interaction.plot(df.cost$wt, df.cost$lh, df.cost$cost, fun=mean,\n",
    "                 type=\"b\", pch=c(21,21), col=4,\n",
    "                 xlab=\"wt\", ylab=\"cost\", trace.lab=\"lh\")\n",
    "\n",
    "interaction.plot(df.cost$lh, df.cost$wt, df.cost$cost, fun=mean,\n",
    "                 type=\"b\", pch=c(21,21), col=4,\n",
    "                 trace.lab=\"wt\", ylab=\"cost\", xlab=\"lh\")"
   ]
  },
  {
   "cell_type": "markdown",
   "metadata": {},
   "source": [
    "### Interactions: Print Speed (ps)"
   ]
  },
  {
   "cell_type": "code",
   "execution_count": null,
   "metadata": {
    "ExecuteTime": {
     "end_time": "2021-06-30T16:09:49.409870Z",
     "start_time": "2021-06-30T16:09:39.852Z"
    }
   },
   "outputs": [],
   "source": [
    "dfp = subset(df,ps==50|ps==60)"
   ]
  },
  {
   "cell_type": "code",
   "execution_count": null,
   "metadata": {
    "ExecuteTime": {
     "end_time": "2021-06-30T16:09:49.572386Z",
     "start_time": "2021-06-30T16:09:39.855Z"
    }
   },
   "outputs": [],
   "source": [
    "interaction.plot(df.cost$id, df.cost$ps, df.cost$cost, fun=mean,\n",
    "                 type=\"b\", pch=c(21,21), col=4,\n",
    "                 xlab=\"id\", ylab=\"cost\", trace.lab=\"ps\")\n",
    "\n",
    "interaction.plot(df.cost$ps, df.cost$id, df.cost$cost, fun=mean,\n",
    "                 type=\"b\", pch=c(21,21), col=4,\n",
    "                 trace.lab=\"id\", ylab=\"cost\", xlab=\"ps\")\n",
    "\n",
    "interaction.plot(df.cost$rw, df.cost$ps, df.cost$cost, fun=mean,\n",
    "                 type=\"b\", pch=c(21,21), col=4,\n",
    "                 xlab=\"rw\", ylab=\"cost\", trace.lab=\"ps\")\n",
    "\n",
    "interaction.plot(df.cost$ps, df.cost$rw, df.cost$cost, fun=mean,\n",
    "                 type=\"b\", pch=c(21,21), col=4,\n",
    "                 trace.lab=\"rw\", ylab=\"cost\", xlab=\"ps\")\n",
    "\n",
    "interaction.plot(df.cost$wt, df.cost$ps, df.cost$cost, fun=mean,\n",
    "                 type=\"b\", pch=c(21,21), col=4,\n",
    "                 xlab=\"wt\", ylab=\"cost\", trace.lab=\"ps\")\n",
    "\n",
    "interaction.plot(df.cost$ps, df.cost$wt, df.cost$cost, fun=mean,\n",
    "                 type=\"b\", pch=c(21,21), col=4,\n",
    "                 trace.lab=\"wt\", ylab=\"cost\", xlab=\"ps\")\n"
   ]
  },
  {
   "cell_type": "markdown",
   "metadata": {},
   "source": [
    "### Interactions: Infill Density (id)"
   ]
  },
  {
   "cell_type": "code",
   "execution_count": null,
   "metadata": {
    "ExecuteTime": {
     "end_time": "2021-06-30T16:09:50.085192Z",
     "start_time": "2021-06-30T16:09:39.899Z"
    }
   },
   "outputs": [],
   "source": [
    "interaction.plot(df.cost$rw, df.cost$id, df.cost$cost, fun=mean,\n",
    "                 type=\"b\", pch=c(21,21), col=4,\n",
    "                 xlab=\"rw\", ylab=\"cost\", trace.lab=\"id\")\n",
    "\n",
    "interaction.plot(df.cost$id, df.cost$rw, df.cost$cost, fun=mean,\n",
    "                 type=\"b\", pch=c(21,21), col=4,\n",
    "                 trace.lab=\"rw\", ylab=\"cost\", xlab=\"id\")\n",
    "\n",
    "interaction.plot(df.cost$wt, df.cost$id, df.cost$cost, fun=mean,\n",
    "                 type=\"b\", pch=c(21,21), col=4,\n",
    "                 xlab=\"wt\", ylab=\"cost\", trace.lab=\"id\")\n",
    "\n",
    "interaction.plot(df.cost$id, df.cost$wt, df.cost$cost, fun=mean,\n",
    "                 type=\"b\", pch=c(21,21), col=4,\n",
    "                 trace.lab=\"wt\", ylab=\"cost\", xlab=\"id\")"
   ]
  },
  {
   "cell_type": "markdown",
   "metadata": {},
   "source": [
    "### Interactions: Raster Width (rw)"
   ]
  },
  {
   "cell_type": "markdown",
   "metadata": {},
   "source": [
    "### rw vs wt"
   ]
  },
  {
   "cell_type": "code",
   "execution_count": null,
   "metadata": {
    "ExecuteTime": {
     "end_time": "2021-06-30T16:09:50.450815Z",
     "start_time": "2021-06-30T16:09:39.912Z"
    }
   },
   "outputs": [],
   "source": [
    "interaction.plot(df.cost$wt, df.cost$rw, df.cost$cost, fun=mean,\n",
    "                 type=\"b\", pch=c(21,21), col=4,\n",
    "                 xlab=\"wt\", ylab=\"cost\", trace.lab=\"rw\")\n",
    "\n",
    "interaction.plot(df.cost$rw, df.cost$wt, df.cost$cost, fun=mean,\n",
    "                 type=\"b\", pch=c(21,21), col=4,\n",
    "                 trace.lab=\"wt\", ylab=\"cost\", xlab=\"rw\")"
   ]
  },
  {
   "cell_type": "markdown",
   "metadata": {},
   "source": [
    "# Cost Response Surface Models"
   ]
  },
  {
   "cell_type": "code",
   "execution_count": null,
   "metadata": {
    "ExecuteTime": {
     "end_time": "2021-06-30T16:09:50.550628Z",
     "start_time": "2021-06-30T16:09:40.052Z"
    }
   },
   "outputs": [],
   "source": [
    "summary(cost_rsm)"
   ]
  },
  {
   "cell_type": "code",
   "execution_count": null,
   "metadata": {
    "ExecuteTime": {
     "end_time": "2021-06-30T16:09:50.601048Z",
     "start_time": "2021-06-30T16:09:40.055Z"
    }
   },
   "outputs": [],
   "source": [
    "aov(cost_rsm)"
   ]
  },
  {
   "cell_type": "code",
   "execution_count": null,
   "metadata": {
    "ExecuteTime": {
     "end_time": "2021-06-30T16:09:51.703828Z",
     "start_time": "2021-06-30T16:09:40.057Z"
    }
   },
   "outputs": [],
   "source": [
    "#contour plots \n",
    "par(mfrow=c(1,1))\n",
    "suppressWarnings(\n",
    "    contour(cost_rsm, ~lh + ps + id + wt + rw, image=TRUE, at=summary(cost_rsm$canoncial$xs))\n",
    "    )\n"
   ]
  },
  {
   "cell_type": "code",
   "execution_count": null,
   "metadata": {
    "ExecuteTime": {
     "end_time": "2021-06-30T16:09:54.606845Z",
     "start_time": "2021-06-30T16:09:40.059Z"
    }
   },
   "outputs": [],
   "source": [
    "# Generate plots taking two factors at a time\n",
    "\n",
    "par(mfrow=c(1,1))\n",
    "\n",
    "suppressWarnings(\n",
    "    persp(cost_rsm,~lh+ps,image=TRUE,contour=\"colors\",zlab=\"Cost\",theta=30)   \n",
    "    )\n",
    "suppressWarnings(\n",
    "    persp(cost_rsm,~lh+id,image=TRUE,contour=\"colors\",zlab=\"Cost\",theta=30)   \n",
    "    )\n",
    "suppressWarnings(\n",
    "    persp(cost_rsm,~lh+wt,image=TRUE,contour=\"colors\",zlab=\"Cost\",theta=30)   \n",
    "    )\n",
    "suppressWarnings(\n",
    "    persp(cost_rsm,~lh+rw,image=TRUE,contour=\"colors\",zlab=\"Cost\",theta=30)   \n",
    "    )\n",
    "suppressWarnings(\n",
    "    persp(cost_rsm,~ps+id,image=TRUE,contour=\"colors\",zlab=\"Cost\",theta=30)   \n",
    "    )\n",
    "suppressWarnings(\n",
    "    persp(cost_rsm,~ps+wt,image=TRUE,contour=\"colors\",zlab=\"Cost\",theta=30)   \n",
    "    )\n",
    "suppressWarnings(\n",
    "    persp(cost_rsm,~ps+rw,image=TRUE,contour=\"colors\",zlab=\"Cost\",theta=30)   \n",
    "    )\n",
    "suppressWarnings(\n",
    "    persp(cost_rsm,~id+wt,image=TRUE,contour=\"colors\",zlab=\"Cost\",theta=30)   \n",
    "    )\n",
    "suppressWarnings(\n",
    "    persp(cost_rsm,~id+rw,image=TRUE,contour=\"colors\",zlab=\"Cost\",theta=30)   \n",
    "    )\n",
    "suppressWarnings(\n",
    "    persp(cost_rsm,~wt+rw,image=TRUE,contour=\"colors\",zlab=\"Cost\",theta=30)   \n",
    "    )"
   ]
  },
  {
   "cell_type": "code",
   "execution_count": null,
   "metadata": {
    "ExecuteTime": {
     "end_time": "2021-06-30T16:09:54.724273Z",
     "start_time": "2021-06-30T16:09:40.067Z"
    }
   },
   "outputs": [],
   "source": [
    "## Time"
   ]
  },
  {
   "cell_type": "code",
   "execution_count": null,
   "metadata": {},
   "outputs": [],
   "source": []
  },
  {
   "cell_type": "code",
   "execution_count": null,
   "metadata": {},
   "outputs": [],
   "source": [
    "df <- read.table(fn.data.time, header=TRUE)\n",
    "str(df)"
   ]
  },
  {
   "cell_type": "code",
   "execution_count": null,
   "metadata": {},
   "outputs": [],
   "source": [
    "# reshape data into long format\n",
    "df.time <- melt(df, id.vars = c(\"lh\", \"ps\", \"id\", \"wt\", \"rw\"), variable.name = \"rep\", value.name = \"time\")"
   ]
  },
  {
   "cell_type": "code",
   "execution_count": null,
   "metadata": {},
   "outputs": [],
   "source": [
    "# Summary of the original data\n",
    "\n",
    "summary(df.time)"
   ]
  },
  {
   "cell_type": "code",
   "execution_count": null,
   "metadata": {},
   "outputs": [],
   "source": [
    "time_rsm <- rsm(time ~ SO(lh, ps, id, wt, rw), data = df.time)"
   ]
  },
  {
   "cell_type": "code",
   "execution_count": null,
   "metadata": {},
   "outputs": [],
   "source": [
    "# externally Studentized residuals\n",
    "time_rsm$studres <- rstudent(time_rsm)\n",
    "summary(time_rsm)"
   ]
  },
  {
   "cell_type": "code",
   "execution_count": null,
   "metadata": {},
   "outputs": [],
   "source": [
    "## generate ANOVA table for selected model\n",
    "anova(time_rsm)"
   ]
  },
  {
   "cell_type": "code",
   "execution_count": null,
   "metadata": {},
   "outputs": [],
   "source": [
    "lm_time3lvl <- lm(time ~ (lh+ ps+ id+ wt+ rw)^3, data = df.time)\n",
    "# externally Studentized residuals\n",
    "lm_time3lvl$studres <- rstudent(lm_time3lvl)\n",
    "summary(lm_time3lvl)"
   ]
  },
  {
   "cell_type": "markdown",
   "metadata": {},
   "source": [
    "## Time Interaction Plots"
   ]
  },
  {
   "cell_type": "markdown",
   "metadata": {},
   "source": [
    "### Interactions: Layer Height"
   ]
  },
  {
   "cell_type": "code",
   "execution_count": null,
   "metadata": {},
   "outputs": [],
   "source": [
    "## Generate interaction plots.\n",
    "\n",
    "par(mfrow=c(2,1), bg=rgb(1,1,0.8), mar=c(5, 8, 2, 4))"
   ]
  },
  {
   "cell_type": "code",
   "execution_count": null,
   "metadata": {},
   "outputs": [],
   "source": [
    "interaction.plot(df.time$ps, df.time$lh, df.time$time, fun=mean,type=\"b\", pch=c(21,21), col=4,xlab=\"ps\", ylab=\"time\", trace.lab=\"lh\")\n",
    "\n",
    "interaction.plot(df.time$lh, df.time$ps, df.time$time, fun=mean,\n",
    "                 type=\"b\", pch=c(21,21), col=4,\n",
    "                 trace.lab=\"ps\", ylab=\"time\", xlab=\"lh\")\n",
    "\n",
    "interaction.plot(df.time$id, df.time$lh, df.time$time, fun=mean,\n",
    "                 type=\"b\", pch=c(21,21), col=4,\n",
    "                 xlab=\"id\", ylab=\"time\", trace.lab=\"lh\")\n",
    "\n",
    "interaction.plot(df.time$lh, df.time$id, df.time$time, fun=mean,\n",
    "                 type=\"b\", pch=c(21,21), col=4,\n",
    "                 trace.lab=\"id\", ylab=\"time\", xlab=\"lh\")\n",
    "\n",
    "interaction.plot(df.time$rw, df.time$lh, df.time$time, fun=mean,\n",
    "                 type=\"b\", pch=c(21,21), col=4,\n",
    "                 xlab=\"rw\", ylab=\"time\", trace.lab=\"lh\")\n",
    "\n",
    "interaction.plot(df.time$lh, df.time$rw, df.time$time, fun=mean,\n",
    "                 type=\"b\", pch=c(21,21), col=4,\n",
    "                 trace.lab=\"rw\", ylab=\"time\", xlab=\"lh\")\n",
    "\n",
    "interaction.plot(df.time$wt, df.time$lh, df.time$time, fun=mean,\n",
    "                 type=\"b\", pch=c(21,21), col=4,\n",
    "                 xlab=\"wt\", ylab=\"time\", trace.lab=\"lh\")\n",
    "\n",
    "interaction.plot(df.time$lh, df.time$wt, df.time$time, fun=mean,\n",
    "                 type=\"b\", pch=c(21,21), col=4,\n",
    "                 trace.lab=\"wt\", ylab=\"time\", xlab=\"lh\")"
   ]
  },
  {
   "cell_type": "code",
   "execution_count": null,
   "metadata": {},
   "outputs": [],
   "source": []
  }
 ],
 "metadata": {
  "kernelspec": {
   "display_name": "R",
   "language": "R",
   "name": "ir"
  },
  "language_info": {
   "codemirror_mode": "r",
   "file_extension": ".r",
   "mimetype": "text/x-r-source",
   "name": "R",
   "pygments_lexer": "r",
   "version": "3.6.1"
  },
  "toc": {
   "base_numbering": 1,
   "nav_menu": {},
   "number_sections": false,
   "sideBar": true,
   "skip_h1_title": false,
   "title_cell": "Table of Contents",
   "title_sidebar": "Contents",
   "toc_cell": false,
   "toc_position": {},
   "toc_section_display": true,
   "toc_window_display": false
  }
 },
 "nbformat": 4,
 "nbformat_minor": 4
}
