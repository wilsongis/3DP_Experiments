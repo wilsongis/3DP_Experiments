{
 "cells": [
  {
   "cell_type": "code",
   "execution_count": 16,
   "metadata": {},
   "outputs": [
    {
     "name": "stdout",
     "output_type": "stream",
     "text": [
      "'data.frame':\t16 obs. of  1 variable:\n",
      " $ Run.LH.PS.ID.RW.WT.Cost.Time.Quality.aLH.aPS.aID.aRW.aWT: Factor w/ 16 levels \"1,-1,-1,-1,-1,1,0.51,8746,1,0.16,50,0.25,0.4,0.8\",..: 1 9 10 11 12 13 14 15 16 2 ...\n"
     ]
    }
   ],
   "source": [
    "## Read data and save relevant variables.\n",
    "\n",
    "df.cost<- read.csv(file = 'https://raw.githubusercontent.com/wilsongis/3DP_Experiments/main/Data/cr6.dat')\n",
    "str(df)"
   ]
  },
  {
   "cell_type": "code",
   "execution_count": 18,
   "metadata": {},
   "outputs": [
    {
     "data": {
      "text/html": [
       "<table>\n",
       "<caption>A data.frame: 16 × 14</caption>\n",
       "<thead>\n",
       "\t<tr><th scope=col>Run</th><th scope=col>LH</th><th scope=col>PS</th><th scope=col>ID</th><th scope=col>RW</th><th scope=col>WT</th><th scope=col>Cost</th><th scope=col>Time</th><th scope=col>Quality</th><th scope=col>aLH</th><th scope=col>aPS</th><th scope=col>aID</th><th scope=col>aRW</th><th scope=col>aWT</th></tr>\n",
       "\t<tr><th scope=col>&lt;int&gt;</th><th scope=col>&lt;int&gt;</th><th scope=col>&lt;int&gt;</th><th scope=col>&lt;int&gt;</th><th scope=col>&lt;int&gt;</th><th scope=col>&lt;int&gt;</th><th scope=col>&lt;dbl&gt;</th><th scope=col>&lt;dbl&gt;</th><th scope=col>&lt;int&gt;</th><th scope=col>&lt;dbl&gt;</th><th scope=col>&lt;int&gt;</th><th scope=col>&lt;dbl&gt;</th><th scope=col>&lt;dbl&gt;</th><th scope=col>&lt;dbl&gt;</th></tr>\n",
       "</thead>\n",
       "<tbody>\n",
       "\t<tr><td> 1</td><td>-1</td><td>-1</td><td>-1</td><td>-1</td><td> 1</td><td>0.510</td><td> 8746.00</td><td>1</td><td>0.16</td><td>50</td><td>0.25</td><td>0.4</td><td>0.8</td></tr>\n",
       "\t<tr><td> 2</td><td> 1</td><td>-1</td><td>-1</td><td>-1</td><td>-1</td><td>0.504</td><td>17946.00</td><td>1</td><td>0.28</td><td>50</td><td>0.25</td><td>0.4</td><td>1.2</td></tr>\n",
       "\t<tr><td> 3</td><td>-1</td><td> 1</td><td>-1</td><td>-1</td><td>-1</td><td>0.540</td><td>14449.60</td><td>1</td><td>0.16</td><td>60</td><td>0.25</td><td>0.4</td><td>1.2</td></tr>\n",
       "\t<tr><td> 4</td><td> 1</td><td> 1</td><td>-1</td><td>-1</td><td> 1</td><td>0.510</td><td>10178.60</td><td>1</td><td>0.28</td><td>60</td><td>0.25</td><td>0.4</td><td>0.8</td></tr>\n",
       "\t<tr><td> 5</td><td>-1</td><td>-1</td><td> 1</td><td>-1</td><td>-1</td><td>0.540</td><td>14987.20</td><td>1</td><td>0.16</td><td>50</td><td>0.15</td><td>0.4</td><td>1.2</td></tr>\n",
       "\t<tr><td> 6</td><td> 1</td><td>-1</td><td> 1</td><td>-1</td><td> 1</td><td>0.500</td><td>10362.00</td><td>1</td><td>0.28</td><td>50</td><td>0.15</td><td>0.4</td><td>0.8</td></tr>\n",
       "\t<tr><td> 7</td><td>-1</td><td> 1</td><td> 1</td><td>-1</td><td> 1</td><td>0.500</td><td>16635.20</td><td>1</td><td>0.16</td><td>60</td><td>0.15</td><td>0.4</td><td>0.8</td></tr>\n",
       "\t<tr><td> 8</td><td> 1</td><td> 1</td><td> 1</td><td>-1</td><td>-1</td><td>0.540</td><td> 8838.60</td><td>1</td><td>0.28</td><td>60</td><td>0.15</td><td>0.4</td><td>1.2</td></tr>\n",
       "\t<tr><td> 9</td><td>-1</td><td>-1</td><td>-1</td><td> 1</td><td>-1</td><td>0.540</td><td>15108.20</td><td>1</td><td>0.16</td><td>50</td><td>0.25</td><td>0.8</td><td>1.2</td></tr>\n",
       "\t<tr><td>10</td><td> 1</td><td>-1</td><td>-1</td><td> 1</td><td> 1</td><td>0.560</td><td>10623.40</td><td>1</td><td>0.28</td><td>50</td><td>0.25</td><td>0.8</td><td>0.8</td></tr>\n",
       "\t<tr><td>11</td><td>-1</td><td> 1</td><td>-1</td><td> 1</td><td> 1</td><td>0.560</td><td>16836.75</td><td>1</td><td>0.16</td><td>60</td><td>0.25</td><td>0.8</td><td>0.8</td></tr>\n",
       "\t<tr><td>12</td><td> 1</td><td> 1</td><td>-1</td><td> 1</td><td>-1</td><td>0.540</td><td> 8598.20</td><td>1</td><td>0.28</td><td>60</td><td>0.25</td><td>0.8</td><td>1.2</td></tr>\n",
       "\t<tr><td>13</td><td>-1</td><td>-1</td><td> 1</td><td> 1</td><td> 1</td><td>0.540</td><td>17027.60</td><td>1</td><td>0.16</td><td>50</td><td>0.15</td><td>0.8</td><td>0.8</td></tr>\n",
       "\t<tr><td>14</td><td> 1</td><td>-1</td><td> 1</td><td> 1</td><td>-1</td><td>0.540</td><td> 9687.00</td><td>1</td><td>0.28</td><td>50</td><td>0.15</td><td>0.8</td><td>1.2</td></tr>\n",
       "\t<tr><td>15</td><td>-1</td><td> 1</td><td> 1</td><td> 1</td><td>-1</td><td>0.540</td><td>14252.20</td><td>1</td><td>0.16</td><td>60</td><td>0.15</td><td>0.8</td><td>1.2</td></tr>\n",
       "\t<tr><td>16</td><td> 1</td><td> 1</td><td> 1</td><td> 1</td><td> 1</td><td>0.540</td><td> 9394.60</td><td>1</td><td>0.28</td><td>60</td><td>0.15</td><td>0.8</td><td>0.8</td></tr>\n",
       "</tbody>\n",
       "</table>\n"
      ],
      "text/latex": [
       "A data.frame: 16 × 14\n",
       "\\begin{tabular}{llllllllllllll}\n",
       " Run & LH & PS & ID & RW & WT & Cost & Time & Quality & aLH & aPS & aID & aRW & aWT\\\\\n",
       " <int> & <int> & <int> & <int> & <int> & <int> & <dbl> & <dbl> & <int> & <dbl> & <int> & <dbl> & <dbl> & <dbl>\\\\\n",
       "\\hline\n",
       "\t  1 & -1 & -1 & -1 & -1 &  1 & 0.510 &  8746.00 & 1 & 0.16 & 50 & 0.25 & 0.4 & 0.8\\\\\n",
       "\t  2 &  1 & -1 & -1 & -1 & -1 & 0.504 & 17946.00 & 1 & 0.28 & 50 & 0.25 & 0.4 & 1.2\\\\\n",
       "\t  3 & -1 &  1 & -1 & -1 & -1 & 0.540 & 14449.60 & 1 & 0.16 & 60 & 0.25 & 0.4 & 1.2\\\\\n",
       "\t  4 &  1 &  1 & -1 & -1 &  1 & 0.510 & 10178.60 & 1 & 0.28 & 60 & 0.25 & 0.4 & 0.8\\\\\n",
       "\t  5 & -1 & -1 &  1 & -1 & -1 & 0.540 & 14987.20 & 1 & 0.16 & 50 & 0.15 & 0.4 & 1.2\\\\\n",
       "\t  6 &  1 & -1 &  1 & -1 &  1 & 0.500 & 10362.00 & 1 & 0.28 & 50 & 0.15 & 0.4 & 0.8\\\\\n",
       "\t  7 & -1 &  1 &  1 & -1 &  1 & 0.500 & 16635.20 & 1 & 0.16 & 60 & 0.15 & 0.4 & 0.8\\\\\n",
       "\t  8 &  1 &  1 &  1 & -1 & -1 & 0.540 &  8838.60 & 1 & 0.28 & 60 & 0.15 & 0.4 & 1.2\\\\\n",
       "\t  9 & -1 & -1 & -1 &  1 & -1 & 0.540 & 15108.20 & 1 & 0.16 & 50 & 0.25 & 0.8 & 1.2\\\\\n",
       "\t 10 &  1 & -1 & -1 &  1 &  1 & 0.560 & 10623.40 & 1 & 0.28 & 50 & 0.25 & 0.8 & 0.8\\\\\n",
       "\t 11 & -1 &  1 & -1 &  1 &  1 & 0.560 & 16836.75 & 1 & 0.16 & 60 & 0.25 & 0.8 & 0.8\\\\\n",
       "\t 12 &  1 &  1 & -1 &  1 & -1 & 0.540 &  8598.20 & 1 & 0.28 & 60 & 0.25 & 0.8 & 1.2\\\\\n",
       "\t 13 & -1 & -1 &  1 &  1 &  1 & 0.540 & 17027.60 & 1 & 0.16 & 50 & 0.15 & 0.8 & 0.8\\\\\n",
       "\t 14 &  1 & -1 &  1 &  1 & -1 & 0.540 &  9687.00 & 1 & 0.28 & 50 & 0.15 & 0.8 & 1.2\\\\\n",
       "\t 15 & -1 &  1 &  1 &  1 & -1 & 0.540 & 14252.20 & 1 & 0.16 & 60 & 0.15 & 0.8 & 1.2\\\\\n",
       "\t 16 &  1 &  1 &  1 &  1 &  1 & 0.540 &  9394.60 & 1 & 0.28 & 60 & 0.15 & 0.8 & 0.8\\\\\n",
       "\\end{tabular}\n"
      ],
      "text/markdown": [
       "\n",
       "A data.frame: 16 × 14\n",
       "\n",
       "| Run &lt;int&gt; | LH &lt;int&gt; | PS &lt;int&gt; | ID &lt;int&gt; | RW &lt;int&gt; | WT &lt;int&gt; | Cost &lt;dbl&gt; | Time &lt;dbl&gt; | Quality &lt;int&gt; | aLH &lt;dbl&gt; | aPS &lt;int&gt; | aID &lt;dbl&gt; | aRW &lt;dbl&gt; | aWT &lt;dbl&gt; |\n",
       "|---|---|---|---|---|---|---|---|---|---|---|---|---|---|\n",
       "|  1 | -1 | -1 | -1 | -1 |  1 | 0.510 |  8746.00 | 1 | 0.16 | 50 | 0.25 | 0.4 | 0.8 |\n",
       "|  2 |  1 | -1 | -1 | -1 | -1 | 0.504 | 17946.00 | 1 | 0.28 | 50 | 0.25 | 0.4 | 1.2 |\n",
       "|  3 | -1 |  1 | -1 | -1 | -1 | 0.540 | 14449.60 | 1 | 0.16 | 60 | 0.25 | 0.4 | 1.2 |\n",
       "|  4 |  1 |  1 | -1 | -1 |  1 | 0.510 | 10178.60 | 1 | 0.28 | 60 | 0.25 | 0.4 | 0.8 |\n",
       "|  5 | -1 | -1 |  1 | -1 | -1 | 0.540 | 14987.20 | 1 | 0.16 | 50 | 0.15 | 0.4 | 1.2 |\n",
       "|  6 |  1 | -1 |  1 | -1 |  1 | 0.500 | 10362.00 | 1 | 0.28 | 50 | 0.15 | 0.4 | 0.8 |\n",
       "|  7 | -1 |  1 |  1 | -1 |  1 | 0.500 | 16635.20 | 1 | 0.16 | 60 | 0.15 | 0.4 | 0.8 |\n",
       "|  8 |  1 |  1 |  1 | -1 | -1 | 0.540 |  8838.60 | 1 | 0.28 | 60 | 0.15 | 0.4 | 1.2 |\n",
       "|  9 | -1 | -1 | -1 |  1 | -1 | 0.540 | 15108.20 | 1 | 0.16 | 50 | 0.25 | 0.8 | 1.2 |\n",
       "| 10 |  1 | -1 | -1 |  1 |  1 | 0.560 | 10623.40 | 1 | 0.28 | 50 | 0.25 | 0.8 | 0.8 |\n",
       "| 11 | -1 |  1 | -1 |  1 |  1 | 0.560 | 16836.75 | 1 | 0.16 | 60 | 0.25 | 0.8 | 0.8 |\n",
       "| 12 |  1 |  1 | -1 |  1 | -1 | 0.540 |  8598.20 | 1 | 0.28 | 60 | 0.25 | 0.8 | 1.2 |\n",
       "| 13 | -1 | -1 |  1 |  1 |  1 | 0.540 | 17027.60 | 1 | 0.16 | 50 | 0.15 | 0.8 | 0.8 |\n",
       "| 14 |  1 | -1 |  1 |  1 | -1 | 0.540 |  9687.00 | 1 | 0.28 | 50 | 0.15 | 0.8 | 1.2 |\n",
       "| 15 | -1 |  1 |  1 |  1 | -1 | 0.540 | 14252.20 | 1 | 0.16 | 60 | 0.15 | 0.8 | 1.2 |\n",
       "| 16 |  1 |  1 |  1 |  1 |  1 | 0.540 |  9394.60 | 1 | 0.28 | 60 | 0.15 | 0.8 | 0.8 |\n",
       "\n"
      ],
      "text/plain": [
       "   Run LH PS ID RW WT Cost  Time     Quality aLH  aPS aID  aRW aWT\n",
       "1   1  -1 -1 -1 -1  1 0.510  8746.00 1       0.16 50  0.25 0.4 0.8\n",
       "2   2   1 -1 -1 -1 -1 0.504 17946.00 1       0.28 50  0.25 0.4 1.2\n",
       "3   3  -1  1 -1 -1 -1 0.540 14449.60 1       0.16 60  0.25 0.4 1.2\n",
       "4   4   1  1 -1 -1  1 0.510 10178.60 1       0.28 60  0.25 0.4 0.8\n",
       "5   5  -1 -1  1 -1 -1 0.540 14987.20 1       0.16 50  0.15 0.4 1.2\n",
       "6   6   1 -1  1 -1  1 0.500 10362.00 1       0.28 50  0.15 0.4 0.8\n",
       "7   7  -1  1  1 -1  1 0.500 16635.20 1       0.16 60  0.15 0.4 0.8\n",
       "8   8   1  1  1 -1 -1 0.540  8838.60 1       0.28 60  0.15 0.4 1.2\n",
       "9   9  -1 -1 -1  1 -1 0.540 15108.20 1       0.16 50  0.25 0.8 1.2\n",
       "10 10   1 -1 -1  1  1 0.560 10623.40 1       0.28 50  0.25 0.8 0.8\n",
       "11 11  -1  1 -1  1  1 0.560 16836.75 1       0.16 60  0.25 0.8 0.8\n",
       "12 12   1  1 -1  1 -1 0.540  8598.20 1       0.28 60  0.25 0.8 1.2\n",
       "13 13  -1 -1  1  1  1 0.540 17027.60 1       0.16 50  0.15 0.8 0.8\n",
       "14 14   1 -1  1  1 -1 0.540  9687.00 1       0.28 50  0.15 0.8 1.2\n",
       "15 15  -1  1  1  1 -1 0.540 14252.20 1       0.16 60  0.15 0.8 1.2\n",
       "16 16   1  1  1  1  1 0.540  9394.60 1       0.28 60  0.15 0.8 0.8"
      ]
     },
     "metadata": {},
     "output_type": "display_data"
    }
   ],
   "source": [
    "df.cost"
   ]
  },
  {
   "cell_type": "code",
   "execution_count": 19,
   "metadata": {},
   "outputs": [
    {
     "ename": "ERROR",
     "evalue": "Error in eval(predvars, data, env): object 'cost' not found\n",
     "output_type": "error",
     "traceback": [
      "Error in eval(predvars, data, env): object 'cost' not found\nTraceback:\n",
      "1. lm(cost ~ (alh + aps + aid + awt + arw)^2, data = df.cost)",
      "2. eval(mf, parent.frame())",
      "3. eval(mf, parent.frame())",
      "4. stats::model.frame(formula = cost ~ (alh + aps + aid + awt + \n .     arw)^2, data = df.cost, drop.unused.levels = TRUE)",
      "5. model.frame.default(formula = cost ~ (alh + aps + aid + awt + \n .     arw)^2, data = df.cost, drop.unused.levels = TRUE)",
      "6. eval(predvars, data, env)",
      "7. eval(predvars, data, env)"
     ]
    }
   ],
   "source": [
    "cost_lm <- lm(cost ~ (alh+aps+aid+awt+arw)**2, data = df.cost)"
   ]
  },
  {
   "cell_type": "code",
   "execution_count": 13,
   "metadata": {},
   "outputs": [
    {
     "data": {
      "text/plain": [
       "\n",
       "Call:\n",
       "lm(formula = cost ~ (alh + aps + aid + awt + arw)^2, data = df.cost)\n",
       "\n",
       "Residuals:\n",
       "   Min     1Q Median     3Q    Max \n",
       "-0.024  0.000  0.000  0.000  0.006 \n",
       "\n",
       "Coefficients:\n",
       "              Estimate Std. Error t value Pr(>|t|)    \n",
       "(Intercept)  0.3748333  0.0361704  10.363 2.54e-15 ***\n",
       "alh          0.0041667  0.0819680   0.051  0.95962    \n",
       "aps         -0.0029833  0.0006021  -4.955 5.59e-06 ***\n",
       "aid          0.0900000  0.0976281   0.922  0.36006    \n",
       "awt          0.3050000  0.0249061  12.246  < 2e-16 ***\n",
       "arw          0.1925000  0.0237500   8.105 2.10e-11 ***\n",
       "alh:aps      0.0033333  0.0012500   2.667  0.00969 ** \n",
       "alh:aid     -0.7500000  0.1250000  -6.000 1.01e-07 ***\n",
       "alh:awt      0.1875000  0.0312500   6.000 1.01e-07 ***\n",
       "alh:arw     -0.1875000  0.0312500  -6.000 1.01e-07 ***\n",
       "aps:aid      0.0090000  0.0015000   6.000 1.01e-07 ***\n",
       "aps:awt     -0.0022500  0.0003750  -6.000 1.01e-07 ***\n",
       "aps:arw      0.0022500  0.0003750   6.000 1.01e-07 ***\n",
       "aid:awt      0.3500000  0.0375000   9.333 1.49e-13 ***\n",
       "aid:arw     -0.6000000  0.0375000 -16.000  < 2e-16 ***\n",
       "awt:arw     -0.2250000  0.0093750 -24.000  < 2e-16 ***\n",
       "---\n",
       "Signif. codes:  0 ‘***’ 0.001 ‘**’ 0.01 ‘*’ 0.05 ‘.’ 0.1 ‘ ’ 1\n",
       "\n",
       "Residual standard error: 0.003354 on 64 degrees of freedom\n",
       "Multiple R-squared:  0.9763,\tAdjusted R-squared:  0.9708 \n",
       "F-statistic:   176 on 15 and 64 DF,  p-value: < 2.2e-16\n"
      ]
     },
     "metadata": {},
     "output_type": "display_data"
    }
   ],
   "source": [
    "summary(cost_lm)"
   ]
  },
  {
   "cell_type": "markdown",
   "metadata": {},
   "source": []
  }
 ],
 "metadata": {
  "kernelspec": {
   "display_name": "R",
   "language": "R",
   "name": "ir"
  },
  "language_info": {
   "codemirror_mode": "r",
   "file_extension": ".r",
   "mimetype": "text/x-r-source",
   "name": "R",
   "pygments_lexer": "r",
   "version": "3.6.1"
  }
 },
 "nbformat": 4,
 "nbformat_minor": 4
}
