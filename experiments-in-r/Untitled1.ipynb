{
 "cells": [
  {
   "cell_type": "code",
   "execution_count": 1,
   "metadata": {},
   "outputs": [],
   "source": [
    "## Read data and save relevant variables.\n",
    "\n",
    "fn.data.cost <- \"https://raw.githubusercontent.com/wilsongis/3DP_Experiments/main/Data/cr6_cost.txt\"\n",
    "fn.data.time <- \"https://raw.githubusercontent.com/wilsongis/3DP_Experiments/main/Data/cr6_time.txt\"\n",
    "dfcost <- read.table(fn.data.cost, header=TRUE)\n",
    "dftime <- read.table(fn.data.time, header=TRUE)"
   ]
  },
  {
   "cell_type": "code",
   "execution_count": 2,
   "metadata": {},
   "outputs": [],
   "source": [
    "# reshape data into long format\n",
    "library(reshape2)\n",
    "df.cost <- melt(dfcost, id.vars = c(\"lh\", \"ps\", \"id\", \"wt\", \"rw\", \"alh\", \"aps\", \"aid\", \"awt\", \"arw\"), variable.name = \"rep\", value.name = \"cost\")\n",
    "\n",
    "df.time <- melt(dftime, id.vars = c(\"lh\", \"ps\", \"id\", \"wt\", \"rw\", \"alh\", \"aps\", \"aid\", \"awt\", \"arw\"), variable.name = \"rep\", value.name = \"time\")\n",
    "\n"
   ]
  },
  {
   "cell_type": "code",
   "execution_count": 3,
   "metadata": {},
   "outputs": [],
   "source": [
    "cost_lm <- lm(cost ~ (lh+ps+id+wt+rw)**2, data = df.cost)\n",
    "time_lm <- lm(time ~ (lh+ps+id+wt+rw)**2, data = df.time)"
   ]
  },
  {
   "cell_type": "code",
   "execution_count": 4,
   "metadata": {},
   "outputs": [
    {
     "data": {
      "text/plain": [
       "\n",
       "Call:\n",
       "lm(formula = cost ~ (lh + ps + id + wt + rw)^2, data = df.cost)\n",
       "\n",
       "Residuals:\n",
       "   Min     1Q Median     3Q    Max \n",
       "-0.024  0.000  0.000  0.000  0.006 \n",
       "\n",
       "Coefficients:\n",
       "             Estimate Std. Error  t value Pr(>|t|)    \n",
       "(Intercept)  0.531500   0.000375 1417.333  < 2e-16 ***\n",
       "lh          -0.002250   0.000375   -6.000 1.01e-07 ***\n",
       "ps           0.002250   0.000375    6.000 1.01e-07 ***\n",
       "id          -0.001500   0.000375   -4.000 0.000167 ***\n",
       "wt           0.013500   0.000375   36.000  < 2e-16 ***\n",
       "rw          -0.004000   0.000375  -10.667 7.80e-16 ***\n",
       "lh:ps        0.001000   0.000375    2.667 0.009690 ** \n",
       "lh:id        0.002250   0.000375    6.000 1.01e-07 ***\n",
       "lh:wt        0.002250   0.000375    6.000 1.01e-07 ***\n",
       "lh:rw        0.002250   0.000375    6.000 1.01e-07 ***\n",
       "ps:id       -0.002250   0.000375   -6.000 1.01e-07 ***\n",
       "ps:wt       -0.002250   0.000375   -6.000 1.01e-07 ***\n",
       "ps:rw       -0.002250   0.000375   -6.000 1.01e-07 ***\n",
       "id:wt       -0.003500   0.000375   -9.333 1.49e-13 ***\n",
       "id:rw       -0.006000   0.000375  -16.000  < 2e-16 ***\n",
       "wt:rw        0.009000   0.000375   24.000  < 2e-16 ***\n",
       "---\n",
       "Signif. codes:  0 ‘***’ 0.001 ‘**’ 0.01 ‘*’ 0.05 ‘.’ 0.1 ‘ ’ 1\n",
       "\n",
       "Residual standard error: 0.003354 on 64 degrees of freedom\n",
       "Multiple R-squared:  0.9763,\tAdjusted R-squared:  0.9708 \n",
       "F-statistic:   176 on 15 and 64 DF,  p-value: < 2.2e-16\n"
      ]
     },
     "metadata": {},
     "output_type": "display_data"
    }
   ],
   "source": [
    "summary(cost_lm)"
   ]
  },
  {
   "cell_type": "code",
   "execution_count": 5,
   "metadata": {},
   "outputs": [
    {
     "name": "stdout",
     "output_type": "stream",
     "text": [
      "Start:  AIC=-897.46\n",
      "cost ~ (lh + ps + id + wt + rw)^2\n",
      "\n",
      "        Df Sum of Sq      RSS     AIC\n",
      "<none>               0.000720 -897.46\n",
      "- lh:ps  1  0.000080 0.000800 -891.03\n",
      "- lh:rw  1  0.000405 0.001125 -863.76\n",
      "- ps:id  1  0.000405 0.001125 -863.76\n",
      "- ps:wt  1  0.000405 0.001125 -863.76\n",
      "- lh:id  1  0.000405 0.001125 -863.76\n",
      "- lh:wt  1  0.000405 0.001125 -863.76\n",
      "- ps:rw  1  0.000405 0.001125 -863.76\n",
      "- id:wt  1  0.000980 0.001700 -830.73\n",
      "- id:rw  1  0.002880 0.003600 -770.71\n",
      "- wt:rw  1  0.006480 0.007200 -715.26\n"
     ]
    }
   ],
   "source": [
    "cost_steps = step(cost_lm,direction=\"both\")"
   ]
  },
  {
   "cell_type": "code",
   "execution_count": 6,
   "metadata": {},
   "outputs": [
    {
     "data": {
      "text/html": [
       "<table>\n",
       "<caption>A anova: 2 × 6</caption>\n",
       "<thead>\n",
       "\t<tr><th></th><th scope=col>Res.Df</th><th scope=col>RSS</th><th scope=col>Df</th><th scope=col>Sum of Sq</th><th scope=col>F</th><th scope=col>Pr(&gt;F)</th></tr>\n",
       "\t<tr><th></th><th scope=col>&lt;dbl&gt;</th><th scope=col>&lt;dbl&gt;</th><th scope=col>&lt;dbl&gt;</th><th scope=col>&lt;dbl&gt;</th><th scope=col>&lt;dbl&gt;</th><th scope=col>&lt;dbl&gt;</th></tr>\n",
       "</thead>\n",
       "<tbody>\n",
       "\t<tr><th scope=row>1</th><td>79</td><td>0.03042</td><td>NA</td><td>    NA</td><td> NA</td><td>          NA</td></tr>\n",
       "\t<tr><th scope=row>2</th><td>64</td><td>0.00072</td><td>15</td><td>0.0297</td><td>176</td><td>5.350082e-46</td></tr>\n",
       "</tbody>\n",
       "</table>\n"
      ],
      "text/latex": [
       "A anova: 2 × 6\n",
       "\\begin{tabular}{r|llllll}\n",
       "  & Res.Df & RSS & Df & Sum of Sq & F & Pr(>F)\\\\\n",
       "  & <dbl> & <dbl> & <dbl> & <dbl> & <dbl> & <dbl>\\\\\n",
       "\\hline\n",
       "\t1 & 79 & 0.03042 & NA &     NA &  NA &           NA\\\\\n",
       "\t2 & 64 & 0.00072 & 15 & 0.0297 & 176 & 5.350082e-46\\\\\n",
       "\\end{tabular}\n"
      ],
      "text/markdown": [
       "\n",
       "A anova: 2 × 6\n",
       "\n",
       "| <!--/--> | Res.Df &lt;dbl&gt; | RSS &lt;dbl&gt; | Df &lt;dbl&gt; | Sum of Sq &lt;dbl&gt; | F &lt;dbl&gt; | Pr(&gt;F) &lt;dbl&gt; |\n",
       "|---|---|---|---|---|---|---|\n",
       "| 1 | 79 | 0.03042 | NA |     NA |  NA |           NA |\n",
       "| 2 | 64 | 0.00072 | 15 | 0.0297 | 176 | 5.350082e-46 |\n",
       "\n"
      ],
      "text/plain": [
       "  Res.Df RSS     Df Sum of Sq F   Pr(>F)      \n",
       "1 79     0.03042 NA     NA     NA           NA\n",
       "2 64     0.00072 15 0.0297    176 5.350082e-46"
      ]
     },
     "metadata": {},
     "output_type": "display_data"
    }
   ],
   "source": [
    "anova(update(cost_steps,~1),cost_steps)"
   ]
  },
  {
   "cell_type": "code",
   "execution_count": 7,
   "metadata": {},
   "outputs": [
    {
     "data": {
      "text/plain": [
       "\n",
       "Call:\n",
       "lm(formula = cost ~ (lh + ps + id + wt + rw)^2, data = df.cost)\n",
       "\n",
       "Residuals:\n",
       "   Min     1Q Median     3Q    Max \n",
       "-0.024  0.000  0.000  0.000  0.006 \n",
       "\n",
       "Coefficients:\n",
       "             Estimate Std. Error  t value Pr(>|t|)    \n",
       "(Intercept)  0.531500   0.000375 1417.333  < 2e-16 ***\n",
       "lh          -0.002250   0.000375   -6.000 1.01e-07 ***\n",
       "ps           0.002250   0.000375    6.000 1.01e-07 ***\n",
       "id          -0.001500   0.000375   -4.000 0.000167 ***\n",
       "wt           0.013500   0.000375   36.000  < 2e-16 ***\n",
       "rw          -0.004000   0.000375  -10.667 7.80e-16 ***\n",
       "lh:ps        0.001000   0.000375    2.667 0.009690 ** \n",
       "lh:id        0.002250   0.000375    6.000 1.01e-07 ***\n",
       "lh:wt        0.002250   0.000375    6.000 1.01e-07 ***\n",
       "lh:rw        0.002250   0.000375    6.000 1.01e-07 ***\n",
       "ps:id       -0.002250   0.000375   -6.000 1.01e-07 ***\n",
       "ps:wt       -0.002250   0.000375   -6.000 1.01e-07 ***\n",
       "ps:rw       -0.002250   0.000375   -6.000 1.01e-07 ***\n",
       "id:wt       -0.003500   0.000375   -9.333 1.49e-13 ***\n",
       "id:rw       -0.006000   0.000375  -16.000  < 2e-16 ***\n",
       "wt:rw        0.009000   0.000375   24.000  < 2e-16 ***\n",
       "---\n",
       "Signif. codes:  0 ‘***’ 0.001 ‘**’ 0.01 ‘*’ 0.05 ‘.’ 0.1 ‘ ’ 1\n",
       "\n",
       "Residual standard error: 0.003354 on 64 degrees of freedom\n",
       "Multiple R-squared:  0.9763,\tAdjusted R-squared:  0.9708 \n",
       "F-statistic:   176 on 15 and 64 DF,  p-value: < 2.2e-16\n"
      ]
     },
     "metadata": {},
     "output_type": "display_data"
    }
   ],
   "source": [
    "summary(cost_steps)"
   ]
  },
  {
   "cell_type": "markdown",
   "metadata": {},
   "source": [
    "### Cost Equation\n",
    "\n",
    "```sh\n",
    "Cost = .5315 - .002250*alh + .002250*aps - .001500*aid + .013500*awt - .004000*arw + .001*alh*aps + .002250*alh*aid + .002250*alh*awt + .002250*alh*arw - .002250*aps*aid - .002250*aps*awt - .002250*aps*arw - .003500*aid*awt - .006000*aid*arw + .009*awt*arw\n",
    "```\n",
    "\n",
    "```sh\n",
    "Cost = .5315 - .002250*x[1] + .002250*x[2] - .001500*x[3] + .013500*x[4] - .004000*x[5] + .001*x[1]*x[2] + .002250*x[1]*x[3] + .002250*x[1]*x[4] + .002250*x[1]*x[5] - .002250*x[2]*x[3] - .002250*x[2]*x[4] - .002250*x[2]*x[5] - .003500*x[3]*x[4] - .006000*x[3]*x[5] + .009*x[4]*x[5]\n",
    "```\n"
   ]
  },
  {
   "cell_type": "code",
   "execution_count": 8,
   "metadata": {},
   "outputs": [
    {
     "data": {
      "text/plain": [
       "\n",
       "Call:\n",
       "lm(formula = time ~ (lh + ps + id + wt + rw)^2, data = df.time)\n",
       "\n",
       "Residuals:\n",
       "    Min      1Q  Median      3Q     Max \n",
       "-6370.6   -86.3    -0.7    27.7 25359.4 \n",
       "\n",
       "Coefficients:\n",
       "            Estimate Std. Error t value Pr(>|t|)    \n",
       "(Intercept) 13131.87     399.51  32.870  < 2e-16 ***\n",
       "lh          -2415.95     399.51  -6.047 8.41e-08 ***\n",
       "ps             70.95     399.51   0.178 0.859603    \n",
       "id           -471.45     399.51  -1.180 0.242337    \n",
       "wt            363.97     399.51   0.911 0.365683    \n",
       "rw            148.50     399.51   0.372 0.711339    \n",
       "lh:ps       -1509.62     399.51  -3.779 0.000348 ***\n",
       "lh:id        -649.18     399.51  -1.625 0.109091    \n",
       "lh:wt       -1479.35     399.51  -3.703 0.000446 ***\n",
       "lh:rw        -700.03     399.51  -1.752 0.084526 .  \n",
       "ps:id        -426.47     399.51  -1.068 0.289756    \n",
       "ps:wt         313.35     399.51   0.784 0.435734    \n",
       "ps:rw        1519.67     399.51   3.804 0.000321 ***\n",
       "id:wt        -409.30     399.51  -1.025 0.309451    \n",
       "id:rw         570.68     399.51   1.428 0.158026    \n",
       "wt:rw        1435.95     399.51   3.594 0.000633 ***\n",
       "---\n",
       "Signif. codes:  0 ‘***’ 0.001 ‘**’ 0.01 ‘*’ 0.05 ‘.’ 0.1 ‘ ’ 1\n",
       "\n",
       "Residual standard error: 3573 on 64 degrees of freedom\n",
       "Multiple R-squared:  0.6211,\tAdjusted R-squared:  0.5323 \n",
       "F-statistic: 6.993 on 15 and 64 DF,  p-value: 1.106e-08\n"
      ]
     },
     "metadata": {},
     "output_type": "display_data"
    }
   ],
   "source": [
    "summary(time_lm)"
   ]
  },
  {
   "cell_type": "code",
   "execution_count": 9,
   "metadata": {},
   "outputs": [
    {
     "name": "stdout",
     "output_type": "stream",
     "text": [
      "Start:  AIC=1323.15\n",
      "time ~ (lh + ps + id + wt + rw)^2\n",
      "\n",
      "        Df Sum of Sq        RSS    AIC\n",
      "- ps:wt  1   7855058  825040746 1321.9\n",
      "- id:wt  1  13402119  830587808 1322.5\n",
      "- ps:id  1  14550474  831736162 1322.6\n",
      "<none>                817185688 1323.2\n",
      "- id:rw  1  26053596  843239285 1323.7\n",
      "- lh:id  1  33714254  850899943 1324.4\n",
      "- lh:rw  1  39202800  856388488 1324.9\n",
      "- wt:rw  1 164956192  982141881 1335.9\n",
      "- lh:wt  1 175078114  992263802 1336.7\n",
      "- lh:ps  1 182317411  999503100 1337.3\n",
      "- ps:rw  1 184752968 1001938657 1337.5\n",
      "\n",
      "Step:  AIC=1321.91\n",
      "time ~ lh + ps + id + wt + rw + lh:ps + lh:id + lh:wt + lh:rw + \n",
      "    ps:id + ps:rw + id:wt + id:rw + wt:rw\n",
      "\n",
      "        Df Sum of Sq        RSS    AIC\n",
      "- id:wt  1  13402119  838442865 1321.2\n",
      "- ps:id  1  14550474  839591220 1321.3\n",
      "<none>                825040746 1321.9\n",
      "- id:rw  1  26053596  851094343 1322.4\n",
      "- lh:id  1  33714254  858755001 1323.1\n",
      "+ ps:wt  1   7855058  817185688 1323.2\n",
      "- lh:rw  1  39202800  864243546 1323.6\n",
      "- wt:rw  1 164956192  989996938 1334.5\n",
      "- lh:wt  1 175078114 1000118860 1335.3\n",
      "- lh:ps  1 182317411 1007358157 1335.9\n",
      "- ps:rw  1 184752968 1009793715 1336.1\n",
      "\n",
      "Step:  AIC=1321.2\n",
      "time ~ lh + ps + id + wt + rw + lh:ps + lh:id + lh:wt + lh:rw + \n",
      "    ps:id + ps:rw + id:rw + wt:rw\n",
      "\n",
      "        Df Sum of Sq        RSS    AIC\n",
      "- ps:id  1  14550474  852993339 1320.6\n",
      "<none>                838442865 1321.2\n",
      "- id:rw  1  26053596  864496462 1321.7\n",
      "+ id:wt  1  13402119  825040746 1321.9\n",
      "- lh:id  1  33714254  872157120 1322.4\n",
      "+ ps:wt  1   7855058  830587808 1322.5\n",
      "- lh:rw  1  39202800  877645665 1322.9\n",
      "- wt:rw  1 164956192 1003399058 1333.6\n",
      "- lh:wt  1 175078114 1013520979 1334.4\n",
      "- lh:ps  1 182317411 1020760277 1334.9\n",
      "- ps:rw  1 184752968 1023195834 1335.1\n",
      "\n",
      "Step:  AIC=1320.58\n",
      "time ~ lh + ps + id + wt + rw + lh:ps + lh:id + lh:wt + lh:rw + \n",
      "    ps:rw + id:rw + wt:rw\n",
      "\n",
      "        Df Sum of Sq        RSS    AIC\n",
      "<none>                852993339 1320.6\n",
      "- id:rw  1  26053596  879046936 1321.0\n",
      "+ ps:id  1  14550474  838442865 1321.2\n",
      "+ id:wt  1  13402119  839591220 1321.3\n",
      "- lh:id  1  33714254  886707594 1321.7\n",
      "+ ps:wt  1   7855058  845138282 1321.8\n",
      "- lh:rw  1  39202800  892196139 1322.2\n",
      "- wt:rw  1 164956192 1017949532 1332.7\n",
      "- lh:wt  1 175078114 1028071453 1333.5\n",
      "- lh:ps  1 182317411 1035310751 1334.1\n",
      "- ps:rw  1 184752968 1037746308 1334.3\n"
     ]
    }
   ],
   "source": [
    "time_steps = step(time_lm,direction=\"both\")"
   ]
  },
  {
   "cell_type": "code",
   "execution_count": 10,
   "metadata": {},
   "outputs": [
    {
     "data": {
      "text/html": [
       "<table>\n",
       "<caption>A anova: 2 × 6</caption>\n",
       "<thead>\n",
       "\t<tr><th></th><th scope=col>Res.Df</th><th scope=col>RSS</th><th scope=col>Df</th><th scope=col>Sum of Sq</th><th scope=col>F</th><th scope=col>Pr(&gt;F)</th></tr>\n",
       "\t<tr><th></th><th scope=col>&lt;dbl&gt;</th><th scope=col>&lt;dbl&gt;</th><th scope=col>&lt;dbl&gt;</th><th scope=col>&lt;dbl&gt;</th><th scope=col>&lt;dbl&gt;</th><th scope=col>&lt;dbl&gt;</th></tr>\n",
       "</thead>\n",
       "<tbody>\n",
       "\t<tr><th scope=row>1</th><td>79</td><td>2156560153</td><td>NA</td><td>        NA</td><td>      NA</td><td>          NA</td></tr>\n",
       "\t<tr><th scope=row>2</th><td>67</td><td> 852993339</td><td>12</td><td>1303566813</td><td>8.532597</td><td>1.532647e-09</td></tr>\n",
       "</tbody>\n",
       "</table>\n"
      ],
      "text/latex": [
       "A anova: 2 × 6\n",
       "\\begin{tabular}{r|llllll}\n",
       "  & Res.Df & RSS & Df & Sum of Sq & F & Pr(>F)\\\\\n",
       "  & <dbl> & <dbl> & <dbl> & <dbl> & <dbl> & <dbl>\\\\\n",
       "\\hline\n",
       "\t1 & 79 & 2156560153 & NA &         NA &       NA &           NA\\\\\n",
       "\t2 & 67 &  852993339 & 12 & 1303566813 & 8.532597 & 1.532647e-09\\\\\n",
       "\\end{tabular}\n"
      ],
      "text/markdown": [
       "\n",
       "A anova: 2 × 6\n",
       "\n",
       "| <!--/--> | Res.Df &lt;dbl&gt; | RSS &lt;dbl&gt; | Df &lt;dbl&gt; | Sum of Sq &lt;dbl&gt; | F &lt;dbl&gt; | Pr(&gt;F) &lt;dbl&gt; |\n",
       "|---|---|---|---|---|---|---|\n",
       "| 1 | 79 | 2156560153 | NA |         NA |       NA |           NA |\n",
       "| 2 | 67 |  852993339 | 12 | 1303566813 | 8.532597 | 1.532647e-09 |\n",
       "\n"
      ],
      "text/plain": [
       "  Res.Df RSS        Df Sum of Sq  F        Pr(>F)      \n",
       "1 79     2156560153 NA         NA       NA           NA\n",
       "2 67      852993339 12 1303566813 8.532597 1.532647e-09"
      ]
     },
     "metadata": {},
     "output_type": "display_data"
    }
   ],
   "source": [
    "anova(update(time_steps,~1),time_steps)"
   ]
  },
  {
   "cell_type": "code",
   "execution_count": 11,
   "metadata": {},
   "outputs": [
    {
     "data": {
      "text/plain": [
       "\n",
       "Call:\n",
       "lm(formula = time ~ lh + ps + id + wt + rw + lh:ps + lh:id + \n",
       "    lh:wt + lh:rw + ps:rw + id:rw + wt:rw, data = df.time)\n",
       "\n",
       "Residuals:\n",
       "    Min      1Q  Median      3Q     Max \n",
       "-5221.5  -541.3  -328.8  -257.3 26508.5 \n",
       "\n",
       "Coefficients:\n",
       "            Estimate Std. Error t value Pr(>|t|)    \n",
       "(Intercept) 13131.87     398.92  32.918  < 2e-16 ***\n",
       "lh          -2415.95     398.92  -6.056 7.08e-08 ***\n",
       "ps             70.95     398.92   0.178 0.859375    \n",
       "id           -471.45     398.92  -1.182 0.241461    \n",
       "wt            363.97     398.92   0.912 0.364834    \n",
       "rw            148.50     398.92   0.372 0.710881    \n",
       "lh:ps       -1509.62     398.92  -3.784 0.000332 ***\n",
       "lh:id        -649.17     398.92  -1.627 0.108365    \n",
       "lh:wt       -1479.35     398.92  -3.708 0.000426 ***\n",
       "lh:rw        -700.03     398.92  -1.755 0.083868 .  \n",
       "ps:rw        1519.68     398.92   3.809 0.000305 ***\n",
       "id:rw         570.68     398.92   1.431 0.157211    \n",
       "wt:rw        1435.95     398.92   3.600 0.000606 ***\n",
       "---\n",
       "Signif. codes:  0 ‘***’ 0.001 ‘**’ 0.01 ‘*’ 0.05 ‘.’ 0.1 ‘ ’ 1\n",
       "\n",
       "Residual standard error: 3568 on 67 degrees of freedom\n",
       "Multiple R-squared:  0.6045,\tAdjusted R-squared:  0.5336 \n",
       "F-statistic: 8.533 on 12 and 67 DF,  p-value: 1.533e-09\n"
      ]
     },
     "metadata": {},
     "output_type": "display_data"
    }
   ],
   "source": [
    "summary(time_steps)"
   ]
  },
  {
   "cell_type": "markdown",
   "metadata": {},
   "source": [
    "\n",
    "```sh\n",
    "time = -129539.2 + 208852.5*alh + 2640.9*aps - 95244.7*aid + 64840.0*awt + 80131.6*arw -  5032.1*alh*aps + 216391.7*alh*awt - 123279.2*alh*awt + 58335.4*alh*arw - 1519.7*aps*arw + 57067.5*aid*arw - 35898.7*awt*arw\n",
    "```"
   ]
  },
  {
   "cell_type": "markdown",
   "metadata": {},
   "source": [
    "\n",
    "```\n",
    "time= 13131.87 - 2415.95*x[1] + 70.95*x[2] - 471.45*x[3] + 363.97*x[4] + 145.5*x[5] -  1509.62*x[1]*x[2] - 649.17*x[1]*x[3] - 1479.35*x[1]*x[4] - 700.03*x[1]*x[5] + 1519.68*x[2]*x[5] + 570.68*x[3]*x[5] + 1435.95*x[4]*x[5]\n",
    "```\n"
   ]
  },
  {
   "cell_type": "code",
   "execution_count": null,
   "metadata": {},
   "outputs": [],
   "source": []
  }
 ],
 "metadata": {
  "kernelspec": {
   "display_name": "R",
   "language": "R",
   "name": "ir"
  },
  "language_info": {
   "codemirror_mode": "r",
   "file_extension": ".r",
   "mimetype": "text/x-r-source",
   "name": "R",
   "pygments_lexer": "r",
   "version": "3.6.1"
  }
 },
 "nbformat": 4,
 "nbformat_minor": 4
}
